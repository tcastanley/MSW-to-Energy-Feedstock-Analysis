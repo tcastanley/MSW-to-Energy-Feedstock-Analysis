{
 "cells": [
  {
   "cell_type": "markdown",
   "metadata": {
    "ExecuteTime": {
     "end_time": "2020-10-06T22:31:21.992561Z",
     "start_time": "2020-10-06T22:31:21.786417Z"
    },
    "scrolled": false
   },
   "source": [
    "# Import Data"
   ]
  },
  {
   "cell_type": "code",
   "execution_count": 1,
   "metadata": {
    "ExecuteTime": {
     "end_time": "2020-10-27T15:48:44.230176Z",
     "start_time": "2020-10-27T15:48:41.538470Z"
    }
   },
   "outputs": [],
   "source": [
    "import pandas as pd\n",
    "import matplotlib.pyplot as plt\n",
    "%matplotlib inline\n",
    "\n",
    "import seaborn as sns\n",
    "sns.set_style('darkgrid')\n",
    "import warnings\n",
    "\n",
    "import scipy\n",
    "import numpy as np\n",
    "import tensorflow as tf\n",
    "from sklearn.preprocessing import StandardScaler, OneHotEncoder, MinMaxScaler\n",
    "from sklearn.model_selection import train_test_split\n",
    "from sklearn.metrics import mean_squared_error\n",
    "from sklearn.model_selection import cross_val_predict\n",
    "\n",
    "warnings.filterwarnings('ignore')\n",
    "pd.set_option('display.max_rows', 500)\n",
    "pd.set_option('display.max_columns', 500)\n",
    "pd.set_option('display.width', 1000)\n",
    "\n",
    "np.random.seed(123)\n",
    "\n",
    "belize_model = pd.read_csv('Belize Final Model.csv', index_col='Unnamed: 0')\n",
    "belize_model['ID'] = belize_model['ID'].astype(str)  + '_B'\n",
    "\n",
    "solomon_model = pd.read_csv('Solomon Final Model.csv', index_col='Unnamed: 0')\n",
    "solomon_model['ID'] = solomon_model['ID'].astype(str)  + '_S'\n",
    "\n",
    "vanuatu_model = pd.read_csv('Vanuatu Final Model.csv', index_col='Unnamed: 0')\n",
    "vanuatu_model['ID'] = vanuatu_model['ID'].astype(str)  + '_V'"
   ]
  },
  {
   "cell_type": "markdown",
   "metadata": {},
   "source": [
    "# Modeling"
   ]
  },
  {
   "cell_type": "code",
   "execution_count": 2,
   "metadata": {
    "ExecuteTime": {
     "end_time": "2020-10-27T15:48:44.269796Z",
     "start_time": "2020-10-27T15:48:44.231855Z"
    }
   },
   "outputs": [
    {
     "name": "stdout",
     "output_type": "stream",
     "text": [
      "(657, 37)\n"
     ]
    },
    {
     "data": {
      "text/html": [
       "<div>\n",
       "<style scoped>\n",
       "    .dataframe tbody tr th:only-of-type {\n",
       "        vertical-align: middle;\n",
       "    }\n",
       "\n",
       "    .dataframe tbody tr th {\n",
       "        vertical-align: top;\n",
       "    }\n",
       "\n",
       "    .dataframe thead th {\n",
       "        text-align: right;\n",
       "    }\n",
       "</style>\n",
       "<table border=\"1\" class=\"dataframe\">\n",
       "  <thead>\n",
       "    <tr style=\"text-align: right;\">\n",
       "      <th></th>\n",
       "      <th>ID</th>\n",
       "      <th>Non_combust_wt_%</th>\n",
       "      <th>Organics_wt_%</th>\n",
       "      <th>Paper_and_cardboard_wt_%</th>\n",
       "      <th>Plastics_wt_%</th>\n",
       "      <th>Total_weight_(kg)</th>\n",
       "      <th>aluminium_cans</th>\n",
       "      <th>aluminium_recyclable</th>\n",
       "      <th>batteries</th>\n",
       "      <th>bottles_cds</th>\n",
       "      <th>bottles_wine_and_spirits</th>\n",
       "      <th>cardboard</th>\n",
       "      <th>ceramics</th>\n",
       "      <th>drinkbags</th>\n",
       "      <th>electrical_items_and_peripherals_(incl_tvs)</th>\n",
       "      <th>energy_kWh_per_kg</th>\n",
       "      <th>eps</th>\n",
       "      <th>feminine_hygiene</th>\n",
       "      <th>flexibles_film</th>\n",
       "      <th>food</th>\n",
       "      <th>hdpe_bottles</th>\n",
       "      <th>jars</th>\n",
       "      <th>lpb</th>\n",
       "      <th>nappies</th>\n",
       "      <th>other</th>\n",
       "      <th>other_glass</th>\n",
       "      <th>other_metal</th>\n",
       "      <th>other_organics</th>\n",
       "      <th>other_plastic</th>\n",
       "      <th>other_sanitary_waste</th>\n",
       "      <th>paper</th>\n",
       "      <th>pet_bottles</th>\n",
       "      <th>plastic_bags</th>\n",
       "      <th>pp</th>\n",
       "      <th>steel_cans</th>\n",
       "      <th>textiles</th>\n",
       "      <th>total_energy_kWh</th>\n",
       "    </tr>\n",
       "  </thead>\n",
       "  <tbody>\n",
       "    <tr>\n",
       "      <th>0</th>\n",
       "      <td>1_B</td>\n",
       "      <td>0.000000</td>\n",
       "      <td>0.235955</td>\n",
       "      <td>0.359551</td>\n",
       "      <td>0.404494</td>\n",
       "      <td>0.534</td>\n",
       "      <td>0.000</td>\n",
       "      <td>0.000</td>\n",
       "      <td>0.0</td>\n",
       "      <td>0.0</td>\n",
       "      <td>0.0</td>\n",
       "      <td>0.192</td>\n",
       "      <td>0.0</td>\n",
       "      <td>0.0000</td>\n",
       "      <td>0.0</td>\n",
       "      <td>1.30</td>\n",
       "      <td>0.010</td>\n",
       "      <td>0.126</td>\n",
       "      <td>0.066</td>\n",
       "      <td>0.000</td>\n",
       "      <td>0.000</td>\n",
       "      <td>0.00</td>\n",
       "      <td>0.000</td>\n",
       "      <td>0.000</td>\n",
       "      <td>0.0</td>\n",
       "      <td>0.0</td>\n",
       "      <td>0.0</td>\n",
       "      <td>0.000</td>\n",
       "      <td>0.067</td>\n",
       "      <td>0.000</td>\n",
       "      <td>0.000</td>\n",
       "      <td>0.030</td>\n",
       "      <td>0.026</td>\n",
       "      <td>0.017</td>\n",
       "      <td>0.000</td>\n",
       "      <td>0.000</td>\n",
       "      <td>0.69</td>\n",
       "    </tr>\n",
       "    <tr>\n",
       "      <th>1</th>\n",
       "      <td>2_B</td>\n",
       "      <td>0.062102</td>\n",
       "      <td>0.738022</td>\n",
       "      <td>0.016245</td>\n",
       "      <td>0.183632</td>\n",
       "      <td>4.863</td>\n",
       "      <td>0.013</td>\n",
       "      <td>0.029</td>\n",
       "      <td>0.0</td>\n",
       "      <td>0.0</td>\n",
       "      <td>0.0</td>\n",
       "      <td>0.000</td>\n",
       "      <td>0.0</td>\n",
       "      <td>0.0115</td>\n",
       "      <td>0.0</td>\n",
       "      <td>2.76</td>\n",
       "      <td>0.003</td>\n",
       "      <td>0.000</td>\n",
       "      <td>0.196</td>\n",
       "      <td>2.989</td>\n",
       "      <td>0.203</td>\n",
       "      <td>0.26</td>\n",
       "      <td>0.009</td>\n",
       "      <td>0.063</td>\n",
       "      <td>0.0</td>\n",
       "      <td>0.0</td>\n",
       "      <td>0.0</td>\n",
       "      <td>0.537</td>\n",
       "      <td>0.188</td>\n",
       "      <td>0.000</td>\n",
       "      <td>0.070</td>\n",
       "      <td>0.147</td>\n",
       "      <td>0.058</td>\n",
       "      <td>0.075</td>\n",
       "      <td>0.000</td>\n",
       "      <td>0.000</td>\n",
       "      <td>13.42</td>\n",
       "    </tr>\n",
       "    <tr>\n",
       "      <th>2</th>\n",
       "      <td>3_B</td>\n",
       "      <td>0.020291</td>\n",
       "      <td>0.894826</td>\n",
       "      <td>0.016571</td>\n",
       "      <td>0.068312</td>\n",
       "      <td>2.957</td>\n",
       "      <td>0.000</td>\n",
       "      <td>0.013</td>\n",
       "      <td>0.0</td>\n",
       "      <td>0.0</td>\n",
       "      <td>0.0</td>\n",
       "      <td>0.000</td>\n",
       "      <td>0.0</td>\n",
       "      <td>0.0000</td>\n",
       "      <td>0.0</td>\n",
       "      <td>3.03</td>\n",
       "      <td>0.035</td>\n",
       "      <td>0.000</td>\n",
       "      <td>0.012</td>\n",
       "      <td>1.927</td>\n",
       "      <td>0.057</td>\n",
       "      <td>0.00</td>\n",
       "      <td>0.000</td>\n",
       "      <td>0.000</td>\n",
       "      <td>0.0</td>\n",
       "      <td>0.0</td>\n",
       "      <td>0.0</td>\n",
       "      <td>0.000</td>\n",
       "      <td>0.023</td>\n",
       "      <td>0.719</td>\n",
       "      <td>0.031</td>\n",
       "      <td>0.000</td>\n",
       "      <td>0.075</td>\n",
       "      <td>0.000</td>\n",
       "      <td>0.047</td>\n",
       "      <td>0.018</td>\n",
       "      <td>8.96</td>\n",
       "    </tr>\n",
       "    <tr>\n",
       "      <th>3</th>\n",
       "      <td>4_B</td>\n",
       "      <td>0.238462</td>\n",
       "      <td>0.407692</td>\n",
       "      <td>0.094872</td>\n",
       "      <td>0.258974</td>\n",
       "      <td>0.390</td>\n",
       "      <td>0.000</td>\n",
       "      <td>0.000</td>\n",
       "      <td>0.0</td>\n",
       "      <td>0.0</td>\n",
       "      <td>0.0</td>\n",
       "      <td>0.037</td>\n",
       "      <td>0.0</td>\n",
       "      <td>0.0050</td>\n",
       "      <td>0.0</td>\n",
       "      <td>1.72</td>\n",
       "      <td>0.003</td>\n",
       "      <td>0.000</td>\n",
       "      <td>0.028</td>\n",
       "      <td>0.000</td>\n",
       "      <td>0.000</td>\n",
       "      <td>0.00</td>\n",
       "      <td>0.000</td>\n",
       "      <td>0.000</td>\n",
       "      <td>0.0</td>\n",
       "      <td>0.0</td>\n",
       "      <td>0.0</td>\n",
       "      <td>0.000</td>\n",
       "      <td>0.000</td>\n",
       "      <td>0.159</td>\n",
       "      <td>0.000</td>\n",
       "      <td>0.000</td>\n",
       "      <td>0.065</td>\n",
       "      <td>0.000</td>\n",
       "      <td>0.093</td>\n",
       "      <td>0.000</td>\n",
       "      <td>0.67</td>\n",
       "    </tr>\n",
       "    <tr>\n",
       "      <th>4</th>\n",
       "      <td>5_B</td>\n",
       "      <td>0.000000</td>\n",
       "      <td>0.896653</td>\n",
       "      <td>0.027299</td>\n",
       "      <td>0.076048</td>\n",
       "      <td>3.077</td>\n",
       "      <td>0.000</td>\n",
       "      <td>0.000</td>\n",
       "      <td>0.0</td>\n",
       "      <td>0.0</td>\n",
       "      <td>0.0</td>\n",
       "      <td>0.047</td>\n",
       "      <td>0.0</td>\n",
       "      <td>0.0180</td>\n",
       "      <td>0.0</td>\n",
       "      <td>3.09</td>\n",
       "      <td>0.000</td>\n",
       "      <td>0.071</td>\n",
       "      <td>0.106</td>\n",
       "      <td>2.366</td>\n",
       "      <td>0.000</td>\n",
       "      <td>0.00</td>\n",
       "      <td>0.037</td>\n",
       "      <td>0.000</td>\n",
       "      <td>0.0</td>\n",
       "      <td>0.0</td>\n",
       "      <td>0.0</td>\n",
       "      <td>0.000</td>\n",
       "      <td>0.000</td>\n",
       "      <td>0.322</td>\n",
       "      <td>0.000</td>\n",
       "      <td>0.000</td>\n",
       "      <td>0.068</td>\n",
       "      <td>0.024</td>\n",
       "      <td>0.000</td>\n",
       "      <td>0.000</td>\n",
       "      <td>9.51</td>\n",
       "    </tr>\n",
       "  </tbody>\n",
       "</table>\n",
       "</div>"
      ],
      "text/plain": [
       "    ID  Non_combust_wt_%  Organics_wt_%  Paper_and_cardboard_wt_%  Plastics_wt_%  Total_weight_(kg)  aluminium_cans  aluminium_recyclable  batteries  bottles_cds  bottles_wine_and_spirits  cardboard  ceramics  drinkbags  electrical_items_and_peripherals_(incl_tvs)  energy_kWh_per_kg    eps  feminine_hygiene  flexibles_film   food  hdpe_bottles  jars    lpb  nappies  other  other_glass  other_metal  other_organics  other_plastic  other_sanitary_waste  paper  pet_bottles  plastic_bags     pp  steel_cans  textiles  total_energy_kWh\n",
       "0  1_B          0.000000       0.235955                  0.359551       0.404494              0.534           0.000                 0.000        0.0          0.0                       0.0      0.192       0.0     0.0000                                          0.0               1.30  0.010             0.126           0.066  0.000         0.000  0.00  0.000    0.000    0.0          0.0          0.0           0.000          0.067                 0.000  0.000        0.030         0.026  0.017       0.000     0.000              0.69\n",
       "1  2_B          0.062102       0.738022                  0.016245       0.183632              4.863           0.013                 0.029        0.0          0.0                       0.0      0.000       0.0     0.0115                                          0.0               2.76  0.003             0.000           0.196  2.989         0.203  0.26  0.009    0.063    0.0          0.0          0.0           0.537          0.188                 0.000  0.070        0.147         0.058  0.075       0.000     0.000             13.42\n",
       "2  3_B          0.020291       0.894826                  0.016571       0.068312              2.957           0.000                 0.013        0.0          0.0                       0.0      0.000       0.0     0.0000                                          0.0               3.03  0.035             0.000           0.012  1.927         0.057  0.00  0.000    0.000    0.0          0.0          0.0           0.000          0.023                 0.719  0.031        0.000         0.075  0.000       0.047     0.018              8.96\n",
       "3  4_B          0.238462       0.407692                  0.094872       0.258974              0.390           0.000                 0.000        0.0          0.0                       0.0      0.037       0.0     0.0050                                          0.0               1.72  0.003             0.000           0.028  0.000         0.000  0.00  0.000    0.000    0.0          0.0          0.0           0.000          0.000                 0.159  0.000        0.000         0.065  0.000       0.093     0.000              0.67\n",
       "4  5_B          0.000000       0.896653                  0.027299       0.076048              3.077           0.000                 0.000        0.0          0.0                       0.0      0.047       0.0     0.0180                                          0.0               3.09  0.000             0.071           0.106  2.366         0.000  0.00  0.037    0.000    0.0          0.0          0.0           0.000          0.000                 0.322  0.000        0.000         0.068  0.024       0.000     0.000              9.51"
      ]
     },
     "execution_count": 2,
     "metadata": {},
     "output_type": "execute_result"
    }
   ],
   "source": [
    "model_df = pd.concat([belize_model, solomon_model, vanuatu_model])\n",
    "model_df = model_df.fillna(0)\n",
    "print(model_df.shape)\n",
    "model_df.head()"
   ]
  },
  {
   "cell_type": "markdown",
   "metadata": {},
   "source": [
    "## Remove Outliers"
   ]
  },
  {
   "cell_type": "code",
   "execution_count": 3,
   "metadata": {
    "ExecuteTime": {
     "end_time": "2020-10-27T15:48:44.363503Z",
     "start_time": "2020-10-27T15:48:44.270752Z"
    },
    "scrolled": true
   },
   "outputs": [
    {
     "data": {
      "text/html": [
       "<div>\n",
       "<style scoped>\n",
       "    .dataframe tbody tr th:only-of-type {\n",
       "        vertical-align: middle;\n",
       "    }\n",
       "\n",
       "    .dataframe tbody tr th {\n",
       "        vertical-align: top;\n",
       "    }\n",
       "\n",
       "    .dataframe thead th {\n",
       "        text-align: right;\n",
       "    }\n",
       "</style>\n",
       "<table border=\"1\" class=\"dataframe\">\n",
       "  <thead>\n",
       "    <tr style=\"text-align: right;\">\n",
       "      <th></th>\n",
       "      <th>Non_combust_wt_%</th>\n",
       "      <th>Organics_wt_%</th>\n",
       "      <th>Paper_and_cardboard_wt_%</th>\n",
       "      <th>Plastics_wt_%</th>\n",
       "      <th>Total_weight_(kg)</th>\n",
       "      <th>aluminium_cans</th>\n",
       "      <th>aluminium_recyclable</th>\n",
       "      <th>batteries</th>\n",
       "      <th>bottles_cds</th>\n",
       "      <th>bottles_wine_and_spirits</th>\n",
       "      <th>cardboard</th>\n",
       "      <th>ceramics</th>\n",
       "      <th>drinkbags</th>\n",
       "      <th>electrical_items_and_peripherals_(incl_tvs)</th>\n",
       "      <th>energy_kWh_per_kg</th>\n",
       "      <th>eps</th>\n",
       "      <th>feminine_hygiene</th>\n",
       "      <th>flexibles_film</th>\n",
       "      <th>food</th>\n",
       "      <th>hdpe_bottles</th>\n",
       "      <th>jars</th>\n",
       "      <th>lpb</th>\n",
       "      <th>nappies</th>\n",
       "      <th>other</th>\n",
       "      <th>other_glass</th>\n",
       "      <th>other_metal</th>\n",
       "      <th>other_organics</th>\n",
       "      <th>other_plastic</th>\n",
       "      <th>other_sanitary_waste</th>\n",
       "      <th>paper</th>\n",
       "      <th>pet_bottles</th>\n",
       "      <th>plastic_bags</th>\n",
       "      <th>pp</th>\n",
       "      <th>steel_cans</th>\n",
       "      <th>textiles</th>\n",
       "      <th>total_energy_kWh</th>\n",
       "    </tr>\n",
       "  </thead>\n",
       "  <tbody>\n",
       "    <tr>\n",
       "      <th>count</th>\n",
       "      <td>657.000000</td>\n",
       "      <td>657.000000</td>\n",
       "      <td>657.000000</td>\n",
       "      <td>657.000000</td>\n",
       "      <td>657.000000</td>\n",
       "      <td>657.000000</td>\n",
       "      <td>657.000000</td>\n",
       "      <td>657.000000</td>\n",
       "      <td>657.000000</td>\n",
       "      <td>657.000000</td>\n",
       "      <td>657.000000</td>\n",
       "      <td>657.000000</td>\n",
       "      <td>657.000000</td>\n",
       "      <td>657.000000</td>\n",
       "      <td>657.000000</td>\n",
       "      <td>657.000000</td>\n",
       "      <td>657.000000</td>\n",
       "      <td>657.000000</td>\n",
       "      <td>657.000000</td>\n",
       "      <td>657.000000</td>\n",
       "      <td>657.000000</td>\n",
       "      <td>657.000000</td>\n",
       "      <td>657.000000</td>\n",
       "      <td>657.000000</td>\n",
       "      <td>657.000000</td>\n",
       "      <td>657.000000</td>\n",
       "      <td>657.000000</td>\n",
       "      <td>657.000000</td>\n",
       "      <td>657.000000</td>\n",
       "      <td>657.000000</td>\n",
       "      <td>657.000000</td>\n",
       "      <td>657.000000</td>\n",
       "      <td>657.000000</td>\n",
       "      <td>657.000000</td>\n",
       "      <td>657.000000</td>\n",
       "      <td>657.000000</td>\n",
       "    </tr>\n",
       "    <tr>\n",
       "      <th>mean</th>\n",
       "      <td>0.164221</td>\n",
       "      <td>0.562368</td>\n",
       "      <td>0.097642</td>\n",
       "      <td>0.174883</td>\n",
       "      <td>7.039078</td>\n",
       "      <td>0.278236</td>\n",
       "      <td>0.027437</td>\n",
       "      <td>0.003476</td>\n",
       "      <td>0.025985</td>\n",
       "      <td>0.026689</td>\n",
       "      <td>0.187169</td>\n",
       "      <td>0.009470</td>\n",
       "      <td>0.005390</td>\n",
       "      <td>0.006925</td>\n",
       "      <td>2.037534</td>\n",
       "      <td>0.024411</td>\n",
       "      <td>0.044382</td>\n",
       "      <td>0.215837</td>\n",
       "      <td>2.083743</td>\n",
       "      <td>0.031814</td>\n",
       "      <td>0.098312</td>\n",
       "      <td>0.035486</td>\n",
       "      <td>1.002744</td>\n",
       "      <td>0.079878</td>\n",
       "      <td>0.002893</td>\n",
       "      <td>0.026321</td>\n",
       "      <td>1.572169</td>\n",
       "      <td>0.106202</td>\n",
       "      <td>0.073056</td>\n",
       "      <td>0.118170</td>\n",
       "      <td>0.227420</td>\n",
       "      <td>0.175761</td>\n",
       "      <td>0.017618</td>\n",
       "      <td>0.346152</td>\n",
       "      <td>0.184600</td>\n",
       "      <td>16.829696</td>\n",
       "    </tr>\n",
       "    <tr>\n",
       "      <th>std</th>\n",
       "      <td>0.212095</td>\n",
       "      <td>0.328298</td>\n",
       "      <td>0.142824</td>\n",
       "      <td>0.184810</td>\n",
       "      <td>7.905361</td>\n",
       "      <td>0.903705</td>\n",
       "      <td>0.134408</td>\n",
       "      <td>0.027986</td>\n",
       "      <td>0.187057</td>\n",
       "      <td>0.198246</td>\n",
       "      <td>0.449210</td>\n",
       "      <td>0.074386</td>\n",
       "      <td>0.033875</td>\n",
       "      <td>0.065450</td>\n",
       "      <td>1.064171</td>\n",
       "      <td>0.061599</td>\n",
       "      <td>0.171813</td>\n",
       "      <td>0.342665</td>\n",
       "      <td>3.639778</td>\n",
       "      <td>0.085608</td>\n",
       "      <td>0.329199</td>\n",
       "      <td>0.135543</td>\n",
       "      <td>3.389378</td>\n",
       "      <td>0.338525</td>\n",
       "      <td>0.033120</td>\n",
       "      <td>0.201365</td>\n",
       "      <td>4.954004</td>\n",
       "      <td>0.301088</td>\n",
       "      <td>0.315111</td>\n",
       "      <td>0.258696</td>\n",
       "      <td>0.481947</td>\n",
       "      <td>0.486143</td>\n",
       "      <td>0.096537</td>\n",
       "      <td>0.737697</td>\n",
       "      <td>0.812959</td>\n",
       "      <td>22.966856</td>\n",
       "    </tr>\n",
       "    <tr>\n",
       "      <th>min</th>\n",
       "      <td>0.000000</td>\n",
       "      <td>0.000000</td>\n",
       "      <td>0.000000</td>\n",
       "      <td>0.000000</td>\n",
       "      <td>0.056000</td>\n",
       "      <td>0.000000</td>\n",
       "      <td>0.000000</td>\n",
       "      <td>0.000000</td>\n",
       "      <td>0.000000</td>\n",
       "      <td>0.000000</td>\n",
       "      <td>0.000000</td>\n",
       "      <td>0.000000</td>\n",
       "      <td>0.000000</td>\n",
       "      <td>0.000000</td>\n",
       "      <td>0.000000</td>\n",
       "      <td>0.000000</td>\n",
       "      <td>0.000000</td>\n",
       "      <td>0.000000</td>\n",
       "      <td>0.000000</td>\n",
       "      <td>0.000000</td>\n",
       "      <td>0.000000</td>\n",
       "      <td>0.000000</td>\n",
       "      <td>0.000000</td>\n",
       "      <td>0.000000</td>\n",
       "      <td>0.000000</td>\n",
       "      <td>0.000000</td>\n",
       "      <td>0.000000</td>\n",
       "      <td>0.000000</td>\n",
       "      <td>0.000000</td>\n",
       "      <td>0.000000</td>\n",
       "      <td>0.000000</td>\n",
       "      <td>0.000000</td>\n",
       "      <td>0.000000</td>\n",
       "      <td>0.000000</td>\n",
       "      <td>0.000000</td>\n",
       "      <td>0.000000</td>\n",
       "    </tr>\n",
       "    <tr>\n",
       "      <th>25%</th>\n",
       "      <td>0.018805</td>\n",
       "      <td>0.283636</td>\n",
       "      <td>0.002865</td>\n",
       "      <td>0.045108</td>\n",
       "      <td>2.161000</td>\n",
       "      <td>0.000000</td>\n",
       "      <td>0.000000</td>\n",
       "      <td>0.000000</td>\n",
       "      <td>0.000000</td>\n",
       "      <td>0.000000</td>\n",
       "      <td>0.000000</td>\n",
       "      <td>0.000000</td>\n",
       "      <td>0.000000</td>\n",
       "      <td>0.000000</td>\n",
       "      <td>1.300000</td>\n",
       "      <td>0.000000</td>\n",
       "      <td>0.000000</td>\n",
       "      <td>0.031000</td>\n",
       "      <td>0.000000</td>\n",
       "      <td>0.000000</td>\n",
       "      <td>0.000000</td>\n",
       "      <td>0.000000</td>\n",
       "      <td>0.000000</td>\n",
       "      <td>0.000000</td>\n",
       "      <td>0.000000</td>\n",
       "      <td>0.000000</td>\n",
       "      <td>0.000000</td>\n",
       "      <td>0.000000</td>\n",
       "      <td>0.000000</td>\n",
       "      <td>0.000000</td>\n",
       "      <td>0.000000</td>\n",
       "      <td>0.000000</td>\n",
       "      <td>0.000000</td>\n",
       "      <td>0.000000</td>\n",
       "      <td>0.000000</td>\n",
       "      <td>2.710000</td>\n",
       "    </tr>\n",
       "    <tr>\n",
       "      <th>50%</th>\n",
       "      <td>0.077644</td>\n",
       "      <td>0.628221</td>\n",
       "      <td>0.044877</td>\n",
       "      <td>0.116012</td>\n",
       "      <td>4.552000</td>\n",
       "      <td>0.000000</td>\n",
       "      <td>0.000000</td>\n",
       "      <td>0.000000</td>\n",
       "      <td>0.000000</td>\n",
       "      <td>0.000000</td>\n",
       "      <td>0.000000</td>\n",
       "      <td>0.000000</td>\n",
       "      <td>0.000000</td>\n",
       "      <td>0.000000</td>\n",
       "      <td>2.480000</td>\n",
       "      <td>0.000000</td>\n",
       "      <td>0.000000</td>\n",
       "      <td>0.096000</td>\n",
       "      <td>0.562000</td>\n",
       "      <td>0.000000</td>\n",
       "      <td>0.000000</td>\n",
       "      <td>0.000000</td>\n",
       "      <td>0.000000</td>\n",
       "      <td>0.000000</td>\n",
       "      <td>0.000000</td>\n",
       "      <td>0.000000</td>\n",
       "      <td>0.000000</td>\n",
       "      <td>0.018000</td>\n",
       "      <td>0.000000</td>\n",
       "      <td>0.004000</td>\n",
       "      <td>0.088000</td>\n",
       "      <td>0.048000</td>\n",
       "      <td>0.000000</td>\n",
       "      <td>0.078000</td>\n",
       "      <td>0.000000</td>\n",
       "      <td>9.270000</td>\n",
       "    </tr>\n",
       "    <tr>\n",
       "      <th>75%</th>\n",
       "      <td>0.219512</td>\n",
       "      <td>0.854651</td>\n",
       "      <td>0.118399</td>\n",
       "      <td>0.232143</td>\n",
       "      <td>8.460000</td>\n",
       "      <td>0.084000</td>\n",
       "      <td>0.006000</td>\n",
       "      <td>0.000000</td>\n",
       "      <td>0.000000</td>\n",
       "      <td>0.000000</td>\n",
       "      <td>0.159000</td>\n",
       "      <td>0.000000</td>\n",
       "      <td>0.000000</td>\n",
       "      <td>0.000000</td>\n",
       "      <td>2.940000</td>\n",
       "      <td>0.014000</td>\n",
       "      <td>0.000000</td>\n",
       "      <td>0.252000</td>\n",
       "      <td>2.754000</td>\n",
       "      <td>0.018000</td>\n",
       "      <td>0.000000</td>\n",
       "      <td>0.011000</td>\n",
       "      <td>0.000000</td>\n",
       "      <td>0.000000</td>\n",
       "      <td>0.000000</td>\n",
       "      <td>0.000000</td>\n",
       "      <td>0.338000</td>\n",
       "      <td>0.096000</td>\n",
       "      <td>0.000000</td>\n",
       "      <td>0.115000</td>\n",
       "      <td>0.236000</td>\n",
       "      <td>0.168000</td>\n",
       "      <td>0.004000</td>\n",
       "      <td>0.343000</td>\n",
       "      <td>0.028000</td>\n",
       "      <td>20.450000</td>\n",
       "    </tr>\n",
       "    <tr>\n",
       "      <th>max</th>\n",
       "      <td>0.998243</td>\n",
       "      <td>1.000000</td>\n",
       "      <td>0.899387</td>\n",
       "      <td>1.000000</td>\n",
       "      <td>59.815000</td>\n",
       "      <td>8.612000</td>\n",
       "      <td>1.840000</td>\n",
       "      <td>0.356000</td>\n",
       "      <td>3.670000</td>\n",
       "      <td>2.873000</td>\n",
       "      <td>4.242000</td>\n",
       "      <td>1.122000</td>\n",
       "      <td>0.509000</td>\n",
       "      <td>0.862000</td>\n",
       "      <td>3.120000</td>\n",
       "      <td>0.574000</td>\n",
       "      <td>1.580000</td>\n",
       "      <td>3.228000</td>\n",
       "      <td>29.239000</td>\n",
       "      <td>0.912000</td>\n",
       "      <td>5.362000</td>\n",
       "      <td>1.860000</td>\n",
       "      <td>36.750000</td>\n",
       "      <td>4.494000</td>\n",
       "      <td>0.616000</td>\n",
       "      <td>4.306000</td>\n",
       "      <td>56.020000</td>\n",
       "      <td>4.904000</td>\n",
       "      <td>3.280000</td>\n",
       "      <td>2.408000</td>\n",
       "      <td>6.804000</td>\n",
       "      <td>6.048000</td>\n",
       "      <td>2.008000</td>\n",
       "      <td>6.452000</td>\n",
       "      <td>15.806000</td>\n",
       "      <td>175.410000</td>\n",
       "    </tr>\n",
       "  </tbody>\n",
       "</table>\n",
       "</div>"
      ],
      "text/plain": [
       "       Non_combust_wt_%  Organics_wt_%  Paper_and_cardboard_wt_%  Plastics_wt_%  Total_weight_(kg)  aluminium_cans  aluminium_recyclable   batteries  bottles_cds  bottles_wine_and_spirits   cardboard    ceramics   drinkbags  electrical_items_and_peripherals_(incl_tvs)  energy_kWh_per_kg         eps  feminine_hygiene  flexibles_film        food  hdpe_bottles        jars         lpb     nappies       other  other_glass  other_metal  other_organics  other_plastic  other_sanitary_waste       paper  pet_bottles  plastic_bags          pp  steel_cans    textiles  total_energy_kWh\n",
       "count        657.000000     657.000000                657.000000     657.000000         657.000000      657.000000            657.000000  657.000000   657.000000                657.000000  657.000000  657.000000  657.000000                                   657.000000         657.000000  657.000000        657.000000      657.000000  657.000000    657.000000  657.000000  657.000000  657.000000  657.000000   657.000000   657.000000      657.000000     657.000000            657.000000  657.000000   657.000000    657.000000  657.000000  657.000000  657.000000        657.000000\n",
       "mean           0.164221       0.562368                  0.097642       0.174883           7.039078        0.278236              0.027437    0.003476     0.025985                  0.026689    0.187169    0.009470    0.005390                                     0.006925           2.037534    0.024411          0.044382        0.215837    2.083743      0.031814    0.098312    0.035486    1.002744    0.079878     0.002893     0.026321        1.572169       0.106202              0.073056    0.118170     0.227420      0.175761    0.017618    0.346152    0.184600         16.829696\n",
       "std            0.212095       0.328298                  0.142824       0.184810           7.905361        0.903705              0.134408    0.027986     0.187057                  0.198246    0.449210    0.074386    0.033875                                     0.065450           1.064171    0.061599          0.171813        0.342665    3.639778      0.085608    0.329199    0.135543    3.389378    0.338525     0.033120     0.201365        4.954004       0.301088              0.315111    0.258696     0.481947      0.486143    0.096537    0.737697    0.812959         22.966856\n",
       "min            0.000000       0.000000                  0.000000       0.000000           0.056000        0.000000              0.000000    0.000000     0.000000                  0.000000    0.000000    0.000000    0.000000                                     0.000000           0.000000    0.000000          0.000000        0.000000    0.000000      0.000000    0.000000    0.000000    0.000000    0.000000     0.000000     0.000000        0.000000       0.000000              0.000000    0.000000     0.000000      0.000000    0.000000    0.000000    0.000000          0.000000\n",
       "25%            0.018805       0.283636                  0.002865       0.045108           2.161000        0.000000              0.000000    0.000000     0.000000                  0.000000    0.000000    0.000000    0.000000                                     0.000000           1.300000    0.000000          0.000000        0.031000    0.000000      0.000000    0.000000    0.000000    0.000000    0.000000     0.000000     0.000000        0.000000       0.000000              0.000000    0.000000     0.000000      0.000000    0.000000    0.000000    0.000000          2.710000\n",
       "50%            0.077644       0.628221                  0.044877       0.116012           4.552000        0.000000              0.000000    0.000000     0.000000                  0.000000    0.000000    0.000000    0.000000                                     0.000000           2.480000    0.000000          0.000000        0.096000    0.562000      0.000000    0.000000    0.000000    0.000000    0.000000     0.000000     0.000000        0.000000       0.018000              0.000000    0.004000     0.088000      0.048000    0.000000    0.078000    0.000000          9.270000\n",
       "75%            0.219512       0.854651                  0.118399       0.232143           8.460000        0.084000              0.006000    0.000000     0.000000                  0.000000    0.159000    0.000000    0.000000                                     0.000000           2.940000    0.014000          0.000000        0.252000    2.754000      0.018000    0.000000    0.011000    0.000000    0.000000     0.000000     0.000000        0.338000       0.096000              0.000000    0.115000     0.236000      0.168000    0.004000    0.343000    0.028000         20.450000\n",
       "max            0.998243       1.000000                  0.899387       1.000000          59.815000        8.612000              1.840000    0.356000     3.670000                  2.873000    4.242000    1.122000    0.509000                                     0.862000           3.120000    0.574000          1.580000        3.228000   29.239000      0.912000    5.362000    1.860000   36.750000    4.494000     0.616000     4.306000       56.020000       4.904000              3.280000    2.408000     6.804000      6.048000    2.008000    6.452000   15.806000        175.410000"
      ]
     },
     "execution_count": 3,
     "metadata": {},
     "output_type": "execute_result"
    }
   ],
   "source": [
    "model_df.describe()"
   ]
  },
  {
   "cell_type": "markdown",
   "metadata": {},
   "source": [
    "### Total Weight (kg)"
   ]
  },
  {
   "cell_type": "code",
   "execution_count": 4,
   "metadata": {
    "ExecuteTime": {
     "end_time": "2020-10-27T15:48:44.523163Z",
     "start_time": "2020-10-27T15:48:44.364500Z"
    },
    "scrolled": false
   },
   "outputs": [
    {
     "data": {
      "image/png": "[encoded data removed]",
      "text/plain": [
       "<Figure size 432x288 with 1 Axes>"
      ]
     },
     "metadata": {
      "needs_background": "light"
     },
     "output_type": "display_data"
    }
   ],
   "source": [
    "model_df[model_df['Total_weight_(kg)'] < 16]['Total_weight_(kg)'].hist();"
   ]
  },
  {
   "cell_type": "code",
   "execution_count": 5,
   "metadata": {
    "ExecuteTime": {
     "end_time": "2020-10-27T15:48:44.616867Z",
     "start_time": "2020-10-27T15:48:44.524074Z"
    },
    "scrolled": false
   },
   "outputs": [
    {
     "name": "stdout",
     "output_type": "stream",
     "text": [
      "Old length: 657\n",
      "New length: 586\n"
     ]
    },
    {
     "data": {
      "text/html": [
       "<div>\n",
       "<style scoped>\n",
       "    .dataframe tbody tr th:only-of-type {\n",
       "        vertical-align: middle;\n",
       "    }\n",
       "\n",
       "    .dataframe tbody tr th {\n",
       "        vertical-align: top;\n",
       "    }\n",
       "\n",
       "    .dataframe thead th {\n",
       "        text-align: right;\n",
       "    }\n",
       "</style>\n",
       "<table border=\"1\" class=\"dataframe\">\n",
       "  <thead>\n",
       "    <tr style=\"text-align: right;\">\n",
       "      <th></th>\n",
       "      <th>Non_combust_wt_%</th>\n",
       "      <th>Organics_wt_%</th>\n",
       "      <th>Paper_and_cardboard_wt_%</th>\n",
       "      <th>Plastics_wt_%</th>\n",
       "      <th>Total_weight_(kg)</th>\n",
       "      <th>aluminium_cans</th>\n",
       "      <th>aluminium_recyclable</th>\n",
       "      <th>batteries</th>\n",
       "      <th>bottles_cds</th>\n",
       "      <th>bottles_wine_and_spirits</th>\n",
       "      <th>cardboard</th>\n",
       "      <th>ceramics</th>\n",
       "      <th>drinkbags</th>\n",
       "      <th>electrical_items_and_peripherals_(incl_tvs)</th>\n",
       "      <th>energy_kWh_per_kg</th>\n",
       "      <th>eps</th>\n",
       "      <th>feminine_hygiene</th>\n",
       "      <th>flexibles_film</th>\n",
       "      <th>food</th>\n",
       "      <th>hdpe_bottles</th>\n",
       "      <th>jars</th>\n",
       "      <th>lpb</th>\n",
       "      <th>nappies</th>\n",
       "      <th>other</th>\n",
       "      <th>other_glass</th>\n",
       "      <th>other_metal</th>\n",
       "      <th>other_organics</th>\n",
       "      <th>other_plastic</th>\n",
       "      <th>other_sanitary_waste</th>\n",
       "      <th>paper</th>\n",
       "      <th>pet_bottles</th>\n",
       "      <th>plastic_bags</th>\n",
       "      <th>pp</th>\n",
       "      <th>steel_cans</th>\n",
       "      <th>textiles</th>\n",
       "      <th>total_energy_kWh</th>\n",
       "    </tr>\n",
       "  </thead>\n",
       "  <tbody>\n",
       "    <tr>\n",
       "      <th>count</th>\n",
       "      <td>586.000000</td>\n",
       "      <td>586.000000</td>\n",
       "      <td>586.000000</td>\n",
       "      <td>586.000000</td>\n",
       "      <td>586.000000</td>\n",
       "      <td>586.00000</td>\n",
       "      <td>586.000000</td>\n",
       "      <td>586.000000</td>\n",
       "      <td>586.000000</td>\n",
       "      <td>586.000000</td>\n",
       "      <td>586.000000</td>\n",
       "      <td>586.000000</td>\n",
       "      <td>586.000000</td>\n",
       "      <td>586.000000</td>\n",
       "      <td>586.000000</td>\n",
       "      <td>586.000000</td>\n",
       "      <td>586.000000</td>\n",
       "      <td>586.000000</td>\n",
       "      <td>586.000000</td>\n",
       "      <td>586.000000</td>\n",
       "      <td>586.000000</td>\n",
       "      <td>586.000000</td>\n",
       "      <td>586.000000</td>\n",
       "      <td>586.000000</td>\n",
       "      <td>586.000000</td>\n",
       "      <td>586.000000</td>\n",
       "      <td>586.000000</td>\n",
       "      <td>586.000000</td>\n",
       "      <td>586.000000</td>\n",
       "      <td>586.000000</td>\n",
       "      <td>586.000000</td>\n",
       "      <td>586.000000</td>\n",
       "      <td>586.000000</td>\n",
       "      <td>586.000000</td>\n",
       "      <td>586.000000</td>\n",
       "      <td>586.000000</td>\n",
       "    </tr>\n",
       "    <tr>\n",
       "      <th>mean</th>\n",
       "      <td>0.134367</td>\n",
       "      <td>0.630505</td>\n",
       "      <td>0.087085</td>\n",
       "      <td>0.147051</td>\n",
       "      <td>7.618173</td>\n",
       "      <td>0.25152</td>\n",
       "      <td>0.029147</td>\n",
       "      <td>0.003898</td>\n",
       "      <td>0.026519</td>\n",
       "      <td>0.020462</td>\n",
       "      <td>0.194246</td>\n",
       "      <td>0.007824</td>\n",
       "      <td>0.005555</td>\n",
       "      <td>0.007166</td>\n",
       "      <td>2.284403</td>\n",
       "      <td>0.026384</td>\n",
       "      <td>0.049759</td>\n",
       "      <td>0.222308</td>\n",
       "      <td>2.336210</td>\n",
       "      <td>0.033171</td>\n",
       "      <td>0.101196</td>\n",
       "      <td>0.038166</td>\n",
       "      <td>1.124237</td>\n",
       "      <td>0.085688</td>\n",
       "      <td>0.003022</td>\n",
       "      <td>0.029156</td>\n",
       "      <td>1.762654</td>\n",
       "      <td>0.113937</td>\n",
       "      <td>0.081908</td>\n",
       "      <td>0.126618</td>\n",
       "      <td>0.226881</td>\n",
       "      <td>0.175517</td>\n",
       "      <td>0.019394</td>\n",
       "      <td>0.321509</td>\n",
       "      <td>0.192631</td>\n",
       "      <td>18.868788</td>\n",
       "    </tr>\n",
       "    <tr>\n",
       "      <th>std</th>\n",
       "      <td>0.169104</td>\n",
       "      <td>0.278974</td>\n",
       "      <td>0.122657</td>\n",
       "      <td>0.144996</td>\n",
       "      <td>8.125326</td>\n",
       "      <td>0.85164</td>\n",
       "      <td>0.140723</td>\n",
       "      <td>0.029608</td>\n",
       "      <td>0.189857</td>\n",
       "      <td>0.160275</td>\n",
       "      <td>0.457601</td>\n",
       "      <td>0.070767</td>\n",
       "      <td>0.034206</td>\n",
       "      <td>0.068399</td>\n",
       "      <td>0.839638</td>\n",
       "      <td>0.064155</td>\n",
       "      <td>0.181202</td>\n",
       "      <td>0.350437</td>\n",
       "      <td>3.776908</td>\n",
       "      <td>0.087942</td>\n",
       "      <td>0.335554</td>\n",
       "      <td>0.142816</td>\n",
       "      <td>3.570059</td>\n",
       "      <td>0.356283</td>\n",
       "      <td>0.034662</td>\n",
       "      <td>0.212890</td>\n",
       "      <td>5.213870</td>\n",
       "      <td>0.316792</td>\n",
       "      <td>0.332596</td>\n",
       "      <td>0.266703</td>\n",
       "      <td>0.484771</td>\n",
       "      <td>0.448975</td>\n",
       "      <td>0.102026</td>\n",
       "      <td>0.691295</td>\n",
       "      <td>0.841872</td>\n",
       "      <td>23.514974</td>\n",
       "    </tr>\n",
       "    <tr>\n",
       "      <th>min</th>\n",
       "      <td>0.000000</td>\n",
       "      <td>0.003579</td>\n",
       "      <td>0.000000</td>\n",
       "      <td>0.000000</td>\n",
       "      <td>0.056000</td>\n",
       "      <td>0.00000</td>\n",
       "      <td>0.000000</td>\n",
       "      <td>0.000000</td>\n",
       "      <td>0.000000</td>\n",
       "      <td>0.000000</td>\n",
       "      <td>0.000000</td>\n",
       "      <td>0.000000</td>\n",
       "      <td>0.000000</td>\n",
       "      <td>0.000000</td>\n",
       "      <td>0.020000</td>\n",
       "      <td>0.000000</td>\n",
       "      <td>0.000000</td>\n",
       "      <td>0.000000</td>\n",
       "      <td>0.000000</td>\n",
       "      <td>0.000000</td>\n",
       "      <td>0.000000</td>\n",
       "      <td>0.000000</td>\n",
       "      <td>0.000000</td>\n",
       "      <td>0.000000</td>\n",
       "      <td>0.000000</td>\n",
       "      <td>0.000000</td>\n",
       "      <td>0.000000</td>\n",
       "      <td>0.000000</td>\n",
       "      <td>0.000000</td>\n",
       "      <td>0.000000</td>\n",
       "      <td>0.000000</td>\n",
       "      <td>0.000000</td>\n",
       "      <td>0.000000</td>\n",
       "      <td>0.000000</td>\n",
       "      <td>0.000000</td>\n",
       "      <td>0.070000</td>\n",
       "    </tr>\n",
       "    <tr>\n",
       "      <th>25%</th>\n",
       "      <td>0.017861</td>\n",
       "      <td>0.419896</td>\n",
       "      <td>0.003361</td>\n",
       "      <td>0.039520</td>\n",
       "      <td>2.529000</td>\n",
       "      <td>0.00000</td>\n",
       "      <td>0.000000</td>\n",
       "      <td>0.000000</td>\n",
       "      <td>0.000000</td>\n",
       "      <td>0.000000</td>\n",
       "      <td>0.000000</td>\n",
       "      <td>0.000000</td>\n",
       "      <td>0.000000</td>\n",
       "      <td>0.000000</td>\n",
       "      <td>1.742500</td>\n",
       "      <td>0.000000</td>\n",
       "      <td>0.000000</td>\n",
       "      <td>0.036000</td>\n",
       "      <td>0.000000</td>\n",
       "      <td>0.000000</td>\n",
       "      <td>0.000000</td>\n",
       "      <td>0.000000</td>\n",
       "      <td>0.000000</td>\n",
       "      <td>0.000000</td>\n",
       "      <td>0.000000</td>\n",
       "      <td>0.000000</td>\n",
       "      <td>0.000000</td>\n",
       "      <td>0.000000</td>\n",
       "      <td>0.000000</td>\n",
       "      <td>0.000000</td>\n",
       "      <td>0.000000</td>\n",
       "      <td>0.000000</td>\n",
       "      <td>0.000000</td>\n",
       "      <td>0.000000</td>\n",
       "      <td>0.000000</td>\n",
       "      <td>4.755000</td>\n",
       "    </tr>\n",
       "    <tr>\n",
       "      <th>50%</th>\n",
       "      <td>0.068807</td>\n",
       "      <td>0.685711</td>\n",
       "      <td>0.042050</td>\n",
       "      <td>0.103559</td>\n",
       "      <td>4.906000</td>\n",
       "      <td>0.00000</td>\n",
       "      <td>0.000000</td>\n",
       "      <td>0.000000</td>\n",
       "      <td>0.000000</td>\n",
       "      <td>0.000000</td>\n",
       "      <td>0.000000</td>\n",
       "      <td>0.000000</td>\n",
       "      <td>0.000000</td>\n",
       "      <td>0.000000</td>\n",
       "      <td>2.620000</td>\n",
       "      <td>0.000000</td>\n",
       "      <td>0.000000</td>\n",
       "      <td>0.101000</td>\n",
       "      <td>0.791000</td>\n",
       "      <td>0.000000</td>\n",
       "      <td>0.000000</td>\n",
       "      <td>0.000000</td>\n",
       "      <td>0.000000</td>\n",
       "      <td>0.000000</td>\n",
       "      <td>0.000000</td>\n",
       "      <td>0.000000</td>\n",
       "      <td>0.000000</td>\n",
       "      <td>0.020000</td>\n",
       "      <td>0.000000</td>\n",
       "      <td>0.010000</td>\n",
       "      <td>0.088000</td>\n",
       "      <td>0.053500</td>\n",
       "      <td>0.000000</td>\n",
       "      <td>0.078000</td>\n",
       "      <td>0.000000</td>\n",
       "      <td>11.000000</td>\n",
       "    </tr>\n",
       "    <tr>\n",
       "      <th>75%</th>\n",
       "      <td>0.181555</td>\n",
       "      <td>0.871793</td>\n",
       "      <td>0.110851</td>\n",
       "      <td>0.204231</td>\n",
       "      <td>9.231000</td>\n",
       "      <td>0.08000</td>\n",
       "      <td>0.007000</td>\n",
       "      <td>0.000000</td>\n",
       "      <td>0.000000</td>\n",
       "      <td>0.000000</td>\n",
       "      <td>0.175500</td>\n",
       "      <td>0.000000</td>\n",
       "      <td>0.000000</td>\n",
       "      <td>0.000000</td>\n",
       "      <td>2.970000</td>\n",
       "      <td>0.024000</td>\n",
       "      <td>0.000000</td>\n",
       "      <td>0.258000</td>\n",
       "      <td>3.067500</td>\n",
       "      <td>0.020750</td>\n",
       "      <td>0.000000</td>\n",
       "      <td>0.012000</td>\n",
       "      <td>0.057250</td>\n",
       "      <td>0.000000</td>\n",
       "      <td>0.000000</td>\n",
       "      <td>0.000000</td>\n",
       "      <td>0.663000</td>\n",
       "      <td>0.100000</td>\n",
       "      <td>0.000000</td>\n",
       "      <td>0.130000</td>\n",
       "      <td>0.232000</td>\n",
       "      <td>0.179000</td>\n",
       "      <td>0.005000</td>\n",
       "      <td>0.304750</td>\n",
       "      <td>0.033750</td>\n",
       "      <td>22.677500</td>\n",
       "    </tr>\n",
       "    <tr>\n",
       "      <th>max</th>\n",
       "      <td>0.926819</td>\n",
       "      <td>1.000000</td>\n",
       "      <td>0.823762</td>\n",
       "      <td>0.860902</td>\n",
       "      <td>59.815000</td>\n",
       "      <td>8.61200</td>\n",
       "      <td>1.840000</td>\n",
       "      <td>0.356000</td>\n",
       "      <td>3.670000</td>\n",
       "      <td>2.873000</td>\n",
       "      <td>4.242000</td>\n",
       "      <td>1.122000</td>\n",
       "      <td>0.509000</td>\n",
       "      <td>0.862000</td>\n",
       "      <td>3.120000</td>\n",
       "      <td>0.574000</td>\n",
       "      <td>1.580000</td>\n",
       "      <td>3.228000</td>\n",
       "      <td>29.239000</td>\n",
       "      <td>0.912000</td>\n",
       "      <td>5.362000</td>\n",
       "      <td>1.860000</td>\n",
       "      <td>36.750000</td>\n",
       "      <td>4.494000</td>\n",
       "      <td>0.616000</td>\n",
       "      <td>4.306000</td>\n",
       "      <td>56.020000</td>\n",
       "      <td>4.904000</td>\n",
       "      <td>3.280000</td>\n",
       "      <td>2.408000</td>\n",
       "      <td>6.804000</td>\n",
       "      <td>5.256000</td>\n",
       "      <td>2.008000</td>\n",
       "      <td>6.452000</td>\n",
       "      <td>15.806000</td>\n",
       "      <td>175.410000</td>\n",
       "    </tr>\n",
       "  </tbody>\n",
       "</table>\n",
       "</div>"
      ],
      "text/plain": [
       "       Non_combust_wt_%  Organics_wt_%  Paper_and_cardboard_wt_%  Plastics_wt_%  Total_weight_(kg)  aluminium_cans  aluminium_recyclable   batteries  bottles_cds  bottles_wine_and_spirits   cardboard    ceramics   drinkbags  electrical_items_and_peripherals_(incl_tvs)  energy_kWh_per_kg         eps  feminine_hygiene  flexibles_film        food  hdpe_bottles        jars         lpb     nappies       other  other_glass  other_metal  other_organics  other_plastic  other_sanitary_waste       paper  pet_bottles  plastic_bags          pp  steel_cans    textiles  total_energy_kWh\n",
       "count        586.000000     586.000000                586.000000     586.000000         586.000000       586.00000            586.000000  586.000000   586.000000                586.000000  586.000000  586.000000  586.000000                                   586.000000         586.000000  586.000000        586.000000      586.000000  586.000000    586.000000  586.000000  586.000000  586.000000  586.000000   586.000000   586.000000      586.000000     586.000000            586.000000  586.000000   586.000000    586.000000  586.000000  586.000000  586.000000        586.000000\n",
       "mean           0.134367       0.630505                  0.087085       0.147051           7.618173         0.25152              0.029147    0.003898     0.026519                  0.020462    0.194246    0.007824    0.005555                                     0.007166           2.284403    0.026384          0.049759        0.222308    2.336210      0.033171    0.101196    0.038166    1.124237    0.085688     0.003022     0.029156        1.762654       0.113937              0.081908    0.126618     0.226881      0.175517    0.019394    0.321509    0.192631         18.868788\n",
       "std            0.169104       0.278974                  0.122657       0.144996           8.125326         0.85164              0.140723    0.029608     0.189857                  0.160275    0.457601    0.070767    0.034206                                     0.068399           0.839638    0.064155          0.181202        0.350437    3.776908      0.087942    0.335554    0.142816    3.570059    0.356283     0.034662     0.212890        5.213870       0.316792              0.332596    0.266703     0.484771      0.448975    0.102026    0.691295    0.841872         23.514974\n",
       "min            0.000000       0.003579                  0.000000       0.000000           0.056000         0.00000              0.000000    0.000000     0.000000                  0.000000    0.000000    0.000000    0.000000                                     0.000000           0.020000    0.000000          0.000000        0.000000    0.000000      0.000000    0.000000    0.000000    0.000000    0.000000     0.000000     0.000000        0.000000       0.000000              0.000000    0.000000     0.000000      0.000000    0.000000    0.000000    0.000000          0.070000\n",
       "25%            0.017861       0.419896                  0.003361       0.039520           2.529000         0.00000              0.000000    0.000000     0.000000                  0.000000    0.000000    0.000000    0.000000                                     0.000000           1.742500    0.000000          0.000000        0.036000    0.000000      0.000000    0.000000    0.000000    0.000000    0.000000     0.000000     0.000000        0.000000       0.000000              0.000000    0.000000     0.000000      0.000000    0.000000    0.000000    0.000000          4.755000\n",
       "50%            0.068807       0.685711                  0.042050       0.103559           4.906000         0.00000              0.000000    0.000000     0.000000                  0.000000    0.000000    0.000000    0.000000                                     0.000000           2.620000    0.000000          0.000000        0.101000    0.791000      0.000000    0.000000    0.000000    0.000000    0.000000     0.000000     0.000000        0.000000       0.020000              0.000000    0.010000     0.088000      0.053500    0.000000    0.078000    0.000000         11.000000\n",
       "75%            0.181555       0.871793                  0.110851       0.204231           9.231000         0.08000              0.007000    0.000000     0.000000                  0.000000    0.175500    0.000000    0.000000                                     0.000000           2.970000    0.024000          0.000000        0.258000    3.067500      0.020750    0.000000    0.012000    0.057250    0.000000     0.000000     0.000000        0.663000       0.100000              0.000000    0.130000     0.232000      0.179000    0.005000    0.304750    0.033750         22.677500\n",
       "max            0.926819       1.000000                  0.823762       0.860902          59.815000         8.61200              1.840000    0.356000     3.670000                  2.873000    4.242000    1.122000    0.509000                                     0.862000           3.120000    0.574000          1.580000        3.228000   29.239000      0.912000    5.362000    1.860000   36.750000    4.494000     0.616000     4.306000       56.020000       4.904000              3.280000    2.408000     6.804000      5.256000    2.008000    6.452000   15.806000        175.410000"
      ]
     },
     "execution_count": 5,
     "metadata": {},
     "output_type": "execute_result"
    }
   ],
   "source": [
    "print('Old length:', len(model_df))\n",
    "print('New length:', len(model_df[model_df['total_energy_kWh'] > 0]))\n",
    "model_df = model_df[model_df['total_energy_kWh'] > 0]\n",
    "model_df.describe()"
   ]
  },
  {
   "cell_type": "markdown",
   "metadata": {},
   "source": [
    "### Total Energy kWh"
   ]
  },
  {
   "cell_type": "code",
   "execution_count": 6,
   "metadata": {
    "ExecuteTime": {
     "end_time": "2020-10-27T15:48:44.753502Z",
     "start_time": "2020-10-27T15:48:44.617822Z"
    },
    "scrolled": true
   },
   "outputs": [
    {
     "data": {
      "image/png": "[encoded data removed]",
      "text/plain": [
       "<Figure size 432x288 with 1 Axes>"
      ]
     },
     "metadata": {
      "needs_background": "light"
     },
     "output_type": "display_data"
    }
   ],
   "source": [
    "model_df[model_df['total_energy_kWh'] > 0]['total_energy_kWh'].hist();"
   ]
  },
  {
   "cell_type": "code",
   "execution_count": 7,
   "metadata": {
    "ExecuteTime": {
     "end_time": "2020-10-27T15:48:44.845250Z",
     "start_time": "2020-10-27T15:48:44.754501Z"
    },
    "scrolled": true
   },
   "outputs": [
    {
     "name": "stdout",
     "output_type": "stream",
     "text": [
      "Old length: 586\n",
      "New length: 516\n"
     ]
    },
    {
     "data": {
      "text/html": [
       "<div>\n",
       "<style scoped>\n",
       "    .dataframe tbody tr th:only-of-type {\n",
       "        vertical-align: middle;\n",
       "    }\n",
       "\n",
       "    .dataframe tbody tr th {\n",
       "        vertical-align: top;\n",
       "    }\n",
       "\n",
       "    .dataframe thead th {\n",
       "        text-align: right;\n",
       "    }\n",
       "</style>\n",
       "<table border=\"1\" class=\"dataframe\">\n",
       "  <thead>\n",
       "    <tr style=\"text-align: right;\">\n",
       "      <th></th>\n",
       "      <th>Non_combust_wt_%</th>\n",
       "      <th>Organics_wt_%</th>\n",
       "      <th>Paper_and_cardboard_wt_%</th>\n",
       "      <th>Plastics_wt_%</th>\n",
       "      <th>Total_weight_(kg)</th>\n",
       "      <th>aluminium_cans</th>\n",
       "      <th>aluminium_recyclable</th>\n",
       "      <th>batteries</th>\n",
       "      <th>bottles_cds</th>\n",
       "      <th>bottles_wine_and_spirits</th>\n",
       "      <th>cardboard</th>\n",
       "      <th>ceramics</th>\n",
       "      <th>drinkbags</th>\n",
       "      <th>electrical_items_and_peripherals_(incl_tvs)</th>\n",
       "      <th>energy_kWh_per_kg</th>\n",
       "      <th>eps</th>\n",
       "      <th>feminine_hygiene</th>\n",
       "      <th>flexibles_film</th>\n",
       "      <th>food</th>\n",
       "      <th>hdpe_bottles</th>\n",
       "      <th>jars</th>\n",
       "      <th>lpb</th>\n",
       "      <th>nappies</th>\n",
       "      <th>other</th>\n",
       "      <th>other_glass</th>\n",
       "      <th>other_metal</th>\n",
       "      <th>other_organics</th>\n",
       "      <th>other_plastic</th>\n",
       "      <th>other_sanitary_waste</th>\n",
       "      <th>paper</th>\n",
       "      <th>pet_bottles</th>\n",
       "      <th>plastic_bags</th>\n",
       "      <th>pp</th>\n",
       "      <th>steel_cans</th>\n",
       "      <th>textiles</th>\n",
       "      <th>total_energy_kWh</th>\n",
       "    </tr>\n",
       "  </thead>\n",
       "  <tbody>\n",
       "    <tr>\n",
       "      <th>count</th>\n",
       "      <td>516.000000</td>\n",
       "      <td>516.000000</td>\n",
       "      <td>516.000000</td>\n",
       "      <td>516.000000</td>\n",
       "      <td>516.000000</td>\n",
       "      <td>516.000000</td>\n",
       "      <td>516.000000</td>\n",
       "      <td>516.000000</td>\n",
       "      <td>516.000000</td>\n",
       "      <td>516.000000</td>\n",
       "      <td>516.000000</td>\n",
       "      <td>516.000000</td>\n",
       "      <td>516.000000</td>\n",
       "      <td>516.000000</td>\n",
       "      <td>516.000000</td>\n",
       "      <td>516.000000</td>\n",
       "      <td>516.000000</td>\n",
       "      <td>516.000000</td>\n",
       "      <td>516.000000</td>\n",
       "      <td>516.000000</td>\n",
       "      <td>516.000000</td>\n",
       "      <td>516.000000</td>\n",
       "      <td>516.000000</td>\n",
       "      <td>516.000000</td>\n",
       "      <td>516.000000</td>\n",
       "      <td>516.000000</td>\n",
       "      <td>516.000000</td>\n",
       "      <td>516.000000</td>\n",
       "      <td>516.000000</td>\n",
       "      <td>516.000000</td>\n",
       "      <td>516.000000</td>\n",
       "      <td>516.000000</td>\n",
       "      <td>516.000000</td>\n",
       "      <td>516.000000</td>\n",
       "      <td>516.000000</td>\n",
       "      <td>516.000000</td>\n",
       "    </tr>\n",
       "    <tr>\n",
       "      <th>mean</th>\n",
       "      <td>0.141575</td>\n",
       "      <td>0.610547</td>\n",
       "      <td>0.090113</td>\n",
       "      <td>0.156637</td>\n",
       "      <td>5.223431</td>\n",
       "      <td>0.199983</td>\n",
       "      <td>0.024217</td>\n",
       "      <td>0.002147</td>\n",
       "      <td>0.030116</td>\n",
       "      <td>0.023238</td>\n",
       "      <td>0.147915</td>\n",
       "      <td>0.005998</td>\n",
       "      <td>0.006309</td>\n",
       "      <td>0.004107</td>\n",
       "      <td>2.227578</td>\n",
       "      <td>0.026977</td>\n",
       "      <td>0.056083</td>\n",
       "      <td>0.179067</td>\n",
       "      <td>1.701150</td>\n",
       "      <td>0.034548</td>\n",
       "      <td>0.091444</td>\n",
       "      <td>0.032537</td>\n",
       "      <td>0.651723</td>\n",
       "      <td>0.062072</td>\n",
       "      <td>0.003432</td>\n",
       "      <td>0.019728</td>\n",
       "      <td>0.896434</td>\n",
       "      <td>0.091599</td>\n",
       "      <td>0.091713</td>\n",
       "      <td>0.112634</td>\n",
       "      <td>0.181076</td>\n",
       "      <td>0.140967</td>\n",
       "      <td>0.015632</td>\n",
       "      <td>0.273866</td>\n",
       "      <td>0.115027</td>\n",
       "      <td>12.109748</td>\n",
       "    </tr>\n",
       "    <tr>\n",
       "      <th>std</th>\n",
       "      <td>0.173728</td>\n",
       "      <td>0.283029</td>\n",
       "      <td>0.126608</td>\n",
       "      <td>0.149067</td>\n",
       "      <td>3.635338</td>\n",
       "      <td>0.756555</td>\n",
       "      <td>0.104719</td>\n",
       "      <td>0.022486</td>\n",
       "      <td>0.202081</td>\n",
       "      <td>0.170631</td>\n",
       "      <td>0.331126</td>\n",
       "      <td>0.065309</td>\n",
       "      <td>0.036391</td>\n",
       "      <td>0.049133</td>\n",
       "      <td>0.859181</td>\n",
       "      <td>0.063719</td>\n",
       "      <td>0.192178</td>\n",
       "      <td>0.288849</td>\n",
       "      <td>2.294945</td>\n",
       "      <td>0.083585</td>\n",
       "      <td>0.246646</td>\n",
       "      <td>0.138367</td>\n",
       "      <td>1.984713</td>\n",
       "      <td>0.240087</td>\n",
       "      <td>0.036923</td>\n",
       "      <td>0.114199</td>\n",
       "      <td>2.250055</td>\n",
       "      <td>0.274567</td>\n",
       "      <td>0.352108</td>\n",
       "      <td>0.227172</td>\n",
       "      <td>0.328292</td>\n",
       "      <td>0.382436</td>\n",
       "      <td>0.060521</td>\n",
       "      <td>0.586254</td>\n",
       "      <td>0.414171</td>\n",
       "      <td>10.445627</td>\n",
       "    </tr>\n",
       "    <tr>\n",
       "      <th>min</th>\n",
       "      <td>0.000000</td>\n",
       "      <td>0.003579</td>\n",
       "      <td>0.000000</td>\n",
       "      <td>0.000000</td>\n",
       "      <td>0.056000</td>\n",
       "      <td>0.000000</td>\n",
       "      <td>0.000000</td>\n",
       "      <td>0.000000</td>\n",
       "      <td>0.000000</td>\n",
       "      <td>0.000000</td>\n",
       "      <td>0.000000</td>\n",
       "      <td>0.000000</td>\n",
       "      <td>0.000000</td>\n",
       "      <td>0.000000</td>\n",
       "      <td>0.020000</td>\n",
       "      <td>0.000000</td>\n",
       "      <td>0.000000</td>\n",
       "      <td>0.000000</td>\n",
       "      <td>0.000000</td>\n",
       "      <td>0.000000</td>\n",
       "      <td>0.000000</td>\n",
       "      <td>0.000000</td>\n",
       "      <td>0.000000</td>\n",
       "      <td>0.000000</td>\n",
       "      <td>0.000000</td>\n",
       "      <td>0.000000</td>\n",
       "      <td>0.000000</td>\n",
       "      <td>0.000000</td>\n",
       "      <td>0.000000</td>\n",
       "      <td>0.000000</td>\n",
       "      <td>0.000000</td>\n",
       "      <td>0.000000</td>\n",
       "      <td>0.000000</td>\n",
       "      <td>0.000000</td>\n",
       "      <td>0.000000</td>\n",
       "      <td>0.070000</td>\n",
       "    </tr>\n",
       "    <tr>\n",
       "      <th>25%</th>\n",
       "      <td>0.019392</td>\n",
       "      <td>0.395613</td>\n",
       "      <td>0.003385</td>\n",
       "      <td>0.044443</td>\n",
       "      <td>2.246500</td>\n",
       "      <td>0.000000</td>\n",
       "      <td>0.000000</td>\n",
       "      <td>0.000000</td>\n",
       "      <td>0.000000</td>\n",
       "      <td>0.000000</td>\n",
       "      <td>0.000000</td>\n",
       "      <td>0.000000</td>\n",
       "      <td>0.000000</td>\n",
       "      <td>0.000000</td>\n",
       "      <td>1.645000</td>\n",
       "      <td>0.000000</td>\n",
       "      <td>0.000000</td>\n",
       "      <td>0.031000</td>\n",
       "      <td>0.000000</td>\n",
       "      <td>0.000000</td>\n",
       "      <td>0.000000</td>\n",
       "      <td>0.000000</td>\n",
       "      <td>0.000000</td>\n",
       "      <td>0.000000</td>\n",
       "      <td>0.000000</td>\n",
       "      <td>0.000000</td>\n",
       "      <td>0.000000</td>\n",
       "      <td>0.000000</td>\n",
       "      <td>0.000000</td>\n",
       "      <td>0.000000</td>\n",
       "      <td>0.000000</td>\n",
       "      <td>0.000000</td>\n",
       "      <td>0.000000</td>\n",
       "      <td>0.000000</td>\n",
       "      <td>0.000000</td>\n",
       "      <td>4.145000</td>\n",
       "    </tr>\n",
       "    <tr>\n",
       "      <th>50%</th>\n",
       "      <td>0.076120</td>\n",
       "      <td>0.667773</td>\n",
       "      <td>0.043399</td>\n",
       "      <td>0.116282</td>\n",
       "      <td>4.318000</td>\n",
       "      <td>0.000000</td>\n",
       "      <td>0.000000</td>\n",
       "      <td>0.000000</td>\n",
       "      <td>0.000000</td>\n",
       "      <td>0.000000</td>\n",
       "      <td>0.000000</td>\n",
       "      <td>0.000000</td>\n",
       "      <td>0.000000</td>\n",
       "      <td>0.000000</td>\n",
       "      <td>2.540000</td>\n",
       "      <td>0.000000</td>\n",
       "      <td>0.000000</td>\n",
       "      <td>0.088000</td>\n",
       "      <td>0.721500</td>\n",
       "      <td>0.000000</td>\n",
       "      <td>0.000000</td>\n",
       "      <td>0.000000</td>\n",
       "      <td>0.000000</td>\n",
       "      <td>0.000000</td>\n",
       "      <td>0.000000</td>\n",
       "      <td>0.000000</td>\n",
       "      <td>0.000000</td>\n",
       "      <td>0.016500</td>\n",
       "      <td>0.000000</td>\n",
       "      <td>0.012000</td>\n",
       "      <td>0.081000</td>\n",
       "      <td>0.052000</td>\n",
       "      <td>0.000000</td>\n",
       "      <td>0.069000</td>\n",
       "      <td>0.000000</td>\n",
       "      <td>9.270000</td>\n",
       "    </tr>\n",
       "    <tr>\n",
       "      <th>75%</th>\n",
       "      <td>0.194802</td>\n",
       "      <td>0.861856</td>\n",
       "      <td>0.113435</td>\n",
       "      <td>0.217723</td>\n",
       "      <td>7.429000</td>\n",
       "      <td>0.070500</td>\n",
       "      <td>0.009000</td>\n",
       "      <td>0.000000</td>\n",
       "      <td>0.000000</td>\n",
       "      <td>0.000000</td>\n",
       "      <td>0.150250</td>\n",
       "      <td>0.000000</td>\n",
       "      <td>0.000000</td>\n",
       "      <td>0.000000</td>\n",
       "      <td>2.940000</td>\n",
       "      <td>0.026000</td>\n",
       "      <td>0.000000</td>\n",
       "      <td>0.226500</td>\n",
       "      <td>2.603000</td>\n",
       "      <td>0.027250</td>\n",
       "      <td>0.000000</td>\n",
       "      <td>0.009000</td>\n",
       "      <td>0.000000</td>\n",
       "      <td>0.000000</td>\n",
       "      <td>0.000000</td>\n",
       "      <td>0.000000</td>\n",
       "      <td>0.340750</td>\n",
       "      <td>0.089500</td>\n",
       "      <td>0.000000</td>\n",
       "      <td>0.114250</td>\n",
       "      <td>0.211250</td>\n",
       "      <td>0.160000</td>\n",
       "      <td>0.005000</td>\n",
       "      <td>0.241000</td>\n",
       "      <td>0.020250</td>\n",
       "      <td>16.872500</td>\n",
       "    </tr>\n",
       "    <tr>\n",
       "      <th>max</th>\n",
       "      <td>0.926819</td>\n",
       "      <td>1.000000</td>\n",
       "      <td>0.823762</td>\n",
       "      <td>0.860902</td>\n",
       "      <td>15.750000</td>\n",
       "      <td>8.612000</td>\n",
       "      <td>1.840000</td>\n",
       "      <td>0.356000</td>\n",
       "      <td>3.670000</td>\n",
       "      <td>2.873000</td>\n",
       "      <td>2.825000</td>\n",
       "      <td>1.122000</td>\n",
       "      <td>0.509000</td>\n",
       "      <td>0.838000</td>\n",
       "      <td>3.120000</td>\n",
       "      <td>0.574000</td>\n",
       "      <td>1.580000</td>\n",
       "      <td>3.228000</td>\n",
       "      <td>11.976000</td>\n",
       "      <td>0.848000</td>\n",
       "      <td>2.306000</td>\n",
       "      <td>1.860000</td>\n",
       "      <td>15.092000</td>\n",
       "      <td>2.780000</td>\n",
       "      <td>0.616000</td>\n",
       "      <td>1.300000</td>\n",
       "      <td>15.232000</td>\n",
       "      <td>4.904000</td>\n",
       "      <td>3.280000</td>\n",
       "      <td>1.896000</td>\n",
       "      <td>3.338000</td>\n",
       "      <td>5.256000</td>\n",
       "      <td>0.970000</td>\n",
       "      <td>5.308000</td>\n",
       "      <td>4.376000</td>\n",
       "      <td>48.840000</td>\n",
       "    </tr>\n",
       "  </tbody>\n",
       "</table>\n",
       "</div>"
      ],
      "text/plain": [
       "       Non_combust_wt_%  Organics_wt_%  Paper_and_cardboard_wt_%  Plastics_wt_%  Total_weight_(kg)  aluminium_cans  aluminium_recyclable   batteries  bottles_cds  bottles_wine_and_spirits   cardboard    ceramics   drinkbags  electrical_items_and_peripherals_(incl_tvs)  energy_kWh_per_kg         eps  feminine_hygiene  flexibles_film        food  hdpe_bottles        jars         lpb     nappies       other  other_glass  other_metal  other_organics  other_plastic  other_sanitary_waste       paper  pet_bottles  plastic_bags          pp  steel_cans    textiles  total_energy_kWh\n",
       "count        516.000000     516.000000                516.000000     516.000000         516.000000      516.000000            516.000000  516.000000   516.000000                516.000000  516.000000  516.000000  516.000000                                   516.000000         516.000000  516.000000        516.000000      516.000000  516.000000    516.000000  516.000000  516.000000  516.000000  516.000000   516.000000   516.000000      516.000000     516.000000            516.000000  516.000000   516.000000    516.000000  516.000000  516.000000  516.000000        516.000000\n",
       "mean           0.141575       0.610547                  0.090113       0.156637           5.223431        0.199983              0.024217    0.002147     0.030116                  0.023238    0.147915    0.005998    0.006309                                     0.004107           2.227578    0.026977          0.056083        0.179067    1.701150      0.034548    0.091444    0.032537    0.651723    0.062072     0.003432     0.019728        0.896434       0.091599              0.091713    0.112634     0.181076      0.140967    0.015632    0.273866    0.115027         12.109748\n",
       "std            0.173728       0.283029                  0.126608       0.149067           3.635338        0.756555              0.104719    0.022486     0.202081                  0.170631    0.331126    0.065309    0.036391                                     0.049133           0.859181    0.063719          0.192178        0.288849    2.294945      0.083585    0.246646    0.138367    1.984713    0.240087     0.036923     0.114199        2.250055       0.274567              0.352108    0.227172     0.328292      0.382436    0.060521    0.586254    0.414171         10.445627\n",
       "min            0.000000       0.003579                  0.000000       0.000000           0.056000        0.000000              0.000000    0.000000     0.000000                  0.000000    0.000000    0.000000    0.000000                                     0.000000           0.020000    0.000000          0.000000        0.000000    0.000000      0.000000    0.000000    0.000000    0.000000    0.000000     0.000000     0.000000        0.000000       0.000000              0.000000    0.000000     0.000000      0.000000    0.000000    0.000000    0.000000          0.070000\n",
       "25%            0.019392       0.395613                  0.003385       0.044443           2.246500        0.000000              0.000000    0.000000     0.000000                  0.000000    0.000000    0.000000    0.000000                                     0.000000           1.645000    0.000000          0.000000        0.031000    0.000000      0.000000    0.000000    0.000000    0.000000    0.000000     0.000000     0.000000        0.000000       0.000000              0.000000    0.000000     0.000000      0.000000    0.000000    0.000000    0.000000          4.145000\n",
       "50%            0.076120       0.667773                  0.043399       0.116282           4.318000        0.000000              0.000000    0.000000     0.000000                  0.000000    0.000000    0.000000    0.000000                                     0.000000           2.540000    0.000000          0.000000        0.088000    0.721500      0.000000    0.000000    0.000000    0.000000    0.000000     0.000000     0.000000        0.000000       0.016500              0.000000    0.012000     0.081000      0.052000    0.000000    0.069000    0.000000          9.270000\n",
       "75%            0.194802       0.861856                  0.113435       0.217723           7.429000        0.070500              0.009000    0.000000     0.000000                  0.000000    0.150250    0.000000    0.000000                                     0.000000           2.940000    0.026000          0.000000        0.226500    2.603000      0.027250    0.000000    0.009000    0.000000    0.000000     0.000000     0.000000        0.340750       0.089500              0.000000    0.114250     0.211250      0.160000    0.005000    0.241000    0.020250         16.872500\n",
       "max            0.926819       1.000000                  0.823762       0.860902          15.750000        8.612000              1.840000    0.356000     3.670000                  2.873000    2.825000    1.122000    0.509000                                     0.838000           3.120000    0.574000          1.580000        3.228000   11.976000      0.848000    2.306000    1.860000   15.092000    2.780000     0.616000     1.300000       15.232000       4.904000              3.280000    1.896000     3.338000      5.256000    0.970000    5.308000    4.376000         48.840000"
      ]
     },
     "execution_count": 7,
     "metadata": {},
     "output_type": "execute_result"
    }
   ],
   "source": [
    "print('Old length:', len(model_df))\n",
    "print('New length:', len(model_df[model_df['Total_weight_(kg)'] < 16]))\n",
    "model_df = model_df[model_df['Total_weight_(kg)'] < 16]\n",
    "model_df.describe()"
   ]
  },
  {
   "cell_type": "code",
   "execution_count": 8,
   "metadata": {
    "ExecuteTime": {
     "end_time": "2020-10-27T15:48:44.850245Z",
     "start_time": "2020-10-27T15:48:44.847209Z"
    },
    "scrolled": true
   },
   "outputs": [],
   "source": [
    "# print('Old length:', len(model_df))\n",
    "# print('New length:', len(model_df[model_df['total_energy_kWh'] < 150]))\n",
    "# model_df = model_df[model_df['total_energy_kWh'] < 150]\n",
    "# model_df.describe()"
   ]
  },
  {
   "cell_type": "markdown",
   "metadata": {},
   "source": [
    "## Remove Unnecessary Features"
   ]
  },
  {
   "cell_type": "code",
   "execution_count": 9,
   "metadata": {
    "ExecuteTime": {
     "end_time": "2020-10-27T15:48:44.857183Z",
     "start_time": "2020-10-27T15:48:44.851244Z"
    }
   },
   "outputs": [],
   "source": [
    "X = model_df.drop(['ID',\n",
    "                   'total_energy_kWh',\n",
    "                   'energy_kWh_per_kg',\n",
    "                   'Total_weight_(kg)',\n",
    "                   'Organics_wt_%',\n",
    "                   'Paper_and_cardboard_wt_%',\n",
    "                   'Plastics_wt_%',\n",
    "                   'Non_combust_wt_%'],\n",
    "                   axis=1)\n",
    "y = model_df[['total_energy_kWh']]"
   ]
  },
  {
   "cell_type": "code",
   "execution_count": 10,
   "metadata": {
    "ExecuteTime": {
     "end_time": "2020-10-27T15:48:44.860217Z",
     "start_time": "2020-10-27T15:48:44.858180Z"
    }
   },
   "outputs": [],
   "source": [
    "# X = model_df.drop(['ID',\n",
    "#                    'total_energy_kWh',\n",
    "#                    'energy_kWh_per_kg',\n",
    "#                    'Total_weight (kg)',\n",
    "#                    'Organics_wt_%',\n",
    "#                    'Paper_and_cardboard_wt_%',\n",
    "#                    'Plastics_wt_%',\n",
    "#                    'Non_combust_wt_%'], axis=1)\n",
    "# y = model_df[['energy_kWh_per_kg']]"
   ]
  },
  {
   "cell_type": "markdown",
   "metadata": {},
   "source": [
    "## Train/Test Split"
   ]
  },
  {
   "cell_type": "code",
   "execution_count": 104,
   "metadata": {
    "ExecuteTime": {
     "end_time": "2020-10-27T15:55:41.072844Z",
     "start_time": "2020-10-27T15:55:41.062834Z"
    }
   },
   "outputs": [
    {
     "name": "stdout",
     "output_type": "stream",
     "text": [
      "(438, 29)\n",
      "(78, 29)\n"
     ]
    }
   ],
   "source": [
    "X_train, X_test, y_train, y_test = train_test_split(X, y, test_size=0.15, random_state=42)\n",
    "print(X_train.shape)\n",
    "print(X_test.shape)"
   ]
  },
  {
   "cell_type": "code",
   "execution_count": 12,
   "metadata": {
    "ExecuteTime": {
     "end_time": "2020-10-27T15:48:44.875223Z",
     "start_time": "2020-10-27T15:48:44.868195Z"
    }
   },
   "outputs": [],
   "source": [
    "scaler = StandardScaler()\n",
    "X_train_Scaled = pd.DataFrame(scaler.fit_transform(X_train), columns=X.columns)\n",
    "X_test_Scaled = pd.DataFrame(scaler.transform(X_test), columns=X.columns)\n",
    "\n",
    "y_train_Scaled = scaler.fit_transform(y_train)\n",
    "y_test_Scaled = scaler.transform(y_test)"
   ]
  },
  {
   "cell_type": "code",
   "execution_count": 13,
   "metadata": {
    "ExecuteTime": {
     "end_time": "2020-10-27T15:48:44.894114Z",
     "start_time": "2020-10-27T15:48:44.876132Z"
    },
    "scrolled": true
   },
   "outputs": [
    {
     "data": {
      "text/html": [
       "<div>\n",
       "<style scoped>\n",
       "    .dataframe tbody tr th:only-of-type {\n",
       "        vertical-align: middle;\n",
       "    }\n",
       "\n",
       "    .dataframe tbody tr th {\n",
       "        vertical-align: top;\n",
       "    }\n",
       "\n",
       "    .dataframe thead th {\n",
       "        text-align: right;\n",
       "    }\n",
       "</style>\n",
       "<table border=\"1\" class=\"dataframe\">\n",
       "  <thead>\n",
       "    <tr style=\"text-align: right;\">\n",
       "      <th></th>\n",
       "      <th>aluminium_cans</th>\n",
       "      <th>aluminium_recyclable</th>\n",
       "      <th>batteries</th>\n",
       "      <th>bottles_cds</th>\n",
       "      <th>bottles_wine_and_spirits</th>\n",
       "      <th>cardboard</th>\n",
       "      <th>ceramics</th>\n",
       "      <th>drinkbags</th>\n",
       "      <th>electrical_items_and_peripherals_(incl_tvs)</th>\n",
       "      <th>eps</th>\n",
       "      <th>feminine_hygiene</th>\n",
       "      <th>flexibles_film</th>\n",
       "      <th>food</th>\n",
       "      <th>hdpe_bottles</th>\n",
       "      <th>jars</th>\n",
       "      <th>lpb</th>\n",
       "      <th>nappies</th>\n",
       "      <th>other</th>\n",
       "      <th>other_glass</th>\n",
       "      <th>other_metal</th>\n",
       "      <th>other_organics</th>\n",
       "      <th>other_plastic</th>\n",
       "      <th>other_sanitary_waste</th>\n",
       "      <th>paper</th>\n",
       "      <th>pet_bottles</th>\n",
       "      <th>plastic_bags</th>\n",
       "      <th>pp</th>\n",
       "      <th>steel_cans</th>\n",
       "      <th>textiles</th>\n",
       "    </tr>\n",
       "  </thead>\n",
       "  <tbody>\n",
       "    <tr>\n",
       "      <th>0</th>\n",
       "      <td>-0.270417</td>\n",
       "      <td>-0.228289</td>\n",
       "      <td>-0.103834</td>\n",
       "      <td>-0.14073</td>\n",
       "      <td>-0.136738</td>\n",
       "      <td>1.265438</td>\n",
       "      <td>-0.098466</td>\n",
       "      <td>-0.154106</td>\n",
       "      <td>-0.079706</td>\n",
       "      <td>-0.413417</td>\n",
       "      <td>-0.30746</td>\n",
       "      <td>5.950470</td>\n",
       "      <td>-0.611218</td>\n",
       "      <td>-0.412176</td>\n",
       "      <td>0.861347</td>\n",
       "      <td>-0.170126</td>\n",
       "      <td>-0.332314</td>\n",
       "      <td>0.959775</td>\n",
       "      <td>-0.090284</td>\n",
       "      <td>-0.16923</td>\n",
       "      <td>-0.229082</td>\n",
       "      <td>2.599808</td>\n",
       "      <td>-0.266459</td>\n",
       "      <td>2.736695</td>\n",
       "      <td>0.034459</td>\n",
       "      <td>-0.321770</td>\n",
       "      <td>-0.263237</td>\n",
       "      <td>0.178715</td>\n",
       "      <td>0.629460</td>\n",
       "    </tr>\n",
       "    <tr>\n",
       "      <th>1</th>\n",
       "      <td>-0.270417</td>\n",
       "      <td>-0.228289</td>\n",
       "      <td>-0.103834</td>\n",
       "      <td>-0.14073</td>\n",
       "      <td>-0.136738</td>\n",
       "      <td>-0.445976</td>\n",
       "      <td>-0.098466</td>\n",
       "      <td>-0.154106</td>\n",
       "      <td>-0.079706</td>\n",
       "      <td>0.294467</td>\n",
       "      <td>-0.30746</td>\n",
       "      <td>0.281862</td>\n",
       "      <td>0.121999</td>\n",
       "      <td>-0.005058</td>\n",
       "      <td>-0.379311</td>\n",
       "      <td>-0.105424</td>\n",
       "      <td>-0.332314</td>\n",
       "      <td>0.122243</td>\n",
       "      <td>-0.090284</td>\n",
       "      <td>-0.16923</td>\n",
       "      <td>-0.398419</td>\n",
       "      <td>-0.332371</td>\n",
       "      <td>3.751712</td>\n",
       "      <td>-0.182397</td>\n",
       "      <td>2.210006</td>\n",
       "      <td>-0.049377</td>\n",
       "      <td>0.106801</td>\n",
       "      <td>-0.472867</td>\n",
       "      <td>-0.276395</td>\n",
       "    </tr>\n",
       "    <tr>\n",
       "      <th>2</th>\n",
       "      <td>-0.270417</td>\n",
       "      <td>-0.228289</td>\n",
       "      <td>-0.103834</td>\n",
       "      <td>-0.14073</td>\n",
       "      <td>-0.136738</td>\n",
       "      <td>-0.215897</td>\n",
       "      <td>-0.098466</td>\n",
       "      <td>-0.154106</td>\n",
       "      <td>-0.079706</td>\n",
       "      <td>4.636151</td>\n",
       "      <td>-0.30746</td>\n",
       "      <td>-0.367938</td>\n",
       "      <td>1.107798</td>\n",
       "      <td>3.635061</td>\n",
       "      <td>-0.379311</td>\n",
       "      <td>-0.234828</td>\n",
       "      <td>-0.332314</td>\n",
       "      <td>-0.260629</td>\n",
       "      <td>-0.090284</td>\n",
       "      <td>-0.16923</td>\n",
       "      <td>-0.398419</td>\n",
       "      <td>0.074405</td>\n",
       "      <td>3.968911</td>\n",
       "      <td>-0.490546</td>\n",
       "      <td>-0.251950</td>\n",
       "      <td>-0.083733</td>\n",
       "      <td>0.338075</td>\n",
       "      <td>-0.472867</td>\n",
       "      <td>-0.190893</td>\n",
       "    </tr>\n",
       "    <tr>\n",
       "      <th>3</th>\n",
       "      <td>-0.235729</td>\n",
       "      <td>-0.228289</td>\n",
       "      <td>-0.103834</td>\n",
       "      <td>-0.14073</td>\n",
       "      <td>-0.136738</td>\n",
       "      <td>-0.445976</td>\n",
       "      <td>-0.098466</td>\n",
       "      <td>-0.154106</td>\n",
       "      <td>-0.079706</td>\n",
       "      <td>-0.413417</td>\n",
       "      <td>-0.30746</td>\n",
       "      <td>0.402679</td>\n",
       "      <td>-0.734281</td>\n",
       "      <td>-0.412176</td>\n",
       "      <td>-0.379311</td>\n",
       "      <td>-0.234828</td>\n",
       "      <td>-0.332314</td>\n",
       "      <td>-0.260629</td>\n",
       "      <td>-0.090284</td>\n",
       "      <td>-0.16923</td>\n",
       "      <td>6.707200</td>\n",
       "      <td>-0.128983</td>\n",
       "      <td>-0.266459</td>\n",
       "      <td>-0.490546</td>\n",
       "      <td>-0.538359</td>\n",
       "      <td>-0.164715</td>\n",
       "      <td>-0.263237</td>\n",
       "      <td>-0.472867</td>\n",
       "      <td>-0.276395</td>\n",
       "    </tr>\n",
       "    <tr>\n",
       "      <th>4</th>\n",
       "      <td>-0.270417</td>\n",
       "      <td>-0.228289</td>\n",
       "      <td>-0.103834</td>\n",
       "      <td>-0.14073</td>\n",
       "      <td>-0.136738</td>\n",
       "      <td>-0.124495</td>\n",
       "      <td>-0.098466</td>\n",
       "      <td>-0.154106</td>\n",
       "      <td>-0.079706</td>\n",
       "      <td>-0.413417</td>\n",
       "      <td>-0.30746</td>\n",
       "      <td>-0.191611</td>\n",
       "      <td>-0.310444</td>\n",
       "      <td>0.186528</td>\n",
       "      <td>0.759267</td>\n",
       "      <td>0.160573</td>\n",
       "      <td>-0.332314</td>\n",
       "      <td>5.546261</td>\n",
       "      <td>-0.090284</td>\n",
       "      <td>-0.16923</td>\n",
       "      <td>-0.373695</td>\n",
       "      <td>0.098134</td>\n",
       "      <td>-0.266459</td>\n",
       "      <td>0.317305</td>\n",
       "      <td>-0.448675</td>\n",
       "      <td>-0.351218</td>\n",
       "      <td>-0.263237</td>\n",
       "      <td>-0.375466</td>\n",
       "      <td>-0.174717</td>\n",
       "    </tr>\n",
       "  </tbody>\n",
       "</table>\n",
       "</div>"
      ],
      "text/plain": [
       "   aluminium_cans  aluminium_recyclable  batteries  bottles_cds  bottles_wine_and_spirits  cardboard  ceramics  drinkbags  electrical_items_and_peripherals_(incl_tvs)       eps  feminine_hygiene  flexibles_film      food  hdpe_bottles      jars       lpb   nappies     other  other_glass  other_metal  other_organics  other_plastic  other_sanitary_waste     paper  pet_bottles  plastic_bags        pp  steel_cans  textiles\n",
       "0       -0.270417             -0.228289  -0.103834     -0.14073                 -0.136738   1.265438 -0.098466  -0.154106                                    -0.079706 -0.413417          -0.30746        5.950470 -0.611218     -0.412176  0.861347 -0.170126 -0.332314  0.959775    -0.090284     -0.16923       -0.229082       2.599808             -0.266459  2.736695     0.034459     -0.321770 -0.263237    0.178715  0.629460\n",
       "1       -0.270417             -0.228289  -0.103834     -0.14073                 -0.136738  -0.445976 -0.098466  -0.154106                                    -0.079706  0.294467          -0.30746        0.281862  0.121999     -0.005058 -0.379311 -0.105424 -0.332314  0.122243    -0.090284     -0.16923       -0.398419      -0.332371              3.751712 -0.182397     2.210006     -0.049377  0.106801   -0.472867 -0.276395\n",
       "2       -0.270417             -0.228289  -0.103834     -0.14073                 -0.136738  -0.215897 -0.098466  -0.154106                                    -0.079706  4.636151          -0.30746       -0.367938  1.107798      3.635061 -0.379311 -0.234828 -0.332314 -0.260629    -0.090284     -0.16923       -0.398419       0.074405              3.968911 -0.490546    -0.251950     -0.083733  0.338075   -0.472867 -0.190893\n",
       "3       -0.235729             -0.228289  -0.103834     -0.14073                 -0.136738  -0.445976 -0.098466  -0.154106                                    -0.079706 -0.413417          -0.30746        0.402679 -0.734281     -0.412176 -0.379311 -0.234828 -0.332314 -0.260629    -0.090284     -0.16923        6.707200      -0.128983             -0.266459 -0.490546    -0.538359     -0.164715 -0.263237   -0.472867 -0.276395\n",
       "4       -0.270417             -0.228289  -0.103834     -0.14073                 -0.136738  -0.124495 -0.098466  -0.154106                                    -0.079706 -0.413417          -0.30746       -0.191611 -0.310444      0.186528  0.759267  0.160573 -0.332314  5.546261    -0.090284     -0.16923       -0.373695       0.098134             -0.266459  0.317305    -0.448675     -0.351218 -0.263237   -0.375466 -0.174717"
      ]
     },
     "execution_count": 13,
     "metadata": {},
     "output_type": "execute_result"
    }
   ],
   "source": [
    "X_train_Scaled.head()"
   ]
  },
  {
   "cell_type": "code",
   "execution_count": 14,
   "metadata": {
    "ExecuteTime": {
     "end_time": "2020-10-27T15:48:45.516419Z",
     "start_time": "2020-10-27T15:48:44.895089Z"
    },
    "scrolled": false
   },
   "outputs": [
    {
     "data": {
      "image/png": "[encoded data removed]",
      "text/plain": [
       "<Figure size 720x504 with 2 Axes>"
      ]
     },
     "metadata": {
      "needs_background": "light"
     },
     "output_type": "display_data"
    }
   ],
   "source": [
    "plt.figure(figsize=(10,7))\n",
    "sns.heatmap(X_train_Scaled.corr());"
   ]
  },
  {
   "cell_type": "markdown",
   "metadata": {},
   "source": [
    "## Statsmodel OLS"
   ]
  },
  {
   "cell_type": "code",
   "execution_count": 15,
   "metadata": {
    "ExecuteTime": {
     "end_time": "2020-10-27T15:48:46.160696Z",
     "start_time": "2020-10-27T15:48:45.517428Z"
    },
    "scrolled": false
   },
   "outputs": [
    {
     "data": {
      "text/html": [
       "<table class=\"simpletable\">\n",
       "<caption>OLS Regression Results</caption>\n",
       "<tr>\n",
       "  <th>Dep. Variable:</th>    <td>total_energy_kWh</td> <th>  R-squared:         </th> <td>   0.992</td>\n",
       "</tr>\n",
       "<tr>\n",
       "  <th>Model:</th>                   <td>OLS</td>       <th>  Adj. R-squared:    </th> <td>   0.992</td>\n",
       "</tr>\n",
       "<tr>\n",
       "  <th>Method:</th>             <td>Least Squares</td>  <th>  F-statistic:       </th> <td>   2096.</td>\n",
       "</tr>\n",
       "<tr>\n",
       "  <th>Date:</th>             <td>Tue, 27 Oct 2020</td> <th>  Prob (F-statistic):</th>  <td>  0.00</td> \n",
       "</tr>\n",
       "<tr>\n",
       "  <th>Time:</th>                 <td>11:48:46</td>     <th>  Log-Likelihood:    </th> <td> -694.44</td>\n",
       "</tr>\n",
       "<tr>\n",
       "  <th>No. Observations:</th>      <td>   516</td>      <th>  AIC:               </th> <td>   1449.</td>\n",
       "</tr>\n",
       "<tr>\n",
       "  <th>Df Residuals:</th>          <td>   486</td>      <th>  BIC:               </th> <td>   1576.</td>\n",
       "</tr>\n",
       "<tr>\n",
       "  <th>Df Model:</th>              <td>    29</td>      <th>                     </th>     <td> </td>   \n",
       "</tr>\n",
       "<tr>\n",
       "  <th>Covariance Type:</th>      <td>nonrobust</td>    <th>                     </th>     <td> </td>   \n",
       "</tr>\n",
       "</table>\n",
       "<table class=\"simpletable\">\n",
       "<tr>\n",
       "                       <td></td>                          <th>coef</th>     <th>std err</th>      <th>t</th>      <th>P>|t|</th>  <th>[0.025</th>    <th>0.975]</th>  \n",
       "</tr>\n",
       "<tr>\n",
       "  <th>const</th>                                       <td>   -0.0901</td> <td>    0.080</td> <td>   -1.128</td> <td> 0.260</td> <td>   -0.247</td> <td>    0.067</td>\n",
       "</tr>\n",
       "<tr>\n",
       "  <th>aluminium_cans</th>                              <td>   -0.0238</td> <td>    0.063</td> <td>   -0.380</td> <td> 0.704</td> <td>   -0.147</td> <td>    0.099</td>\n",
       "</tr>\n",
       "<tr>\n",
       "  <th>aluminium_recyclable</th>                        <td>    0.0748</td> <td>    0.423</td> <td>    0.177</td> <td> 0.860</td> <td>   -0.755</td> <td>    0.905</td>\n",
       "</tr>\n",
       "<tr>\n",
       "  <th>batteries</th>                                   <td>   -7.7792</td> <td>    1.891</td> <td>   -4.113</td> <td> 0.000</td> <td>  -11.496</td> <td>   -4.063</td>\n",
       "</tr>\n",
       "<tr>\n",
       "  <th>bottles_cds</th>                                 <td>   -0.1660</td> <td>    0.214</td> <td>   -0.776</td> <td> 0.438</td> <td>   -0.586</td> <td>    0.254</td>\n",
       "</tr>\n",
       "<tr>\n",
       "  <th>bottles_wine_and_spirits</th>                    <td>   -0.1591</td> <td>    0.252</td> <td>   -0.631</td> <td> 0.528</td> <td>   -0.654</td> <td>    0.336</td>\n",
       "</tr>\n",
       "<tr>\n",
       "  <th>cardboard</th>                                   <td>    1.3185</td> <td>    0.140</td> <td>    9.425</td> <td> 0.000</td> <td>    1.044</td> <td>    1.593</td>\n",
       "</tr>\n",
       "<tr>\n",
       "  <th>ceramics</th>                                    <td>   -0.2133</td> <td>    0.685</td> <td>   -0.311</td> <td> 0.756</td> <td>   -1.560</td> <td>    1.133</td>\n",
       "</tr>\n",
       "<tr>\n",
       "  <th>drinkbags</th>                                   <td>    0.5455</td> <td>    1.301</td> <td>    0.419</td> <td> 0.675</td> <td>   -2.010</td> <td>    3.101</td>\n",
       "</tr>\n",
       "<tr>\n",
       "  <th>electrical_items_and_peripherals_(incl_tvs)</th> <td>   -0.9696</td> <td>    0.889</td> <td>   -1.091</td> <td> 0.276</td> <td>   -2.716</td> <td>    0.776</td>\n",
       "</tr>\n",
       "<tr>\n",
       "  <th>eps</th>                                         <td>    1.8900</td> <td>    0.783</td> <td>    2.415</td> <td> 0.016</td> <td>    0.352</td> <td>    3.428</td>\n",
       "</tr>\n",
       "<tr>\n",
       "  <th>feminine_hygiene</th>                            <td>    3.6907</td> <td>    0.235</td> <td>   15.696</td> <td> 0.000</td> <td>    3.229</td> <td>    4.153</td>\n",
       "</tr>\n",
       "<tr>\n",
       "  <th>flexibles_film</th>                              <td>    0.8802</td> <td>    0.174</td> <td>    5.057</td> <td> 0.000</td> <td>    0.538</td> <td>    1.222</td>\n",
       "</tr>\n",
       "<tr>\n",
       "  <th>food</th>                                        <td>    3.3253</td> <td>    0.020</td> <td>  169.311</td> <td> 0.000</td> <td>    3.287</td> <td>    3.364</td>\n",
       "</tr>\n",
       "<tr>\n",
       "  <th>hdpe_bottles</th>                                <td>    2.8406</td> <td>    0.530</td> <td>    5.359</td> <td> 0.000</td> <td>    1.799</td> <td>    3.882</td>\n",
       "</tr>\n",
       "<tr>\n",
       "  <th>jars</th>                                        <td>   -0.3421</td> <td>    0.193</td> <td>   -1.773</td> <td> 0.077</td> <td>   -0.721</td> <td>    0.037</td>\n",
       "</tr>\n",
       "<tr>\n",
       "  <th>lpb</th>                                         <td>    1.0103</td> <td>    0.337</td> <td>    3.001</td> <td> 0.003</td> <td>    0.349</td> <td>    1.672</td>\n",
       "</tr>\n",
       "<tr>\n",
       "  <th>nappies</th>                                     <td>    3.2646</td> <td>    0.022</td> <td>  147.493</td> <td> 0.000</td> <td>    3.221</td> <td>    3.308</td>\n",
       "</tr>\n",
       "<tr>\n",
       "  <th>other</th>                                       <td>   -0.2740</td> <td>    0.185</td> <td>   -1.484</td> <td> 0.139</td> <td>   -0.637</td> <td>    0.089</td>\n",
       "</tr>\n",
       "<tr>\n",
       "  <th>other_glass</th>                                 <td>   -0.6256</td> <td>    1.161</td> <td>   -0.539</td> <td> 0.590</td> <td>   -2.907</td> <td>    1.656</td>\n",
       "</tr>\n",
       "<tr>\n",
       "  <th>other_metal</th>                                 <td>    0.0077</td> <td>    0.391</td> <td>    0.020</td> <td> 0.984</td> <td>   -0.761</td> <td>    0.777</td>\n",
       "</tr>\n",
       "<tr>\n",
       "  <th>other_organics</th>                              <td>    3.2458</td> <td>    0.020</td> <td>  162.403</td> <td> 0.000</td> <td>    3.207</td> <td>    3.285</td>\n",
       "</tr>\n",
       "<tr>\n",
       "  <th>other_plastic</th>                               <td>    0.9958</td> <td>    0.170</td> <td>    5.862</td> <td> 0.000</td> <td>    0.662</td> <td>    1.330</td>\n",
       "</tr>\n",
       "<tr>\n",
       "  <th>other_sanitary_waste</th>                        <td>    3.6716</td> <td>    0.127</td> <td>   28.987</td> <td> 0.000</td> <td>    3.423</td> <td>    3.920</td>\n",
       "</tr>\n",
       "<tr>\n",
       "  <th>paper</th>                                       <td>    1.4035</td> <td>    0.203</td> <td>    6.915</td> <td> 0.000</td> <td>    1.005</td> <td>    1.802</td>\n",
       "</tr>\n",
       "<tr>\n",
       "  <th>pet_bottles</th>                                 <td>    0.5361</td> <td>    0.155</td> <td>    3.458</td> <td> 0.001</td> <td>    0.231</td> <td>    0.841</td>\n",
       "</tr>\n",
       "<tr>\n",
       "  <th>plastic_bags</th>                                <td>    0.5485</td> <td>    0.118</td> <td>    4.635</td> <td> 0.000</td> <td>    0.316</td> <td>    0.781</td>\n",
       "</tr>\n",
       "<tr>\n",
       "  <th>pp</th>                                          <td>    1.4359</td> <td>    0.733</td> <td>    1.958</td> <td> 0.051</td> <td>   -0.005</td> <td>    2.877</td>\n",
       "</tr>\n",
       "<tr>\n",
       "  <th>steel_cans</th>                                  <td>   -0.1627</td> <td>    0.083</td> <td>   -1.952</td> <td> 0.052</td> <td>   -0.327</td> <td>    0.001</td>\n",
       "</tr>\n",
       "<tr>\n",
       "  <th>textiles</th>                                    <td>    0.9247</td> <td>    0.109</td> <td>    8.512</td> <td> 0.000</td> <td>    0.711</td> <td>    1.138</td>\n",
       "</tr>\n",
       "</table>\n",
       "<table class=\"simpletable\">\n",
       "<tr>\n",
       "  <th>Omnibus:</th>       <td>260.276</td> <th>  Durbin-Watson:     </th> <td>   2.006</td>\n",
       "</tr>\n",
       "<tr>\n",
       "  <th>Prob(Omnibus):</th> <td> 0.000</td>  <th>  Jarque-Bera (JB):  </th> <td>3898.028</td>\n",
       "</tr>\n",
       "<tr>\n",
       "  <th>Skew:</th>          <td>-1.821</td>  <th>  Prob(JB):          </th> <td>    0.00</td>\n",
       "</tr>\n",
       "<tr>\n",
       "  <th>Kurtosis:</th>      <td>15.963</td>  <th>  Cond. No.          </th> <td>    134.</td>\n",
       "</tr>\n",
       "</table><br/><br/>Notes:<br/>[1] Standard Errors assume that the covariance matrix of the errors is correctly specified."
      ],
      "text/plain": [
       "<class 'statsmodels.iolib.summary.Summary'>\n",
       "\"\"\"\n",
       "                            OLS Regression Results                            \n",
       "==============================================================================\n",
       "Dep. Variable:       total_energy_kWh   R-squared:                       0.992\n",
       "Model:                            OLS   Adj. R-squared:                  0.992\n",
       "Method:                 Least Squares   F-statistic:                     2096.\n",
       "Date:                Tue, 27 Oct 2020   Prob (F-statistic):               0.00\n",
       "Time:                        11:48:46   Log-Likelihood:                -694.44\n",
       "No. Observations:                 516   AIC:                             1449.\n",
       "Df Residuals:                     486   BIC:                             1576.\n",
       "Df Model:                          29                                         \n",
       "Covariance Type:            nonrobust                                         \n",
       "===============================================================================================================\n",
       "                                                  coef    std err          t      P>|t|      [0.025      0.975]\n",
       "---------------------------------------------------------------------------------------------------------------\n",
       "const                                          -0.0901      0.080     -1.128      0.260      -0.247       0.067\n",
       "aluminium_cans                                 -0.0238      0.063     -0.380      0.704      -0.147       0.099\n",
       "aluminium_recyclable                            0.0748      0.423      0.177      0.860      -0.755       0.905\n",
       "batteries                                      -7.7792      1.891     -4.113      0.000     -11.496      -4.063\n",
       "bottles_cds                                    -0.1660      0.214     -0.776      0.438      -0.586       0.254\n",
       "bottles_wine_and_spirits                       -0.1591      0.252     -0.631      0.528      -0.654       0.336\n",
       "cardboard                                       1.3185      0.140      9.425      0.000       1.044       1.593\n",
       "ceramics                                       -0.2133      0.685     -0.311      0.756      -1.560       1.133\n",
       "drinkbags                                       0.5455      1.301      0.419      0.675      -2.010       3.101\n",
       "electrical_items_and_peripherals_(incl_tvs)    -0.9696      0.889     -1.091      0.276      -2.716       0.776\n",
       "eps                                             1.8900      0.783      2.415      0.016       0.352       3.428\n",
       "feminine_hygiene                                3.6907      0.235     15.696      0.000       3.229       4.153\n",
       "flexibles_film                                  0.8802      0.174      5.057      0.000       0.538       1.222\n",
       "food                                            3.3253      0.020    169.311      0.000       3.287       3.364\n",
       "hdpe_bottles                                    2.8406      0.530      5.359      0.000       1.799       3.882\n",
       "jars                                           -0.3421      0.193     -1.773      0.077      -0.721       0.037\n",
       "lpb                                             1.0103      0.337      3.001      0.003       0.349       1.672\n",
       "nappies                                         3.2646      0.022    147.493      0.000       3.221       3.308\n",
       "other                                          -0.2740      0.185     -1.484      0.139      -0.637       0.089\n",
       "other_glass                                    -0.6256      1.161     -0.539      0.590      -2.907       1.656\n",
       "other_metal                                     0.0077      0.391      0.020      0.984      -0.761       0.777\n",
       "other_organics                                  3.2458      0.020    162.403      0.000       3.207       3.285\n",
       "other_plastic                                   0.9958      0.170      5.862      0.000       0.662       1.330\n",
       "other_sanitary_waste                            3.6716      0.127     28.987      0.000       3.423       3.920\n",
       "paper                                           1.4035      0.203      6.915      0.000       1.005       1.802\n",
       "pet_bottles                                     0.5361      0.155      3.458      0.001       0.231       0.841\n",
       "plastic_bags                                    0.5485      0.118      4.635      0.000       0.316       0.781\n",
       "pp                                              1.4359      0.733      1.958      0.051      -0.005       2.877\n",
       "steel_cans                                     -0.1627      0.083     -1.952      0.052      -0.327       0.001\n",
       "textiles                                        0.9247      0.109      8.512      0.000       0.711       1.138\n",
       "==============================================================================\n",
       "Omnibus:                      260.276   Durbin-Watson:                   2.006\n",
       "Prob(Omnibus):                  0.000   Jarque-Bera (JB):             3898.028\n",
       "Skew:                          -1.821   Prob(JB):                         0.00\n",
       "Kurtosis:                      15.963   Cond. No.                         134.\n",
       "==============================================================================\n",
       "\n",
       "Notes:\n",
       "[1] Standard Errors assume that the covariance matrix of the errors is correctly specified.\n",
       "\"\"\""
      ]
     },
     "execution_count": 15,
     "metadata": {},
     "output_type": "execute_result"
    }
   ],
   "source": [
    "from statsmodels.regression.linear_model import OLS\n",
    "import statsmodels.api as sm\n",
    "import statsmodels.stats.api as sms\n",
    "import statsmodels.formula.api as smf\n",
    "import scipy.stats as stats\n",
    "plt.style.use('ggplot')\n",
    "\n",
    "X_int = sm.tools.add_constant(X)\n",
    "model = OLS(y, X_int).fit()\n",
    "model.summary()"
   ]
  },
  {
   "cell_type": "code",
   "execution_count": 16,
   "metadata": {
    "ExecuteTime": {
     "end_time": "2020-10-27T15:48:46.166696Z",
     "start_time": "2020-10-27T15:48:46.161693Z"
    },
    "scrolled": true
   },
   "outputs": [],
   "source": [
    "# from statsmodels.regression.linear_model import OLS\n",
    "# import statsmodels.api as sm\n",
    "# import statsmodels.stats.api as sms\n",
    "# import statsmodels.formula.api as smf\n",
    "# import scipy.stats as stats\n",
    "# plt.style.use('ggplot')\n",
    "\n",
    "# X_int = sm.tools.add_constant(X)\n",
    "# model = OLS(y, X_int).fit()\n",
    "# model.summary()"
   ]
  },
  {
   "cell_type": "code",
   "execution_count": 17,
   "metadata": {
    "ExecuteTime": {
     "end_time": "2020-10-27T15:48:46.175171Z",
     "start_time": "2020-10-27T15:48:46.168187Z"
    },
    "scrolled": true
   },
   "outputs": [],
   "source": [
    "#\n",
    "# results = []\n",
    "# print('Model Residuals Plot')\n",
    "# print('--------------------')\n",
    "# fig = sm.graphics.qqplot(model.resid, dist=stats.norm, line='45', fit=True)\n",
    "# plt.show()\n",
    "# for idx, column in enumerate(X.columns):\n",
    "#     print(f'Belize MSW Regression Plot for {column} Feature')\n",
    "#     print('------------------------------------------------')\n",
    "    \n",
    "#     fig, axes = plt.subplots(figsize=(15,12))\n",
    "#     fig = sm.graphics.plot_regress_exog(model, column, fig=fig)\n",
    "#     fig.tight_layout()\n",
    "#     plt.show()\n",
    "    \n",
    "#     input('Press ENTER to continue...')"
   ]
  },
  {
   "cell_type": "code",
   "execution_count": 18,
   "metadata": {
    "ExecuteTime": {
     "end_time": "2020-10-27T15:48:46.296845Z",
     "start_time": "2020-10-27T15:48:46.177178Z"
    },
    "scrolled": true
   },
   "outputs": [
    {
     "data": {
      "image/png": "[encoded data removed]",
      "text/plain": [
       "<Figure size 432x288 with 1 Axes>"
      ]
     },
     "metadata": {},
     "output_type": "display_data"
    }
   ],
   "source": [
    "# Plot redisuals from Statsmodel OLS\n",
    "plt.scatter(model.predict(X_int), scaler.inverse_transform(model.resid))\n",
    "plt.plot(model.predict(X_int), [0 for i in range(len(X_int))]);"
   ]
  },
  {
   "cell_type": "code",
   "execution_count": 19,
   "metadata": {
    "ExecuteTime": {
     "end_time": "2020-10-27T15:48:46.312802Z",
     "start_time": "2020-10-27T15:48:46.297842Z"
    }
   },
   "outputs": [
    {
     "data": {
      "text/plain": [
       "0       0.826514\n",
       "1      12.984664\n",
       "2       9.313686\n",
       "3       0.595986\n",
       "4       9.496008\n",
       "5      16.847785\n",
       "6      11.513271\n",
       "7       5.995017\n",
       "8       2.935031\n",
       "9      11.317503\n",
       "10      1.085964\n",
       "12      5.439744\n",
       "13      3.228693\n",
       "14     13.701900\n",
       "15      6.595444\n",
       "16     14.290378\n",
       "17      5.528725\n",
       "18     24.312654\n",
       "19     13.088233\n",
       "20     22.654283\n",
       "21      2.416647\n",
       "22      4.792566\n",
       "23      1.936755\n",
       "24     18.299601\n",
       "25      2.508644\n",
       "26      1.682131\n",
       "27      5.159748\n",
       "28      6.442032\n",
       "29      4.093297\n",
       "30      9.692694\n",
       "31      8.929825\n",
       "32      9.360254\n",
       "33     16.835963\n",
       "34      0.897732\n",
       "35     11.835366\n",
       "36      2.620750\n",
       "37      7.217516\n",
       "38     23.802051\n",
       "39     10.262615\n",
       "40      7.409380\n",
       "41     13.221055\n",
       "42     18.055667\n",
       "43      2.388848\n",
       "44      5.794616\n",
       "45      4.414023\n",
       "46      9.074750\n",
       "47      9.848725\n",
       "48     32.222538\n",
       "49      3.824385\n",
       "50     17.775287\n",
       "51     23.556205\n",
       "52     30.081862\n",
       "53     17.755210\n",
       "54      5.843692\n",
       "55      9.956095\n",
       "56      9.826669\n",
       "57      5.901992\n",
       "58     28.145943\n",
       "59     11.145319\n",
       "60     43.335253\n",
       "61     17.728001\n",
       "62     13.171220\n",
       "63     12.617989\n",
       "64     11.889116\n",
       "65     26.703001\n",
       "66     25.445750\n",
       "67     11.394757\n",
       "68     31.870140\n",
       "69     19.091550\n",
       "70      0.512706\n",
       "71     11.979965\n",
       "72      3.534379\n",
       "73     20.434856\n",
       "75     22.398607\n",
       "76     27.759893\n",
       "77     13.929722\n",
       "78     10.075974\n",
       "79     15.533309\n",
       "80      5.493971\n",
       "81     13.084950\n",
       "82     17.816091\n",
       "83     39.220613\n",
       "84     15.948356\n",
       "85     23.399499\n",
       "86     15.528705\n",
       "87      7.072786\n",
       "88     24.859617\n",
       "89      8.125952\n",
       "90      2.835966\n",
       "91     16.828254\n",
       "92      2.142630\n",
       "93      6.228910\n",
       "94      4.322522\n",
       "95      7.278324\n",
       "96      4.510558\n",
       "97      0.942186\n",
       "98      8.044836\n",
       "99      3.493886\n",
       "100     4.899969\n",
       "101     9.196343\n",
       "102     3.340185\n",
       "103    14.266306\n",
       "104     4.130513\n",
       "105    22.212783\n",
       "106    14.455167\n",
       "107     0.779396\n",
       "108     4.857849\n",
       "109     7.883030\n",
       "110     5.585457\n",
       "111     9.703495\n",
       "112     1.357449\n",
       "113     2.529852\n",
       "114     5.664535\n",
       "115    21.059453\n",
       "116     6.495047\n",
       "117     2.886330\n",
       "118     7.600253\n",
       "119     1.434471\n",
       "120     3.569649\n",
       "121     5.858199\n",
       "122     9.846080\n",
       "123     3.515660\n",
       "124    10.866273\n",
       "125    13.523847\n",
       "126     9.546021\n",
       "127     9.392888\n",
       "128    16.050207\n",
       "129     6.434900\n",
       "130     8.111090\n",
       "131    10.560950\n",
       "132     8.831108\n",
       "133     3.514813\n",
       "135     6.041260\n",
       "136    16.230016\n",
       "137    17.064057\n",
       "138    11.178848\n",
       "139     6.710419\n",
       "140    19.707979\n",
       "141    18.909426\n",
       "142     4.713009\n",
       "143    18.670575\n",
       "144    20.339070\n",
       "145    11.364158\n",
       "146    22.995515\n",
       "147     5.201057\n",
       "148     8.176677\n",
       "149    13.922549\n",
       "150    11.379685\n",
       "151    34.262678\n",
       "152    13.346506\n",
       "153    13.005975\n",
       "154     4.449894\n",
       "155     2.806877\n",
       "156     2.561777\n",
       "157    11.974581\n",
       "158     2.760907\n",
       "159     1.795752\n",
       "160    16.381635\n",
       "161     6.530906\n",
       "162     1.892969\n",
       "163     1.290481\n",
       "164     2.788687\n",
       "165    10.395238\n",
       "166    13.841658\n",
       "167     8.871479\n",
       "168     2.671449\n",
       "169     9.863434\n",
       "170     4.165150\n",
       "171     5.855458\n",
       "172     2.662558\n",
       "173     4.091206\n",
       "174    23.136251\n",
       "175     7.408451\n",
       "176    27.589259\n",
       "177     9.424410\n",
       "178    10.403241\n",
       "179    21.922064\n",
       "180     1.066389\n",
       "181     1.256116\n",
       "182     5.691652\n",
       "183     1.882811\n",
       "184    14.710296\n",
       "185     3.911692\n",
       "192     1.221868\n",
       "193     1.991277\n",
       "194     3.159897\n",
       "198     5.312780\n",
       "200     1.715768\n",
       "207     6.567708\n",
       "208    40.734288\n",
       "209     1.579582\n",
       "210    13.943838\n",
       "211     9.685085\n",
       "212    14.301742\n",
       "213     0.537520\n",
       "214     3.652405\n",
       "215     3.163460\n",
       "216    11.095953\n",
       "217     6.001972\n",
       "219    15.822172\n",
       "220     3.438953\n",
       "221     4.979322\n",
       "0      10.814076\n",
       "1      18.328498\n",
       "2      37.531377\n",
       "3       1.328372\n",
       "4      34.541194\n",
       "5      34.798888\n",
       "6       3.322460\n",
       "7      10.882280\n",
       "8       3.832736\n",
       "10      6.425387\n",
       "11      7.297621\n",
       "12     20.217621\n",
       "14     18.260550\n",
       "16     36.693608\n",
       "17     33.578296\n",
       "19      2.144161\n",
       "20     32.805759\n",
       "21      7.835953\n",
       "25     26.361934\n",
       "27     18.606947\n",
       "29      0.290840\n",
       "32     15.493000\n",
       "33     10.033142\n",
       "34      7.210982\n",
       "35     17.067705\n",
       "37     43.047805\n",
       "38     22.911689\n",
       "39      1.613777\n",
       "41      2.187970\n",
       "42     49.721321\n",
       "46      5.164861\n",
       "50      5.371046\n",
       "51      7.446121\n",
       "53      7.261551\n",
       "54      1.927546\n",
       "55      2.114594\n",
       "56     20.275229\n",
       "58     13.200459\n",
       "59      5.046855\n",
       "60      6.937069\n",
       "61     13.235318\n",
       "62      4.128296\n",
       "63      2.862100\n",
       "64     18.713796\n",
       "65      3.561953\n",
       "66     29.105837\n",
       "68     30.173728\n",
       "70     36.999054\n",
       "         ...    \n",
       "93     37.293834\n",
       "94     13.375007\n",
       "95     22.216610\n",
       "96      7.193412\n",
       "97      2.734425\n",
       "98     13.123147\n",
       "99      2.818929\n",
       "100    14.077102\n",
       "101     0.118780\n",
       "102    46.525716\n",
       "103    15.389929\n",
       "104    11.788236\n",
       "105     2.515234\n",
       "106    22.139942\n",
       "107    12.770594\n",
       "108    25.200905\n",
       "109    28.902090\n",
       "110    16.600599\n",
       "111     1.027157\n",
       "112    35.874073\n",
       "113     1.281481\n",
       "114    27.739976\n",
       "115    12.477325\n",
       "116     7.584294\n",
       "117     5.731114\n",
       "118    16.200921\n",
       "119    19.333400\n",
       "120    13.058954\n",
       "121    14.591373\n",
       "122    39.733486\n",
       "123     4.844024\n",
       "124    12.853583\n",
       "125     6.308378\n",
       "127     1.933252\n",
       "128    12.114163\n",
       "129    21.058000\n",
       "130     5.439300\n",
       "131     4.489420\n",
       "132    10.324407\n",
       "138    16.536084\n",
       "143    14.310439\n",
       "144    13.953331\n",
       "145     2.400199\n",
       "146     9.214981\n",
       "148     1.412040\n",
       "149    11.552293\n",
       "151     7.045693\n",
       "154    34.748465\n",
       "155    14.817820\n",
       "156    34.965358\n",
       "157    27.107280\n",
       "160    18.851622\n",
       "164    11.865846\n",
       "165     9.767262\n",
       "167     8.568877\n",
       "172     5.417975\n",
       "173    10.351373\n",
       "174     1.988640\n",
       "175     7.214155\n",
       "176     5.741901\n",
       "177     3.261691\n",
       "179     2.512360\n",
       "180     8.744174\n",
       "181     2.260418\n",
       "183     1.572492\n",
       "185     0.667661\n",
       "186     8.970530\n",
       "187     9.719261\n",
       "188     2.843359\n",
       "189     9.118727\n",
       "190     2.748446\n",
       "191    13.427344\n",
       "192    11.444188\n",
       "193     9.794282\n",
       "194     9.231143\n",
       "195    17.875406\n",
       "196    21.992132\n",
       "197    14.442535\n",
       "198    16.148066\n",
       "199     5.505294\n",
       "200     6.644423\n",
       "201    26.948211\n",
       "202     4.541849\n",
       "203     6.384306\n",
       "204     7.025973\n",
       "205    46.663574\n",
       "206     8.125250\n",
       "207    12.214330\n",
       "208     6.682553\n",
       "209    31.945667\n",
       "210     3.685982\n",
       "211    10.335905\n",
       "212     7.693711\n",
       "213    16.349532\n",
       "214     0.186473\n",
       "215    21.898271\n",
       "216    15.672089\n",
       "217    19.450860\n",
       "218    15.545192\n",
       "219     9.480548\n",
       "220     6.568680\n",
       "221    13.537583\n",
       "222     7.467260\n",
       "224     7.548117\n",
       "226    21.625011\n",
       "227    20.408031\n",
       "228    24.340243\n",
       "229     5.915665\n",
       "230     7.192650\n",
       "1      15.235182\n",
       "4      30.216300\n",
       "7       8.102134\n",
       "8      12.377241\n",
       "10     11.799879\n",
       "16      2.037315\n",
       "17     22.807345\n",
       "19     39.798959\n",
       "21     34.902736\n",
       "23      4.693544\n",
       "24     16.157448\n",
       "25     13.025505\n",
       "26     19.137739\n",
       "28     14.612638\n",
       "29     27.351334\n",
       "31      1.085574\n",
       "33     23.769440\n",
       "34     21.120611\n",
       "35      6.913761\n",
       "37     26.411519\n",
       "39     18.029277\n",
       "41     28.851682\n",
       "42     33.985589\n",
       "43     38.167645\n",
       "46     16.520120\n",
       "48     42.842987\n",
       "51     18.136081\n",
       "52     13.855359\n",
       "54     12.436428\n",
       "55      9.844565\n",
       "56      4.333105\n",
       "57      3.411765\n",
       "58      4.041856\n",
       "60     24.916227\n",
       "61     29.535575\n",
       "63     15.387503\n",
       "64      6.813034\n",
       "66      5.379944\n",
       "67     11.992528\n",
       "69      1.188285\n",
       "70      1.938396\n",
       "71     14.426553\n",
       "72     16.704435\n",
       "73     22.990827\n",
       "74      8.793168\n",
       "75     11.968557\n",
       "76     38.895609\n",
       "77     22.115615\n",
       "78     39.088700\n",
       "81     11.416381\n",
       "82     49.179461\n",
       "83     42.754695\n",
       "86     32.317475\n",
       "87      5.363690\n",
       "88      2.574071\n",
       "89     29.010316\n",
       "90      6.699962\n",
       "91     14.925192\n",
       "92      3.297935\n",
       "93      0.503109\n",
       "94      5.138742\n",
       "96      1.349089\n",
       "97      1.606693\n",
       "98     11.427509\n",
       "101     3.595955\n",
       "102     2.767076\n",
       "103    13.949930\n",
       "106     4.178871\n",
       "107    35.483200\n",
       "109     9.299845\n",
       "110     1.644592\n",
       "111     9.275235\n",
       "112    12.033628\n",
       "113    15.542307\n",
       "114     2.505955\n",
       "116     8.842381\n",
       "117     2.014069\n",
       "118     2.367550\n",
       "120     0.489020\n",
       "122     6.170807\n",
       "123     0.277770\n",
       "124     2.439506\n",
       "129    11.522154\n",
       "130     9.838339\n",
       "131     1.932578\n",
       "132     0.748781\n",
       "136     4.833132\n",
       "137     3.970564\n",
       "138    14.353580\n",
       "139     0.091624\n",
       "141    26.356023\n",
       "142     5.851587\n",
       "143     0.354808\n",
       "144     2.145936\n",
       "148     4.469327\n",
       "149     4.852524\n",
       "150     2.038452\n",
       "153     7.477409\n",
       "154     7.521826\n",
       "156    14.818110\n",
       "157     0.103437\n",
       "158     1.704529\n",
       "160    10.404529\n",
       "161    18.691388\n",
       "162     4.079946\n",
       "163    38.376218\n",
       "164    17.791042\n",
       "165     2.438718\n",
       "166     7.510175\n",
       "168     4.176658\n",
       "169    24.048064\n",
       "170    16.070473\n",
       "171    13.500188\n",
       "172     2.427960\n",
       "174     0.209618\n",
       "175    26.900974\n",
       "176    24.132217\n",
       "177     5.865455\n",
       "179    31.967825\n",
       "180    27.502404\n",
       "181     7.117020\n",
       "182    10.780992\n",
       "183     6.920488\n",
       "184     0.805801\n",
       "185    23.852896\n",
       "186     2.204312\n",
       "187     8.096987\n",
       "188     4.006383\n",
       "189    12.172571\n",
       "190     7.419611\n",
       "191    17.363025\n",
       "192     5.946183\n",
       "193     3.748782\n",
       "194    10.666954\n",
       "195     8.444041\n",
       "196     6.024397\n",
       "197     5.621997\n",
       "198     2.671350\n",
       "199     8.313318\n",
       "200    33.677687\n",
       "202    33.241079\n",
       "Length: 516, dtype: float64"
      ]
     },
     "execution_count": 19,
     "metadata": {},
     "output_type": "execute_result"
    }
   ],
   "source": [
    "model.predict(X_int)"
   ]
  },
  {
   "cell_type": "code",
   "execution_count": 20,
   "metadata": {
    "ExecuteTime": {
     "end_time": "2020-10-27T15:48:46.431485Z",
     "start_time": "2020-10-27T15:48:46.314797Z"
    },
    "scrolled": true
   },
   "outputs": [
    {
     "data": {
      "text/plain": [
       "<matplotlib.collections.PathCollection at 0x1c272000438>"
      ]
     },
     "execution_count": 20,
     "metadata": {},
     "output_type": "execute_result"
    },
    {
     "data": {
      "image/png": "[encoded data removed]",
      "text/plain": [
       "<Figure size 432x288 with 1 Axes>"
      ]
     },
     "metadata": {},
     "output_type": "display_data"
    }
   ],
   "source": [
    "plt.scatter(model.predict(X_int), y)"
   ]
  },
  {
   "cell_type": "code",
   "execution_count": 21,
   "metadata": {
    "ExecuteTime": {
     "end_time": "2020-10-27T15:48:46.437470Z",
     "start_time": "2020-10-27T15:48:46.432483Z"
    }
   },
   "outputs": [
    {
     "data": {
      "text/plain": [
       "-9.955860425475823e-15"
      ]
     },
     "execution_count": 21,
     "metadata": {},
     "output_type": "execute_result"
    }
   ],
   "source": [
    "model.resid.mean()"
   ]
  },
  {
   "cell_type": "markdown",
   "metadata": {},
   "source": [
    "## Scikit Learn LinearRegression Model"
   ]
  },
  {
   "cell_type": "code",
   "execution_count": 22,
   "metadata": {
    "ExecuteTime": {
     "end_time": "2020-10-27T15:48:46.492323Z",
     "start_time": "2020-10-27T15:48:46.438468Z"
    },
    "scrolled": true
   },
   "outputs": [
    {
     "name": "stdout",
     "output_type": "stream",
     "text": [
      "Train RMSE: 0.9516489799695513\n",
      "------------------------------\n",
      "Test RMSE: 0.8361236990107691\n"
     ]
    },
    {
     "data": {
      "text/plain": [
       "0.9946853016254273"
      ]
     },
     "execution_count": 22,
     "metadata": {},
     "output_type": "execute_result"
    }
   ],
   "source": [
    "from sklearn.linear_model import LinearRegression, LassoCV\n",
    "linreg = LinearRegression()\n",
    "linreg.fit(X_train_Scaled, y_train_Scaled)\n",
    "\n",
    "y_hat_train_scaled = linreg.predict(X_train_Scaled)\n",
    "y_hat_test_scaled = linreg.predict(X_test_Scaled)\n",
    "\n",
    "train_residuals = scaler.inverse_transform(y_hat_train_scaled) - y_train\n",
    "test_residuals = scaler.inverse_transform(y_hat_test_scaled) - y_test\n",
    "\n",
    "train_mse = mean_squared_error(y_train, scaler.inverse_transform(y_hat_train_scaled))\n",
    "test_mse = mean_squared_error(y_test, scaler.inverse_transform(y_hat_test_scaled))\n",
    "\n",
    "print('Train RMSE:', np.sqrt(train_mse))\n",
    "print('------------------------------')\n",
    "print('Test RMSE:', np.sqrt(test_mse))\n",
    "linreg.score(X_test_Scaled, y_test_Scaled)"
   ]
  },
  {
   "cell_type": "code",
   "execution_count": 23,
   "metadata": {
    "ExecuteTime": {
     "end_time": "2020-10-27T15:48:46.598073Z",
     "start_time": "2020-10-27T15:48:46.496357Z"
    }
   },
   "outputs": [
    {
     "data": {
      "image/png": "[encoded data removed]",
      "text/plain": [
       "<Figure size 432x288 with 1 Axes>"
      ]
     },
     "metadata": {},
     "output_type": "display_data"
    }
   ],
   "source": [
    "plt.scatter(scaler.inverse_transform(y_hat_test_scaled), y_test)\n",
    "plt.plot(scaler.inverse_transform(y_hat_test_scaled), y_test);"
   ]
  },
  {
   "cell_type": "code",
   "execution_count": 24,
   "metadata": {
    "ExecuteTime": {
     "end_time": "2020-10-27T15:48:46.731682Z",
     "start_time": "2020-10-27T15:48:46.599037Z"
    },
    "scrolled": true
   },
   "outputs": [
    {
     "name": "stdout",
     "output_type": "stream",
     "text": [
      "Sklearn Model Intercept: [1.74102674e-16]\n"
     ]
    },
    {
     "data": {
      "image/png": "[encoded data removed]",
      "text/plain": [
       "<Figure size 432x288 with 1 Axes>"
      ]
     },
     "metadata": {},
     "output_type": "display_data"
    }
   ],
   "source": [
    "sklearn_results = pd.DataFrame()\n",
    "sklearn_results['Item'] = [x for x in X_train_Scaled.columns]\n",
    "sklearn_results['Coef'] = [x for x in linreg.coef_[0]]\n",
    "print('Sklearn Model Intercept:', linreg.intercept_)\n",
    "sklearn_results['Coef'].hist();"
   ]
  },
  {
   "cell_type": "markdown",
   "metadata": {},
   "source": [
    "## Decision Tree Regressor"
   ]
  },
  {
   "cell_type": "markdown",
   "metadata": {},
   "source": [
    "### Baseline Model"
   ]
  },
  {
   "cell_type": "code",
   "execution_count": 25,
   "metadata": {
    "ExecuteTime": {
     "end_time": "2020-10-27T15:48:46.749678Z",
     "start_time": "2020-10-27T15:48:46.732721Z"
    },
    "scrolled": false
   },
   "outputs": [
    {
     "data": {
      "text/plain": [
       "DecisionTreeRegressor(criterion='mse', max_depth=None, max_features=None,\n",
       "           max_leaf_nodes=None, min_impurity_decrease=0.0,\n",
       "           min_impurity_split=None, min_samples_leaf=1,\n",
       "           min_samples_split=2, min_weight_fraction_leaf=0.0,\n",
       "           presort=False, random_state=42, splitter='best')"
      ]
     },
     "execution_count": 25,
     "metadata": {},
     "output_type": "execute_result"
    }
   ],
   "source": [
    "from sklearn.tree import DecisionTreeRegressor\n",
    "regressor = DecisionTreeRegressor(random_state=42)\n",
    "regressor.fit(X_train_Scaled, y_train_Scaled)"
   ]
  },
  {
   "cell_type": "code",
   "execution_count": 26,
   "metadata": {
    "ExecuteTime": {
     "end_time": "2020-10-27T15:48:46.758658Z",
     "start_time": "2020-10-27T15:48:46.751629Z"
    },
    "scrolled": false
   },
   "outputs": [
    {
     "name": "stdout",
     "output_type": "stream",
     "text": [
      "RMSE Score: 3.7385908492989097\n",
      "R-sq Score: 0.8937440073412928\n"
     ]
    }
   ],
   "source": [
    "from sklearn.metrics import r2_score\n",
    "\n",
    "y_pred = regressor.predict(X_test_Scaled)\n",
    "y_pred = scaler.inverse_transform(y_pred)\n",
    "\n",
    "print('RMSE Score:', np.sqrt(mean_squared_error(y_test, y_pred)))\n",
    "print('R-sq Score:', r2_score(y_test, y_pred))"
   ]
  },
  {
   "cell_type": "code",
   "execution_count": 27,
   "metadata": {
    "ExecuteTime": {
     "end_time": "2020-10-27T15:48:47.134604Z",
     "start_time": "2020-10-27T15:48:46.759608Z"
    },
    "scrolled": false
   },
   "outputs": [
    {
     "data": {
      "image/png": "[encoded data removed]",
      "text/plain": [
       "<Figure size 720x432 with 1 Axes>"
      ]
     },
     "metadata": {},
     "output_type": "display_data"
    }
   ],
   "source": [
    "plt.figure(figsize=(10,6))\n",
    "sns.barplot(X_train_Scaled.columns, regressor.feature_importances_, orient=\"v\");\n",
    "plt.xticks(rotation=90);"
   ]
  },
  {
   "cell_type": "markdown",
   "metadata": {},
   "source": [
    "### Optimized Model"
   ]
  },
  {
   "cell_type": "code",
   "execution_count": 28,
   "metadata": {
    "ExecuteTime": {
     "end_time": "2020-10-27T15:48:47.142635Z",
     "start_time": "2020-10-27T15:48:47.135658Z"
    },
    "scrolled": true
   },
   "outputs": [
    {
     "data": {
      "text/plain": [
       "DecisionTreeRegressor(criterion='mse', max_depth=4, max_features=None,\n",
       "           max_leaf_nodes=None, min_impurity_decrease=0.0,\n",
       "           min_impurity_split=None, min_samples_leaf=2,\n",
       "           min_samples_split=4, min_weight_fraction_leaf=0.0,\n",
       "           presort=False, random_state=42, splitter='best')"
      ]
     },
     "execution_count": 28,
     "metadata": {},
     "output_type": "execute_result"
    }
   ],
   "source": [
    "op_regressor = DecisionTreeRegressor(random_state=42,\n",
    "                                     max_depth=4,\n",
    "                                     min_samples_leaf=2,\n",
    "                                     min_samples_split=4)\n",
    "op_regressor.fit(X_train_Scaled, y_train_Scaled)"
   ]
  },
  {
   "cell_type": "code",
   "execution_count": 29,
   "metadata": {
    "ExecuteTime": {
     "end_time": "2020-10-27T15:48:47.150561Z",
     "start_time": "2020-10-27T15:48:47.143651Z"
    },
    "scrolled": false
   },
   "outputs": [
    {
     "name": "stdout",
     "output_type": "stream",
     "text": [
      "RMSE Score: 5.266603000466135\n",
      "R-sq Score: 0.7891378064597618\n"
     ]
    }
   ],
   "source": [
    "y_pred = op_regressor.predict(X_test_Scaled)\n",
    "y_pred = scaler.inverse_transform(y_pred)\n",
    "\n",
    "print('RMSE Score:', np.sqrt(mean_squared_error(y_test, y_pred)))\n",
    "print('R-sq Score:', r2_score(y_test, y_pred))"
   ]
  },
  {
   "cell_type": "code",
   "execution_count": 30,
   "metadata": {
    "ExecuteTime": {
     "end_time": "2020-10-27T15:48:47.455788Z",
     "start_time": "2020-10-27T15:48:47.151585Z"
    },
    "scrolled": false
   },
   "outputs": [
    {
     "data": {
      "image/png": "[encoded data removed]",
      "text/plain": [
       "<Figure size 720x432 with 1 Axes>"
      ]
     },
     "metadata": {},
     "output_type": "display_data"
    }
   ],
   "source": [
    "plt.figure(figsize=(10,6))\n",
    "sns.barplot(X_train_Scaled.columns, op_regressor.feature_importances_, orient=\"v\");\n",
    "plt.xticks(rotation=90);"
   ]
  },
  {
   "cell_type": "markdown",
   "metadata": {},
   "source": [
    "## Random Forest Model"
   ]
  },
  {
   "cell_type": "code",
   "execution_count": 31,
   "metadata": {
    "ExecuteTime": {
     "end_time": "2020-10-27T15:48:47.470747Z",
     "start_time": "2020-10-27T15:48:47.456788Z"
    }
   },
   "outputs": [],
   "source": [
    "from sklearn.model_selection import GridSearchCV\n",
    "from sklearn.linear_model import LogisticRegression\n",
    "from sklearn import tree\n",
    "from sklearn.ensemble import RandomForestRegressor\n",
    "from sklearn.metrics import r2_score\n",
    "from sklearn.tree import export_graphviz\n",
    "from IPython.display import Image  \n",
    "from pydotplus import graph_from_dot_data\n",
    "import pydotplus\n",
    "from sklearn.pipeline import Pipeline"
   ]
  },
  {
   "cell_type": "markdown",
   "metadata": {},
   "source": [
    "### Baseline Model"
   ]
  },
  {
   "cell_type": "code",
   "execution_count": 32,
   "metadata": {
    "ExecuteTime": {
     "end_time": "2020-10-27T15:48:47.475693Z",
     "start_time": "2020-10-27T15:48:47.471755Z"
    }
   },
   "outputs": [],
   "source": [
    "rdm_forest = RandomForestRegressor(200, random_state=42)"
   ]
  },
  {
   "cell_type": "code",
   "execution_count": 33,
   "metadata": {
    "ExecuteTime": {
     "end_time": "2020-10-27T15:48:48.022302Z",
     "start_time": "2020-10-27T15:48:47.476710Z"
    }
   },
   "outputs": [
    {
     "data": {
      "text/plain": [
       "RandomForestRegressor(bootstrap=True, criterion='mse', max_depth=None,\n",
       "           max_features='auto', max_leaf_nodes=None,\n",
       "           min_impurity_decrease=0.0, min_impurity_split=None,\n",
       "           min_samples_leaf=1, min_samples_split=2,\n",
       "           min_weight_fraction_leaf=0.0, n_estimators=200, n_jobs=None,\n",
       "           oob_score=False, random_state=42, verbose=0, warm_start=False)"
      ]
     },
     "execution_count": 33,
     "metadata": {},
     "output_type": "execute_result"
    }
   ],
   "source": [
    "rdm_forest.fit(X_train_Scaled, y_train_Scaled)"
   ]
  },
  {
   "cell_type": "code",
   "execution_count": 34,
   "metadata": {
    "ExecuteTime": {
     "end_time": "2020-10-27T15:48:48.047874Z",
     "start_time": "2020-10-27T15:48:48.024226Z"
    }
   },
   "outputs": [
    {
     "data": {
      "text/plain": [
       "0.9904453325177128"
      ]
     },
     "execution_count": 34,
     "metadata": {},
     "output_type": "execute_result"
    }
   ],
   "source": [
    "rdm_forest.score(X_train_Scaled, y_train_Scaled)"
   ]
  },
  {
   "cell_type": "code",
   "execution_count": 35,
   "metadata": {
    "ExecuteTime": {
     "end_time": "2020-10-27T15:48:48.063887Z",
     "start_time": "2020-10-27T15:48:48.048837Z"
    }
   },
   "outputs": [
    {
     "data": {
      "text/plain": [
       "0.9312683078559036"
      ]
     },
     "execution_count": 35,
     "metadata": {},
     "output_type": "execute_result"
    }
   ],
   "source": [
    "rdm_forest.score(X_test_Scaled, y_test_Scaled)"
   ]
  },
  {
   "cell_type": "code",
   "execution_count": 36,
   "metadata": {
    "ExecuteTime": {
     "end_time": "2020-10-27T15:48:48.083785Z",
     "start_time": "2020-10-27T15:48:48.066789Z"
    }
   },
   "outputs": [
    {
     "data": {
      "text/plain": [
       "array([-7.45326316e-02, -9.60877738e-01,  1.54923452e-01, -7.29864050e-01,\n",
       "       -8.85565870e-01, -7.46943985e-01,  2.19273351e+00, -5.30998531e-01,\n",
       "       -7.00298869e-01,  1.89367352e+00, -5.25275922e-01, -1.79559576e-02,\n",
       "       -3.35526537e-01,  5.40574515e-01, -1.10056407e+00, -4.42166268e-01,\n",
       "       -6.55958420e-01, -1.97690779e-01, -9.49559474e-01, -7.65903787e-01,\n",
       "       -1.06912878e+00, -7.29539580e-04,  1.22881581e+00, -9.21244282e-01,\n",
       "       -5.52512022e-01,  2.90823533e+00, -5.68179364e-02,  1.23047596e+00,\n",
       "        3.86011853e-02, -9.05453398e-01, -8.86464300e-01, -1.13957253e+00,\n",
       "        4.80365059e-01, -1.42720536e-01,  5.09261301e-01,  1.96445906e+00,\n",
       "       -9.51722542e-01, -6.43194855e-01,  1.12536942e+00, -1.10349373e+00,\n",
       "        2.99795284e-01,  3.67909947e-01, -1.04241514e+00, -1.40464696e-01,\n",
       "       -6.50660613e-01, -4.17234836e-01,  2.53980239e-01, -6.30826795e-01,\n",
       "        6.61730726e-01, -9.83597274e-01, -9.69071029e-01,  6.77526492e-01,\n",
       "        2.54331798e-01,  1.59737865e-01, -7.26722957e-02, -4.27457888e-02,\n",
       "       -1.81812006e-01,  8.62896031e-01,  7.29029966e-01,  1.10594575e+00,\n",
       "        1.81821029e+00, -1.08858175e+00, -3.90775097e-01,  4.12655666e-01,\n",
       "       -5.38464288e-01, -2.49399329e-01, -9.99324682e-01,  3.07334625e+00,\n",
       "        2.84442238e+00, -1.12481679e+00, -2.49130777e-01, -9.77855135e-01,\n",
       "       -9.84632422e-01,  2.63506526e-01, -6.25314146e-01,  3.21157410e-01,\n",
       "        3.47389130e-02, -1.11008059e+00])"
      ]
     },
     "execution_count": 36,
     "metadata": {},
     "output_type": "execute_result"
    }
   ],
   "source": [
    "y_preds = rdm_forest.predict(X_test_Scaled)\n",
    "y_preds"
   ]
  },
  {
   "cell_type": "code",
   "execution_count": 37,
   "metadata": {
    "ExecuteTime": {
     "end_time": "2020-10-27T15:48:48.189461Z",
     "start_time": "2020-10-27T15:48:48.084741Z"
    },
    "scrolled": false
   },
   "outputs": [
    {
     "data": {
      "image/png": "[encoded data removed]",
      "text/plain": [
       "<Figure size 432x288 with 1 Axes>"
      ]
     },
     "metadata": {},
     "output_type": "display_data"
    }
   ],
   "source": [
    "# Plot redisuals from Random Forest\n",
    "\n",
    "plt.scatter(scaler.inverse_transform(rdm_forest.predict(X_test_Scaled)), y_test);\n",
    "# plt.plot(scaler.inverse_transform(rdm_forest.predict(X_test_Scaled)), y_test);"
   ]
  },
  {
   "cell_type": "code",
   "execution_count": 38,
   "metadata": {
    "ExecuteTime": {
     "end_time": "2020-10-27T15:48:48.195445Z",
     "start_time": "2020-10-27T15:48:48.190459Z"
    }
   },
   "outputs": [
    {
     "data": {
      "text/plain": [
       "3.0068359930822433"
      ]
     },
     "execution_count": 38,
     "metadata": {},
     "output_type": "execute_result"
    }
   ],
   "source": [
    "np.sqrt(mean_squared_error(y_test, scaler.inverse_transform(y_preds)))"
   ]
  },
  {
   "cell_type": "markdown",
   "metadata": {},
   "source": [
    "### GridSearch"
   ]
  },
  {
   "cell_type": "code",
   "execution_count": 39,
   "metadata": {
    "ExecuteTime": {
     "end_time": "2020-10-27T15:48:48.200431Z",
     "start_time": "2020-10-27T15:48:48.196442Z"
    }
   },
   "outputs": [],
   "source": [
    "rf_grid_reg = RandomForestRegressor(random_state=42)\n",
    "grid_param = [{'n_estimators': [150, 200, 250, 300],\n",
    "               'max_depth': [13, 15, 17, 20],\n",
    "               'min_samples_split': [2, 3, 4, 5],\n",
    "               'min_samples_leaf': [1, 2, 3]}]"
   ]
  },
  {
   "cell_type": "code",
   "execution_count": 40,
   "metadata": {
    "ExecuteTime": {
     "end_time": "2020-10-27T15:48:48.205418Z",
     "start_time": "2020-10-27T15:48:48.201429Z"
    },
    "scrolled": true
   },
   "outputs": [],
   "source": [
    "# rf_gridsearch = GridSearchCV(rf_grid_reg, grid_param, cv=3)\n",
    "# rf_gridsearch.fit(X_train_Scaled, y_train_Scaled)"
   ]
  },
  {
   "cell_type": "code",
   "execution_count": 41,
   "metadata": {
    "ExecuteTime": {
     "end_time": "2020-10-27T15:48:48.210404Z",
     "start_time": "2020-10-27T15:48:48.206415Z"
    }
   },
   "outputs": [],
   "source": [
    "# rf_gridsearch.best_params_"
   ]
  },
  {
   "cell_type": "code",
   "execution_count": 42,
   "metadata": {
    "ExecuteTime": {
     "end_time": "2020-10-27T15:48:48.214394Z",
     "start_time": "2020-10-27T15:48:48.211402Z"
    },
    "scrolled": true
   },
   "outputs": [],
   "source": [
    "# rf_gridsearch.score(X_test_Scaled, y_test_Scaled)"
   ]
  },
  {
   "cell_type": "code",
   "execution_count": 43,
   "metadata": {
    "ExecuteTime": {
     "end_time": "2020-10-27T15:48:48.733738Z",
     "start_time": "2020-10-27T15:48:48.215391Z"
    },
    "scrolled": true
   },
   "outputs": [
    {
     "data": {
      "text/plain": [
       "RandomForestRegressor(bootstrap=True, criterion='mse', max_depth=20,\n",
       "           max_features='auto', max_leaf_nodes=None,\n",
       "           min_impurity_decrease=0.0, min_impurity_split=None,\n",
       "           min_samples_leaf=1, min_samples_split=3,\n",
       "           min_weight_fraction_leaf=0.0, n_estimators=200, n_jobs=None,\n",
       "           oob_score=False, random_state=42, verbose=0, warm_start=False)"
      ]
     },
     "execution_count": 43,
     "metadata": {},
     "output_type": "execute_result"
    }
   ],
   "source": [
    "optimal_rf_model = RandomForestRegressor(max_depth=20,\n",
    "                                         min_samples_leaf=1,\n",
    "                                         min_samples_split=3,\n",
    "                                         n_estimators=200,\n",
    "                                         random_state=42)\n",
    "optimal_rf_model.fit(X_train_Scaled, y_train_Scaled)"
   ]
  },
  {
   "cell_type": "code",
   "execution_count": 44,
   "metadata": {
    "ExecuteTime": {
     "end_time": "2020-10-27T15:48:48.755635Z",
     "start_time": "2020-10-27T15:48:48.734691Z"
    }
   },
   "outputs": [
    {
     "data": {
      "text/plain": [
       "0.9893350212330665"
      ]
     },
     "execution_count": 44,
     "metadata": {},
     "output_type": "execute_result"
    }
   ],
   "source": [
    "optimal_rf_model.score(X_train_Scaled, y_train_Scaled)"
   ]
  },
  {
   "cell_type": "code",
   "execution_count": 45,
   "metadata": {
    "ExecuteTime": {
     "end_time": "2020-10-27T15:48:48.771592Z",
     "start_time": "2020-10-27T15:48:48.756633Z"
    }
   },
   "outputs": [
    {
     "data": {
      "text/plain": [
       "0.9328774669395232"
      ]
     },
     "execution_count": 45,
     "metadata": {},
     "output_type": "execute_result"
    }
   ],
   "source": [
    "optimal_rf_model.score(X_test_Scaled, y_test_Scaled)"
   ]
  },
  {
   "cell_type": "code",
   "execution_count": 46,
   "metadata": {
    "ExecuteTime": {
     "end_time": "2020-10-27T15:48:48.788547Z",
     "start_time": "2020-10-27T15:48:48.772590Z"
    }
   },
   "outputs": [
    {
     "data": {
      "text/plain": [
       "array([-0.06242396, -0.95984967,  0.14700184, -0.73092374, -0.87665485,\n",
       "       -0.74703163,  2.18361451, -0.52458553, -0.70083812,  1.87780945,\n",
       "       -0.52237018, -0.02154073, -0.33051589,  0.54684782, -1.09674266,\n",
       "       -0.44502684, -0.64856471, -0.18101536, -0.94885813, -0.76953349,\n",
       "       -1.06859822,  0.0095289 ,  1.22882094, -0.91411999, -0.54527958,\n",
       "        2.90999288, -0.04395948,  1.25244556,  0.05033894, -0.9063808 ,\n",
       "       -0.88414173, -1.13865653,  0.49496879, -0.15530303,  0.51274567,\n",
       "        1.97986111, -0.9469593 , -0.64011594,  1.14689595, -1.10183845,\n",
       "        0.28717176,  0.37323746, -1.04181094, -0.14158147, -0.63697095,\n",
       "       -0.41740644,  0.26168487, -0.63960769,  0.64130219, -0.98430663,\n",
       "       -0.96679038,  0.69175082,  0.26496271,  0.14858543, -0.07412289,\n",
       "       -0.0389186 , -0.17617884,  0.86868221,  0.73283008,  1.08985531,\n",
       "        1.82445248, -1.08264988, -0.3883538 ,  0.41793201, -0.53871098,\n",
       "       -0.25562592, -1.00018174,  3.06989409,  2.81338635, -1.11998842,\n",
       "       -0.25196569, -0.98211407, -0.98461388,  0.25801381, -0.62376277,\n",
       "        0.32969439,  0.03840319, -1.1103399 ])"
      ]
     },
     "execution_count": 46,
     "metadata": {},
     "output_type": "execute_result"
    }
   ],
   "source": [
    "y_preds = optimal_rf_model.predict(X_test_Scaled)\n",
    "y_preds"
   ]
  },
  {
   "cell_type": "code",
   "execution_count": 47,
   "metadata": {
    "ExecuteTime": {
     "end_time": "2020-10-27T15:48:48.894264Z",
     "start_time": "2020-10-27T15:48:48.789544Z"
    },
    "scrolled": true
   },
   "outputs": [
    {
     "data": {
      "image/png": "[encoded data removed]",
      "text/plain": [
       "<Figure size 432x288 with 1 Axes>"
      ]
     },
     "metadata": {},
     "output_type": "display_data"
    }
   ],
   "source": [
    "plt.scatter(scaler.inverse_transform(optimal_rf_model.predict(X_test_Scaled)), y_test);"
   ]
  },
  {
   "cell_type": "code",
   "execution_count": 48,
   "metadata": {
    "ExecuteTime": {
     "end_time": "2020-10-27T15:48:48.900248Z",
     "start_time": "2020-10-27T15:48:48.895262Z"
    }
   },
   "outputs": [
    {
     "data": {
      "text/plain": [
       "2.9714292281826133"
      ]
     },
     "execution_count": 48,
     "metadata": {},
     "output_type": "execute_result"
    }
   ],
   "source": [
    "np.sqrt(mean_squared_error(y_test, scaler.inverse_transform(y_preds)))"
   ]
  },
  {
   "cell_type": "code",
   "execution_count": 49,
   "metadata": {
    "ExecuteTime": {
     "end_time": "2020-10-27T15:48:49.317176Z",
     "start_time": "2020-10-27T15:48:48.901246Z"
    },
    "scrolled": false
   },
   "outputs": [
    {
     "data": {
      "image/png": "[encoded data removed]",
      "text/plain": [
       "<Figure size 1440x1440 with 1 Axes>"
      ]
     },
     "metadata": {},
     "output_type": "display_data"
    }
   ],
   "source": [
    "def plot_feature_importances(model):\n",
    "    n_features = X_train.shape[1]\n",
    "    plt.figure(figsize=(20,20))\n",
    "    plt.barh(range(n_features), model.feature_importances_, align='center') \n",
    "    plt.yticks(np.arange(n_features), X_train.columns.values) \n",
    "    plt.xlabel('Feature importance', fontsize=18)\n",
    "    plt.yticks(fontsize=15)\n",
    "    plt.ylabel('Feature', fontsize=18)\n",
    "    plt.yticks(fontsize=15)\n",
    "\n",
    "plot_feature_importances(optimal_rf_model)"
   ]
  },
  {
   "cell_type": "markdown",
   "metadata": {},
   "source": [
    "## XG Boost"
   ]
  },
  {
   "cell_type": "code",
   "execution_count": 50,
   "metadata": {
    "ExecuteTime": {
     "end_time": "2020-10-27T15:48:49.380962Z",
     "start_time": "2020-10-27T15:48:49.318144Z"
    }
   },
   "outputs": [
    {
     "data": {
      "text/plain": [
       "XGBRegressor(base_score=0.5, booster='gbtree', colsample_bylevel=1,\n",
       "       colsample_bytree=1, gamma=0, learning_rate=0.1, max_delta_step=0,\n",
       "       max_depth=3, min_child_weight=1, missing=None, n_estimators=100,\n",
       "       n_jobs=1, nthread=None, objective='reg:linear', random_state=42,\n",
       "       reg_alpha=0, reg_lambda=1, scale_pos_weight=1, seed=None,\n",
       "       silent=True, subsample=1)"
      ]
     },
     "execution_count": 50,
     "metadata": {},
     "output_type": "execute_result"
    }
   ],
   "source": [
    "import xgboost as xgb\n",
    "\n",
    "xgb_reg = xgb.XGBRegressor(random_state=42)\n",
    "xgb_reg.fit(X_train_Scaled, y_train_Scaled)"
   ]
  },
  {
   "cell_type": "code",
   "execution_count": 51,
   "metadata": {
    "ExecuteTime": {
     "end_time": "2020-10-27T15:48:49.387944Z",
     "start_time": "2020-10-27T15:48:49.381958Z"
    }
   },
   "outputs": [
    {
     "data": {
      "text/plain": [
       "0.9938883151193825"
      ]
     },
     "execution_count": 51,
     "metadata": {},
     "output_type": "execute_result"
    }
   ],
   "source": [
    "xgb_reg.score(X_train_Scaled, y_train_Scaled)"
   ]
  },
  {
   "cell_type": "code",
   "execution_count": 52,
   "metadata": {
    "ExecuteTime": {
     "end_time": "2020-10-27T15:48:49.394925Z",
     "start_time": "2020-10-27T15:48:49.388941Z"
    }
   },
   "outputs": [
    {
     "data": {
      "text/plain": [
       "0.9467979553634431"
      ]
     },
     "execution_count": 52,
     "metadata": {},
     "output_type": "execute_result"
    }
   ],
   "source": [
    "xgb_reg.score(X_test_Scaled, y_test_Scaled)"
   ]
  },
  {
   "cell_type": "code",
   "execution_count": 53,
   "metadata": {
    "ExecuteTime": {
     "end_time": "2020-10-27T15:48:49.400920Z",
     "start_time": "2020-10-27T15:48:49.395922Z"
    }
   },
   "outputs": [],
   "source": [
    "training_preds = scaler.inverse_transform(xgb_reg.predict(X_train_Scaled))\n",
    "test_preds = scaler.inverse_transform(xgb_reg.predict(X_test_Scaled))"
   ]
  },
  {
   "cell_type": "code",
   "execution_count": 54,
   "metadata": {
    "ExecuteTime": {
     "end_time": "2020-10-27T15:48:49.407895Z",
     "start_time": "2020-10-27T15:48:49.401907Z"
    },
    "scrolled": true
   },
   "outputs": [
    {
     "name": "stdout",
     "output_type": "stream",
     "text": [
      "Train RMSE: 0.8005419215692037\n",
      "Test RMSE: 2.645424539619799\n"
     ]
    }
   ],
   "source": [
    "print('Train RMSE:', np.sqrt(mean_squared_error(y_train, training_preds)))\n",
    "print('Test RMSE:', np.sqrt(mean_squared_error(y_test, test_preds)))"
   ]
  },
  {
   "cell_type": "code",
   "execution_count": 55,
   "metadata": {
    "ExecuteTime": {
     "end_time": "2020-10-27T15:48:49.796891Z",
     "start_time": "2020-10-27T15:48:49.408901Z"
    },
    "scrolled": false
   },
   "outputs": [
    {
     "data": {
      "image/png": "[encoded data removed]",
      "text/plain": [
       "<Figure size 1440x1440 with 1 Axes>"
      ]
     },
     "metadata": {},
     "output_type": "display_data"
    }
   ],
   "source": [
    "plot_feature_importances(xgb_reg)"
   ]
  },
  {
   "cell_type": "markdown",
   "metadata": {},
   "source": [
    "### GridSearch"
   ]
  },
  {
   "cell_type": "code",
   "execution_count": 56,
   "metadata": {
    "ExecuteTime": {
     "end_time": "2020-10-27T15:48:49.801837Z",
     "start_time": "2020-10-27T15:48:49.797853Z"
    }
   },
   "outputs": [],
   "source": [
    "xgb_grid_model = xgb.XGBRegressor(random_state=42)\n",
    "\n",
    "xgb_reg_grid_param = [{'max_depth': [5, 7, 10, 12],\n",
    "               'learning_rate': [0.1, 0.2],\n",
    "               'n_estimators': [100, 150, 200],\n",
    "               'min_child_weight': [2, 3, 4],\n",
    "               'max_delta_step': [0, 1]}]"
   ]
  },
  {
   "cell_type": "code",
   "execution_count": 57,
   "metadata": {
    "ExecuteTime": {
     "end_time": "2020-10-27T15:49:21.679328Z",
     "start_time": "2020-10-27T15:48:49.802846Z"
    }
   },
   "outputs": [
    {
     "ename": "KeyboardInterrupt",
     "evalue": "",
     "output_type": "error",
     "traceback": [
      "\u001b[1;31m---------------------------------------------------------------------------\u001b[0m",
      "\u001b[1;31mKeyboardInterrupt\u001b[0m                         Traceback (most recent call last)",
      "\u001b[1;32m<ipython-input-57-248e0944ff33>\u001b[0m in \u001b[0;36m<module>\u001b[1;34m()\u001b[0m\n\u001b[0;32m      2\u001b[0m                                  \u001b[0mxgb_reg_grid_param\u001b[0m\u001b[1;33m,\u001b[0m\u001b[1;33m\u001b[0m\u001b[0m\n\u001b[0;32m      3\u001b[0m                                  scoring='neg_mean_squared_error')\n\u001b[1;32m----> 4\u001b[1;33m \u001b[0mxgbclf_gridsearch\u001b[0m\u001b[1;33m.\u001b[0m\u001b[0mfit\u001b[0m\u001b[1;33m(\u001b[0m\u001b[0mX_train_Scaled\u001b[0m\u001b[1;33m,\u001b[0m \u001b[0my_train_Scaled\u001b[0m\u001b[1;33m)\u001b[0m\u001b[1;33m\u001b[0m\u001b[0m\n\u001b[0m",
      "\u001b[1;32m~\\anaconda3\\envs\\learn-env\\lib\\site-packages\\sklearn\\model_selection\\_search.py\u001b[0m in \u001b[0;36mfit\u001b[1;34m(self, X, y, groups, **fit_params)\u001b[0m\n\u001b[0;32m    720\u001b[0m                 \u001b[1;32mreturn\u001b[0m \u001b[0mresults_container\u001b[0m\u001b[1;33m[\u001b[0m\u001b[1;36m0\u001b[0m\u001b[1;33m]\u001b[0m\u001b[1;33m\u001b[0m\u001b[0m\n\u001b[0;32m    721\u001b[0m \u001b[1;33m\u001b[0m\u001b[0m\n\u001b[1;32m--> 722\u001b[1;33m             \u001b[0mself\u001b[0m\u001b[1;33m.\u001b[0m\u001b[0m_run_search\u001b[0m\u001b[1;33m(\u001b[0m\u001b[0mevaluate_candidates\u001b[0m\u001b[1;33m)\u001b[0m\u001b[1;33m\u001b[0m\u001b[0m\n\u001b[0m\u001b[0;32m    723\u001b[0m \u001b[1;33m\u001b[0m\u001b[0m\n\u001b[0;32m    724\u001b[0m         \u001b[0mresults\u001b[0m \u001b[1;33m=\u001b[0m \u001b[0mresults_container\u001b[0m\u001b[1;33m[\u001b[0m\u001b[1;36m0\u001b[0m\u001b[1;33m]\u001b[0m\u001b[1;33m\u001b[0m\u001b[0m\n",
      "\u001b[1;32m~\\anaconda3\\envs\\learn-env\\lib\\site-packages\\sklearn\\model_selection\\_search.py\u001b[0m in \u001b[0;36m_run_search\u001b[1;34m(self, evaluate_candidates)\u001b[0m\n\u001b[0;32m   1189\u001b[0m     \u001b[1;32mdef\u001b[0m \u001b[0m_run_search\u001b[0m\u001b[1;33m(\u001b[0m\u001b[0mself\u001b[0m\u001b[1;33m,\u001b[0m \u001b[0mevaluate_candidates\u001b[0m\u001b[1;33m)\u001b[0m\u001b[1;33m:\u001b[0m\u001b[1;33m\u001b[0m\u001b[0m\n\u001b[0;32m   1190\u001b[0m         \u001b[1;34m\"\"\"Search all candidates in param_grid\"\"\"\u001b[0m\u001b[1;33m\u001b[0m\u001b[0m\n\u001b[1;32m-> 1191\u001b[1;33m         \u001b[0mevaluate_candidates\u001b[0m\u001b[1;33m(\u001b[0m\u001b[0mParameterGrid\u001b[0m\u001b[1;33m(\u001b[0m\u001b[0mself\u001b[0m\u001b[1;33m.\u001b[0m\u001b[0mparam_grid\u001b[0m\u001b[1;33m)\u001b[0m\u001b[1;33m)\u001b[0m\u001b[1;33m\u001b[0m\u001b[0m\n\u001b[0m\u001b[0;32m   1192\u001b[0m \u001b[1;33m\u001b[0m\u001b[0m\n\u001b[0;32m   1193\u001b[0m \u001b[1;33m\u001b[0m\u001b[0m\n",
      "\u001b[1;32m~\\anaconda3\\envs\\learn-env\\lib\\site-packages\\sklearn\\model_selection\\_search.py\u001b[0m in \u001b[0;36mevaluate_candidates\u001b[1;34m(candidate_params)\u001b[0m\n\u001b[0;32m    709\u001b[0m                                \u001b[1;32mfor\u001b[0m \u001b[0mparameters\u001b[0m\u001b[1;33m,\u001b[0m \u001b[1;33m(\u001b[0m\u001b[0mtrain\u001b[0m\u001b[1;33m,\u001b[0m \u001b[0mtest\u001b[0m\u001b[1;33m)\u001b[0m\u001b[1;33m\u001b[0m\u001b[0m\n\u001b[0;32m    710\u001b[0m                                in product(candidate_params,\n\u001b[1;32m--> 711\u001b[1;33m                                           cv.split(X, y, groups)))\n\u001b[0m\u001b[0;32m    712\u001b[0m \u001b[1;33m\u001b[0m\u001b[0m\n\u001b[0;32m    713\u001b[0m                 \u001b[0mall_candidate_params\u001b[0m\u001b[1;33m.\u001b[0m\u001b[0mextend\u001b[0m\u001b[1;33m(\u001b[0m\u001b[0mcandidate_params\u001b[0m\u001b[1;33m)\u001b[0m\u001b[1;33m\u001b[0m\u001b[0m\n",
      "\u001b[1;32m~\\anaconda3\\envs\\learn-env\\lib\\site-packages\\sklearn\\externals\\joblib\\parallel.py\u001b[0m in \u001b[0;36m__call__\u001b[1;34m(self, iterable)\u001b[0m\n\u001b[0;32m    918\u001b[0m                 \u001b[0mself\u001b[0m\u001b[1;33m.\u001b[0m\u001b[0m_iterating\u001b[0m \u001b[1;33m=\u001b[0m \u001b[0mself\u001b[0m\u001b[1;33m.\u001b[0m\u001b[0m_original_iterator\u001b[0m \u001b[1;32mis\u001b[0m \u001b[1;32mnot\u001b[0m \u001b[1;32mNone\u001b[0m\u001b[1;33m\u001b[0m\u001b[0m\n\u001b[0;32m    919\u001b[0m \u001b[1;33m\u001b[0m\u001b[0m\n\u001b[1;32m--> 920\u001b[1;33m             \u001b[1;32mwhile\u001b[0m \u001b[0mself\u001b[0m\u001b[1;33m.\u001b[0m\u001b[0mdispatch_one_batch\u001b[0m\u001b[1;33m(\u001b[0m\u001b[0miterator\u001b[0m\u001b[1;33m)\u001b[0m\u001b[1;33m:\u001b[0m\u001b[1;33m\u001b[0m\u001b[0m\n\u001b[0m\u001b[0;32m    921\u001b[0m                 \u001b[1;32mpass\u001b[0m\u001b[1;33m\u001b[0m\u001b[0m\n\u001b[0;32m    922\u001b[0m \u001b[1;33m\u001b[0m\u001b[0m\n",
      "\u001b[1;32m~\\anaconda3\\envs\\learn-env\\lib\\site-packages\\sklearn\\externals\\joblib\\parallel.py\u001b[0m in \u001b[0;36mdispatch_one_batch\u001b[1;34m(self, iterator)\u001b[0m\n\u001b[0;32m    757\u001b[0m                 \u001b[1;32mreturn\u001b[0m \u001b[1;32mFalse\u001b[0m\u001b[1;33m\u001b[0m\u001b[0m\n\u001b[0;32m    758\u001b[0m             \u001b[1;32melse\u001b[0m\u001b[1;33m:\u001b[0m\u001b[1;33m\u001b[0m\u001b[0m\n\u001b[1;32m--> 759\u001b[1;33m                 \u001b[0mself\u001b[0m\u001b[1;33m.\u001b[0m\u001b[0m_dispatch\u001b[0m\u001b[1;33m(\u001b[0m\u001b[0mtasks\u001b[0m\u001b[1;33m)\u001b[0m\u001b[1;33m\u001b[0m\u001b[0m\n\u001b[0m\u001b[0;32m    760\u001b[0m                 \u001b[1;32mreturn\u001b[0m \u001b[1;32mTrue\u001b[0m\u001b[1;33m\u001b[0m\u001b[0m\n\u001b[0;32m    761\u001b[0m \u001b[1;33m\u001b[0m\u001b[0m\n",
      "\u001b[1;32m~\\anaconda3\\envs\\learn-env\\lib\\site-packages\\sklearn\\externals\\joblib\\parallel.py\u001b[0m in \u001b[0;36m_dispatch\u001b[1;34m(self, batch)\u001b[0m\n\u001b[0;32m    714\u001b[0m         \u001b[1;32mwith\u001b[0m \u001b[0mself\u001b[0m\u001b[1;33m.\u001b[0m\u001b[0m_lock\u001b[0m\u001b[1;33m:\u001b[0m\u001b[1;33m\u001b[0m\u001b[0m\n\u001b[0;32m    715\u001b[0m             \u001b[0mjob_idx\u001b[0m \u001b[1;33m=\u001b[0m \u001b[0mlen\u001b[0m\u001b[1;33m(\u001b[0m\u001b[0mself\u001b[0m\u001b[1;33m.\u001b[0m\u001b[0m_jobs\u001b[0m\u001b[1;33m)\u001b[0m\u001b[1;33m\u001b[0m\u001b[0m\n\u001b[1;32m--> 716\u001b[1;33m             \u001b[0mjob\u001b[0m \u001b[1;33m=\u001b[0m \u001b[0mself\u001b[0m\u001b[1;33m.\u001b[0m\u001b[0m_backend\u001b[0m\u001b[1;33m.\u001b[0m\u001b[0mapply_async\u001b[0m\u001b[1;33m(\u001b[0m\u001b[0mbatch\u001b[0m\u001b[1;33m,\u001b[0m \u001b[0mcallback\u001b[0m\u001b[1;33m=\u001b[0m\u001b[0mcb\u001b[0m\u001b[1;33m)\u001b[0m\u001b[1;33m\u001b[0m\u001b[0m\n\u001b[0m\u001b[0;32m    717\u001b[0m             \u001b[1;31m# A job can complete so quickly than its callback is\u001b[0m\u001b[1;33m\u001b[0m\u001b[1;33m\u001b[0m\u001b[0m\n\u001b[0;32m    718\u001b[0m             \u001b[1;31m# called before we get here, causing self._jobs to\u001b[0m\u001b[1;33m\u001b[0m\u001b[1;33m\u001b[0m\u001b[0m\n",
      "\u001b[1;32m~\\anaconda3\\envs\\learn-env\\lib\\site-packages\\sklearn\\externals\\joblib\\_parallel_backends.py\u001b[0m in \u001b[0;36mapply_async\u001b[1;34m(self, func, callback)\u001b[0m\n\u001b[0;32m    180\u001b[0m     \u001b[1;32mdef\u001b[0m \u001b[0mapply_async\u001b[0m\u001b[1;33m(\u001b[0m\u001b[0mself\u001b[0m\u001b[1;33m,\u001b[0m \u001b[0mfunc\u001b[0m\u001b[1;33m,\u001b[0m \u001b[0mcallback\u001b[0m\u001b[1;33m=\u001b[0m\u001b[1;32mNone\u001b[0m\u001b[1;33m)\u001b[0m\u001b[1;33m:\u001b[0m\u001b[1;33m\u001b[0m\u001b[0m\n\u001b[0;32m    181\u001b[0m         \u001b[1;34m\"\"\"Schedule a func to be run\"\"\"\u001b[0m\u001b[1;33m\u001b[0m\u001b[0m\n\u001b[1;32m--> 182\u001b[1;33m         \u001b[0mresult\u001b[0m \u001b[1;33m=\u001b[0m \u001b[0mImmediateResult\u001b[0m\u001b[1;33m(\u001b[0m\u001b[0mfunc\u001b[0m\u001b[1;33m)\u001b[0m\u001b[1;33m\u001b[0m\u001b[0m\n\u001b[0m\u001b[0;32m    183\u001b[0m         \u001b[1;32mif\u001b[0m \u001b[0mcallback\u001b[0m\u001b[1;33m:\u001b[0m\u001b[1;33m\u001b[0m\u001b[0m\n\u001b[0;32m    184\u001b[0m             \u001b[0mcallback\u001b[0m\u001b[1;33m(\u001b[0m\u001b[0mresult\u001b[0m\u001b[1;33m)\u001b[0m\u001b[1;33m\u001b[0m\u001b[0m\n",
      "\u001b[1;32m~\\anaconda3\\envs\\learn-env\\lib\\site-packages\\sklearn\\externals\\joblib\\_parallel_backends.py\u001b[0m in \u001b[0;36m__init__\u001b[1;34m(self, batch)\u001b[0m\n\u001b[0;32m    547\u001b[0m         \u001b[1;31m# Don't delay the application, to avoid keeping the input\u001b[0m\u001b[1;33m\u001b[0m\u001b[1;33m\u001b[0m\u001b[0m\n\u001b[0;32m    548\u001b[0m         \u001b[1;31m# arguments in memory\u001b[0m\u001b[1;33m\u001b[0m\u001b[1;33m\u001b[0m\u001b[0m\n\u001b[1;32m--> 549\u001b[1;33m         \u001b[0mself\u001b[0m\u001b[1;33m.\u001b[0m\u001b[0mresults\u001b[0m \u001b[1;33m=\u001b[0m \u001b[0mbatch\u001b[0m\u001b[1;33m(\u001b[0m\u001b[1;33m)\u001b[0m\u001b[1;33m\u001b[0m\u001b[0m\n\u001b[0m\u001b[0;32m    550\u001b[0m \u001b[1;33m\u001b[0m\u001b[0m\n\u001b[0;32m    551\u001b[0m     \u001b[1;32mdef\u001b[0m \u001b[0mget\u001b[0m\u001b[1;33m(\u001b[0m\u001b[0mself\u001b[0m\u001b[1;33m)\u001b[0m\u001b[1;33m:\u001b[0m\u001b[1;33m\u001b[0m\u001b[0m\n",
      "\u001b[1;32m~\\anaconda3\\envs\\learn-env\\lib\\site-packages\\sklearn\\externals\\joblib\\parallel.py\u001b[0m in \u001b[0;36m__call__\u001b[1;34m(self)\u001b[0m\n\u001b[0;32m    223\u001b[0m         \u001b[1;32mwith\u001b[0m \u001b[0mparallel_backend\u001b[0m\u001b[1;33m(\u001b[0m\u001b[0mself\u001b[0m\u001b[1;33m.\u001b[0m\u001b[0m_backend\u001b[0m\u001b[1;33m,\u001b[0m \u001b[0mn_jobs\u001b[0m\u001b[1;33m=\u001b[0m\u001b[0mself\u001b[0m\u001b[1;33m.\u001b[0m\u001b[0m_n_jobs\u001b[0m\u001b[1;33m)\u001b[0m\u001b[1;33m:\u001b[0m\u001b[1;33m\u001b[0m\u001b[0m\n\u001b[0;32m    224\u001b[0m             return [func(*args, **kwargs)\n\u001b[1;32m--> 225\u001b[1;33m                     for func, args, kwargs in self.items]\n\u001b[0m\u001b[0;32m    226\u001b[0m \u001b[1;33m\u001b[0m\u001b[0m\n\u001b[0;32m    227\u001b[0m     \u001b[1;32mdef\u001b[0m \u001b[0m__len__\u001b[0m\u001b[1;33m(\u001b[0m\u001b[0mself\u001b[0m\u001b[1;33m)\u001b[0m\u001b[1;33m:\u001b[0m\u001b[1;33m\u001b[0m\u001b[0m\n",
      "\u001b[1;32m~\\anaconda3\\envs\\learn-env\\lib\\site-packages\\sklearn\\externals\\joblib\\parallel.py\u001b[0m in \u001b[0;36m<listcomp>\u001b[1;34m(.0)\u001b[0m\n\u001b[0;32m    223\u001b[0m         \u001b[1;32mwith\u001b[0m \u001b[0mparallel_backend\u001b[0m\u001b[1;33m(\u001b[0m\u001b[0mself\u001b[0m\u001b[1;33m.\u001b[0m\u001b[0m_backend\u001b[0m\u001b[1;33m,\u001b[0m \u001b[0mn_jobs\u001b[0m\u001b[1;33m=\u001b[0m\u001b[0mself\u001b[0m\u001b[1;33m.\u001b[0m\u001b[0m_n_jobs\u001b[0m\u001b[1;33m)\u001b[0m\u001b[1;33m:\u001b[0m\u001b[1;33m\u001b[0m\u001b[0m\n\u001b[0;32m    224\u001b[0m             return [func(*args, **kwargs)\n\u001b[1;32m--> 225\u001b[1;33m                     for func, args, kwargs in self.items]\n\u001b[0m\u001b[0;32m    226\u001b[0m \u001b[1;33m\u001b[0m\u001b[0m\n\u001b[0;32m    227\u001b[0m     \u001b[1;32mdef\u001b[0m \u001b[0m__len__\u001b[0m\u001b[1;33m(\u001b[0m\u001b[0mself\u001b[0m\u001b[1;33m)\u001b[0m\u001b[1;33m:\u001b[0m\u001b[1;33m\u001b[0m\u001b[0m\n",
      "\u001b[1;32m~\\anaconda3\\envs\\learn-env\\lib\\site-packages\\sklearn\\model_selection\\_validation.py\u001b[0m in \u001b[0;36m_fit_and_score\u001b[1;34m(estimator, X, y, scorer, train, test, verbose, parameters, fit_params, return_train_score, return_parameters, return_n_test_samples, return_times, return_estimator, error_score)\u001b[0m\n\u001b[0;32m    526\u001b[0m             \u001b[0mestimator\u001b[0m\u001b[1;33m.\u001b[0m\u001b[0mfit\u001b[0m\u001b[1;33m(\u001b[0m\u001b[0mX_train\u001b[0m\u001b[1;33m,\u001b[0m \u001b[1;33m**\u001b[0m\u001b[0mfit_params\u001b[0m\u001b[1;33m)\u001b[0m\u001b[1;33m\u001b[0m\u001b[0m\n\u001b[0;32m    527\u001b[0m         \u001b[1;32melse\u001b[0m\u001b[1;33m:\u001b[0m\u001b[1;33m\u001b[0m\u001b[0m\n\u001b[1;32m--> 528\u001b[1;33m             \u001b[0mestimator\u001b[0m\u001b[1;33m.\u001b[0m\u001b[0mfit\u001b[0m\u001b[1;33m(\u001b[0m\u001b[0mX_train\u001b[0m\u001b[1;33m,\u001b[0m \u001b[0my_train\u001b[0m\u001b[1;33m,\u001b[0m \u001b[1;33m**\u001b[0m\u001b[0mfit_params\u001b[0m\u001b[1;33m)\u001b[0m\u001b[1;33m\u001b[0m\u001b[0m\n\u001b[0m\u001b[0;32m    529\u001b[0m \u001b[1;33m\u001b[0m\u001b[0m\n\u001b[0;32m    530\u001b[0m     \u001b[1;32mexcept\u001b[0m \u001b[0mException\u001b[0m \u001b[1;32mas\u001b[0m \u001b[0me\u001b[0m\u001b[1;33m:\u001b[0m\u001b[1;33m\u001b[0m\u001b[0m\n",
      "\u001b[1;32m~\\anaconda3\\envs\\learn-env\\lib\\site-packages\\xgboost\\sklearn.py\u001b[0m in \u001b[0;36mfit\u001b[1;34m(self, X, y, sample_weight, eval_set, eval_metric, early_stopping_rounds, verbose, xgb_model, sample_weight_eval_set)\u001b[0m\n\u001b[0;32m    300\u001b[0m                               \u001b[0mearly_stopping_rounds\u001b[0m\u001b[1;33m=\u001b[0m\u001b[0mearly_stopping_rounds\u001b[0m\u001b[1;33m,\u001b[0m\u001b[1;33m\u001b[0m\u001b[0m\n\u001b[0;32m    301\u001b[0m                               \u001b[0mevals_result\u001b[0m\u001b[1;33m=\u001b[0m\u001b[0mevals_result\u001b[0m\u001b[1;33m,\u001b[0m \u001b[0mobj\u001b[0m\u001b[1;33m=\u001b[0m\u001b[0mobj\u001b[0m\u001b[1;33m,\u001b[0m \u001b[0mfeval\u001b[0m\u001b[1;33m=\u001b[0m\u001b[0mfeval\u001b[0m\u001b[1;33m,\u001b[0m\u001b[1;33m\u001b[0m\u001b[0m\n\u001b[1;32m--> 302\u001b[1;33m                               verbose_eval=verbose, xgb_model=xgb_model)\n\u001b[0m\u001b[0;32m    303\u001b[0m \u001b[1;33m\u001b[0m\u001b[0m\n\u001b[0;32m    304\u001b[0m         \u001b[1;32mif\u001b[0m \u001b[0mevals_result\u001b[0m\u001b[1;33m:\u001b[0m\u001b[1;33m\u001b[0m\u001b[0m\n",
      "\u001b[1;32m~\\anaconda3\\envs\\learn-env\\lib\\site-packages\\xgboost\\training.py\u001b[0m in \u001b[0;36mtrain\u001b[1;34m(params, dtrain, num_boost_round, evals, obj, feval, maximize, early_stopping_rounds, evals_result, verbose_eval, xgb_model, callbacks, learning_rates)\u001b[0m\n\u001b[0;32m    202\u001b[0m                            \u001b[0mevals\u001b[0m\u001b[1;33m=\u001b[0m\u001b[0mevals\u001b[0m\u001b[1;33m,\u001b[0m\u001b[1;33m\u001b[0m\u001b[0m\n\u001b[0;32m    203\u001b[0m                            \u001b[0mobj\u001b[0m\u001b[1;33m=\u001b[0m\u001b[0mobj\u001b[0m\u001b[1;33m,\u001b[0m \u001b[0mfeval\u001b[0m\u001b[1;33m=\u001b[0m\u001b[0mfeval\u001b[0m\u001b[1;33m,\u001b[0m\u001b[1;33m\u001b[0m\u001b[0m\n\u001b[1;32m--> 204\u001b[1;33m                            xgb_model=xgb_model, callbacks=callbacks)\n\u001b[0m\u001b[0;32m    205\u001b[0m \u001b[1;33m\u001b[0m\u001b[0m\n\u001b[0;32m    206\u001b[0m \u001b[1;33m\u001b[0m\u001b[0m\n",
      "\u001b[1;32m~\\anaconda3\\envs\\learn-env\\lib\\site-packages\\xgboost\\training.py\u001b[0m in \u001b[0;36m_train_internal\u001b[1;34m(params, dtrain, num_boost_round, evals, obj, feval, xgb_model, callbacks)\u001b[0m\n\u001b[0;32m     72\u001b[0m         \u001b[1;31m# Skip the first update if it is a recovery step.\u001b[0m\u001b[1;33m\u001b[0m\u001b[1;33m\u001b[0m\u001b[0m\n\u001b[0;32m     73\u001b[0m         \u001b[1;32mif\u001b[0m \u001b[0mversion\u001b[0m \u001b[1;33m%\u001b[0m \u001b[1;36m2\u001b[0m \u001b[1;33m==\u001b[0m \u001b[1;36m0\u001b[0m\u001b[1;33m:\u001b[0m\u001b[1;33m\u001b[0m\u001b[0m\n\u001b[1;32m---> 74\u001b[1;33m             \u001b[0mbst\u001b[0m\u001b[1;33m.\u001b[0m\u001b[0mupdate\u001b[0m\u001b[1;33m(\u001b[0m\u001b[0mdtrain\u001b[0m\u001b[1;33m,\u001b[0m \u001b[0mi\u001b[0m\u001b[1;33m,\u001b[0m \u001b[0mobj\u001b[0m\u001b[1;33m)\u001b[0m\u001b[1;33m\u001b[0m\u001b[0m\n\u001b[0m\u001b[0;32m     75\u001b[0m             \u001b[0mbst\u001b[0m\u001b[1;33m.\u001b[0m\u001b[0msave_rabit_checkpoint\u001b[0m\u001b[1;33m(\u001b[0m\u001b[1;33m)\u001b[0m\u001b[1;33m\u001b[0m\u001b[0m\n\u001b[0;32m     76\u001b[0m             \u001b[0mversion\u001b[0m \u001b[1;33m+=\u001b[0m \u001b[1;36m1\u001b[0m\u001b[1;33m\u001b[0m\u001b[0m\n",
      "\u001b[1;32m~\\anaconda3\\envs\\learn-env\\lib\\site-packages\\xgboost\\core.py\u001b[0m in \u001b[0;36mupdate\u001b[1;34m(self, dtrain, iteration, fobj)\u001b[0m\n\u001b[0;32m    892\u001b[0m         \u001b[1;32mif\u001b[0m \u001b[0mfobj\u001b[0m \u001b[1;32mis\u001b[0m \u001b[1;32mNone\u001b[0m\u001b[1;33m:\u001b[0m\u001b[1;33m\u001b[0m\u001b[0m\n\u001b[0;32m    893\u001b[0m             _check_call(_LIB.XGBoosterUpdateOneIter(self.handle, ctypes.c_int(iteration),\n\u001b[1;32m--> 894\u001b[1;33m                                                     dtrain.handle))\n\u001b[0m\u001b[0;32m    895\u001b[0m         \u001b[1;32melse\u001b[0m\u001b[1;33m:\u001b[0m\u001b[1;33m\u001b[0m\u001b[0m\n\u001b[0;32m    896\u001b[0m             \u001b[0mpred\u001b[0m \u001b[1;33m=\u001b[0m \u001b[0mself\u001b[0m\u001b[1;33m.\u001b[0m\u001b[0mpredict\u001b[0m\u001b[1;33m(\u001b[0m\u001b[0mdtrain\u001b[0m\u001b[1;33m)\u001b[0m\u001b[1;33m\u001b[0m\u001b[0m\n",
      "\u001b[1;31mKeyboardInterrupt\u001b[0m: "
     ]
    }
   ],
   "source": [
    "xgbclf_gridsearch = GridSearchCV(xgb_grid_model,\n",
    "                                 xgb_reg_grid_param,\n",
    "                                 scoring='neg_mean_squared_error')\n",
    "xgbclf_gridsearch.fit(X_train_Scaled, y_train_Scaled)"
   ]
  },
  {
   "cell_type": "code",
   "execution_count": null,
   "metadata": {
    "ExecuteTime": {
     "end_time": "2020-10-27T15:49:21.686308Z",
     "start_time": "2020-10-27T15:48:41.669Z"
    },
    "scrolled": true
   },
   "outputs": [],
   "source": [
    "xgbclf_gridsearch.best_params_"
   ]
  },
  {
   "cell_type": "code",
   "execution_count": 58,
   "metadata": {
    "ExecuteTime": {
     "end_time": "2020-10-27T15:49:25.127602Z",
     "start_time": "2020-10-27T15:49:24.936073Z"
    }
   },
   "outputs": [
    {
     "data": {
      "text/plain": [
       "XGBRegressor(base_score=0.5, booster='gbtree', colsample_bylevel=1,\n",
       "       colsample_bytree=1, gamma=0, learning_rate=0.1, max_delta_step=1,\n",
       "       max_depth=5, min_child_weight=3, missing=None, n_estimators=200,\n",
       "       n_jobs=1, nthread=None, objective='reg:linear', random_state=42,\n",
       "       reg_alpha=0, reg_lambda=1, scale_pos_weight=1, seed=None,\n",
       "       silent=True, subsample=1)"
      ]
     },
     "execution_count": 58,
     "metadata": {},
     "output_type": "execute_result"
    }
   ],
   "source": [
    "xgb_grid_model = xgb.XGBRegressor(learning_rate = 0.1,\n",
    "                                  max_delta_step = 1,\n",
    "                                  max_depth = 5,\n",
    "                                  min_child_weight = 3,\n",
    "                                  n_estimators = 200,\n",
    "                                  random_state=42)\n",
    "xgb_grid_model.fit(X_train_Scaled, y_train_Scaled)"
   ]
  },
  {
   "cell_type": "code",
   "execution_count": 59,
   "metadata": {
    "ExecuteTime": {
     "end_time": "2020-10-27T15:49:25.135581Z",
     "start_time": "2020-10-27T15:49:25.128558Z"
    },
    "scrolled": true
   },
   "outputs": [
    {
     "data": {
      "text/plain": [
       "0.9996621914402065"
      ]
     },
     "execution_count": 59,
     "metadata": {},
     "output_type": "execute_result"
    }
   ],
   "source": [
    "xgb_grid_model.score(X_train_Scaled, y_train_Scaled)"
   ]
  },
  {
   "cell_type": "code",
   "execution_count": 60,
   "metadata": {
    "ExecuteTime": {
     "end_time": "2020-10-27T15:49:25.142519Z",
     "start_time": "2020-10-27T15:49:25.136535Z"
    },
    "scrolled": true
   },
   "outputs": [
    {
     "data": {
      "text/plain": [
       "0.947040804841784"
      ]
     },
     "execution_count": 60,
     "metadata": {},
     "output_type": "execute_result"
    }
   ],
   "source": [
    "xgb_grid_model.score(X_test_Scaled, y_test_Scaled)"
   ]
  },
  {
   "cell_type": "code",
   "execution_count": 61,
   "metadata": {
    "ExecuteTime": {
     "end_time": "2020-10-27T15:49:25.151539Z",
     "start_time": "2020-10-27T15:49:25.144516Z"
    }
   },
   "outputs": [],
   "source": [
    "training_preds = scaler.inverse_transform(xgb_grid_model.predict(X_train_Scaled))\n",
    "test_preds = scaler.inverse_transform(xgb_grid_model.predict(X_test_Scaled))"
   ]
  },
  {
   "cell_type": "code",
   "execution_count": 62,
   "metadata": {
    "ExecuteTime": {
     "end_time": "2020-10-27T15:49:25.157514Z",
     "start_time": "2020-10-27T15:49:25.152493Z"
    },
    "scrolled": false
   },
   "outputs": [
    {
     "name": "stdout",
     "output_type": "stream",
     "text": [
      "Train RMSE: 0.18820831030912136\n",
      "Test RMSE: 2.639379992817984\n"
     ]
    }
   ],
   "source": [
    "print('Train RMSE:', np.sqrt(mean_squared_error(y_train, training_preds)))\n",
    "print('Test RMSE:', np.sqrt(mean_squared_error(y_test, test_preds)))"
   ]
  },
  {
   "cell_type": "code",
   "execution_count": 63,
   "metadata": {
    "ExecuteTime": {
     "end_time": "2020-10-27T15:49:25.599298Z",
     "start_time": "2020-10-27T15:49:25.158478Z"
    },
    "scrolled": false
   },
   "outputs": [
    {
     "data": {
      "image/png": "[encoded data removed]",
      "text/plain": [
       "<Figure size 1440x1440 with 1 Axes>"
      ]
     },
     "metadata": {},
     "output_type": "display_data"
    }
   ],
   "source": [
    "plot_feature_importances(xgb_grid_model)"
   ]
  },
  {
   "cell_type": "markdown",
   "metadata": {},
   "source": [
    "## MLP Regression Model"
   ]
  },
  {
   "cell_type": "code",
   "execution_count": 64,
   "metadata": {
    "ExecuteTime": {
     "end_time": "2020-10-27T15:49:25.627224Z",
     "start_time": "2020-10-27T15:49:25.600296Z"
    }
   },
   "outputs": [],
   "source": [
    "from keras import layers, models, optimizers, regularizers\n",
    "from keras import backend as K\n",
    "from keras.models import Sequential\n",
    "from tensorflow.keras.callbacks import TensorBoard\n",
    "from keras.wrappers.scikit_learn import KerasRegressor"
   ]
  },
  {
   "cell_type": "code",
   "execution_count": 65,
   "metadata": {
    "ExecuteTime": {
     "end_time": "2020-10-27T15:49:25.634205Z",
     "start_time": "2020-10-27T15:49:25.630229Z"
    }
   },
   "outputs": [],
   "source": [
    "n_features = X_train_Scaled.shape[1]"
   ]
  },
  {
   "cell_type": "markdown",
   "metadata": {},
   "source": [
    "### Loss, MSE, & R^2 Visualization Function"
   ]
  },
  {
   "cell_type": "code",
   "execution_count": 66,
   "metadata": {
    "ExecuteTime": {
     "end_time": "2020-10-27T15:49:25.639206Z",
     "start_time": "2020-10-27T15:49:25.636199Z"
    }
   },
   "outputs": [],
   "source": [
    "def coef_determination(y_true, y_pred):\n",
    "    SS_res = K.sum(K.square(y_true-y_pred))\n",
    "    SS_tot = K.sum(K.square(y_true - K.mean(y_true)))\n",
    "    return (1 - SS_res/(SS_tot + K.epsilon()))"
   ]
  },
  {
   "cell_type": "code",
   "execution_count": 67,
   "metadata": {
    "ExecuteTime": {
     "end_time": "2020-10-27T15:49:25.647170Z",
     "start_time": "2020-10-27T15:49:25.640190Z"
    }
   },
   "outputs": [],
   "source": [
    "#Build vizualization function for training/validation loss and accuracy\n",
    "def visualize_loss_MSE(results):\n",
    "    history = results.history\n",
    "    \n",
    "    plt.plot(history['loss'], 'b', label='Training Loss')\n",
    "    plt.title('Training Loss')\n",
    "    plt.xlabel('Epochs', fontsize=12)\n",
    "    plt.ylabel('Loss', fontsize=12)\n",
    "    plt.legend(loc='best')\n",
    "    plt.show()\n",
    "    \n",
    "    plt.plot(history['mse'], 'b', label='Training MSE')\n",
    "    plt.title('Training MSE')\n",
    "    plt.xlabel('Epochs', fontsize=12)\n",
    "    plt.ylabel('MSE', fontsize=12)\n",
    "    plt.legend(loc='best')\n",
    "    plt.show()\n",
    "    \n",
    "    plt.plot(history['coef_determination'], 'b', label='Training R^2')\n",
    "    plt.title('Training R^2')\n",
    "    plt.xlabel('Epochs', fontsize=12)\n",
    "    plt.ylabel('R^2', fontsize=12)\n",
    "    plt.legend(loc='best')\n",
    "    plt.show()"
   ]
  },
  {
   "cell_type": "markdown",
   "metadata": {},
   "source": [
    "### Baseline Model"
   ]
  },
  {
   "cell_type": "code",
   "execution_count": 68,
   "metadata": {
    "ExecuteTime": {
     "end_time": "2020-10-27T15:49:25.753885Z",
     "start_time": "2020-10-27T15:49:25.648169Z"
    }
   },
   "outputs": [],
   "source": [
    "baseline_model = Sequential()\n",
    "\n",
    "baseline_model.add(layers.Dense(10, activation='relu', input_shape=(n_features, )))\n",
    "\n",
    "baseline_model.add(layers.Dense(5, activation='relu'))\n",
    "\n",
    "baseline_model.add(layers.Dense(1, activation='linear'))\n",
    "\n",
    "baseline_model.compile(optimizer='SGD',\n",
    "              loss='mse',\n",
    "              metrics=['mse', coef_determination])\n"
   ]
  },
  {
   "cell_type": "code",
   "execution_count": 69,
   "metadata": {
    "ExecuteTime": {
     "end_time": "2020-10-27T15:49:28.096592Z",
     "start_time": "2020-10-27T15:49:25.754883Z"
    },
    "scrolled": true
   },
   "outputs": [
    {
     "name": "stdout",
     "output_type": "stream",
     "text": [
      "Epoch 1/150\n",
      "14/14 [==============================] - 0s 855us/step - loss: 1.5462 - mse: 1.5462 - coef_determination: -0.7075\n",
      "Epoch 2/150\n",
      "14/14 [==============================] - 0s 784us/step - loss: 1.2260 - mse: 1.2260 - coef_determination: -0.2850\n",
      "Epoch 3/150\n",
      "14/14 [==============================] - 0s 855us/step - loss: 1.1028 - mse: 1.1028 - coef_determination: -0.1345\n",
      "Epoch 4/150\n",
      "14/14 [==============================] - 0s 856us/step - loss: 1.0348 - mse: 1.0348 - coef_determination: -0.1082\n",
      "Epoch 5/150\n",
      "14/14 [==============================] - 0s 641us/step - loss: 0.9829 - mse: 0.9829 - coef_determination: -0.0169\n",
      "Epoch 6/150\n",
      "14/14 [==============================] - 0s 642us/step - loss: 0.9357 - mse: 0.9357 - coef_determination: 0.0395\n",
      "Epoch 7/150\n",
      "14/14 [==============================] - 0s 570us/step - loss: 0.8915 - mse: 0.8915 - coef_determination: 0.0813\n",
      "Epoch 8/150\n",
      "14/14 [==============================] - 0s 570us/step - loss: 0.8463 - mse: 0.8463 - coef_determination: 0.1001\n",
      "Epoch 9/150\n",
      "14/14 [==============================] - 0s 641us/step - loss: 0.7997 - mse: 0.7997 - coef_determination: 0.1642\n",
      "Epoch 10/150\n",
      "14/14 [==============================] - 0s 712us/step - loss: 0.7451 - mse: 0.7451 - coef_determination: 0.2049\n",
      "Epoch 11/150\n",
      "14/14 [==============================] - 0s 712us/step - loss: 0.6953 - mse: 0.6953 - coef_determination: 0.2504\n",
      "Epoch 12/150\n",
      "14/14 [==============================] - 0s 712us/step - loss: 0.6368 - mse: 0.6368 - coef_determination: 0.3359\n",
      "Epoch 13/150\n",
      "14/14 [==============================] - 0s 641us/step - loss: 0.5771 - mse: 0.5771 - coef_determination: 0.3511\n",
      "Epoch 14/150\n",
      "14/14 [==============================] - 0s 641us/step - loss: 0.5136 - mse: 0.5136 - coef_determination: 0.4683\n",
      "Epoch 15/150\n",
      "14/14 [==============================] - 0s 712us/step - loss: 0.4584 - mse: 0.4584 - coef_determination: 0.5033\n",
      "Epoch 16/150\n",
      "14/14 [==============================] - 0s 641us/step - loss: 0.4040 - mse: 0.4040 - coef_determination: 0.5687\n",
      "Epoch 17/150\n",
      "14/14 [==============================] - 0s 641us/step - loss: 0.3569 - mse: 0.3569 - coef_determination: 0.5902\n",
      "Epoch 18/150\n",
      "14/14 [==============================] - 0s 712us/step - loss: 0.3121 - mse: 0.3121 - coef_determination: 0.6603\n",
      "Epoch 19/150\n",
      "14/14 [==============================] - 0s 712us/step - loss: 0.2765 - mse: 0.2765 - coef_determination: 0.6733\n",
      "Epoch 20/150\n",
      "14/14 [==============================] - 0s 716us/step - loss: 0.2444 - mse: 0.2444 - coef_determination: 0.7038\n",
      "Epoch 21/150\n",
      "14/14 [==============================] - 0s 641us/step - loss: 0.2203 - mse: 0.2203 - coef_determination: 0.7416\n",
      "Epoch 22/150\n",
      "14/14 [==============================] - 0s 712us/step - loss: 0.2005 - mse: 0.2005 - coef_determination: 0.7822\n",
      "Epoch 23/150\n",
      "14/14 [==============================] - 0s 784us/step - loss: 0.1845 - mse: 0.1845 - coef_determination: 0.7923\n",
      "Epoch 24/150\n",
      "14/14 [==============================] - 0s 641us/step - loss: 0.1709 - mse: 0.1709 - coef_determination: 0.8154\n",
      "Epoch 25/150\n",
      "14/14 [==============================] - 0s 712us/step - loss: 0.1601 - mse: 0.1601 - coef_determination: 0.8172\n",
      "Epoch 26/150\n",
      "14/14 [==============================] - 0s 709us/step - loss: 0.1511 - mse: 0.1511 - coef_determination: 0.8433\n",
      "Epoch 27/150\n",
      "14/14 [==============================] - 0s 641us/step - loss: 0.1434 - mse: 0.1434 - coef_determination: 0.8342\n",
      "Epoch 28/150\n",
      "14/14 [==============================] - 0s 641us/step - loss: 0.1366 - mse: 0.1366 - coef_determination: 0.8397\n",
      "Epoch 29/150\n",
      "14/14 [==============================] - 0s 641us/step - loss: 0.1305 - mse: 0.1305 - coef_determination: 0.8510\n",
      "Epoch 30/150\n",
      "14/14 [==============================] - 0s 641us/step - loss: 0.1249 - mse: 0.1249 - coef_determination: 0.8709\n",
      "Epoch 31/150\n",
      "14/14 [==============================] - 0s 642us/step - loss: 0.1200 - mse: 0.1200 - coef_determination: 0.8573\n",
      "Epoch 32/150\n",
      "14/14 [==============================] - 0s 712us/step - loss: 0.1159 - mse: 0.1159 - coef_determination: 0.8707\n",
      "Epoch 33/150\n",
      "14/14 [==============================] - 0s 712us/step - loss: 0.1128 - mse: 0.1128 - coef_determination: 0.8762\n",
      "Epoch 34/150\n",
      "14/14 [==============================] - 0s 715us/step - loss: 0.1090 - mse: 0.1090 - coef_determination: 0.8588\n",
      "Epoch 35/150\n",
      "14/14 [==============================] - 0s 641us/step - loss: 0.1059 - mse: 0.1059 - coef_determination: 0.8883\n",
      "Epoch 36/150\n",
      "14/14 [==============================] - 0s 641us/step - loss: 0.1035 - mse: 0.1035 - coef_determination: 0.8845\n",
      "Epoch 37/150\n",
      "14/14 [==============================] - 0s 641us/step - loss: 0.1010 - mse: 0.1010 - coef_determination: 0.8837\n",
      "Epoch 38/150\n",
      "14/14 [==============================] - 0s 641us/step - loss: 0.0983 - mse: 0.0983 - coef_determination: 0.8879\n",
      "Epoch 39/150\n",
      "14/14 [==============================] - 0s 641us/step - loss: 0.0957 - mse: 0.0957 - coef_determination: 0.8916\n",
      "Epoch 40/150\n",
      "14/14 [==============================] - 0s 641us/step - loss: 0.0933 - mse: 0.0933 - coef_determination: 0.8912\n",
      "Epoch 41/150\n",
      "14/14 [==============================] - 0s 712us/step - loss: 0.0911 - mse: 0.0911 - coef_determination: 0.8979\n",
      "Epoch 42/150\n",
      "14/14 [==============================] - 0s 645us/step - loss: 0.0892 - mse: 0.0892 - coef_determination: 0.8889\n",
      "Epoch 43/150\n",
      "14/14 [==============================] - 0s 784us/step - loss: 0.0867 - mse: 0.0867 - coef_determination: 0.9133\n",
      "Epoch 44/150\n",
      "14/14 [==============================] - 0s 641us/step - loss: 0.0851 - mse: 0.0851 - coef_determination: 0.9081\n",
      "Epoch 45/150\n",
      "14/14 [==============================] - 0s 641us/step - loss: 0.0831 - mse: 0.0831 - coef_determination: 0.9002\n",
      "Epoch 46/150\n",
      "14/14 [==============================] - 0s 570us/step - loss: 0.0815 - mse: 0.0815 - coef_determination: 0.9168\n",
      "Epoch 47/150\n",
      "14/14 [==============================] - 0s 570us/step - loss: 0.0802 - mse: 0.0802 - coef_determination: 0.9084\n",
      "Epoch 48/150\n",
      "14/14 [==============================] - 0s 570us/step - loss: 0.0788 - mse: 0.0788 - coef_determination: 0.9135\n",
      "Epoch 49/150\n",
      "14/14 [==============================] - 0s 641us/step - loss: 0.0770 - mse: 0.0770 - coef_determination: 0.9150\n",
      "Epoch 50/150\n",
      "14/14 [==============================] - 0s 641us/step - loss: 0.0756 - mse: 0.0756 - coef_determination: 0.9133\n",
      "Epoch 51/150\n",
      "14/14 [==============================] - 0s 641us/step - loss: 0.0745 - mse: 0.0745 - coef_determination: 0.9229\n",
      "Epoch 52/150\n",
      "14/14 [==============================] - 0s 641us/step - loss: 0.0732 - mse: 0.0732 - coef_determination: 0.9235\n",
      "Epoch 53/150\n",
      "14/14 [==============================] - 0s 641us/step - loss: 0.0717 - mse: 0.0717 - coef_determination: 0.9270\n",
      "Epoch 54/150\n",
      "14/14 [==============================] - 0s 570us/step - loss: 0.0705 - mse: 0.0705 - coef_determination: 0.9206\n",
      "Epoch 55/150\n",
      "14/14 [==============================] - 0s 641us/step - loss: 0.0696 - mse: 0.0696 - coef_determination: 0.9247\n",
      "Epoch 56/150\n",
      "14/14 [==============================] - 0s 641us/step - loss: 0.0685 - mse: 0.0685 - coef_determination: 0.9201\n",
      "Epoch 57/150\n",
      "14/14 [==============================] - 0s 712us/step - loss: 0.0675 - mse: 0.0675 - coef_determination: 0.9216\n",
      "Epoch 58/150\n",
      "14/14 [==============================] - 0s 712us/step - loss: 0.0660 - mse: 0.0660 - coef_determination: 0.9267\n",
      "Epoch 59/150\n",
      "14/14 [==============================] - 0s 712us/step - loss: 0.0648 - mse: 0.0648 - coef_determination: 0.9231\n",
      "Epoch 60/150\n",
      "14/14 [==============================] - 0s 641us/step - loss: 0.0635 - mse: 0.0635 - coef_determination: 0.9329\n",
      "Epoch 61/150\n",
      "14/14 [==============================] - 0s 641us/step - loss: 0.0624 - mse: 0.0624 - coef_determination: 0.9305\n",
      "Epoch 62/150\n",
      "14/14 [==============================] - 0s 641us/step - loss: 0.0617 - mse: 0.0617 - coef_determination: 0.9286\n",
      "Epoch 63/150\n",
      "14/14 [==============================] - 0s 644us/step - loss: 0.0610 - mse: 0.0610 - coef_determination: 0.9368\n",
      "Epoch 64/150\n",
      "14/14 [==============================] - 0s 641us/step - loss: 0.0599 - mse: 0.0599 - coef_determination: 0.9383\n",
      "Epoch 65/150\n",
      "14/14 [==============================] - 0s 712us/step - loss: 0.0588 - mse: 0.0588 - coef_determination: 0.9285\n",
      "Epoch 66/150\n"
     ]
    },
    {
     "name": "stdout",
     "output_type": "stream",
     "text": [
      "14/14 [==============================] - 0s 641us/step - loss: 0.0581 - mse: 0.0581 - coef_determination: 0.9305\n",
      "Epoch 67/150\n",
      "14/14 [==============================] - 0s 641us/step - loss: 0.0570 - mse: 0.0570 - coef_determination: 0.9375\n",
      "Epoch 68/150\n",
      "14/14 [==============================] - 0s 712us/step - loss: 0.0564 - mse: 0.0564 - coef_determination: 0.9393\n",
      "Epoch 69/150\n",
      "14/14 [==============================] - 0s 738us/step - loss: 0.0557 - mse: 0.0557 - coef_determination: 0.9397\n",
      "Epoch 70/150\n",
      "14/14 [==============================] - 0s 803us/step - loss: 0.0549 - mse: 0.0549 - coef_determination: 0.9409\n",
      "Epoch 71/150\n",
      "14/14 [==============================] - 0s 784us/step - loss: 0.0543 - mse: 0.0543 - coef_determination: 0.9402\n",
      "Epoch 72/150\n",
      "14/14 [==============================] - 0s 641us/step - loss: 0.0534 - mse: 0.0534 - coef_determination: 0.9419\n",
      "Epoch 73/150\n",
      "14/14 [==============================] - 0s 712us/step - loss: 0.0527 - mse: 0.0527 - coef_determination: 0.9430\n",
      "Epoch 74/150\n",
      "14/14 [==============================] - 0s 712us/step - loss: 0.0517 - mse: 0.0517 - coef_determination: 0.9404\n",
      "Epoch 75/150\n",
      "14/14 [==============================] - 0s 641us/step - loss: 0.0511 - mse: 0.0511 - coef_determination: 0.9431\n",
      "Epoch 76/150\n",
      "14/14 [==============================] - 0s 644us/step - loss: 0.0502 - mse: 0.0502 - coef_determination: 0.9434\n",
      "Epoch 77/150\n",
      "14/14 [==============================] - 0s 641us/step - loss: 0.0496 - mse: 0.0496 - coef_determination: 0.9431\n",
      "Epoch 78/150\n",
      "14/14 [==============================] - 0s 641us/step - loss: 0.0489 - mse: 0.0489 - coef_determination: 0.9439\n",
      "Epoch 79/150\n",
      "14/14 [==============================] - 0s 641us/step - loss: 0.0482 - mse: 0.0482 - coef_determination: 0.9468\n",
      "Epoch 80/150\n",
      "14/14 [==============================] - 0s 712us/step - loss: 0.0476 - mse: 0.0476 - coef_determination: 0.9419\n",
      "Epoch 81/150\n",
      "14/14 [==============================] - 0s 784us/step - loss: 0.0470 - mse: 0.0470 - coef_determination: 0.9454\n",
      "Epoch 82/150\n",
      "14/14 [==============================] - 0s 713us/step - loss: 0.0464 - mse: 0.0464 - coef_determination: 0.9456\n",
      "Epoch 83/150\n",
      "14/14 [==============================] - 0s 641us/step - loss: 0.0460 - mse: 0.0460 - coef_determination: 0.9505\n",
      "Epoch 84/150\n",
      "14/14 [==============================] - 0s 641us/step - loss: 0.0454 - mse: 0.0454 - coef_determination: 0.9524\n",
      "Epoch 85/150\n",
      "14/14 [==============================] - 0s 784us/step - loss: 0.0447 - mse: 0.0447 - coef_determination: 0.9523\n",
      "Epoch 86/150\n",
      "14/14 [==============================] - 0s 641us/step - loss: 0.0444 - mse: 0.0444 - coef_determination: 0.9529\n",
      "Epoch 87/150\n",
      "14/14 [==============================] - 0s 643us/step - loss: 0.0437 - mse: 0.0437 - coef_determination: 0.9534\n",
      "Epoch 88/150\n",
      "14/14 [==============================] - 0s 641us/step - loss: 0.0432 - mse: 0.0432 - coef_determination: 0.9476\n",
      "Epoch 89/150\n",
      "14/14 [==============================] - 0s 641us/step - loss: 0.0428 - mse: 0.0428 - coef_determination: 0.9513\n",
      "Epoch 90/150\n",
      "14/14 [==============================] - 0s 641us/step - loss: 0.0424 - mse: 0.0424 - coef_determination: 0.9512\n",
      "Epoch 91/150\n",
      "14/14 [==============================] - 0s 641us/step - loss: 0.0420 - mse: 0.0420 - coef_determination: 0.9531\n",
      "Epoch 92/150\n",
      "14/14 [==============================] - 0s 641us/step - loss: 0.0416 - mse: 0.0416 - coef_determination: 0.9522\n",
      "Epoch 93/150\n",
      "14/14 [==============================] - 0s 641us/step - loss: 0.0410 - mse: 0.0410 - coef_determination: 0.9569\n",
      "Epoch 94/150\n",
      "14/14 [==============================] - 0s 641us/step - loss: 0.0408 - mse: 0.0408 - coef_determination: 0.9571\n",
      "Epoch 95/150\n",
      "14/14 [==============================] - 0s 570us/step - loss: 0.0402 - mse: 0.0402 - coef_determination: 0.9540\n",
      "Epoch 96/150\n",
      "14/14 [==============================] - 0s 641us/step - loss: 0.0399 - mse: 0.0399 - coef_determination: 0.9571\n",
      "Epoch 97/150\n",
      "14/14 [==============================] - 0s 570us/step - loss: 0.0397 - mse: 0.0397 - coef_determination: 0.9490\n",
      "Epoch 98/150\n",
      "14/14 [==============================] - 0s 641us/step - loss: 0.0391 - mse: 0.0391 - coef_determination: 0.9555\n",
      "Epoch 99/150\n",
      "14/14 [==============================] - 0s 641us/step - loss: 0.0389 - mse: 0.0389 - coef_determination: 0.9533\n",
      "Epoch 100/150\n",
      "14/14 [==============================] - 0s 642us/step - loss: 0.0385 - mse: 0.0385 - coef_determination: 0.9582\n",
      "Epoch 101/150\n",
      "14/14 [==============================] - 0s 641us/step - loss: 0.0381 - mse: 0.0381 - coef_determination: 0.9574\n",
      "Epoch 102/150\n",
      "14/14 [==============================] - 0s 712us/step - loss: 0.0378 - mse: 0.0378 - coef_determination: 0.9558\n",
      "Epoch 103/150\n",
      "14/14 [==============================] - 0s 641us/step - loss: 0.0376 - mse: 0.0376 - coef_determination: 0.9598\n",
      "Epoch 104/150\n",
      "14/14 [==============================] - 0s 641us/step - loss: 0.0372 - mse: 0.0372 - coef_determination: 0.9582\n",
      "Epoch 105/150\n",
      "14/14 [==============================] - 0s 641us/step - loss: 0.0370 - mse: 0.0370 - coef_determination: 0.9578\n",
      "Epoch 106/150\n",
      "14/14 [==============================] - 0s 641us/step - loss: 0.0367 - mse: 0.0367 - coef_determination: 0.9594\n",
      "Epoch 107/150\n",
      "14/14 [==============================] - 0s 641us/step - loss: 0.0363 - mse: 0.0363 - coef_determination: 0.9566\n",
      "Epoch 108/150\n",
      "14/14 [==============================] - 0s 570us/step - loss: 0.0360 - mse: 0.0360 - coef_determination: 0.9618\n",
      "Epoch 109/150\n",
      "14/14 [==============================] - 0s 570us/step - loss: 0.0356 - mse: 0.0356 - coef_determination: 0.9610\n",
      "Epoch 110/150\n",
      "14/14 [==============================] - 0s 641us/step - loss: 0.0354 - mse: 0.0354 - coef_determination: 0.9595\n",
      "Epoch 111/150\n",
      "14/14 [==============================] - 0s 570us/step - loss: 0.0350 - mse: 0.0350 - coef_determination: 0.9614\n",
      "Epoch 112/150\n",
      "14/14 [==============================] - 0s 570us/step - loss: 0.0347 - mse: 0.0347 - coef_determination: 0.9577\n",
      "Epoch 113/150\n",
      "14/14 [==============================] - 0s 641us/step - loss: 0.0343 - mse: 0.0343 - coef_determination: 0.9632\n",
      "Epoch 114/150\n",
      "14/14 [==============================] - 0s 641us/step - loss: 0.0340 - mse: 0.0340 - coef_determination: 0.9616\n",
      "Epoch 115/150\n",
      "14/14 [==============================] - 0s 644us/step - loss: 0.0336 - mse: 0.0336 - coef_determination: 0.9628\n",
      "Epoch 116/150\n",
      "14/14 [==============================] - 0s 641us/step - loss: 0.0334 - mse: 0.0334 - coef_determination: 0.9611\n",
      "Epoch 117/150\n",
      "14/14 [==============================] - 0s 641us/step - loss: 0.0332 - mse: 0.0332 - coef_determination: 0.9635\n",
      "Epoch 118/150\n",
      "14/14 [==============================] - 0s 641us/step - loss: 0.0330 - mse: 0.0330 - coef_determination: 0.9615\n",
      "Epoch 119/150\n",
      "14/14 [==============================] - 0s 570us/step - loss: 0.0327 - mse: 0.0327 - coef_determination: 0.9636\n",
      "Epoch 120/150\n",
      "14/14 [==============================] - 0s 641us/step - loss: 0.0323 - mse: 0.0323 - coef_determination: 0.9626\n",
      "Epoch 121/150\n",
      "14/14 [==============================] - 0s 641us/step - loss: 0.0320 - mse: 0.0320 - coef_determination: 0.9647\n",
      "Epoch 122/150\n",
      "14/14 [==============================] - 0s 570us/step - loss: 0.0320 - mse: 0.0320 - coef_determination: 0.9635\n",
      "Epoch 123/150\n",
      "14/14 [==============================] - 0s 641us/step - loss: 0.0315 - mse: 0.0315 - coef_determination: 0.9668\n",
      "Epoch 124/150\n",
      "14/14 [==============================] - 0s 641us/step - loss: 0.0314 - mse: 0.0314 - coef_determination: 0.9639\n",
      "Epoch 125/150\n",
      "14/14 [==============================] - 0s 641us/step - loss: 0.0312 - mse: 0.0312 - coef_determination: 0.9643\n",
      "Epoch 126/150\n",
      "14/14 [==============================] - 0s 641us/step - loss: 0.0309 - mse: 0.0309 - coef_determination: 0.9647\n",
      "Epoch 127/150\n",
      "14/14 [==============================] - 0s 570us/step - loss: 0.0306 - mse: 0.0306 - coef_determination: 0.9614\n",
      "Epoch 128/150\n",
      "14/14 [==============================] - 0s 712us/step - loss: 0.0305 - mse: 0.0305 - coef_determination: 0.9642\n",
      "Epoch 129/150\n",
      "14/14 [==============================] - 0s 641us/step - loss: 0.0302 - mse: 0.0302 - coef_determination: 0.9671\n",
      "Epoch 130/150\n",
      "14/14 [==============================] - 0s 641us/step - loss: 0.0301 - mse: 0.0301 - coef_determination: 0.9679\n",
      "Epoch 131/150\n",
      "14/14 [==============================] - 0s 572us/step - loss: 0.0298 - mse: 0.0298 - coef_determination: 0.9632\n",
      "Epoch 132/150\n",
      "14/14 [==============================] - 0s 638us/step - loss: 0.0296 - mse: 0.0296 - coef_determination: 0.9681\n",
      "Epoch 133/150\n",
      "14/14 [==============================] - 0s 715us/step - loss: 0.0294 - mse: 0.0294 - coef_determination: 0.9684\n",
      "Epoch 134/150\n",
      "14/14 [==============================] - 0s 784us/step - loss: 0.0292 - mse: 0.0292 - coef_determination: 0.9655\n",
      "Epoch 135/150\n",
      "14/14 [==============================] - 0s 713us/step - loss: 0.0291 - mse: 0.0291 - coef_determination: 0.9660\n",
      "Epoch 136/150\n",
      "14/14 [==============================] - 0s 709us/step - loss: 0.0289 - mse: 0.0289 - coef_determination: 0.9668\n",
      "Epoch 137/150\n",
      "14/14 [==============================] - 0s 713us/step - loss: 0.0287 - mse: 0.0287 - coef_determination: 0.9664\n",
      "Epoch 138/150\n",
      "14/14 [==============================] - 0s 781us/step - loss: 0.0285 - mse: 0.0285 - coef_determination: 0.9686\n",
      "Epoch 139/150\n",
      "14/14 [==============================] - 0s 645us/step - loss: 0.0282 - mse: 0.0282 - coef_determination: 0.9693\n",
      "Epoch 140/150\n",
      "14/14 [==============================] - 0s 784us/step - loss: 0.0282 - mse: 0.0282 - coef_determination: 0.9695\n",
      "Epoch 141/150\n",
      "14/14 [==============================] - 0s 782us/step - loss: 0.0281 - mse: 0.0281 - coef_determination: 0.9670\n",
      "Epoch 142/150\n",
      "14/14 [==============================] - 0s 641us/step - loss: 0.0279 - mse: 0.0279 - coef_determination: 0.9613\n",
      "Epoch 143/150\n",
      "14/14 [==============================] - 0s 641us/step - loss: 0.0277 - mse: 0.0277 - coef_determination: 0.9666\n",
      "Epoch 144/150\n",
      "14/14 [==============================] - 0s 781us/step - loss: 0.0276 - mse: 0.0276 - coef_determination: 0.9692\n",
      "Epoch 145/150\n",
      "14/14 [==============================] - ETA: 0s - loss: 0.0191 - mse: 0.0191 - coef_determination: 0.98 - 0s 746us/step - loss: 0.0273 - mse: 0.0273 - coef_determination: 0.9676\n",
      "Epoch 146/150\n",
      "14/14 [==============================] - 0s 710us/step - loss: 0.0273 - mse: 0.0273 - coef_determination: 0.9694\n",
      "Epoch 147/150\n",
      "14/14 [==============================] - 0s 712us/step - loss: 0.0271 - mse: 0.0271 - coef_determination: 0.9696\n",
      "Epoch 148/150\n",
      "14/14 [==============================] - 0s 781us/step - loss: 0.0269 - mse: 0.0269 - coef_determination: 0.9714\n",
      "Epoch 149/150\n",
      "14/14 [==============================] - 0s 712us/step - loss: 0.0268 - mse: 0.0268 - coef_determination: 0.9709\n",
      "Epoch 150/150\n",
      "14/14 [==============================] - 0s 638us/step - loss: 0.0267 - mse: 0.0267 - coef_determination: 0.9685\n"
     ]
    },
    {
     "data": {
      "text/plain": [
       "<tensorflow.python.keras.callbacks.History at 0x1c276c12978>"
      ]
     },
     "execution_count": 69,
     "metadata": {},
     "output_type": "execute_result"
    }
   ],
   "source": [
    "baseline_model.fit(X_train_Scaled,\n",
    "                  y_train_Scaled,\n",
    "                  epochs=150)"
   ]
  },
  {
   "cell_type": "code",
   "execution_count": 70,
   "metadata": {
    "ExecuteTime": {
     "end_time": "2020-10-27T15:49:28.457619Z",
     "start_time": "2020-10-27T15:49:28.097554Z"
    }
   },
   "outputs": [
    {
     "data": {
      "image/png": "[encoded data removed]",
      "text/plain": [
       "<Figure size 432x288 with 1 Axes>"
      ]
     },
     "metadata": {},
     "output_type": "display_data"
    },
    {
     "data": {
      "image/png": "[encoded data removed]",
      "text/plain": [
       "<Figure size 432x288 with 1 Axes>"
      ]
     },
     "metadata": {},
     "output_type": "display_data"
    },
    {
     "data": {
      "image/png": "[encoded data removed]",
      "text/plain": [
       "<Figure size 432x288 with 1 Axes>"
      ]
     },
     "metadata": {},
     "output_type": "display_data"
    }
   ],
   "source": [
    "visualize_loss_MSE(baseline_model.history)"
   ]
  },
  {
   "cell_type": "code",
   "execution_count": 71,
   "metadata": {
    "ExecuteTime": {
     "end_time": "2020-10-27T15:49:28.571315Z",
     "start_time": "2020-10-27T15:49:28.458617Z"
    }
   },
   "outputs": [
    {
     "name": "stdout",
     "output_type": "stream",
     "text": [
      "RMSE: 3.0048039182206567\n",
      "-------------------------\n",
      "Model: \"sequential\"\n",
      "_________________________________________________________________\n",
      "Layer (type)                 Output Shape              Param #   \n",
      "=================================================================\n",
      "dense (Dense)                (None, 10)                300       \n",
      "_________________________________________________________________\n",
      "dense_1 (Dense)              (None, 5)                 55        \n",
      "_________________________________________________________________\n",
      "dense_2 (Dense)              (None, 1)                 6         \n",
      "=================================================================\n",
      "Total params: 361\n",
      "Trainable params: 361\n",
      "Non-trainable params: 0\n",
      "_________________________________________________________________\n",
      "None\n"
     ]
    }
   ],
   "source": [
    "baseline_preds_scaled = baseline_model.predict(X_test_Scaled)\n",
    "baseline_preds = scaler.inverse_transform(baseline_preds_scaled)\n",
    "rmse = np.sqrt(mean_squared_error(y_test, baseline_preds))\n",
    "\n",
    "print('RMSE:', rmse)\n",
    "print('-------------------------')\n",
    "print(baseline_model.summary())"
   ]
  },
  {
   "cell_type": "markdown",
   "metadata": {},
   "source": [
    "### Overfit Model"
   ]
  },
  {
   "cell_type": "code",
   "execution_count": 72,
   "metadata": {
    "ExecuteTime": {
     "end_time": "2020-10-27T15:49:28.614341Z",
     "start_time": "2020-10-27T15:49:28.572312Z"
    }
   },
   "outputs": [],
   "source": [
    "overfit_model = Sequential()\n",
    "\n",
    "overfit_model.add(layers.Dense(10, activation='relu', input_shape=(n_features, )))\n",
    "\n",
    "overfit_model.add(layers.Dense(10, activation='relu'))\n",
    "\n",
    "overfit_model.add(layers.Dense(10, activation='relu'))\n",
    "\n",
    "overfit_model.add(layers.Dense(10, activation='relu'))\n",
    "\n",
    "overfit_model.add(layers.Dense(1, activation='linear'))\n",
    "\n",
    "overfit_model.compile(optimizer='SGD',\n",
    "              loss='mse',\n",
    "              metrics=['mse', coef_determination])\n"
   ]
  },
  {
   "cell_type": "code",
   "execution_count": 73,
   "metadata": {
    "ExecuteTime": {
     "end_time": "2020-10-27T15:49:30.961346Z",
     "start_time": "2020-10-27T15:49:28.616195Z"
    }
   },
   "outputs": [
    {
     "name": "stdout",
     "output_type": "stream",
     "text": [
      "Epoch 1/150\n",
      " 1/14 [=>............................] - ETA: 0s - loss: 1.5465 - mse: 1.5465 - coef_determination: -0.3178WARNING:tensorflow:Callbacks method `on_train_batch_end` is slow compared to the batch time (batch time: 0.0000s vs `on_train_batch_end` time: 0.0010s). Check your callbacks.\n",
      "14/14 [==============================] - 0s 786us/step - loss: 1.0838 - mse: 1.0838 - coef_determination: -0.1248\n",
      "Epoch 2/150\n",
      "14/14 [==============================] - 0s 851us/step - loss: 0.9822 - mse: 0.9822 - coef_determination: -0.0281\n",
      "Epoch 3/150\n",
      "14/14 [==============================] - 0s 785us/step - loss: 0.9399 - mse: 0.9399 - coef_determination: 0.0336\n",
      "Epoch 4/150\n",
      "14/14 [==============================] - 0s 782us/step - loss: 0.9012 - mse: 0.9012 - coef_determination: 0.0379\n",
      "Epoch 5/150\n",
      "14/14 [==============================] - 0s 784us/step - loss: 0.8657 - mse: 0.8657 - coef_determination: 0.1190\n",
      "Epoch 6/150\n",
      "14/14 [==============================] - 0s 784us/step - loss: 0.8285 - mse: 0.8285 - coef_determination: 0.1202\n",
      "Epoch 7/150\n",
      "14/14 [==============================] - 0s 717us/step - loss: 0.7891 - mse: 0.7891 - coef_determination: 0.1836\n",
      "Epoch 8/150\n",
      "14/14 [==============================] - 0s 709us/step - loss: 0.7428 - mse: 0.7428 - coef_determination: 0.2123\n",
      "Epoch 9/150\n",
      "14/14 [==============================] - 0s 715us/step - loss: 0.6902 - mse: 0.6902 - coef_determination: 0.2890\n",
      "Epoch 10/150\n",
      "14/14 [==============================] - 0s 641us/step - loss: 0.6384 - mse: 0.6384 - coef_determination: 0.3157\n",
      "Epoch 11/150\n",
      "14/14 [==============================] - 0s 712us/step - loss: 0.5848 - mse: 0.5848 - coef_determination: 0.3640\n",
      "Epoch 12/150\n",
      "14/14 [==============================] - 0s 641us/step - loss: 0.5297 - mse: 0.5297 - coef_determination: 0.4494\n",
      "Epoch 13/150\n",
      "14/14 [==============================] - 0s 712us/step - loss: 0.4768 - mse: 0.4768 - coef_determination: 0.4660\n",
      "Epoch 14/150\n",
      "14/14 [==============================] - 0s 712us/step - loss: 0.4265 - mse: 0.4265 - coef_determination: 0.5318\n",
      "Epoch 15/150\n",
      "14/14 [==============================] - 0s 645us/step - loss: 0.3837 - mse: 0.3837 - coef_determination: 0.5921\n",
      "Epoch 16/150\n",
      "14/14 [==============================] - 0s 786us/step - loss: 0.3455 - mse: 0.3455 - coef_determination: 0.6385\n",
      "Epoch 17/150\n",
      "14/14 [==============================] - 0s 640us/step - loss: 0.3177 - mse: 0.3177 - coef_determination: 0.6397\n",
      "Epoch 18/150\n",
      "14/14 [==============================] - 0s 712us/step - loss: 0.2960 - mse: 0.2960 - coef_determination: 0.6561\n",
      "Epoch 19/150\n",
      "14/14 [==============================] - 0s 641us/step - loss: 0.2776 - mse: 0.2776 - coef_determination: 0.7074\n",
      "Epoch 20/150\n",
      "14/14 [==============================] - 0s 712us/step - loss: 0.2650 - mse: 0.2650 - coef_determination: 0.7087\n",
      "Epoch 21/150\n",
      "14/14 [==============================] - 0s 641us/step - loss: 0.2537 - mse: 0.2537 - coef_determination: 0.7021\n",
      "Epoch 22/150\n",
      "14/14 [==============================] - 0s 712us/step - loss: 0.2434 - mse: 0.2434 - coef_determination: 0.7394\n",
      "Epoch 23/150\n",
      "14/14 [==============================] - 0s 712us/step - loss: 0.2355 - mse: 0.2355 - coef_determination: 0.7145\n",
      "Epoch 24/150\n",
      "14/14 [==============================] - 0s 712us/step - loss: 0.2285 - mse: 0.2285 - coef_determination: 0.7270\n",
      "Epoch 25/150\n",
      "14/14 [==============================] - 0s 644us/step - loss: 0.2220 - mse: 0.2220 - coef_determination: 0.7563\n",
      "Epoch 26/150\n",
      "14/14 [==============================] - 0s 712us/step - loss: 0.2153 - mse: 0.2153 - coef_determination: 0.7653\n",
      "Epoch 27/150\n",
      "14/14 [==============================] - 0s 712us/step - loss: 0.2114 - mse: 0.2114 - coef_determination: 0.7749\n",
      "Epoch 28/150\n",
      "14/14 [==============================] - 0s 786us/step - loss: 0.2067 - mse: 0.2067 - coef_determination: 0.7691\n",
      "Epoch 29/150\n",
      "14/14 [==============================] - 0s 855us/step - loss: 0.2026 - mse: 0.2026 - coef_determination: 0.7931\n",
      "Epoch 30/150\n",
      "14/14 [==============================] - 0s 715us/step - loss: 0.1988 - mse: 0.1988 - coef_determination: 0.7773\n",
      "Epoch 31/150\n",
      "14/14 [==============================] - 0s 712us/step - loss: 0.1955 - mse: 0.1955 - coef_determination: 0.7842\n",
      "Epoch 32/150\n",
      "14/14 [==============================] - 0s 781us/step - loss: 0.1917 - mse: 0.1917 - coef_determination: 0.7579\n",
      "Epoch 33/150\n",
      "14/14 [==============================] - 0s 782us/step - loss: 0.1895 - mse: 0.1895 - coef_determination: 0.8003\n",
      "Epoch 34/150\n",
      "14/14 [==============================] - 0s 784us/step - loss: 0.1864 - mse: 0.1864 - coef_determination: 0.7948\n",
      "Epoch 35/150\n",
      "14/14 [==============================] - 0s 712us/step - loss: 0.1833 - mse: 0.1833 - coef_determination: 0.8078\n",
      "Epoch 36/150\n",
      "14/14 [==============================] - 0s 712us/step - loss: 0.1809 - mse: 0.1809 - coef_determination: 0.8001\n",
      "Epoch 37/150\n",
      "14/14 [==============================] - 0s 784us/step - loss: 0.1775 - mse: 0.1775 - coef_determination: 0.8127\n",
      "Epoch 38/150\n",
      "14/14 [==============================] - 0s 781us/step - loss: 0.1755 - mse: 0.1755 - coef_determination: 0.8090\n",
      "Epoch 39/150\n",
      "14/14 [==============================] - 0s 712us/step - loss: 0.1724 - mse: 0.1724 - coef_determination: 0.8061\n",
      "Epoch 40/150\n",
      "14/14 [==============================] - 0s 715us/step - loss: 0.1695 - mse: 0.1695 - coef_determination: 0.8157\n",
      "Epoch 41/150\n",
      "14/14 [==============================] - 0s 709us/step - loss: 0.1668 - mse: 0.1668 - coef_determination: 0.8026\n",
      "Epoch 42/150\n",
      "14/14 [==============================] - 0s 639us/step - loss: 0.1648 - mse: 0.1648 - coef_determination: 0.8274\n",
      "Epoch 43/150\n",
      "14/14 [==============================] - 0s 781us/step - loss: 0.1618 - mse: 0.1618 - coef_determination: 0.8083\n",
      "Epoch 44/150\n",
      "14/14 [==============================] - 0s 710us/step - loss: 0.1592 - mse: 0.1592 - coef_determination: 0.8230\n",
      "Epoch 45/150\n",
      "14/14 [==============================] - 0s 641us/step - loss: 0.1571 - mse: 0.1571 - coef_determination: 0.8323\n",
      "Epoch 46/150\n",
      "14/14 [==============================] - 0s 641us/step - loss: 0.1546 - mse: 0.1546 - coef_determination: 0.8256\n",
      "Epoch 47/150\n",
      "14/14 [==============================] - 0s 641us/step - loss: 0.1532 - mse: 0.1532 - coef_determination: 0.8240\n",
      "Epoch 48/150\n",
      "14/14 [==============================] - 0s 715us/step - loss: 0.1501 - mse: 0.1501 - coef_determination: 0.8242\n",
      "Epoch 49/150\n",
      "14/14 [==============================] - 0s 712us/step - loss: 0.1479 - mse: 0.1479 - coef_determination: 0.8338\n",
      "Epoch 50/150\n",
      "14/14 [==============================] - 0s 641us/step - loss: 0.1461 - mse: 0.1461 - coef_determination: 0.8399\n",
      "Epoch 51/150\n",
      "14/14 [==============================] - 0s 712us/step - loss: 0.1434 - mse: 0.1434 - coef_determination: 0.8403\n",
      "Epoch 52/150\n",
      "14/14 [==============================] - 0s 640us/step - loss: 0.1410 - mse: 0.1410 - coef_determination: 0.8278\n",
      "Epoch 53/150\n",
      "14/14 [==============================] - 0s 639us/step - loss: 0.1392 - mse: 0.1392 - coef_determination: 0.8384\n",
      "Epoch 54/150\n",
      "14/14 [==============================] - 0s 641us/step - loss: 0.1371 - mse: 0.1371 - coef_determination: 0.8410\n",
      "Epoch 55/150\n",
      "14/14 [==============================] - 0s 716us/step - loss: 0.1356 - mse: 0.1356 - coef_determination: 0.8462\n",
      "Epoch 56/150\n",
      "14/14 [==============================] - 0s 712us/step - loss: 0.1331 - mse: 0.1331 - coef_determination: 0.8591\n",
      "Epoch 57/150\n",
      "14/14 [==============================] - 0s 717us/step - loss: 0.1314 - mse: 0.1314 - coef_determination: 0.8578\n",
      "Epoch 58/150\n",
      "14/14 [==============================] - 0s 713us/step - loss: 0.1298 - mse: 0.1298 - coef_determination: 0.8438\n",
      "Epoch 59/150\n",
      "14/14 [==============================] - 0s 668us/step - loss: 0.1276 - mse: 0.1276 - coef_determination: 0.8559\n",
      "Epoch 60/150\n",
      "14/14 [==============================] - 0s 712us/step - loss: 0.1265 - mse: 0.1265 - coef_determination: 0.8706\n",
      "Epoch 61/150\n",
      "14/14 [==============================] - 0s 784us/step - loss: 0.1245 - mse: 0.1245 - coef_determination: 0.8611\n",
      "Epoch 62/150\n",
      "14/14 [==============================] - 0s 781us/step - loss: 0.1220 - mse: 0.1220 - coef_determination: 0.8709\n",
      "Epoch 63/150\n",
      "14/14 [==============================] - 0s 712us/step - loss: 0.1203 - mse: 0.1203 - coef_determination: 0.8697\n",
      "Epoch 64/150\n",
      "14/14 [==============================] - 0s 709us/step - loss: 0.1186 - mse: 0.1186 - coef_determination: 0.8743\n",
      "Epoch 65/150\n",
      "14/14 [==============================] - 0s 641us/step - loss: 0.1167 - mse: 0.1167 - coef_determination: 0.8670\n",
      "Epoch 66/150\n",
      "14/14 [==============================] - 0s 712us/step - loss: 0.1145 - mse: 0.1145 - coef_determination: 0.8823\n",
      "Epoch 67/150\n",
      "14/14 [==============================] - 0s 712us/step - loss: 0.1125 - mse: 0.1125 - coef_determination: 0.8614\n",
      "Epoch 68/150\n",
      "14/14 [==============================] - 0s 710us/step - loss: 0.1099 - mse: 0.1099 - coef_determination: 0.8778\n",
      "Epoch 69/150\n",
      "14/14 [==============================] - 0s 709us/step - loss: 0.1083 - mse: 0.1083 - coef_determination: 0.8786\n",
      "Epoch 70/150\n",
      "14/14 [==============================] - 0s 784us/step - loss: 0.1066 - mse: 0.1066 - coef_determination: 0.8767\n",
      "Epoch 71/150\n",
      "14/14 [==============================] - 0s 644us/step - loss: 0.1043 - mse: 0.1043 - coef_determination: 0.8849\n",
      "Epoch 72/150\n",
      "14/14 [==============================] - 0s 712us/step - loss: 0.1037 - mse: 0.1037 - coef_determination: 0.8871\n",
      "Epoch 73/150\n",
      "14/14 [==============================] - 0s 712us/step - loss: 0.1015 - mse: 0.1015 - coef_determination: 0.8902\n",
      "Epoch 74/150\n",
      "14/14 [==============================] - 0s 641us/step - loss: 0.0999 - mse: 0.0999 - coef_determination: 0.8860\n",
      "Epoch 75/150\n",
      "14/14 [==============================] - 0s 783us/step - loss: 0.0982 - mse: 0.0982 - coef_determination: 0.8912\n",
      "Epoch 76/150\n",
      "14/14 [==============================] - 0s 710us/step - loss: 0.0965 - mse: 0.0965 - coef_determination: 0.8860\n",
      "Epoch 77/150\n",
      "14/14 [==============================] - 0s 712us/step - loss: 0.0952 - mse: 0.0952 - coef_determination: 0.8837\n",
      "Epoch 78/150\n",
      "14/14 [==============================] - 0s 781us/step - loss: 0.0937 - mse: 0.0937 - coef_determination: 0.8890\n",
      "Epoch 79/150\n",
      "14/14 [==============================] - 0s 710us/step - loss: 0.0924 - mse: 0.0924 - coef_determination: 0.8965\n",
      "Epoch 80/150\n",
      "14/14 [==============================] - 0s 856us/step - loss: 0.0907 - mse: 0.0907 - coef_determination: 0.9051\n",
      "Epoch 81/150\n",
      "14/14 [==============================] - 0s 712us/step - loss: 0.0898 - mse: 0.0898 - coef_determination: 0.8927\n",
      "Epoch 82/150\n",
      "14/14 [==============================] - 0s 641us/step - loss: 0.0885 - mse: 0.0885 - coef_determination: 0.9024\n",
      "Epoch 83/150\n",
      "14/14 [==============================] - 0s 712us/step - loss: 0.0876 - mse: 0.0876 - coef_determination: 0.8980\n",
      "Epoch 84/150\n",
      "14/14 [==============================] - 0s 715us/step - loss: 0.0866 - mse: 0.0866 - coef_determination: 0.8982\n",
      "Epoch 85/150\n",
      "14/14 [==============================] - 0s 926us/step - loss: 0.0847 - mse: 0.0847 - coef_determination: 0.8997\n",
      "Epoch 86/150\n",
      "14/14 [==============================] - 0s 712us/step - loss: 0.0838 - mse: 0.0838 - coef_determination: 0.8944\n",
      "Epoch 87/150\n",
      "14/14 [==============================] - 0s 712us/step - loss: 0.0824 - mse: 0.0824 - coef_determination: 0.8984\n",
      "Epoch 88/150\n",
      "14/14 [==============================] - 0s 712us/step - loss: 0.0815 - mse: 0.0815 - coef_determination: 0.8921\n",
      "Epoch 89/150\n",
      "14/14 [==============================] - 0s 641us/step - loss: 0.0807 - mse: 0.0807 - coef_determination: 0.8995\n",
      "Epoch 90/150\n",
      "14/14 [==============================] - 0s 710us/step - loss: 0.0796 - mse: 0.0796 - coef_determination: 0.9144\n",
      "Epoch 91/150\n",
      "14/14 [==============================] - 0s 784us/step - loss: 0.0785 - mse: 0.0785 - coef_determination: 0.9194\n",
      "Epoch 92/150\n",
      "14/14 [==============================] - 0s 710us/step - loss: 0.0772 - mse: 0.0772 - coef_determination: 0.9183\n",
      "Epoch 93/150\n",
      "14/14 [==============================] - 0s 639us/step - loss: 0.0767 - mse: 0.0767 - coef_determination: 0.9074\n",
      "Epoch 94/150\n",
      "14/14 [==============================] - 0s 640us/step - loss: 0.0757 - mse: 0.0757 - coef_determination: 0.9155\n",
      "Epoch 95/150\n",
      "14/14 [==============================] - 0s 712us/step - loss: 0.0751 - mse: 0.0751 - coef_determination: 0.9178\n",
      "Epoch 96/150\n",
      "14/14 [==============================] - 0s 710us/step - loss: 0.0741 - mse: 0.0741 - coef_determination: 0.9176\n",
      "Epoch 97/150\n",
      "14/14 [==============================] - 0s 712us/step - loss: 0.0731 - mse: 0.0731 - coef_determination: 0.9204\n",
      "Epoch 98/150\n",
      "14/14 [==============================] - 0s 637us/step - loss: 0.0725 - mse: 0.0725 - coef_determination: 0.9155\n",
      "Epoch 99/150\n",
      "14/14 [==============================] - 0s 641us/step - loss: 0.0715 - mse: 0.0715 - coef_determination: 0.9237\n",
      "Epoch 100/150\n",
      "14/14 [==============================] - 0s 713us/step - loss: 0.0708 - mse: 0.0708 - coef_determination: 0.9236\n",
      "Epoch 101/150\n",
      "14/14 [==============================] - 0s 710us/step - loss: 0.0702 - mse: 0.0702 - coef_determination: 0.9215\n",
      "Epoch 102/150\n",
      "14/14 [==============================] - 0s 710us/step - loss: 0.0694 - mse: 0.0694 - coef_determination: 0.9217\n",
      "Epoch 103/150\n",
      "14/14 [==============================] - 0s 641us/step - loss: 0.0686 - mse: 0.0686 - coef_determination: 0.9154\n",
      "Epoch 104/150\n",
      "14/14 [==============================] - 0s 782us/step - loss: 0.0681 - mse: 0.0681 - coef_determination: 0.9130\n",
      "Epoch 105/150\n",
      "14/14 [==============================] - 0s 713us/step - loss: 0.0672 - mse: 0.0672 - coef_determination: 0.9221\n",
      "Epoch 106/150\n",
      "14/14 [==============================] - ETA: 0s - loss: 0.0811 - mse: 0.0811 - coef_determination: 0.92 - 0s 638us/step - loss: 0.0668 - mse: 0.0668 - coef_determination: 0.9304\n",
      "Epoch 107/150\n",
      "14/14 [==============================] - 0s 709us/step - loss: 0.0655 - mse: 0.0655 - coef_determination: 0.9294\n",
      "Epoch 108/150\n",
      "14/14 [==============================] - 0s 713us/step - loss: 0.0649 - mse: 0.0649 - coef_determination: 0.9222\n",
      "Epoch 109/150\n",
      "14/14 [==============================] - 0s 710us/step - loss: 0.0641 - mse: 0.0641 - coef_determination: 0.9293\n",
      "Epoch 110/150\n",
      "14/14 [==============================] - 0s 710us/step - loss: 0.0636 - mse: 0.0636 - coef_determination: 0.9311\n",
      "Epoch 111/150\n",
      "14/14 [==============================] - 0s 641us/step - loss: 0.0628 - mse: 0.0628 - coef_determination: 0.9301\n",
      "Epoch 112/150\n",
      "14/14 [==============================] - 0s 712us/step - loss: 0.0623 - mse: 0.0623 - coef_determination: 0.9262\n",
      "Epoch 113/150\n",
      "14/14 [==============================] - 0s 642us/step - loss: 0.0618 - mse: 0.0618 - coef_determination: 0.9356\n",
      "Epoch 114/150\n",
      "14/14 [==============================] - ETA: 0s - loss: 0.0499 - mse: 0.0499 - coef_determination: 0.89 - 0s 715us/step - loss: 0.0615 - mse: 0.0615 - coef_determination: 0.9283\n",
      "Epoch 115/150\n",
      "14/14 [==============================] - 0s 640us/step - loss: 0.0604 - mse: 0.0604 - coef_determination: 0.9272\n",
      "Epoch 116/150\n",
      "14/14 [==============================] - 0s 641us/step - loss: 0.0599 - mse: 0.0599 - coef_determination: 0.9389\n",
      "Epoch 117/150\n",
      "14/14 [==============================] - 0s 712us/step - loss: 0.0595 - mse: 0.0595 - coef_determination: 0.9357\n",
      "Epoch 118/150\n",
      "14/14 [==============================] - 0s 783us/step - loss: 0.0588 - mse: 0.0588 - coef_determination: 0.9332\n",
      "Epoch 119/150\n",
      "14/14 [==============================] - 0s 721us/step - loss: 0.0586 - mse: 0.0586 - coef_determination: 0.9356\n",
      "Epoch 120/150\n",
      "14/14 [==============================] - 0s 712us/step - loss: 0.0581 - mse: 0.0581 - coef_determination: 0.9274\n",
      "Epoch 121/150\n",
      "14/14 [==============================] - 0s 712us/step - loss: 0.0576 - mse: 0.0576 - coef_determination: 0.9363\n",
      "Epoch 122/150\n",
      "14/14 [==============================] - 0s 705us/step - loss: 0.0567 - mse: 0.0567 - coef_determination: 0.9212\n",
      "Epoch 123/150\n",
      "14/14 [==============================] - 0s 710us/step - loss: 0.0562 - mse: 0.0562 - coef_determination: 0.9365\n",
      "Epoch 124/150\n",
      "14/14 [==============================] - 0s 926us/step - loss: 0.0559 - mse: 0.0559 - coef_determination: 0.9404\n",
      "Epoch 125/150\n",
      "14/14 [==============================] - 0s 855us/step - loss: 0.0553 - mse: 0.0553 - coef_determination: 0.9258\n",
      "Epoch 126/150\n"
     ]
    },
    {
     "name": "stdout",
     "output_type": "stream",
     "text": [
      "14/14 [==============================] - 0s 784us/step - loss: 0.0549 - mse: 0.0549 - coef_determination: 0.9400\n",
      "Epoch 127/150\n",
      "14/14 [==============================] - 0s 712us/step - loss: 0.0544 - mse: 0.0544 - coef_determination: 0.9390\n",
      "Epoch 128/150\n",
      "14/14 [==============================] - 0s 712us/step - loss: 0.0540 - mse: 0.0540 - coef_determination: 0.9364\n",
      "Epoch 129/150\n",
      "14/14 [==============================] - 0s 857us/step - loss: 0.0534 - mse: 0.0534 - coef_determination: 0.9411\n",
      "Epoch 130/150\n",
      "14/14 [==============================] - 0s 784us/step - loss: 0.0529 - mse: 0.0529 - coef_determination: 0.9449\n",
      "Epoch 131/150\n",
      "14/14 [==============================] - 0s 641us/step - loss: 0.0525 - mse: 0.0525 - coef_determination: 0.9412\n",
      "Epoch 132/150\n",
      "14/14 [==============================] - 0s 855us/step - loss: 0.0521 - mse: 0.0521 - coef_determination: 0.9405\n",
      "Epoch 133/150\n",
      "14/14 [==============================] - 0s 784us/step - loss: 0.0516 - mse: 0.0516 - coef_determination: 0.9390\n",
      "Epoch 134/150\n",
      "14/14 [==============================] - 0s 713us/step - loss: 0.0509 - mse: 0.0509 - coef_determination: 0.9388\n",
      "Epoch 135/150\n",
      "14/14 [==============================] - 0s 641us/step - loss: 0.0505 - mse: 0.0505 - coef_determination: 0.9455\n",
      "Epoch 136/150\n",
      "14/14 [==============================] - 0s 641us/step - loss: 0.0502 - mse: 0.0502 - coef_determination: 0.9455\n",
      "Epoch 137/150\n",
      "14/14 [==============================] - 0s 855us/step - loss: 0.0497 - mse: 0.0497 - coef_determination: 0.9481\n",
      "Epoch 138/150\n",
      "14/14 [==============================] - 0s 784us/step - loss: 0.0492 - mse: 0.0492 - coef_determination: 0.9283\n",
      "Epoch 139/150\n",
      "14/14 [==============================] - 0s 712us/step - loss: 0.0489 - mse: 0.0489 - coef_determination: 0.9400\n",
      "Epoch 140/150\n",
      "14/14 [==============================] - 0s 712us/step - loss: 0.0485 - mse: 0.0485 - coef_determination: 0.9448\n",
      "Epoch 141/150\n",
      "14/14 [==============================] - 0s 713us/step - loss: 0.0479 - mse: 0.0479 - coef_determination: 0.9504\n",
      "Epoch 142/150\n",
      "14/14 [==============================] - 0s 715us/step - loss: 0.0477 - mse: 0.0477 - coef_determination: 0.9479\n",
      "Epoch 143/150\n",
      "14/14 [==============================] - 0s 641us/step - loss: 0.0473 - mse: 0.0473 - coef_determination: 0.9462\n",
      "Epoch 144/150\n",
      "14/14 [==============================] - 0s 787us/step - loss: 0.0467 - mse: 0.0467 - coef_determination: 0.9505\n",
      "Epoch 145/150\n",
      "14/14 [==============================] - 0s 712us/step - loss: 0.0461 - mse: 0.0461 - coef_determination: 0.9510\n",
      "Epoch 146/150\n",
      "14/14 [==============================] - 0s 784us/step - loss: 0.0460 - mse: 0.0460 - coef_determination: 0.9483\n",
      "Epoch 147/150\n",
      "14/14 [==============================] - ETA: 0s - loss: 0.0226 - mse: 0.0226 - coef_determination: 0.97 - 0s 712us/step - loss: 0.0461 - mse: 0.0461 - coef_determination: 0.9435\n",
      "Epoch 148/150\n",
      "14/14 [==============================] - 0s 712us/step - loss: 0.0453 - mse: 0.0453 - coef_determination: 0.9506\n",
      "Epoch 149/150\n",
      "14/14 [==============================] - 0s 641us/step - loss: 0.0446 - mse: 0.0446 - coef_determination: 0.9471\n",
      "Epoch 150/150\n",
      "14/14 [==============================] - 0s 713us/step - loss: 0.0445 - mse: 0.0445 - coef_determination: 0.9524\n"
     ]
    },
    {
     "data": {
      "text/plain": [
       "<tensorflow.python.keras.callbacks.History at 0x1c2771332b0>"
      ]
     },
     "execution_count": 73,
     "metadata": {},
     "output_type": "execute_result"
    }
   ],
   "source": [
    "overfit_model.fit(X_train_Scaled,\n",
    "                  y_train_Scaled,\n",
    "                  epochs=150)"
   ]
  },
  {
   "cell_type": "code",
   "execution_count": 74,
   "metadata": {
    "ExecuteTime": {
     "end_time": "2020-10-27T15:49:31.372242Z",
     "start_time": "2020-10-27T15:49:30.962339Z"
    }
   },
   "outputs": [
    {
     "data": {
      "image/png": "[encoded data removed]",
      "text/plain": [
       "<Figure size 432x288 with 1 Axes>"
      ]
     },
     "metadata": {},
     "output_type": "display_data"
    },
    {
     "data": {
      "image/png": "[encoded data removed]",
      "text/plain": [
       "<Figure size 432x288 with 1 Axes>"
      ]
     },
     "metadata": {},
     "output_type": "display_data"
    },
    {
     "data": {
      "image/png": "[encoded data removed]",
      "text/plain": [
       "<Figure size 432x288 with 1 Axes>"
      ]
     },
     "metadata": {},
     "output_type": "display_data"
    }
   ],
   "source": [
    "visualize_loss_MSE(overfit_model.history)"
   ]
  },
  {
   "cell_type": "code",
   "execution_count": 75,
   "metadata": {
    "ExecuteTime": {
     "end_time": "2020-10-27T15:49:31.463525Z",
     "start_time": "2020-10-27T15:49:31.373241Z"
    }
   },
   "outputs": [
    {
     "name": "stdout",
     "output_type": "stream",
     "text": [
      "RMSE: 3.987558806459101\n",
      "-------------------------\n",
      "Model: \"sequential_1\"\n",
      "_________________________________________________________________\n",
      "Layer (type)                 Output Shape              Param #   \n",
      "=================================================================\n",
      "dense_3 (Dense)              (None, 10)                300       \n",
      "_________________________________________________________________\n",
      "dense_4 (Dense)              (None, 10)                110       \n",
      "_________________________________________________________________\n",
      "dense_5 (Dense)              (None, 10)                110       \n",
      "_________________________________________________________________\n",
      "dense_6 (Dense)              (None, 10)                110       \n",
      "_________________________________________________________________\n",
      "dense_7 (Dense)              (None, 1)                 11        \n",
      "=================================================================\n",
      "Total params: 641\n",
      "Trainable params: 641\n",
      "Non-trainable params: 0\n",
      "_________________________________________________________________\n",
      "None\n"
     ]
    }
   ],
   "source": [
    "overfit_preds_scaled = overfit_model.predict(X_test_Scaled)\n",
    "overfit_preds = scaler.inverse_transform(overfit_preds_scaled)\n",
    "rmse = np.sqrt(mean_squared_error(y_test, overfit_preds))\n",
    "\n",
    "print('RMSE:', rmse)\n",
    "print('-------------------------')\n",
    "print(overfit_model.summary())"
   ]
  },
  {
   "cell_type": "markdown",
   "metadata": {},
   "source": [
    "### Regularized Model"
   ]
  },
  {
   "cell_type": "code",
   "execution_count": 76,
   "metadata": {
    "ExecuteTime": {
     "end_time": "2020-10-27T15:49:31.514411Z",
     "start_time": "2020-10-27T15:49:31.464538Z"
    }
   },
   "outputs": [],
   "source": [
    "reg_model = Sequential()\n",
    "\n",
    "reg_model.add(layers.Dense(10, kernel_regularizer=regularizers.L2(0.005),\n",
    "                           activation='relu', input_shape=(n_features, )))\n",
    "\n",
    "reg_model.add(layers.Dense(10, kernel_regularizer=regularizers.L2(0.005),\n",
    "                           activation='relu'))\n",
    "\n",
    "reg_model.add(layers.Dense(10, kernel_regularizer=regularizers.L2(0.005),\n",
    "                           activation='relu'))\n",
    "\n",
    "reg_model.add(layers.Dense(10, kernel_regularizer=regularizers.L2(0.005),\n",
    "                           activation='relu'))\n",
    "\n",
    "reg_model.add(layers.Dense(10, kernel_regularizer=regularizers.L2(0.005),\n",
    "                           activation='relu'))\n",
    "\n",
    "reg_model.add(layers.Dense(1, activation='linear'))\n",
    "\n",
    "reg_model.compile(optimizer='SGD',\n",
    "              loss='mse',\n",
    "              metrics=['mse', coef_determination])\n"
   ]
  },
  {
   "cell_type": "code",
   "execution_count": 77,
   "metadata": {
    "ExecuteTime": {
     "end_time": "2020-10-27T15:49:34.072558Z",
     "start_time": "2020-10-27T15:49:31.515371Z"
    }
   },
   "outputs": [
    {
     "name": "stdout",
     "output_type": "stream",
     "text": [
      "Epoch 1/150\n",
      "14/14 [==============================] - 0s 925us/step - loss: 1.2839 - mse: 0.9994 - coef_determination: -0.0409\n",
      "Epoch 2/150\n",
      "14/14 [==============================] - 0s 997us/step - loss: 1.2631 - mse: 0.9794 - coef_determination: -0.0276\n",
      "Epoch 3/150\n",
      "14/14 [==============================] - 0s 926us/step - loss: 1.2522 - mse: 0.9692 - coef_determination: -0.0795\n",
      "Epoch 4/150\n",
      "14/14 [==============================] - 0s 997us/step - loss: 1.2371 - mse: 0.9549 - coef_determination: 0.0195\n",
      "Epoch 5/150\n",
      "14/14 [==============================] - 0s 855us/step - loss: 1.2275 - mse: 0.9460 - coef_determination: -0.0067\n",
      "Epoch 6/150\n",
      "14/14 [==============================] - 0s 855us/step - loss: 1.2157 - mse: 0.9347 - coef_determination: 0.0423\n",
      "Epoch 7/150\n",
      "14/14 [==============================] - 0s 783us/step - loss: 1.2062 - mse: 0.9259 - coef_determination: 0.0408\n",
      "Epoch 8/150\n",
      "14/14 [==============================] - 0s 712us/step - loss: 1.1995 - mse: 0.9197 - coef_determination: -0.0033\n",
      "Epoch 9/150\n",
      "14/14 [==============================] - 0s 712us/step - loss: 1.1879 - mse: 0.9086 - coef_determination: 0.0147\n",
      "Epoch 10/150\n",
      "14/14 [==============================] - 0s 784us/step - loss: 1.1728 - mse: 0.8939 - coef_determination: 0.0741\n",
      "Epoch 11/150\n",
      "14/14 [==============================] - 0s 855us/step - loss: 1.1608 - mse: 0.8825 - coef_determination: 0.0882\n",
      "Epoch 12/150\n",
      "14/14 [==============================] - 0s 926us/step - loss: 1.1474 - mse: 0.8693 - coef_determination: 0.0990\n",
      "Epoch 13/150\n",
      "14/14 [==============================] - 0s 855us/step - loss: 1.1330 - mse: 0.8554 - coef_determination: 0.1197\n",
      "Epoch 14/150\n",
      "14/14 [==============================] - 0s 855us/step - loss: 1.1158 - mse: 0.8384 - coef_determination: 0.1380\n",
      "Epoch 15/150\n",
      "14/14 [==============================] - 0s 784us/step - loss: 1.1014 - mse: 0.8243 - coef_determination: 0.1423\n",
      "Epoch 16/150\n",
      "14/14 [==============================] - 0s 784us/step - loss: 1.0837 - mse: 0.8069 - coef_determination: 0.1605\n",
      "Epoch 17/150\n",
      "14/14 [==============================] - 0s 784us/step - loss: 1.0621 - mse: 0.7855 - coef_determination: 0.1740\n",
      "Epoch 18/150\n",
      "14/14 [==============================] - 0s 858us/step - loss: 1.0400 - mse: 0.7636 - coef_determination: 0.2039\n",
      "Epoch 19/150\n",
      "14/14 [==============================] - 0s 784us/step - loss: 1.0176 - mse: 0.7414 - coef_determination: 0.2517\n",
      "Epoch 20/150\n",
      "14/14 [==============================] - 0s 712us/step - loss: 0.9949 - mse: 0.7189 - coef_determination: 0.2223\n",
      "Epoch 21/150\n",
      "14/14 [==============================] - 0s 784us/step - loss: 0.9696 - mse: 0.6935 - coef_determination: 0.2621\n",
      "Epoch 22/150\n",
      "14/14 [==============================] - 0s 711us/step - loss: 0.9420 - mse: 0.6662 - coef_determination: 0.2940\n",
      "Epoch 23/150\n",
      "14/14 [==============================] - 0s 712us/step - loss: 0.9084 - mse: 0.6326 - coef_determination: 0.3303\n",
      "Epoch 24/150\n",
      "14/14 [==============================] - 0s 784us/step - loss: 0.8791 - mse: 0.6032 - coef_determination: 0.3380\n",
      "Epoch 25/150\n",
      "14/14 [==============================] - 0s 784us/step - loss: 0.8457 - mse: 0.5699 - coef_determination: 0.3970\n",
      "Epoch 26/150\n",
      "14/14 [==============================] - 0s 784us/step - loss: 0.8118 - mse: 0.5360 - coef_determination: 0.4165\n",
      "Epoch 27/150\n",
      "14/14 [==============================] - 0s 855us/step - loss: 0.7743 - mse: 0.4985 - coef_determination: 0.4847\n",
      "Epoch 28/150\n",
      "14/14 [==============================] - 0s 712us/step - loss: 0.7360 - mse: 0.4602 - coef_determination: 0.5110\n",
      "Epoch 29/150\n",
      "14/14 [==============================] - 0s 786us/step - loss: 0.6929 - mse: 0.4171 - coef_determination: 0.5358\n",
      "Epoch 30/150\n",
      "14/14 [==============================] - 0s 712us/step - loss: 0.6573 - mse: 0.3816 - coef_determination: 0.5827\n",
      "Epoch 31/150\n",
      "14/14 [==============================] - 0s 712us/step - loss: 0.6200 - mse: 0.3441 - coef_determination: 0.5109\n",
      "Epoch 32/150\n",
      "14/14 [==============================] - 0s 712us/step - loss: 0.5911 - mse: 0.3155 - coef_determination: 0.6513\n",
      "Epoch 33/150\n",
      "14/14 [==============================] - 0s 715us/step - loss: 0.5570 - mse: 0.2816 - coef_determination: 0.6751\n",
      "Epoch 34/150\n",
      "14/14 [==============================] - 0s 784us/step - loss: 0.5376 - mse: 0.2626 - coef_determination: 0.6727\n",
      "Epoch 35/150\n",
      "14/14 [==============================] - 0s 787us/step - loss: 0.5058 - mse: 0.2312 - coef_determination: 0.7495\n",
      "Epoch 36/150\n",
      "14/14 [==============================] - 0s 784us/step - loss: 0.4850 - mse: 0.2108 - coef_determination: 0.7766\n",
      "Epoch 37/150\n",
      "14/14 [==============================] - 0s 712us/step - loss: 0.4761 - mse: 0.2025 - coef_determination: 0.7696\n",
      "Epoch 38/150\n",
      "14/14 [==============================] - 0s 784us/step - loss: 0.4637 - mse: 0.1908 - coef_determination: 0.7869\n",
      "Epoch 39/150\n",
      "14/14 [==============================] - 0s 784us/step - loss: 0.4498 - mse: 0.1775 - coef_determination: 0.8015\n",
      "Epoch 40/150\n",
      "14/14 [==============================] - 0s 783us/step - loss: 0.4376 - mse: 0.1660 - coef_determination: 0.8219\n",
      "Epoch 41/150\n",
      "14/14 [==============================] - 0s 786us/step - loss: 0.4296 - mse: 0.1586 - coef_determination: 0.8302\n",
      "Epoch 42/150\n",
      "14/14 [==============================] - 0s 781us/step - loss: 0.4264 - mse: 0.1561 - coef_determination: 0.8235\n",
      "Epoch 43/150\n",
      "14/14 [==============================] - 0s 852us/step - loss: 0.4145 - mse: 0.1451 - coef_determination: 0.8409\n",
      "Epoch 44/150\n",
      "14/14 [==============================] - 0s 715us/step - loss: 0.4059 - mse: 0.1370 - coef_determination: 0.8551\n",
      "Epoch 45/150\n",
      "14/14 [==============================] - 0s 784us/step - loss: 0.3965 - mse: 0.1282 - coef_determination: 0.8519\n",
      "Epoch 46/150\n",
      "14/14 [==============================] - 0s 712us/step - loss: 0.3976 - mse: 0.1302 - coef_determination: 0.8623\n",
      "Epoch 47/150\n",
      "14/14 [==============================] - 0s 784us/step - loss: 0.3858 - mse: 0.1190 - coef_determination: 0.8738\n",
      "Epoch 48/150\n",
      "14/14 [==============================] - 0s 712us/step - loss: 0.3822 - mse: 0.1162 - coef_determination: 0.8757\n",
      "Epoch 49/150\n",
      "14/14 [==============================] - 0s 712us/step - loss: 0.3754 - mse: 0.1100 - coef_determination: 0.8655\n",
      "Epoch 50/150\n",
      "14/14 [==============================] - 0s 713us/step - loss: 0.3704 - mse: 0.1058 - coef_determination: 0.8840\n",
      "Epoch 51/150\n",
      "14/14 [==============================] - 0s 712us/step - loss: 0.3658 - mse: 0.1017 - coef_determination: 0.8791\n",
      "Epoch 52/150\n",
      "14/14 [==============================] - 0s 784us/step - loss: 0.3620 - mse: 0.0987 - coef_determination: 0.8931\n",
      "Epoch 53/150\n",
      "14/14 [==============================] - 0s 784us/step - loss: 0.3591 - mse: 0.0964 - coef_determination: 0.8977\n",
      "Epoch 54/150\n",
      "14/14 [==============================] - 0s 784us/step - loss: 0.3554 - mse: 0.0934 - coef_determination: 0.8927\n",
      "Epoch 55/150\n",
      "14/14 [==============================] - 0s 784us/step - loss: 0.3516 - mse: 0.0903 - coef_determination: 0.9094\n",
      "Epoch 56/150\n",
      "14/14 [==============================] - 0s 784us/step - loss: 0.3479 - mse: 0.0873 - coef_determination: 0.9035\n",
      "Epoch 57/150\n",
      "14/14 [==============================] - 0s 784us/step - loss: 0.3459 - mse: 0.0858 - coef_determination: 0.9097\n",
      "Epoch 58/150\n",
      "14/14 [==============================] - 0s 784us/step - loss: 0.3423 - mse: 0.0829 - coef_determination: 0.9036\n",
      "Epoch 59/150\n",
      "14/14 [==============================] - 0s 786us/step - loss: 0.3394 - mse: 0.0807 - coef_determination: 0.9088\n",
      "Epoch 60/150\n",
      "14/14 [==============================] - 0s 784us/step - loss: 0.3367 - mse: 0.0787 - coef_determination: 0.9065\n",
      "Epoch 61/150\n",
      "14/14 [==============================] - 0s 794us/step - loss: 0.3353 - mse: 0.0778 - coef_determination: 0.9143\n",
      "Epoch 62/150\n",
      "14/14 [==============================] - 0s 715us/step - loss: 0.3317 - mse: 0.0750 - coef_determination: 0.9095\n",
      "Epoch 63/150\n",
      "14/14 [==============================] - 0s 784us/step - loss: 0.3299 - mse: 0.0739 - coef_determination: 0.9111\n",
      "Epoch 64/150\n",
      "14/14 [==============================] - 0s 784us/step - loss: 0.3266 - mse: 0.0710 - coef_determination: 0.9244\n",
      "Epoch 65/150\n",
      "14/14 [==============================] - 0s 641us/step - loss: 0.3265 - mse: 0.0717 - coef_determination: 0.9182\n",
      "Epoch 66/150\n"
     ]
    },
    {
     "name": "stdout",
     "output_type": "stream",
     "text": [
      "14/14 [==============================] - 0s 712us/step - loss: 0.3228 - mse: 0.0685 - coef_determination: 0.9208\n",
      "Epoch 67/150\n",
      "14/14 [==============================] - 0s 712us/step - loss: 0.3212 - mse: 0.0677 - coef_determination: 0.9244\n",
      "Epoch 68/150\n",
      "14/14 [==============================] - 0s 712us/step - loss: 0.3187 - mse: 0.0657 - coef_determination: 0.9121\n",
      "Epoch 69/150\n",
      "14/14 [==============================] - 0s 712us/step - loss: 0.3174 - mse: 0.0650 - coef_determination: 0.9314\n",
      "Epoch 70/150\n",
      "14/14 [==============================] - 0s 784us/step - loss: 0.3155 - mse: 0.0638 - coef_determination: 0.9291\n",
      "Epoch 71/150\n",
      "14/14 [==============================] - 0s 787us/step - loss: 0.3126 - mse: 0.0615 - coef_determination: 0.9296\n",
      "Epoch 72/150\n",
      "14/14 [==============================] - 0s 712us/step - loss: 0.3127 - mse: 0.0622 - coef_determination: 0.9292\n",
      "Epoch 73/150\n",
      "14/14 [==============================] - 0s 869us/step - loss: 0.3115 - mse: 0.0618 - coef_determination: 0.9316\n",
      "Epoch 74/150\n",
      "14/14 [==============================] - 0s 782us/step - loss: 0.3069 - mse: 0.0577 - coef_determination: 0.9379\n",
      "Epoch 75/150\n",
      "14/14 [==============================] - 0s 786us/step - loss: 0.3086 - mse: 0.0600 - coef_determination: 0.9326\n",
      "Epoch 76/150\n",
      "14/14 [==============================] - 0s 856us/step - loss: 0.3051 - mse: 0.0571 - coef_determination: 0.9354\n",
      "Epoch 77/150\n",
      "14/14 [==============================] - 0s 785us/step - loss: 0.3042 - mse: 0.0568 - coef_determination: 0.9324\n",
      "Epoch 78/150\n",
      "14/14 [==============================] - 0s 712us/step - loss: 0.3017 - mse: 0.0549 - coef_determination: 0.9381\n",
      "Epoch 79/150\n",
      "14/14 [==============================] - 0s 712us/step - loss: 0.3006 - mse: 0.0544 - coef_determination: 0.9392\n",
      "Epoch 80/150\n",
      "14/14 [==============================] - 0s 642us/step - loss: 0.3007 - mse: 0.0551 - coef_determination: 0.9366\n",
      "Epoch 81/150\n",
      "14/14 [==============================] - 0s 710us/step - loss: 0.2976 - mse: 0.0527 - coef_determination: 0.9464\n",
      "Epoch 82/150\n",
      "14/14 [==============================] - 0s 712us/step - loss: 0.2959 - mse: 0.0515 - coef_determination: 0.9435\n",
      "Epoch 83/150\n",
      "14/14 [==============================] - 0s 712us/step - loss: 0.2951 - mse: 0.0513 - coef_determination: 0.9392\n",
      "Epoch 84/150\n",
      "14/14 [==============================] - 0s 712us/step - loss: 0.2927 - mse: 0.0496 - coef_determination: 0.9392\n",
      "Epoch 85/150\n",
      "14/14 [==============================] - 0s 784us/step - loss: 0.2924 - mse: 0.0498 - coef_determination: 0.9459\n",
      "Epoch 86/150\n",
      "14/14 [==============================] - 0s 784us/step - loss: 0.2905 - mse: 0.0485 - coef_determination: 0.9451\n",
      "Epoch 87/150\n",
      "14/14 [==============================] - 0s 784us/step - loss: 0.2902 - mse: 0.0489 - coef_determination: 0.9512\n",
      "Epoch 88/150\n",
      "14/14 [==============================] - 0s 784us/step - loss: 0.2881 - mse: 0.0473 - coef_determination: 0.9458\n",
      "Epoch 89/150\n",
      "14/14 [==============================] - 0s 852us/step - loss: 0.2861 - mse: 0.0459 - coef_determination: 0.9453\n",
      "Epoch 90/150\n",
      "14/14 [==============================] - 0s 784us/step - loss: 0.2853 - mse: 0.0457 - coef_determination: 0.9472\n",
      "Epoch 91/150\n",
      "14/14 [==============================] - 0s 855us/step - loss: 0.2847 - mse: 0.0457 - coef_determination: 0.9492\n",
      "Epoch 92/150\n",
      "14/14 [==============================] - 0s 712us/step - loss: 0.2833 - mse: 0.0449 - coef_determination: 0.9498\n",
      "Epoch 93/150\n",
      "14/14 [==============================] - 0s 855us/step - loss: 0.2810 - mse: 0.0432 - coef_determination: 0.9527\n",
      "Epoch 94/150\n",
      "14/14 [==============================] - 0s 712us/step - loss: 0.2802 - mse: 0.0430 - coef_determination: 0.9516\n",
      "Epoch 95/150\n",
      "14/14 [==============================] - 0s 784us/step - loss: 0.2790 - mse: 0.0424 - coef_determination: 0.9474\n",
      "Epoch 96/150\n",
      "14/14 [==============================] - 0s 784us/step - loss: 0.2779 - mse: 0.0418 - coef_determination: 0.9546\n",
      "Epoch 97/150\n",
      "14/14 [==============================] - 0s 710us/step - loss: 0.2767 - mse: 0.0412 - coef_determination: 0.9574\n",
      "Epoch 98/150\n",
      "14/14 [==============================] - 0s 784us/step - loss: 0.2755 - mse: 0.0407 - coef_determination: 0.9528\n",
      "Epoch 99/150\n",
      "14/14 [==============================] - 0s 712us/step - loss: 0.2742 - mse: 0.0398 - coef_determination: 0.9484\n",
      "Epoch 100/150\n",
      "14/14 [==============================] - 0s 839us/step - loss: 0.2733 - mse: 0.0396 - coef_determination: 0.9500\n",
      "Epoch 101/150\n",
      "14/14 [==============================] - 0s 855us/step - loss: 0.2721 - mse: 0.0390 - coef_determination: 0.9530\n",
      "Epoch 102/150\n",
      "14/14 [==============================] - 0s 784us/step - loss: 0.2713 - mse: 0.0387 - coef_determination: 0.9529\n",
      "Epoch 103/150\n",
      "14/14 [==============================] - 0s 712us/step - loss: 0.2702 - mse: 0.0381 - coef_determination: 0.9537\n",
      "Epoch 104/150\n",
      "14/14 [==============================] - 0s 714us/step - loss: 0.2692 - mse: 0.0377 - coef_determination: 0.9618\n",
      "Epoch 105/150\n",
      "14/14 [==============================] - ETA: 0s - loss: 0.2561 - mse: 0.0249 - coef_determination: 0.97 - 0s 784us/step - loss: 0.2677 - mse: 0.0368 - coef_determination: 0.9612\n",
      "Epoch 106/150\n",
      "14/14 [==============================] - 0s 855us/step - loss: 0.2668 - mse: 0.0365 - coef_determination: 0.9592\n",
      "Epoch 107/150\n",
      "14/14 [==============================] - 0s 712us/step - loss: 0.2652 - mse: 0.0355 - coef_determination: 0.9536\n",
      "Epoch 108/150\n",
      "14/14 [==============================] - 0s 712us/step - loss: 0.2654 - mse: 0.0362 - coef_determination: 0.9608\n",
      "Epoch 109/150\n",
      "14/14 [==============================] - 0s 783us/step - loss: 0.2636 - mse: 0.0350 - coef_determination: 0.9582\n",
      "Epoch 110/150\n",
      "14/14 [==============================] - 0s 858us/step - loss: 0.2626 - mse: 0.0345 - coef_determination: 0.9581\n",
      "Epoch 111/150\n",
      "14/14 [==============================] - 0s 712us/step - loss: 0.2619 - mse: 0.0344 - coef_determination: 0.9577\n",
      "Epoch 112/150\n",
      "14/14 [==============================] - 0s 784us/step - loss: 0.2612 - mse: 0.0342 - coef_determination: 0.9583\n",
      "Epoch 113/150\n",
      "14/14 [==============================] - 0s 781us/step - loss: 0.2599 - mse: 0.0335 - coef_determination: 0.9599\n",
      "Epoch 114/150\n",
      "14/14 [==============================] - 0s 784us/step - loss: 0.2592 - mse: 0.0333 - coef_determination: 0.9639\n",
      "Epoch 115/150\n",
      "14/14 [==============================] - 0s 713us/step - loss: 0.2587 - mse: 0.0334 - coef_determination: 0.9595\n",
      "Epoch 116/150\n",
      "14/14 [==============================] - 0s 787us/step - loss: 0.2572 - mse: 0.0324 - coef_determination: 0.9620\n",
      "Epoch 117/150\n",
      "14/14 [==============================] - 0s 712us/step - loss: 0.2562 - mse: 0.0320 - coef_determination: 0.9630\n",
      "Epoch 118/150\n",
      "14/14 [==============================] - 0s 785us/step - loss: 0.2552 - mse: 0.0316 - coef_determination: 0.9652\n",
      "Epoch 119/150\n",
      "14/14 [==============================] - 0s 781us/step - loss: 0.2545 - mse: 0.0314 - coef_determination: 0.9654\n",
      "Epoch 120/150\n",
      "14/14 [==============================] - 0s 784us/step - loss: 0.2538 - mse: 0.0312 - coef_determination: 0.9669\n",
      "Epoch 121/150\n",
      "14/14 [==============================] - 0s 781us/step - loss: 0.2529 - mse: 0.0309 - coef_determination: 0.9680\n",
      "Epoch 122/150\n",
      "14/14 [==============================] - 0s 712us/step - loss: 0.2518 - mse: 0.0303 - coef_determination: 0.9674\n",
      "Epoch 123/150\n",
      "14/14 [==============================] - 0s 715us/step - loss: 0.2510 - mse: 0.0301 - coef_determination: 0.9646\n",
      "Epoch 124/150\n",
      "14/14 [==============================] - 0s 644us/step - loss: 0.2501 - mse: 0.0297 - coef_determination: 0.9629\n",
      "Epoch 125/150\n",
      "14/14 [==============================] - 0s 784us/step - loss: 0.2493 - mse: 0.0294 - coef_determination: 0.9674\n",
      "Epoch 126/150\n",
      "14/14 [==============================] - 0s 712us/step - loss: 0.2488 - mse: 0.0295 - coef_determination: 0.9667\n",
      "Epoch 127/150\n",
      "14/14 [==============================] - 0s 784us/step - loss: 0.2482 - mse: 0.0294 - coef_determination: 0.9683\n",
      "Epoch 128/150\n",
      "14/14 [==============================] - 0s 713us/step - loss: 0.2471 - mse: 0.0288 - coef_determination: 0.9684\n",
      "Epoch 129/150\n",
      "14/14 [==============================] - 0s 712us/step - loss: 0.2463 - mse: 0.0286 - coef_determination: 0.9676\n",
      "Epoch 130/150\n",
      "14/14 [==============================] - 0s 713us/step - loss: 0.2456 - mse: 0.0284 - coef_determination: 0.9700\n",
      "Epoch 131/150\n",
      "14/14 [==============================] - 0s 786us/step - loss: 0.2449 - mse: 0.0282 - coef_determination: 0.9686\n",
      "Epoch 132/150\n",
      "14/14 [==============================] - 0s 784us/step - loss: 0.2436 - mse: 0.0275 - coef_determination: 0.9643\n",
      "Epoch 133/150\n",
      "14/14 [==============================] - 0s 787us/step - loss: 0.2432 - mse: 0.0275 - coef_determination: 0.9680\n",
      "Epoch 134/150\n",
      "14/14 [==============================] - 0s 784us/step - loss: 0.2425 - mse: 0.0274 - coef_determination: 0.9701\n",
      "Epoch 135/150\n",
      "14/14 [==============================] - 0s 784us/step - loss: 0.2416 - mse: 0.0270 - coef_determination: 0.9685\n",
      "Epoch 136/150\n",
      "14/14 [==============================] - 0s 855us/step - loss: 0.2409 - mse: 0.0268 - coef_determination: 0.9668\n",
      "Epoch 137/150\n",
      "14/14 [==============================] - 0s 784us/step - loss: 0.2399 - mse: 0.0264 - coef_determination: 0.9697\n",
      "Epoch 138/150\n",
      "14/14 [==============================] - 0s 784us/step - loss: 0.2393 - mse: 0.0263 - coef_determination: 0.9680\n",
      "Epoch 139/150\n",
      "14/14 [==============================] - 0s 784us/step - loss: 0.2386 - mse: 0.0261 - coef_determination: 0.9698\n",
      "Epoch 140/150\n",
      "14/14 [==============================] - 0s 710us/step - loss: 0.2381 - mse: 0.0262 - coef_determination: 0.9652\n",
      "Epoch 141/150\n",
      "14/14 [==============================] - 0s 854us/step - loss: 0.2375 - mse: 0.0260 - coef_determination: 0.9707\n",
      "Epoch 142/150\n",
      "14/14 [==============================] - 0s 712us/step - loss: 0.2366 - mse: 0.0257 - coef_determination: 0.9698\n",
      "Epoch 143/150\n",
      "14/14 [==============================] - 0s 712us/step - loss: 0.2359 - mse: 0.0254 - coef_determination: 0.9695\n",
      "Epoch 144/150\n",
      "14/14 [==============================] - 0s 852us/step - loss: 0.2352 - mse: 0.0253 - coef_determination: 0.9690\n",
      "Epoch 145/150\n",
      "14/14 [==============================] - 0s 712us/step - loss: 0.2344 - mse: 0.0250 - coef_determination: 0.9715\n",
      "Epoch 146/150\n",
      "14/14 [==============================] - 0s 805us/step - loss: 0.2337 - mse: 0.0248 - coef_determination: 0.9710\n",
      "Epoch 147/150\n",
      "14/14 [==============================] - 0s 784us/step - loss: 0.2330 - mse: 0.0246 - coef_determination: 0.9724\n",
      "Epoch 148/150\n",
      "14/14 [==============================] - 0s 855us/step - loss: 0.2323 - mse: 0.0244 - coef_determination: 0.9708\n",
      "Epoch 149/150\n",
      "14/14 [==============================] - 0s 784us/step - loss: 0.2319 - mse: 0.0245 - coef_determination: 0.9714\n",
      "Epoch 150/150\n",
      "14/14 [==============================] - 0s 855us/step - loss: 0.2312 - mse: 0.0244 - coef_determination: 0.9735\n"
     ]
    },
    {
     "data": {
      "text/plain": [
       "<tensorflow.python.keras.callbacks.History at 0x1c276fa6a58>"
      ]
     },
     "execution_count": 77,
     "metadata": {},
     "output_type": "execute_result"
    }
   ],
   "source": [
    "reg_model.fit(X_train_Scaled,\n",
    "                  y_train_Scaled,\n",
    "                  epochs=150)"
   ]
  },
  {
   "cell_type": "code",
   "execution_count": 78,
   "metadata": {
    "ExecuteTime": {
     "end_time": "2020-10-27T15:49:34.399229Z",
     "start_time": "2020-10-27T15:49:34.073504Z"
    }
   },
   "outputs": [
    {
     "data": {
      "image/png": "[encoded data removed]",
      "text/plain": [
       "<Figure size 432x288 with 1 Axes>"
      ]
     },
     "metadata": {},
     "output_type": "display_data"
    },
    {
     "data": {
      "image/png": "[encoded data removed]",
      "text/plain": [
       "<Figure size 432x288 with 1 Axes>"
      ]
     },
     "metadata": {},
     "output_type": "display_data"
    },
    {
     "data": {
      "image/png": "[encoded data removed]",
      "text/plain": [
       "<Figure size 432x288 with 1 Axes>"
      ]
     },
     "metadata": {},
     "output_type": "display_data"
    }
   ],
   "source": [
    "visualize_loss_MSE(reg_model.history)"
   ]
  },
  {
   "cell_type": "code",
   "execution_count": 79,
   "metadata": {
    "ExecuteTime": {
     "end_time": "2020-10-27T15:49:34.494974Z",
     "start_time": "2020-10-27T15:49:34.400231Z"
    }
   },
   "outputs": [
    {
     "name": "stdout",
     "output_type": "stream",
     "text": [
      "RMSE: 2.1915848506310605\n",
      "-------------------------\n",
      "Model: \"sequential_2\"\n",
      "_________________________________________________________________\n",
      "Layer (type)                 Output Shape              Param #   \n",
      "=================================================================\n",
      "dense_8 (Dense)              (None, 10)                300       \n",
      "_________________________________________________________________\n",
      "dense_9 (Dense)              (None, 10)                110       \n",
      "_________________________________________________________________\n",
      "dense_10 (Dense)             (None, 10)                110       \n",
      "_________________________________________________________________\n",
      "dense_11 (Dense)             (None, 10)                110       \n",
      "_________________________________________________________________\n",
      "dense_12 (Dense)             (None, 10)                110       \n",
      "_________________________________________________________________\n",
      "dense_13 (Dense)             (None, 1)                 11        \n",
      "=================================================================\n",
      "Total params: 751\n",
      "Trainable params: 751\n",
      "Non-trainable params: 0\n",
      "_________________________________________________________________\n",
      "None\n"
     ]
    }
   ],
   "source": [
    "reg_preds_scaled = reg_model.predict(X_test_Scaled)\n",
    "reg_preds = scaler.inverse_transform(reg_preds_scaled)\n",
    "rmse = np.sqrt(mean_squared_error(y_test, reg_preds))\n",
    "\n",
    "print('RMSE:', rmse)\n",
    "print('-------------------------')\n",
    "print(reg_model.summary())"
   ]
  },
  {
   "cell_type": "markdown",
   "metadata": {},
   "source": [
    "### Optimized Model"
   ]
  },
  {
   "cell_type": "code",
   "execution_count": 112,
   "metadata": {
    "ExecuteTime": {
     "end_time": "2020-10-28T03:11:17.592068Z",
     "start_time": "2020-10-28T03:11:17.559156Z"
    }
   },
   "outputs": [],
   "source": [
    "optimized_model = Sequential()\n",
    "\n",
    "optimized_model.add(layers.Dense(45,\n",
    "                                  kernel_regularizer=regularizers.L2(0.005),\n",
    "                           activation='relu', input_shape=(n_features, )))\n",
    "\n",
    "optimized_model.add(layers.Dense(15,\n",
    "                                  kernel_regularizer=regularizers.L2(0.005),\n",
    "                           activation='relu'))\n",
    "\n",
    "optimized_model.add(layers.Dense(3,\n",
    "                                  kernel_regularizer=regularizers.L2(0.005),\n",
    "                           activation='relu'))\n",
    "\n",
    "optimized_model.add(layers.Dense(1, activation='linear'))\n",
    "\n",
    "optimized_model.compile(optimizer='RMSprop',\n",
    "              loss='mse',\n",
    "              metrics=['mse', coef_determination])"
   ]
  },
  {
   "cell_type": "code",
   "execution_count": 113,
   "metadata": {
    "ExecuteTime": {
     "end_time": "2020-10-28T03:11:29.521655Z",
     "start_time": "2020-10-28T03:11:23.302385Z"
    }
   },
   "outputs": [
    {
     "name": "stdout",
     "output_type": "stream",
     "text": [
      "Epoch 1/150\n",
      " 2/30 [=>............................] - ETA: 4s - loss: 1.5809 - mse: 1.2694 - coef_determination: -2.0177WARNING:tensorflow:Callbacks method `on_train_batch_end` is slow compared to the batch time (batch time: 0.0010s vs `on_train_batch_end` time: 0.3333s). Check your callbacks.\n",
      "30/30 [==============================] - 0s 12ms/step - loss: 1.4284 - mse: 1.1224 - coef_determination: -0.3016\n",
      "Epoch 2/150\n",
      "30/30 [==============================] - 0s 999us/step - loss: 1.0093 - mse: 0.7097 - coef_determination: 0.1368\n",
      "Epoch 3/150\n",
      "30/30 [==============================] - 0s 963us/step - loss: 0.7807 - mse: 0.4871 - coef_determination: 0.4301\n",
      "Epoch 4/150\n",
      "30/30 [==============================] - 0s 1ms/step - loss: 0.6014 - mse: 0.3136 - coef_determination: 0.6010\n",
      "Epoch 5/150\n",
      "30/30 [==============================] - 0s 997us/step - loss: 0.4835 - mse: 0.2020 - coef_determination: 0.7291\n",
      "Epoch 6/150\n",
      "30/30 [==============================] - 0s 972us/step - loss: 0.4232 - mse: 0.1497 - coef_determination: 0.4644\n",
      "Epoch 7/150\n",
      "30/30 [==============================] - 0s 964us/step - loss: 0.3773 - mse: 0.1136 - coef_determination: 0.7284\n",
      "Epoch 8/150\n",
      "30/30 [==============================] - 0s 1ms/step - loss: 0.3455 - mse: 0.0929 - coef_determination: 0.8833\n",
      "Epoch 9/150\n",
      "30/30 [==============================] - 0s 997us/step - loss: 0.3151 - mse: 0.0730 - coef_determination: 0.9038\n",
      "Epoch 10/150\n",
      "30/30 [==============================] - 0s 998us/step - loss: 0.2910 - mse: 0.0595 - coef_determination: 0.9209\n",
      "Epoch 11/150\n",
      "30/30 [==============================] - 0s 964us/step - loss: 0.2700 - mse: 0.0488 - coef_determination: 0.9420\n",
      "Epoch 12/150\n",
      "30/30 [==============================] - 0s 997us/step - loss: 0.2505 - mse: 0.0406 - coef_determination: 0.9411\n",
      "Epoch 13/150\n",
      "30/30 [==============================] - 0s 964us/step - loss: 0.2332 - mse: 0.0344 - coef_determination: 0.9301\n",
      "Epoch 14/150\n",
      "30/30 [==============================] - 0s 1ms/step - loss: 0.2187 - mse: 0.0303 - coef_determination: 0.9590\n",
      "Epoch 15/150\n",
      "30/30 [==============================] - 0s 964us/step - loss: 0.2038 - mse: 0.0255 - coef_determination: 0.9464\n",
      "Epoch 16/150\n",
      "30/30 [==============================] - 0s 964us/step - loss: 0.1904 - mse: 0.0216 - coef_determination: 0.9605\n",
      "Epoch 17/150\n",
      "30/30 [==============================] - 0s 971us/step - loss: 0.1794 - mse: 0.0202 - coef_determination: 0.9509\n",
      "Epoch 18/150\n",
      "30/30 [==============================] - 0s 1ms/step - loss: 0.1687 - mse: 0.0177 - coef_determination: 0.9774\n",
      "Epoch 19/150\n",
      "30/30 [==============================] - 0s 963us/step - loss: 0.1573 - mse: 0.0141 - coef_determination: 0.9842\n",
      "Epoch 20/150\n",
      "30/30 [==============================] - 0s 931us/step - loss: 0.1502 - mse: 0.0153 - coef_determination: 0.9721\n",
      "Epoch 21/150\n",
      "30/30 [==============================] - 0s 1ms/step - loss: 0.1406 - mse: 0.0126 - coef_determination: 0.9855\n",
      "Epoch 22/150\n",
      "30/30 [==============================] - 0s 997us/step - loss: 0.1323 - mse: 0.0112 - coef_determination: 0.9848\n",
      "Epoch 23/150\n",
      "30/30 [==============================] - 0s 997us/step - loss: 0.1249 - mse: 0.0108 - coef_determination: 0.9849\n",
      "Epoch 24/150\n",
      "30/30 [==============================] - 0s 964us/step - loss: 0.1176 - mse: 0.0093 - coef_determination: 0.9874\n",
      "Epoch 25/150\n",
      "30/30 [==============================] - 0s 997us/step - loss: 0.1124 - mse: 0.0098 - coef_determination: 0.9851\n",
      "Epoch 26/150\n",
      "30/30 [==============================] - 0s 931us/step - loss: 0.1052 - mse: 0.0077 - coef_determination: 0.9902\n",
      "Epoch 27/150\n",
      "30/30 [==============================] - 0s 964us/step - loss: 0.1009 - mse: 0.0081 - coef_determination: 0.9876\n",
      "Epoch 28/150\n",
      "30/30 [==============================] - 0s 1ms/step - loss: 0.0948 - mse: 0.0068 - coef_determination: 0.9910\n",
      "Epoch 29/150\n",
      "30/30 [==============================] - 0s 963us/step - loss: 0.0899 - mse: 0.0064 - coef_determination: 0.9899\n",
      "Epoch 30/150\n",
      "30/30 [==============================] - 0s 965us/step - loss: 0.0867 - mse: 0.0074 - coef_determination: 0.9892\n",
      "Epoch 31/150\n",
      "30/30 [==============================] - 0s 965us/step - loss: 0.0824 - mse: 0.0065 - coef_determination: 0.9906\n",
      "Epoch 32/150\n",
      "30/30 [==============================] - 0s 985us/step - loss: 0.0781 - mse: 0.0060 - coef_determination: 0.9919\n",
      "Epoch 33/150\n",
      "30/30 [==============================] - 0s 970us/step - loss: 0.0743 - mse: 0.0056 - coef_determination: 0.9925\n",
      "Epoch 34/150\n",
      "30/30 [==============================] - 0s 964us/step - loss: 0.0714 - mse: 0.0056 - coef_determination: 0.9939\n",
      "Epoch 35/150\n",
      "30/30 [==============================] - 0s 998us/step - loss: 0.0675 - mse: 0.0048 - coef_determination: 0.9946\n",
      "Epoch 36/150\n",
      "30/30 [==============================] - 0s 1ms/step - loss: 0.0648 - mse: 0.0052 - coef_determination: 0.9933\n",
      "Epoch 37/150\n",
      "30/30 [==============================] - 0s 1ms/step - loss: 0.0626 - mse: 0.0055 - coef_determination: 0.9929\n",
      "Epoch 38/150\n",
      "30/30 [==============================] - 0s 1ms/step - loss: 0.0602 - mse: 0.0054 - coef_determination: 0.9911\n",
      "Epoch 39/150\n",
      "30/30 [==============================] - 0s 1ms/step - loss: 0.0578 - mse: 0.0052 - coef_determination: 0.9929\n",
      "Epoch 40/150\n",
      "30/30 [==============================] - 0s 1ms/step - loss: 0.0554 - mse: 0.0050 - coef_determination: 0.9931\n",
      "Epoch 41/150\n",
      "30/30 [==============================] - 0s 1ms/step - loss: 0.0534 - mse: 0.0046 - coef_determination: 0.9939\n",
      "Epoch 42/150\n",
      "30/30 [==============================] - 0s 1ms/step - loss: 0.0518 - mse: 0.0049 - coef_determination: 0.9938\n",
      "Epoch 43/150\n",
      "30/30 [==============================] - 0s 1ms/step - loss: 0.0501 - mse: 0.0046 - coef_determination: 0.9938\n",
      "Epoch 44/150\n",
      "30/30 [==============================] - 0s 1ms/step - loss: 0.0486 - mse: 0.0047 - coef_determination: 0.9911\n",
      "Epoch 45/150\n",
      "30/30 [==============================] - 0s 1ms/step - loss: 0.0471 - mse: 0.0047 - coef_determination: 0.9928\n",
      "Epoch 46/150\n",
      "30/30 [==============================] - 0s 1ms/step - loss: 0.0463 - mse: 0.0053 - coef_determination: 0.9927\n",
      "Epoch 47/150\n",
      "30/30 [==============================] - 0s 1ms/step - loss: 0.0441 - mse: 0.0044 - coef_determination: 0.9948\n",
      "Epoch 48/150\n",
      "30/30 [==============================] - 0s 1ms/step - loss: 0.0434 - mse: 0.0049 - coef_determination: 0.9927\n",
      "Epoch 49/150\n",
      "30/30 [==============================] - 0s 1ms/step - loss: 0.0427 - mse: 0.0052 - coef_determination: 0.9930\n",
      "Epoch 50/150\n",
      "30/30 [==============================] - 0s 1ms/step - loss: 0.0406 - mse: 0.0042 - coef_determination: 0.9932\n",
      "Epoch 51/150\n",
      "30/30 [==============================] - 0s 1ms/step - loss: 0.0398 - mse: 0.0043 - coef_determination: 0.9938\n",
      "Epoch 52/150\n",
      "30/30 [==============================] - 0s 1ms/step - loss: 0.0394 - mse: 0.0049 - coef_determination: 0.9917\n",
      "Epoch 53/150\n",
      "30/30 [==============================] - 0s 1ms/step - loss: 0.0386 - mse: 0.0050 - coef_determination: 0.9931\n",
      "Epoch 54/150\n",
      "30/30 [==============================] - 0s 1ms/step - loss: 0.0370 - mse: 0.0043 - coef_determination: 0.9936\n",
      "Epoch 55/150\n",
      "30/30 [==============================] - 0s 1ms/step - loss: 0.0367 - mse: 0.0047 - coef_determination: 0.9935\n",
      "Epoch 56/150\n",
      "30/30 [==============================] - 0s 1ms/step - loss: 0.0367 - mse: 0.0053 - coef_determination: 0.9932\n",
      "Epoch 57/150\n",
      "30/30 [==============================] - 0s 1ms/step - loss: 0.0351 - mse: 0.0044 - coef_determination: 0.9925\n",
      "Epoch 58/150\n",
      "30/30 [==============================] - 0s 1ms/step - loss: 0.0349 - mse: 0.0048 - coef_determination: 0.9931\n",
      "Epoch 59/150\n",
      "30/30 [==============================] - 0s 1ms/step - loss: 0.0339 - mse: 0.0045 - coef_determination: 0.9939\n",
      "Epoch 60/150\n",
      "30/30 [==============================] - 0s 1ms/step - loss: 0.0332 - mse: 0.0044 - coef_determination: 0.9937\n",
      "Epoch 61/150\n",
      "30/30 [==============================] - 0s 1ms/step - loss: 0.0337 - mse: 0.0056 - coef_determination: 0.9934\n",
      "Epoch 62/150\n",
      "30/30 [==============================] - 0s 1ms/step - loss: 0.0323 - mse: 0.0046 - coef_determination: 0.9917\n",
      "Epoch 63/150\n",
      "30/30 [==============================] - 0s 1ms/step - loss: 0.0318 - mse: 0.0046 - coef_determination: 0.9923\n",
      "Epoch 64/150\n",
      "30/30 [==============================] - 0s 1ms/step - loss: 0.0309 - mse: 0.0043 - coef_determination: 0.9936\n",
      "Epoch 65/150\n",
      "30/30 [==============================] - 0s 1ms/step - loss: 0.0309 - mse: 0.0047 - coef_determination: 0.9904\n",
      "Epoch 66/150\n",
      "30/30 [==============================] - 0s 1ms/step - loss: 0.0307 - mse: 0.0050 - coef_determination: 0.9937\n",
      "Epoch 67/150\n",
      "30/30 [==============================] - 0s 1ms/step - loss: 0.0289 - mse: 0.0036 - coef_determination: 0.9952\n",
      "Epoch 68/150\n",
      "30/30 [==============================] - 0s 1ms/step - loss: 0.0295 - mse: 0.0047 - coef_determination: 0.9930\n",
      "Epoch 69/150\n",
      "30/30 [==============================] - 0s 1ms/step - loss: 0.0288 - mse: 0.0043 - coef_determination: 0.9943\n",
      "Epoch 70/150\n",
      "30/30 [==============================] - 0s 1ms/step - loss: 0.0291 - mse: 0.0051 - coef_determination: 0.9631\n",
      "Epoch 71/150\n",
      "30/30 [==============================] - 0s 1ms/step - loss: 0.0282 - mse: 0.0045 - coef_determination: 0.9946\n",
      "Epoch 72/150\n",
      "30/30 [==============================] - 0s 1ms/step - loss: 0.0268 - mse: 0.0035 - coef_determination: 0.9952\n",
      "Epoch 73/150\n",
      "30/30 [==============================] - 0s 1ms/step - loss: 0.0288 - mse: 0.0059 - coef_determination: 0.9917\n",
      "Epoch 74/150\n",
      "30/30 [==============================] - 0s 1ms/step - loss: 0.0264 - mse: 0.0037 - coef_determination: 0.9960\n",
      "Epoch 75/150\n",
      "30/30 [==============================] - 0s 1ms/step - loss: 0.0264 - mse: 0.0041 - coef_determination: 0.9926\n",
      "Epoch 76/150\n",
      "30/30 [==============================] - 0s 1ms/step - loss: 0.0270 - mse: 0.0050 - coef_determination: 0.9913\n",
      "Epoch 77/150\n",
      "30/30 [==============================] - 0s 1ms/step - loss: 0.0263 - mse: 0.0045 - coef_determination: 0.9931\n",
      "Epoch 78/150\n",
      "30/30 [==============================] - 0s 1ms/step - loss: 0.0253 - mse: 0.0038 - coef_determination: 0.9957\n",
      "Epoch 79/150\n",
      "30/30 [==============================] - 0s 1ms/step - loss: 0.0263 - mse: 0.0051 - coef_determination: 0.9927\n",
      "Epoch 80/150\n",
      "30/30 [==============================] - 0s 1ms/step - loss: 0.0259 - mse: 0.0049 - coef_determination: 0.9925\n",
      "Epoch 81/150\n",
      "30/30 [==============================] - 0s 1ms/step - loss: 0.0253 - mse: 0.0044 - coef_determination: 0.9950\n",
      "Epoch 82/150\n",
      "30/30 [==============================] - 0s 1ms/step - loss: 0.0249 - mse: 0.0042 - coef_determination: 0.9945\n",
      "Epoch 83/150\n",
      "30/30 [==============================] - 0s 1ms/step - loss: 0.0242 - mse: 0.0037 - coef_determination: 0.9939\n",
      "Epoch 84/150\n",
      "30/30 [==============================] - 0s 1ms/step - loss: 0.0246 - mse: 0.0044 - coef_determination: 0.9937\n",
      "Epoch 85/150\n",
      "30/30 [==============================] - 0s 1ms/step - loss: 0.0239 - mse: 0.0039 - coef_determination: 0.9951\n",
      "Epoch 86/150\n",
      "30/30 [==============================] - 0s 1ms/step - loss: 0.0234 - mse: 0.0037 - coef_determination: 0.9957\n",
      "Epoch 87/150\n",
      "30/30 [==============================] - 0s 1ms/step - loss: 0.0248 - mse: 0.0053 - coef_determination: 0.9928\n",
      "Epoch 88/150\n",
      "30/30 [==============================] - 0s 1ms/step - loss: 0.0225 - mse: 0.0031 - coef_determination: 0.9961\n",
      "Epoch 89/150\n",
      "30/30 [==============================] - 0s 1ms/step - loss: 0.0239 - mse: 0.0047 - coef_determination: 0.9947\n",
      "Epoch 90/150\n",
      "30/30 [==============================] - 0s 1ms/step - loss: 0.0241 - mse: 0.0051 - coef_determination: 0.9291\n",
      "Epoch 91/150\n",
      "30/30 [==============================] - 0s 1ms/step - loss: 0.0240 - mse: 0.0051 - coef_determination: 0.9936\n",
      "Epoch 92/150\n",
      "30/30 [==============================] - 0s 1ms/step - loss: 0.0233 - mse: 0.0046 - coef_determination: 0.9944\n",
      "Epoch 93/150\n",
      "30/30 [==============================] - 0s 1ms/step - loss: 0.0230 - mse: 0.0044 - coef_determination: 0.9939\n",
      "Epoch 94/150\n",
      "30/30 [==============================] - 0s 1ms/step - loss: 0.0233 - mse: 0.0049 - coef_determination: 0.9932\n",
      "Epoch 95/150\n",
      "30/30 [==============================] - 0s 1ms/step - loss: 0.0216 - mse: 0.0034 - coef_determination: 0.9948\n",
      "Epoch 96/150\n",
      "30/30 [==============================] - 0s 1ms/step - loss: 0.0219 - mse: 0.0038 - coef_determination: 0.9944\n",
      "Epoch 97/150\n",
      "30/30 [==============================] - 0s 1ms/step - loss: 0.0225 - mse: 0.0046 - coef_determination: 0.9940\n",
      "Epoch 98/150\n",
      "30/30 [==============================] - 0s 1ms/step - loss: 0.0219 - mse: 0.0041 - coef_determination: 0.9942\n",
      "Epoch 99/150\n",
      "30/30 [==============================] - 0s 1ms/step - loss: 0.0217 - mse: 0.0040 - coef_determination: 0.9942\n",
      "Epoch 100/150\n",
      "30/30 [==============================] - 0s 997us/step - loss: 0.0221 - mse: 0.0045 - coef_determination: 0.9927\n",
      "Epoch 101/150\n",
      "30/30 [==============================] - 0s 1ms/step - loss: 0.0220 - mse: 0.0045 - coef_determination: 0.9934\n",
      "Epoch 102/150\n",
      "30/30 [==============================] - 0s 1ms/step - loss: 0.0215 - mse: 0.0041 - coef_determination: 0.9951\n",
      "Epoch 103/150\n",
      "30/30 [==============================] - 0s 1ms/step - loss: 0.0229 - mse: 0.0057 - coef_determination: 0.9920\n",
      "Epoch 104/150\n",
      "30/30 [==============================] - 0s 1ms/step - loss: 0.0211 - mse: 0.0039 - coef_determination: 0.9933\n",
      "Epoch 105/150\n",
      "30/30 [==============================] - 0s 1ms/step - loss: 0.0215 - mse: 0.0044 - coef_determination: 0.9949\n",
      "Epoch 106/150\n",
      "30/30 [==============================] - 0s 1ms/step - loss: 0.0201 - mse: 0.0031 - coef_determination: 0.9960\n",
      "Epoch 107/150\n",
      "30/30 [==============================] - 0s 1ms/step - loss: 0.0206 - mse: 0.0036 - coef_determination: 0.9955\n",
      "Epoch 108/150\n",
      "30/30 [==============================] - 0s 1ms/step - loss: 0.0212 - mse: 0.0044 - coef_determination: 0.9948\n",
      "Epoch 109/150\n",
      "30/30 [==============================] - 0s 1ms/step - loss: 0.0207 - mse: 0.0041 - coef_determination: 0.9952\n",
      "Epoch 110/150\n",
      "30/30 [==============================] - 0s 1ms/step - loss: 0.0212 - mse: 0.0046 - coef_determination: 0.9924\n",
      "Epoch 111/150\n",
      "30/30 [==============================] - 0s 1ms/step - loss: 0.0198 - mse: 0.0033 - coef_determination: 0.9954\n",
      "Epoch 112/150\n",
      "30/30 [==============================] - 0s 1ms/step - loss: 0.0213 - mse: 0.0049 - coef_determination: 0.9949\n",
      "Epoch 113/150\n",
      "30/30 [==============================] - 0s 1ms/step - loss: 0.0200 - mse: 0.0037 - coef_determination: 0.9946\n",
      "Epoch 114/150\n",
      "30/30 [==============================] - 0s 1ms/step - loss: 0.0202 - mse: 0.0040 - coef_determination: 0.9942\n",
      "Epoch 115/150\n",
      "30/30 [==============================] - 0s 1ms/step - loss: 0.0205 - mse: 0.0044 - coef_determination: 0.9946\n",
      "Epoch 116/150\n",
      "30/30 [==============================] - 0s 1000us/step - loss: 0.0198 - mse: 0.0038 - coef_determination: 0.9956\n",
      "Epoch 117/150\n",
      "30/30 [==============================] - 0s 1ms/step - loss: 0.0202 - mse: 0.0042 - coef_determination: 0.9930\n",
      "Epoch 118/150\n",
      "30/30 [==============================] - 0s 1ms/step - loss: 0.0201 - mse: 0.0041 - coef_determination: 0.9949\n",
      "Epoch 119/150\n",
      "30/30 [==============================] - 0s 1000us/step - loss: 0.0195 - mse: 0.0036 - coef_determination: 0.9950\n",
      "Epoch 120/150\n",
      "30/30 [==============================] - 0s 1ms/step - loss: 0.0194 - mse: 0.0037 - coef_determination: 0.9946\n",
      "Epoch 121/150\n",
      "30/30 [==============================] - 0s 997us/step - loss: 0.0200 - mse: 0.0043 - coef_determination: 0.9941\n",
      "Epoch 122/150\n",
      "30/30 [==============================] - 0s 1ms/step - loss: 0.0195 - mse: 0.0039 - coef_determination: 0.9946\n",
      "Epoch 123/150\n",
      "30/30 [==============================] - 0s 964us/step - loss: 0.0193 - mse: 0.0037 - coef_determination: 0.9946\n",
      "Epoch 124/150\n",
      "30/30 [==============================] - 0s 997us/step - loss: 0.0208 - mse: 0.0053 - coef_determination: 0.9926\n",
      "Epoch 125/150\n",
      "30/30 [==============================] - 0s 997us/step - loss: 0.0188 - mse: 0.0034 - coef_determination: 0.9946\n",
      "Epoch 126/150\n",
      "30/30 [==============================] - 0s 997us/step - loss: 0.0193 - mse: 0.0040 - coef_determination: 0.9938\n",
      "Epoch 127/150\n",
      "30/30 [==============================] - 0s 1ms/step - loss: 0.0192 - mse: 0.0039 - coef_determination: 0.9950\n",
      "Epoch 128/150\n",
      "30/30 [==============================] - 0s 1ms/step - loss: 0.0192 - mse: 0.0040 - coef_determination: 0.9883\n",
      "Epoch 129/150\n"
     ]
    },
    {
     "name": "stdout",
     "output_type": "stream",
     "text": [
      "30/30 [==============================] - 0s 1ms/step - loss: 0.0188 - mse: 0.0036 - coef_determination: 0.9961\n",
      "Epoch 130/150\n",
      "30/30 [==============================] - 0s 1ms/step - loss: 0.0183 - mse: 0.0032 - coef_determination: 0.9941\n",
      "Epoch 131/150\n",
      "30/30 [==============================] - 0s 1ms/step - loss: 0.0189 - mse: 0.0039 - coef_determination: 0.9947\n",
      "Epoch 132/150\n",
      "30/30 [==============================] - 0s 1ms/step - loss: 0.0192 - mse: 0.0042 - coef_determination: 0.9948\n",
      "Epoch 133/150\n",
      "30/30 [==============================] - 0s 1ms/step - loss: 0.0182 - mse: 0.0032 - coef_determination: 0.9962\n",
      "Epoch 134/150\n",
      "30/30 [==============================] - 0s 1ms/step - loss: 0.0191 - mse: 0.0041 - coef_determination: 0.9948\n",
      "Epoch 135/150\n",
      "30/30 [==============================] - 0s 1ms/step - loss: 0.0190 - mse: 0.0041 - coef_determination: 0.9955\n",
      "Epoch 136/150\n",
      "30/30 [==============================] - 0s 1ms/step - loss: 0.0178 - mse: 0.0030 - coef_determination: 0.9316\n",
      "Epoch 137/150\n",
      "30/30 [==============================] - 0s 1ms/step - loss: 0.0187 - mse: 0.0040 - coef_determination: 0.9946\n",
      "Epoch 138/150\n",
      "30/30 [==============================] - 0s 997us/step - loss: 0.0182 - mse: 0.0035 - coef_determination: 0.9955\n",
      "Epoch 139/150\n",
      "30/30 [==============================] - 0s 1ms/step - loss: 0.0182 - mse: 0.0036 - coef_determination: 0.9954\n",
      "Epoch 140/150\n",
      "30/30 [==============================] - 0s 1ms/step - loss: 0.0194 - mse: 0.0048 - coef_determination: 0.9936\n",
      "Epoch 141/150\n",
      "30/30 [==============================] - 0s 1ms/step - loss: 0.0179 - mse: 0.0034 - coef_determination: 0.9952\n",
      "Epoch 142/150\n",
      "30/30 [==============================] - 0s 997us/step - loss: 0.0179 - mse: 0.0034 - coef_determination: 0.9925\n",
      "Epoch 143/150\n",
      "30/30 [==============================] - 0s 1ms/step - loss: 0.0179 - mse: 0.0034 - coef_determination: 0.9958\n",
      "Epoch 144/150\n",
      "30/30 [==============================] - 0s 1ms/step - loss: 0.0183 - mse: 0.0039 - coef_determination: 0.9948\n",
      "Epoch 145/150\n",
      "30/30 [==============================] - 0s 1ms/step - loss: 0.0177 - mse: 0.0034 - coef_determination: 0.9947\n",
      "Epoch 146/150\n",
      "30/30 [==============================] - 0s 1ms/step - loss: 0.0187 - mse: 0.0043 - coef_determination: 0.9941\n",
      "Epoch 147/150\n",
      "30/30 [==============================] - 0s 1ms/step - loss: 0.0174 - mse: 0.0031 - coef_determination: 0.9960\n",
      "Epoch 148/150\n",
      "30/30 [==============================] - 0s 1ms/step - loss: 0.0181 - mse: 0.0038 - coef_determination: 0.9909\n",
      "Epoch 149/150\n",
      "30/30 [==============================] - 0s 1ms/step - loss: 0.0184 - mse: 0.0042 - coef_determination: 0.9945\n",
      "Epoch 150/150\n",
      "30/30 [==============================] - 0s 1ms/step - loss: 0.0187 - mse: 0.0046 - coef_determination: 0.9943\n"
     ]
    },
    {
     "data": {
      "text/plain": [
       "<tensorflow.python.keras.callbacks.History at 0x1c204fbe588>"
      ]
     },
     "execution_count": 113,
     "metadata": {},
     "output_type": "execute_result"
    }
   ],
   "source": [
    "import time\n",
    "\n",
    "NAME = 'Optimal Model -relu- Layers(D34L2 & D15L2 & D3L2)'\n",
    "\n",
    "tensorboard = TensorBoard(log_dir='logs/fit/' + NAME,\n",
    "                          histogram_freq=1,\n",
    "                          write_graph=True,\n",
    "                          write_images=True)\n",
    "\n",
    "callbacks = [tensorboard]\n",
    "\n",
    "\n",
    "optimized_model.fit(X_train_Scaled,\n",
    "                     y_train_Scaled,\n",
    "                     epochs=150,\n",
    "                     batch_size=15,\n",
    "                     callbacks = callbacks)"
   ]
  },
  {
   "cell_type": "code",
   "execution_count": 114,
   "metadata": {
    "ExecuteTime": {
     "end_time": "2020-10-28T03:11:35.716569Z",
     "start_time": "2020-10-28T03:11:35.376447Z"
    }
   },
   "outputs": [
    {
     "data": {
      "image/png": "[encoded data removed]",
      "text/plain": [
       "<Figure size 432x288 with 1 Axes>"
      ]
     },
     "metadata": {},
     "output_type": "display_data"
    },
    {
     "data": {
      "image/png": "[encoded data removed]",
      "text/plain": [
       "<Figure size 432x288 with 1 Axes>"
      ]
     },
     "metadata": {},
     "output_type": "display_data"
    },
    {
     "data": {
      "image/png": "[encoded data removed]",
      "text/plain": [
       "<Figure size 432x288 with 1 Axes>"
      ]
     },
     "metadata": {},
     "output_type": "display_data"
    }
   ],
   "source": [
    "visualize_loss_MSE(optimized_model.history)"
   ]
  },
  {
   "cell_type": "code",
   "execution_count": 115,
   "metadata": {
    "ExecuteTime": {
     "end_time": "2020-10-28T03:11:41.610993Z",
     "start_time": "2020-10-28T03:11:41.500131Z"
    },
    "scrolled": false
   },
   "outputs": [
    {
     "name": "stdout",
     "output_type": "stream",
     "text": [
      "WARNING:tensorflow:5 out of the last 13 calls to <function Model.make_predict_function.<locals>.predict_function at 0x000001C20536A9D8> triggered tf.function retracing. Tracing is expensive and the excessive number of tracings could be due to (1) creating @tf.function repeatedly in a loop, (2) passing tensors with different shapes, (3) passing Python objects instead of tensors. For (1), please define your @tf.function outside of the loop. For (2), @tf.function has experimental_relax_shapes=True option that relaxes argument shapes that can avoid unnecessary retracing. For (3), please refer to https://www.tensorflow.org/tutorials/customization/performance#python_or_tensor_args and https://www.tensorflow.org/api_docs/python/tf/function for  more details.\n",
      "RMSE: 0.6779113963020904\n",
      "-------------------------\n",
      "Model: \"sequential_9\"\n",
      "_________________________________________________________________\n",
      "Layer (type)                 Output Shape              Param #   \n",
      "=================================================================\n",
      "dense_38 (Dense)             (None, 45)                1350      \n",
      "_________________________________________________________________\n",
      "dense_39 (Dense)             (None, 15)                690       \n",
      "_________________________________________________________________\n",
      "dense_40 (Dense)             (None, 3)                 48        \n",
      "_________________________________________________________________\n",
      "dense_41 (Dense)             (None, 1)                 4         \n",
      "=================================================================\n",
      "Total params: 2,092\n",
      "Trainable params: 2,092\n",
      "Non-trainable params: 0\n",
      "_________________________________________________________________\n",
      "None\n"
     ]
    }
   ],
   "source": [
    "op_preds_scaled = optimized_model.predict(X_test_Scaled)\n",
    "op_preds = scaler.inverse_transform(op_preds_scaled)\n",
    "rmse = np.sqrt(mean_squared_error(y_test, op_preds))\n",
    "\n",
    "print('RMSE:', rmse)\n",
    "print('-------------------------')\n",
    "print(optimized_model.summary())"
   ]
  },
  {
   "cell_type": "code",
   "execution_count": null,
   "metadata": {},
   "outputs": [],
   "source": []
  }
 ],
 "metadata": {
  "kernelspec": {
   "display_name": "Python [conda env:learn-env] *",
   "language": "python",
   "name": "conda-env-learn-env-py"
  },
  "language_info": {
   "codemirror_mode": {
    "name": "ipython",
    "version": 3
   },
   "file_extension": ".py",
   "mimetype": "text/x-python",
   "name": "python",
   "nbconvert_exporter": "python",
   "pygments_lexer": "ipython3",
   "version": "3.6.6"
  },
  "toc": {
   "base_numbering": 1,
   "nav_menu": {},
   "number_sections": true,
   "sideBar": true,
   "skip_h1_title": false,
   "title_cell": "Table of Contents",
   "title_sidebar": "Contents",
   "toc_cell": false,
   "toc_position": {
    "height": "664.444px",
    "left": "58px",
    "top": "109.777px",
    "width": "341.285px"
   },
   "toc_section_display": true,
   "toc_window_display": true
  },
  "varInspector": {
   "cols": {
    "lenName": 16,
    "lenType": 16,
    "lenVar": 40
   },
   "kernels_config": {
    "python": {
     "delete_cmd_postfix": "",
     "delete_cmd_prefix": "del ",
     "library": "var_list.py",
     "varRefreshCmd": "print(var_dic_list())"
    },
    "r": {
     "delete_cmd_postfix": ") ",
     "delete_cmd_prefix": "rm(",
     "library": "var_list.r",
     "varRefreshCmd": "cat(var_dic_list()) "
    }
   },
   "types_to_exclude": [
    "module",
    "function",
    "builtin_function_or_method",
    "instance",
    "_Feature"
   ],
   "window_display": false
  }
 },
 "nbformat": 4,
 "nbformat_minor": 2
}
