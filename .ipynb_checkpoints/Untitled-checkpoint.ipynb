{
 "cells": [
  {
   "cell_type": "code",
   "execution_count": 80,
   "metadata": {
    "ExecuteTime": {
     "end_time": "2020-09-26T18:16:21.824480Z",
     "start_time": "2020-09-26T18:16:21.625969Z"
    },
    "scrolled": false
   },
   "outputs": [
    {
     "data": {
      "text/html": [
       "<div>\n",
       "<style scoped>\n",
       "    .dataframe tbody tr th:only-of-type {\n",
       "        vertical-align: middle;\n",
       "    }\n",
       "\n",
       "    .dataframe tbody tr th {\n",
       "        vertical-align: top;\n",
       "    }\n",
       "\n",
       "    .dataframe thead th {\n",
       "        text-align: right;\n",
       "    }\n",
       "</style>\n",
       "<table border=\"1\" class=\"dataframe\">\n",
       "  <thead>\n",
       "    <tr style=\"text-align: right;\">\n",
       "      <th></th>\n",
       "      <th>ID</th>\n",
       "      <th>Premisestype</th>\n",
       "      <th>Date</th>\n",
       "      <th>Item</th>\n",
       "      <th>Material</th>\n",
       "      <th>Measure</th>\n",
       "      <th>Site</th>\n",
       "      <th>Type</th>\n",
       "      <th>Collection_frequency</th>\n",
       "      <th>Collection_efficiency</th>\n",
       "      <th>Value</th>\n",
       "      <th>Correted_value</th>\n",
       "    </tr>\n",
       "  </thead>\n",
       "  <tbody>\n",
       "    <tr>\n",
       "      <th>0</th>\n",
       "      <td>1</td>\n",
       "      <td>pt_household</td>\n",
       "      <td>08/06/2019 00:00:00</td>\n",
       "      <td>lpb_flav_water_soft_drink__non_carbonated__150ml</td>\n",
       "      <td>lpb container</td>\n",
       "      <td>count</td>\n",
       "      <td>Bullet Tree Falls</td>\n",
       "      <td>Rural</td>\n",
       "      <td>30.0</td>\n",
       "      <td>0.0</td>\n",
       "      <td>0.0</td>\n",
       "      <td>0.0</td>\n",
       "    </tr>\n",
       "    <tr>\n",
       "      <th>1</th>\n",
       "      <td>1</td>\n",
       "      <td>pt_household</td>\n",
       "      <td>08/06/2019 00:00:00</td>\n",
       "      <td>lpb_flav_water_soft_drink__non_carbonated__150...</td>\n",
       "      <td>lpb container</td>\n",
       "      <td>count</td>\n",
       "      <td>Bullet Tree Falls</td>\n",
       "      <td>Rural</td>\n",
       "      <td>30.0</td>\n",
       "      <td>0.0</td>\n",
       "      <td>0.0</td>\n",
       "      <td>0.0</td>\n",
       "    </tr>\n",
       "    <tr>\n",
       "      <th>2</th>\n",
       "      <td>1</td>\n",
       "      <td>pt_household</td>\n",
       "      <td>08/06/2019 00:00:00</td>\n",
       "      <td>lpb_flav_water_soft_drink__non_carbonated__500...</td>\n",
       "      <td>lpb container</td>\n",
       "      <td>count</td>\n",
       "      <td>Bullet Tree Falls</td>\n",
       "      <td>Rural</td>\n",
       "      <td>30.0</td>\n",
       "      <td>0.0</td>\n",
       "      <td>0.0</td>\n",
       "      <td>0.0</td>\n",
       "    </tr>\n",
       "    <tr>\n",
       "      <th>3</th>\n",
       "      <td>1</td>\n",
       "      <td>pt_household</td>\n",
       "      <td>08/06/2019 00:00:00</td>\n",
       "      <td>lpb_flav_water_soft_drink__non_carbonated__100...</td>\n",
       "      <td>lpb container</td>\n",
       "      <td>count</td>\n",
       "      <td>Bullet Tree Falls</td>\n",
       "      <td>Rural</td>\n",
       "      <td>30.0</td>\n",
       "      <td>0.0</td>\n",
       "      <td>0.0</td>\n",
       "      <td>0.0</td>\n",
       "    </tr>\n",
       "    <tr>\n",
       "      <th>4</th>\n",
       "      <td>1</td>\n",
       "      <td>pt_household</td>\n",
       "      <td>08/06/2019 00:00:00</td>\n",
       "      <td>lpb_flav_water_soft_drink__non_carbonated__3000ml</td>\n",
       "      <td>lpb container</td>\n",
       "      <td>count</td>\n",
       "      <td>Bullet Tree Falls</td>\n",
       "      <td>Rural</td>\n",
       "      <td>30.0</td>\n",
       "      <td>0.0</td>\n",
       "      <td>0.0</td>\n",
       "      <td>0.0</td>\n",
       "    </tr>\n",
       "  </tbody>\n",
       "</table>\n",
       "</div>"
      ],
      "text/plain": [
       "   ID  Premisestype                 Date  \\\n",
       "0   1  pt_household  08/06/2019 00:00:00   \n",
       "1   1  pt_household  08/06/2019 00:00:00   \n",
       "2   1  pt_household  08/06/2019 00:00:00   \n",
       "3   1  pt_household  08/06/2019 00:00:00   \n",
       "4   1  pt_household  08/06/2019 00:00:00   \n",
       "\n",
       "                                                Item       Material Measure  \\\n",
       "0   lpb_flav_water_soft_drink__non_carbonated__150ml  lpb container   count   \n",
       "1  lpb_flav_water_soft_drink__non_carbonated__150...  lpb container   count   \n",
       "2  lpb_flav_water_soft_drink__non_carbonated__500...  lpb container   count   \n",
       "3  lpb_flav_water_soft_drink__non_carbonated__100...  lpb container   count   \n",
       "4  lpb_flav_water_soft_drink__non_carbonated__3000ml  lpb container   count   \n",
       "\n",
       "                Site   Type  Collection_frequency  Collection_efficiency  \\\n",
       "0  Bullet Tree Falls  Rural                  30.0                    0.0   \n",
       "1  Bullet Tree Falls  Rural                  30.0                    0.0   \n",
       "2  Bullet Tree Falls  Rural                  30.0                    0.0   \n",
       "3  Bullet Tree Falls  Rural                  30.0                    0.0   \n",
       "4  Bullet Tree Falls  Rural                  30.0                    0.0   \n",
       "\n",
       "   Value  Correted_value  \n",
       "0    0.0             0.0  \n",
       "1    0.0             0.0  \n",
       "2    0.0             0.0  \n",
       "3    0.0             0.0  \n",
       "4    0.0             0.0  "
      ]
     },
     "execution_count": 80,
     "metadata": {},
     "output_type": "execute_result"
    }
   ],
   "source": [
    "import pandas as pd\n",
    "df = pd.read_csv('Household_solid_waste_audit_Belize_data.csv')\n",
    "df.head()"
   ]
  },
  {
   "cell_type": "code",
   "execution_count": 108,
   "metadata": {
    "ExecuteTime": {
     "end_time": "2020-09-26T21:10:45.168850Z",
     "start_time": "2020-09-26T21:10:45.044194Z"
    }
   },
   "outputs": [
    {
     "name": "stdout",
     "output_type": "stream",
     "text": [
      "ID Value Counts:\n",
      "180    0.009056\n",
      "191    0.004528\n",
      "208    0.004528\n",
      "147    0.004528\n",
      "83     0.004528\n",
      "Name: ID, dtype: float64\n",
      "Unique values: 222\n",
      "--------------------------------------\n",
      "Premisestype Value Counts:\n",
      "pt_household    0.944076\n",
      "pt_litter       0.054338\n",
      "0               0.001586\n",
      "Name: Premisestype, dtype: float64\n",
      "Unique values: 3\n",
      "--------------------------------------\n",
      "Date Value Counts:\n",
      "03/06/2019 00:00:00    0.135845\n",
      "05/06/2019 00:00:00    0.135845\n",
      "14/06/2019 00:00:00    0.131317\n",
      "04/06/2019 00:00:00    0.131317\n",
      "10/06/2019 00:00:00    0.126789\n",
      "Name: Date, dtype: float64\n",
      "Unique values: 11\n",
      "--------------------------------------\n",
      "Item Value Counts:\n",
      "other                   0.034460\n",
      "jars                    0.006892\n",
      "computer_equipment      0.006892\n",
      "aluminium_recyclable    0.006892\n",
      "mobile_phones           0.006892\n",
      "Name: Item, dtype: float64\n",
      "Unique values: 327\n",
      "--------------------------------------\n",
      "Material Value Counts:\n",
      "glass container    0.128281\n",
      "pet container      0.104957\n",
      "hdpe container     0.104957\n",
      "other container    0.104957\n",
      "lpb container      0.069971\n",
      "Name: Material, dtype: float64\n",
      "Unique values: 18\n",
      "--------------------------------------\n",
      "Measure Value Counts:\n",
      "count     0.769683\n",
      "weight    0.118951\n",
      "volume    0.111366\n",
      "Name: Measure, dtype: float64\n",
      "Unique values: 3\n",
      "--------------------------------------\n",
      "Site Value Counts:\n",
      "Belize City     0.281192\n",
      "Orange Walk     0.136061\n",
      "Belmopan        0.136061\n",
      "Dangriga        0.136061\n",
      "Toledo Rural    0.134472\n",
      "Name: Site, dtype: float64\n",
      "Unique values: 8\n",
      "--------------------------------------\n",
      "Type Value Counts:\n",
      "Urban       0.416591\n",
      "Regional    0.316972\n",
      "Rural       0.264850\n",
      "0           0.001586\n",
      "Name: Type, dtype: float64\n",
      "Unique values: 4\n",
      "--------------------------------------\n",
      "Collection_frequency Value Counts:\n",
      "0.0     0.516537\n",
      "3.5     0.217352\n",
      "7.0     0.152907\n",
      "30.0    0.086035\n",
      "2.0     0.022641\n",
      "Name: Collection_frequency, dtype: float64\n",
      "Unique values: 6\n",
      "--------------------------------------\n",
      "Collection_efficiency Value Counts:\n",
      "0.000000    0.574352\n",
      "0.500000    0.176599\n",
      "1.000000    0.099620\n",
      "0.333333    0.040754\n",
      "0.750000    0.027169\n",
      "Name: Collection_efficiency, dtype: float64\n",
      "Unique values: 15\n",
      "--------------------------------------\n",
      "Value Value Counts:\n",
      "0.0    0.929735\n",
      "1.0    0.010180\n",
      "2.0    0.005925\n",
      "3.0    0.003950\n",
      "4.0    0.003057\n",
      "Name: Value, dtype: float64\n",
      "Unique values: 989\n",
      "--------------------------------------\n",
      "Correted_value Value Counts:\n",
      "0.000000    0.930092\n",
      "0.285714    0.002343\n",
      "0.571429    0.001944\n",
      "0.142857    0.001250\n",
      "1.000000    0.001198\n",
      "Name: Correted_value, dtype: float64\n",
      "Unique values: 2169\n",
      "--------------------------------------\n"
     ]
    }
   ],
   "source": [
    "for column in df.columns:\n",
    "    print(f'{column} Value Counts:')\n",
    "    print(df[column].value_counts(normalize=True).head())\n",
    "    print(f'Unique values: {df[column].nunique()}')\n",
    "    print('--------------------------------------')"
   ]
  },
  {
   "cell_type": "code",
   "execution_count": 81,
   "metadata": {
    "ExecuteTime": {
     "end_time": "2020-09-26T18:16:21.870357Z",
     "start_time": "2020-09-26T18:16:21.865329Z"
    }
   },
   "outputs": [
    {
     "data": {
      "text/plain": [
       "array([   1,    2,    3,    4,    5,    6,    7,    8,    9,   10,   11,\n",
       "         12,   13,   14,   15,   16,   17,   18,   19,   20,   21,   22,\n",
       "         23,   24,   25,   26,   27,   28,   29,   30,   31,   32,   33,\n",
       "         34,   35,   36,   37,   38,   39,   40,   41,   42,   43,   44,\n",
       "         45,   46,   47,   48,   49,   50,   51,   52,   53,   54,   55,\n",
       "         56,   57,   58,   59,   60,   61,   62,   63,   64,   65,   66,\n",
       "         67,   68,   69,   70,   71,   72,   73,   74,   75,   76,   77,\n",
       "         78,   79,   80,   81,   82,   83,   84,   85,   86,   87,   88,\n",
       "         89,   90,   91,   92,   93,   94,   95,   96,   97,   98,   99,\n",
       "        100,  101,  102,  103,  104,  105,  106,  107,  108,  109,  110,\n",
       "        111,  112,  113,  114,  115,  116,  117,  118,  119,  120,  121,\n",
       "        122,  123,  124,  125,  126,  127,  128,  129,  130,  131,  132,\n",
       "        133,  134,  135,  136,  137,  138,  139,  140,  141,  142,  143,\n",
       "        144,  145,  146,  147,  148,  149,  150,  151,  152,  153,  154,\n",
       "        155,  156,  157,  158,  159,  160,  161,  162,  163,  164,  165,\n",
       "        166,  167,  168,  169,  170,  171,  172,  173,  174,  175,  176,\n",
       "        177,  178,  179,  180,  211,  212,  213,  214,  215,  216,  217,\n",
       "        218,  219,  220,  221,  222,  223,  224,  225,  226,  227,  228,\n",
       "        229,  230,  231,  232,  233,  234,  235,  236,  237,  238,  239,\n",
       "        518, 1001, 1002, 1003, 1004, 1005, 1006, 1007, 1008, 1009, 1010,\n",
       "       1011, 1012, 2200], dtype=int64)"
      ]
     },
     "execution_count": 81,
     "metadata": {},
     "output_type": "execute_result"
    }
   ],
   "source": [
    "df.ID.unique()"
   ]
  },
  {
   "cell_type": "code",
   "execution_count": 85,
   "metadata": {
    "ExecuteTime": {
     "end_time": "2020-09-26T18:17:31.111397Z",
     "start_time": "2020-09-26T18:17:31.041075Z"
    }
   },
   "outputs": [
    {
     "data": {
      "text/plain": [
       "array([  1,   2,   3,   4,   5,   6,   7,   8,   9,  10,  11,  12,  13,\n",
       "        14,  15,  16,  17,  18,  19,  20,  21,  22,  23,  24,  25,  26,\n",
       "        27,  28,  29,  30,  31,  32,  33,  34,  35,  36,  37,  38,  39,\n",
       "        40,  41,  42,  43,  44,  45,  46,  47,  48,  49,  50,  51,  52,\n",
       "        53,  54,  55,  56,  57,  58,  59,  60,  61,  62,  63,  64,  65,\n",
       "        66,  67,  68,  69,  70,  71,  72,  73,  74,  75,  76,  77,  78,\n",
       "        79,  80,  81,  82,  83,  84,  85,  86,  87,  88,  89,  90,  91,\n",
       "        92,  93,  94,  95,  96,  97,  98,  99, 100, 101, 102, 103, 104,\n",
       "       105, 106, 107, 108, 109, 110, 111, 112, 113, 114, 115, 116, 117,\n",
       "       118, 119, 120, 121, 122, 123, 124, 125, 126, 127, 128, 129, 130,\n",
       "       131, 132, 133, 134, 135, 136, 137, 138, 139, 140, 141, 142, 143,\n",
       "       144, 145, 146, 147, 148, 149, 150, 151, 152, 153, 154, 155, 156,\n",
       "       157, 158, 159, 160, 161, 162, 163, 164, 165, 166, 167, 168, 169,\n",
       "       170, 171, 172, 173, 174, 175, 176, 177, 178, 179, 180, 181, 182,\n",
       "       183, 184, 185, 186, 187, 188, 189, 190, 191, 192, 193, 194, 195,\n",
       "       196, 197, 198, 199, 200, 201, 202, 203, 204, 205, 206, 207, 208,\n",
       "       209, 210, 211, 212, 213, 214, 215, 216, 217, 218, 219, 220, 221,\n",
       "       222], dtype=int64)"
      ]
     },
     "execution_count": 85,
     "metadata": {},
     "output_type": "execute_result"
    }
   ],
   "source": [
    "df.ID = df.ID.map(lambda x: x - 1947  if x == 2200  else (x - 278   if x == 518  else ( x - 760 if x > 518 else x)))\n",
    "df.ID = df.ID.map(lambda x: x - 31 if x > 180 else x)\n",
    "# if df.ID > 518:\n",
    "#     df.ID = df.ID -761\n",
    "df.ID.unique()"
   ]
  },
  {
   "cell_type": "code",
   "execution_count": 87,
   "metadata": {
    "ExecuteTime": {
     "end_time": "2020-09-26T18:17:38.938163Z",
     "start_time": "2020-09-26T18:17:38.725225Z"
    }
   },
   "outputs": [
    {
     "data": {
      "text/plain": [
       "29.972972972972972"
      ]
     },
     "execution_count": 87,
     "metadata": {},
     "output_type": "execute_result"
    }
   ],
   "source": [
    "import matplotlib.pyplot as plt\n",
    "%matplotlib inline\n",
    "\n",
    "def house_item_counter(house_id):\n",
    "    num_items = len(df[(df['ID'] == house_id)  & (df['Correted_value'] != 0)])\n",
    "    return num_items\n",
    "\n",
    "house_item_count_list = {}\n",
    "for idx in df.ID.unique():\n",
    "    house_item_count_list[idx] = house_item_counter(idx)\n",
    "\n",
    "sum(house_item_count_list.values()) / len(house_item_count_list)"
   ]
  },
  {
   "cell_type": "code",
   "execution_count": 90,
   "metadata": {
    "ExecuteTime": {
     "end_time": "2020-09-26T18:18:19.701962Z",
     "start_time": "2020-09-26T18:18:19.236748Z"
    }
   },
   "outputs": [
    {
     "data": {
      "image/png": "[encoded data removed]",
      "text/plain": [
       "<Figure size 1080x720 with 1 Axes>"
      ]
     },
     "metadata": {
      "needs_background": "light"
     },
     "output_type": "display_data"
    }
   ],
   "source": [
    "plt.figure(figsize=(15, 10))\n",
    "plt.bar(house_item_count_list.keys(),house_item_count_list.values());"
   ]
  },
  {
   "cell_type": "code",
   "execution_count": null,
   "metadata": {},
   "outputs": [],
   "source": [
    "df['ID_count'] = "
   ]
  },
  {
   "cell_type": "code",
   "execution_count": 93,
   "metadata": {
    "ExecuteTime": {
     "end_time": "2020-09-26T18:19:07.865445Z",
     "start_time": "2020-09-26T18:19:07.857424Z"
    }
   },
   "outputs": [
    {
     "data": {
      "text/plain": [
       "array([30. ,  0. ,  7. ,  3.5,  2. , 14. ])"
      ]
     },
     "execution_count": 93,
     "metadata": {},
     "output_type": "execute_result"
    }
   ],
   "source": [
    "df['Collection_frequency'].unique()"
   ]
  },
  {
   "cell_type": "code",
   "execution_count": 104,
   "metadata": {
    "ExecuteTime": {
     "end_time": "2020-09-26T21:06:25.195672Z",
     "start_time": "2020-09-26T21:06:25.042975Z"
    }
   },
   "outputs": [
    {
     "data": {
      "text/plain": [
       "<matplotlib.axes._subplots.AxesSubplot at 0x14f9fe91cc0>"
      ]
     },
     "execution_count": 104,
     "metadata": {},
     "output_type": "execute_result"
    },
    {
     "data": {
      "image/png": "[encoded data removed]",
      "text/plain": [
       "<Figure size 432x288 with 1 Axes>"
      ]
     },
     "metadata": {
      "needs_background": "light"
     },
     "output_type": "display_data"
    }
   ],
   "source": [
    "import seaborn as sns\n",
    "sns.countplot('Type', data=df)"
   ]
  },
  {
   "cell_type": "code",
   "execution_count": 103,
   "metadata": {
    "ExecuteTime": {
     "end_time": "2020-09-26T18:23:48.181355Z",
     "start_time": "2020-09-26T18:23:47.580455Z"
    }
   },
   "outputs": [
    {
     "data": {
      "text/plain": [
       "array([[<matplotlib.axes._subplots.AxesSubplot object at 0x0000014FA1786E80>,\n",
       "        <matplotlib.axes._subplots.AxesSubplot object at 0x0000014F9E398908>],\n",
       "       [<matplotlib.axes._subplots.AxesSubplot object at 0x0000014FA29CCDA0>,\n",
       "        <matplotlib.axes._subplots.AxesSubplot object at 0x0000014F9E3C0358>],\n",
       "       [<matplotlib.axes._subplots.AxesSubplot object at 0x0000014F9E4328D0>,\n",
       "        <matplotlib.axes._subplots.AxesSubplot object at 0x0000014F9E404E48>]],\n",
       "      dtype=object)"
      ]
     },
     "execution_count": 103,
     "metadata": {},
     "output_type": "execute_result"
    },
    {
     "data": {
      "image/png": "[encoded data removed]",
      "text/plain": [
       "<Figure size 1080x1080 with 6 Axes>"
      ]
     },
     "metadata": {
      "needs_background": "light"
     },
     "output_type": "display_data"
    }
   ],
   "source": [
    "df.hist(figsize=(15, 15))"
   ]
  },
  {
   "cell_type": "code",
   "execution_count": null,
   "metadata": {},
   "outputs": [],
   "source": []
  }
 ],
 "metadata": {
  "kernelspec": {
   "display_name": "Python [conda env:learn-env] *",
   "language": "python",
   "name": "conda-env-learn-env-py"
  },
  "language_info": {
   "codemirror_mode": {
    "name": "ipython",
    "version": 3
   },
   "file_extension": ".py",
   "mimetype": "text/x-python",
   "name": "python",
   "nbconvert_exporter": "python",
   "pygments_lexer": "ipython3",
   "version": "3.6.6"
  },
  "toc": {
   "base_numbering": 1,
   "nav_menu": {},
   "number_sections": true,
   "sideBar": true,
   "skip_h1_title": false,
   "title_cell": "Table of Contents",
   "title_sidebar": "Contents",
   "toc_cell": false,
   "toc_position": {},
   "toc_section_display": true,
   "toc_window_display": false
  },
  "varInspector": {
   "cols": {
    "lenName": 16,
    "lenType": 16,
    "lenVar": 40
   },
   "kernels_config": {
    "python": {
     "delete_cmd_postfix": "",
     "delete_cmd_prefix": "del ",
     "library": "var_list.py",
     "varRefreshCmd": "print(var_dic_list())"
    },
    "r": {
     "delete_cmd_postfix": ") ",
     "delete_cmd_prefix": "rm(",
     "library": "var_list.r",
     "varRefreshCmd": "cat(var_dic_list()) "
    }
   },
   "types_to_exclude": [
    "module",
    "function",
    "builtin_function_or_method",
    "instance",
    "_Feature"
   ],
   "window_display": false
  }
 },
 "nbformat": 4,
 "nbformat_minor": 2
}
