{
 "cells": [
  {
   "cell_type": "markdown",
   "metadata": {
    "ExecuteTime": {
     "end_time": "2020-10-06T22:31:21.992561Z",
     "start_time": "2020-10-06T22:31:21.786417Z"
    },
    "scrolled": false
   },
   "source": [
    "# Import Data"
   ]
  },
  {
   "cell_type": "code",
   "execution_count": 1,
   "metadata": {
    "ExecuteTime": {
     "end_time": "2020-10-29T18:05:09.698134Z",
     "start_time": "2020-10-29T18:05:09.433447Z"
    },
    "scrolled": true
   },
   "outputs": [
    {
     "data": {
      "text/html": [
       "<div>\n",
       "<style scoped>\n",
       "    .dataframe tbody tr th:only-of-type {\n",
       "        vertical-align: middle;\n",
       "    }\n",
       "\n",
       "    .dataframe tbody tr th {\n",
       "        vertical-align: top;\n",
       "    }\n",
       "\n",
       "    .dataframe thead th {\n",
       "        text-align: right;\n",
       "    }\n",
       "</style>\n",
       "<table border=\"1\" class=\"dataframe\">\n",
       "  <thead>\n",
       "    <tr style=\"text-align: right;\">\n",
       "      <th></th>\n",
       "      <th>ID</th>\n",
       "      <th>Organics_wt_%</th>\n",
       "      <th>Paper_and_cardboard_wt_%</th>\n",
       "      <th>Plastics_wt_%</th>\n",
       "      <th>Non_combust_wt_%</th>\n",
       "      <th>Total_weight_(kg)</th>\n",
       "      <th>energy_kWh_per_kg</th>\n",
       "      <th>total_energy_kWh</th>\n",
       "      <th>aluminium_cans</th>\n",
       "      <th>steel_cans</th>\n",
       "      <th>other_metal</th>\n",
       "      <th>lpb</th>\n",
       "      <th>paper</th>\n",
       "      <th>pet_bottles</th>\n",
       "      <th>plastic_bags</th>\n",
       "      <th>flexibles_film</th>\n",
       "      <th>other_plastic</th>\n",
       "      <th>jars</th>\n",
       "      <th>other_organics</th>\n",
       "      <th>textiles</th>\n",
       "      <th>ceramics</th>\n",
       "      <th>other</th>\n",
       "      <th>aluminium_recyclable</th>\n",
       "      <th>cardboard</th>\n",
       "      <th>nappies</th>\n",
       "      <th>food</th>\n",
       "      <th>hdpe_bottles</th>\n",
       "      <th>pp</th>\n",
       "      <th>feminine_hygiene</th>\n",
       "      <th>electrical_items_and_peripherals_(incl_tvs)</th>\n",
       "    </tr>\n",
       "  </thead>\n",
       "  <tbody>\n",
       "    <tr>\n",
       "      <th>0</th>\n",
       "      <td>29</td>\n",
       "      <td>0.652021</td>\n",
       "      <td>0.147424</td>\n",
       "      <td>0.056767</td>\n",
       "      <td>0.143789</td>\n",
       "      <td>37.4160</td>\n",
       "      <td>2.45</td>\n",
       "      <td>91.67</td>\n",
       "      <td>0.028</td>\n",
       "      <td>2.324</td>\n",
       "      <td>0.1400</td>\n",
       "      <td>0.064</td>\n",
       "      <td>0.660</td>\n",
       "      <td>0.392</td>\n",
       "      <td>0.172</td>\n",
       "      <td>0.312</td>\n",
       "      <td>1.248</td>\n",
       "      <td>0.244</td>\n",
       "      <td>24.396</td>\n",
       "      <td>4.792</td>\n",
       "      <td>0.576</td>\n",
       "      <td>2.068</td>\n",
       "      <td>0.000</td>\n",
       "      <td>0.000</td>\n",
       "      <td>0.000</td>\n",
       "      <td>0.000</td>\n",
       "      <td>0.000</td>\n",
       "      <td>0.000</td>\n",
       "      <td>0.000</td>\n",
       "      <td>0.0</td>\n",
       "    </tr>\n",
       "    <tr>\n",
       "      <th>1</th>\n",
       "      <td>30</td>\n",
       "      <td>0.560960</td>\n",
       "      <td>0.076200</td>\n",
       "      <td>0.202659</td>\n",
       "      <td>0.160182</td>\n",
       "      <td>7.4016</td>\n",
       "      <td>2.24</td>\n",
       "      <td>16.58</td>\n",
       "      <td>0.000</td>\n",
       "      <td>0.408</td>\n",
       "      <td>0.0316</td>\n",
       "      <td>0.000</td>\n",
       "      <td>0.000</td>\n",
       "      <td>0.844</td>\n",
       "      <td>0.156</td>\n",
       "      <td>0.000</td>\n",
       "      <td>0.500</td>\n",
       "      <td>0.332</td>\n",
       "      <td>0.000</td>\n",
       "      <td>0.000</td>\n",
       "      <td>0.000</td>\n",
       "      <td>0.306</td>\n",
       "      <td>0.108</td>\n",
       "      <td>0.564</td>\n",
       "      <td>0.088</td>\n",
       "      <td>4.064</td>\n",
       "      <td>0.000</td>\n",
       "      <td>0.000</td>\n",
       "      <td>0.000</td>\n",
       "      <td>0.0</td>\n",
       "    </tr>\n",
       "    <tr>\n",
       "      <th>2</th>\n",
       "      <td>31</td>\n",
       "      <td>0.858795</td>\n",
       "      <td>0.033639</td>\n",
       "      <td>0.098524</td>\n",
       "      <td>0.009041</td>\n",
       "      <td>30.0840</td>\n",
       "      <td>3.03</td>\n",
       "      <td>91.15</td>\n",
       "      <td>0.052</td>\n",
       "      <td>0.000</td>\n",
       "      <td>0.0000</td>\n",
       "      <td>0.232</td>\n",
       "      <td>0.672</td>\n",
       "      <td>1.484</td>\n",
       "      <td>0.000</td>\n",
       "      <td>0.780</td>\n",
       "      <td>0.460</td>\n",
       "      <td>0.000</td>\n",
       "      <td>0.000</td>\n",
       "      <td>0.064</td>\n",
       "      <td>0.000</td>\n",
       "      <td>0.128</td>\n",
       "      <td>0.092</td>\n",
       "      <td>0.044</td>\n",
       "      <td>13.876</td>\n",
       "      <td>11.892</td>\n",
       "      <td>0.060</td>\n",
       "      <td>0.180</td>\n",
       "      <td>0.068</td>\n",
       "      <td>0.0</td>\n",
       "    </tr>\n",
       "    <tr>\n",
       "      <th>3</th>\n",
       "      <td>32</td>\n",
       "      <td>0.805631</td>\n",
       "      <td>0.053073</td>\n",
       "      <td>0.128093</td>\n",
       "      <td>0.013203</td>\n",
       "      <td>22.8740</td>\n",
       "      <td>2.97</td>\n",
       "      <td>67.94</td>\n",
       "      <td>0.000</td>\n",
       "      <td>0.302</td>\n",
       "      <td>0.0000</td>\n",
       "      <td>0.202</td>\n",
       "      <td>0.192</td>\n",
       "      <td>0.884</td>\n",
       "      <td>0.670</td>\n",
       "      <td>1.084</td>\n",
       "      <td>0.256</td>\n",
       "      <td>0.000</td>\n",
       "      <td>0.000</td>\n",
       "      <td>0.820</td>\n",
       "      <td>0.000</td>\n",
       "      <td>0.000</td>\n",
       "      <td>0.000</td>\n",
       "      <td>0.000</td>\n",
       "      <td>4.792</td>\n",
       "      <td>13.636</td>\n",
       "      <td>0.000</td>\n",
       "      <td>0.036</td>\n",
       "      <td>0.000</td>\n",
       "      <td>0.0</td>\n",
       "    </tr>\n",
       "    <tr>\n",
       "      <th>4</th>\n",
       "      <td>33</td>\n",
       "      <td>0.742040</td>\n",
       "      <td>0.062489</td>\n",
       "      <td>0.091095</td>\n",
       "      <td>0.104376</td>\n",
       "      <td>11.7460</td>\n",
       "      <td>2.67</td>\n",
       "      <td>31.36</td>\n",
       "      <td>0.032</td>\n",
       "      <td>1.120</td>\n",
       "      <td>0.0000</td>\n",
       "      <td>0.000</td>\n",
       "      <td>0.060</td>\n",
       "      <td>0.168</td>\n",
       "      <td>0.156</td>\n",
       "      <td>0.256</td>\n",
       "      <td>0.368</td>\n",
       "      <td>0.000</td>\n",
       "      <td>0.000</td>\n",
       "      <td>0.200</td>\n",
       "      <td>0.030</td>\n",
       "      <td>0.000</td>\n",
       "      <td>0.044</td>\n",
       "      <td>0.474</td>\n",
       "      <td>8.220</td>\n",
       "      <td>0.496</td>\n",
       "      <td>0.122</td>\n",
       "      <td>0.000</td>\n",
       "      <td>0.000</td>\n",
       "      <td>0.0</td>\n",
       "    </tr>\n",
       "  </tbody>\n",
       "</table>\n",
       "</div>"
      ],
      "text/plain": [
       "   ID  Organics_wt_%  Paper_and_cardboard_wt_%  Plastics_wt_%  Non_combust_wt_%  Total_weight_(kg)  energy_kWh_per_kg  total_energy_kWh  aluminium_cans  steel_cans  other_metal    lpb  paper  pet_bottles  plastic_bags  flexibles_film  other_plastic   jars  other_organics  textiles  ceramics  other  aluminium_recyclable  cardboard  nappies    food  hdpe_bottles     pp  feminine_hygiene  electrical_items_and_peripherals_(incl_tvs)\n",
       "0  29       0.652021                  0.147424       0.056767          0.143789            37.4160               2.45             91.67           0.028       2.324       0.1400  0.064  0.660        0.392         0.172           0.312          1.248  0.244          24.396     4.792     0.576  2.068                 0.000      0.000    0.000   0.000         0.000  0.000             0.000                                          0.0\n",
       "1  30       0.560960                  0.076200       0.202659          0.160182             7.4016               2.24             16.58           0.000       0.408       0.0316  0.000  0.000        0.844         0.156           0.000          0.500  0.332           0.000     0.000     0.000  0.306                 0.108      0.564    0.088   4.064         0.000  0.000             0.000                                          0.0\n",
       "2  31       0.858795                  0.033639       0.098524          0.009041            30.0840               3.03             91.15           0.052       0.000       0.0000  0.232  0.672        1.484         0.000           0.780          0.460  0.000           0.000     0.064     0.000  0.128                 0.092      0.044   13.876  11.892         0.060  0.180             0.068                                          0.0\n",
       "3  32       0.805631                  0.053073       0.128093          0.013203            22.8740               2.97             67.94           0.000       0.302       0.0000  0.202  0.192        0.884         0.670           1.084          0.256  0.000           0.000     0.820     0.000  0.000                 0.000      0.000    4.792  13.636         0.000  0.036             0.000                                          0.0\n",
       "4  33       0.742040                  0.062489       0.091095          0.104376            11.7460               2.67             31.36           0.032       1.120       0.0000  0.000  0.060        0.168         0.156           0.256          0.368  0.000           0.000     0.200     0.030  0.000                 0.044      0.474    8.220   0.496         0.122  0.000             0.000                                          0.0"
      ]
     },
     "execution_count": 1,
     "metadata": {},
     "output_type": "execute_result"
    }
   ],
   "source": [
    "import pandas as pd\n",
    "import warnings\n",
    "\n",
    "warnings.filterwarnings('ignore')\n",
    "pd.set_option('display.max_rows', 500)\n",
    "pd.set_option('display.max_columns', 500)\n",
    "pd.set_option('display.width', 1000)\n",
    "model_df = pd.read_csv('../Datasets/Vanuatu Final Model.csv', index_col='Unnamed: 0')\n",
    "model_df.head()"
   ]
  },
  {
   "cell_type": "markdown",
   "metadata": {},
   "source": [
    "# Modeling"
   ]
  },
  {
   "cell_type": "code",
   "execution_count": 38,
   "metadata": {
    "ExecuteTime": {
     "end_time": "2020-10-27T15:46:04.949609Z",
     "start_time": "2020-10-27T15:46:02.999777Z"
    }
   },
   "outputs": [],
   "source": [
    "import matplotlib.pyplot as plt\n",
    "%matplotlib inline\n",
    "import scipy\n",
    "import numpy as np\n",
    "import tensorflow as tf\n",
    "from sklearn.preprocessing import StandardScaler, OneHotEncoder, MinMaxScaler\n",
    "from sklearn.model_selection import train_test_split\n",
    "from sklearn.metrics import mean_squared_error\n",
    "from sklearn.model_selection import cross_val_predict\n",
    "\n",
    "np.random.seed(123)"
   ]
  },
  {
   "cell_type": "markdown",
   "metadata": {},
   "source": [
    "## Remove Outliers"
   ]
  },
  {
   "cell_type": "code",
   "execution_count": 41,
   "metadata": {
    "ExecuteTime": {
     "end_time": "2020-10-27T15:46:05.083710Z",
     "start_time": "2020-10-27T15:46:04.998943Z"
    },
    "scrolled": true
   },
   "outputs": [
    {
     "data": {
      "text/html": [
       "<div>\n",
       "<style scoped>\n",
       "    .dataframe tbody tr th:only-of-type {\n",
       "        vertical-align: middle;\n",
       "    }\n",
       "\n",
       "    .dataframe tbody tr th {\n",
       "        vertical-align: top;\n",
       "    }\n",
       "\n",
       "    .dataframe thead th {\n",
       "        text-align: right;\n",
       "    }\n",
       "</style>\n",
       "<table border=\"1\" class=\"dataframe\">\n",
       "  <thead>\n",
       "    <tr style=\"text-align: right;\">\n",
       "      <th></th>\n",
       "      <th>ID</th>\n",
       "      <th>Organics_wt_%</th>\n",
       "      <th>Paper_and_cardboard_wt_%</th>\n",
       "      <th>Plastics_wt_%</th>\n",
       "      <th>Non_combust_wt_%</th>\n",
       "      <th>Total_weight_(kg)</th>\n",
       "      <th>energy_kWh_per_kg</th>\n",
       "      <th>total_energy_kWh</th>\n",
       "      <th>aluminium_cans</th>\n",
       "      <th>steel_cans</th>\n",
       "      <th>other_metal</th>\n",
       "      <th>lpb</th>\n",
       "      <th>paper</th>\n",
       "      <th>pet_bottles</th>\n",
       "      <th>plastic_bags</th>\n",
       "      <th>flexibles_film</th>\n",
       "      <th>other_plastic</th>\n",
       "      <th>jars</th>\n",
       "      <th>other_organics</th>\n",
       "      <th>textiles</th>\n",
       "      <th>ceramics</th>\n",
       "      <th>other</th>\n",
       "      <th>aluminium_recyclable</th>\n",
       "      <th>cardboard</th>\n",
       "      <th>nappies</th>\n",
       "      <th>food</th>\n",
       "      <th>hdpe_bottles</th>\n",
       "      <th>pp</th>\n",
       "      <th>feminine_hygiene</th>\n",
       "      <th>electrical_items_and_peripherals_(incl_tvs)</th>\n",
       "    </tr>\n",
       "  </thead>\n",
       "  <tbody>\n",
       "    <tr>\n",
       "      <th>count</th>\n",
       "      <td>204.000000</td>\n",
       "      <td>204.000000</td>\n",
       "      <td>204.000000</td>\n",
       "      <td>204.000000</td>\n",
       "      <td>204.000000</td>\n",
       "      <td>204.000000</td>\n",
       "      <td>204.000000</td>\n",
       "      <td>204.000000</td>\n",
       "      <td>204.00000</td>\n",
       "      <td>204.000000</td>\n",
       "      <td>204.000000</td>\n",
       "      <td>204.000000</td>\n",
       "      <td>204.000000</td>\n",
       "      <td>204.000000</td>\n",
       "      <td>204.000000</td>\n",
       "      <td>204.000000</td>\n",
       "      <td>204.000000</td>\n",
       "      <td>204.000000</td>\n",
       "      <td>204.000000</td>\n",
       "      <td>204.000000</td>\n",
       "      <td>204.000000</td>\n",
       "      <td>204.000000</td>\n",
       "      <td>204.000000</td>\n",
       "      <td>204.000000</td>\n",
       "      <td>204.000000</td>\n",
       "      <td>204.000000</td>\n",
       "      <td>204.000000</td>\n",
       "      <td>204.000000</td>\n",
       "      <td>204.000000</td>\n",
       "      <td>204.000000</td>\n",
       "    </tr>\n",
       "    <tr>\n",
       "      <th>mean</th>\n",
       "      <td>132.264706</td>\n",
       "      <td>0.524126</td>\n",
       "      <td>0.100271</td>\n",
       "      <td>0.174275</td>\n",
       "      <td>0.201328</td>\n",
       "      <td>8.184983</td>\n",
       "      <td>1.884804</td>\n",
       "      <td>20.153186</td>\n",
       "      <td>0.03398</td>\n",
       "      <td>0.581735</td>\n",
       "      <td>0.068121</td>\n",
       "      <td>0.057892</td>\n",
       "      <td>0.144775</td>\n",
       "      <td>0.257392</td>\n",
       "      <td>0.062446</td>\n",
       "      <td>0.245456</td>\n",
       "      <td>0.169534</td>\n",
       "      <td>0.144985</td>\n",
       "      <td>1.525784</td>\n",
       "      <td>0.193951</td>\n",
       "      <td>0.030500</td>\n",
       "      <td>0.112784</td>\n",
       "      <td>0.013608</td>\n",
       "      <td>0.201235</td>\n",
       "      <td>2.458760</td>\n",
       "      <td>1.790495</td>\n",
       "      <td>0.035525</td>\n",
       "      <td>0.021181</td>\n",
       "      <td>0.012539</td>\n",
       "      <td>0.022304</td>\n",
       "    </tr>\n",
       "    <tr>\n",
       "      <th>std</th>\n",
       "      <td>60.601245</td>\n",
       "      <td>0.346658</td>\n",
       "      <td>0.133629</td>\n",
       "      <td>0.180728</td>\n",
       "      <td>0.232789</td>\n",
       "      <td>9.112322</td>\n",
       "      <td>1.158808</td>\n",
       "      <td>27.902189</td>\n",
       "      <td>0.07916</td>\n",
       "      <td>0.889879</td>\n",
       "      <td>0.338109</td>\n",
       "      <td>0.158435</td>\n",
       "      <td>0.262609</td>\n",
       "      <td>0.442615</td>\n",
       "      <td>0.180676</td>\n",
       "      <td>0.338167</td>\n",
       "      <td>0.263677</td>\n",
       "      <td>0.337170</td>\n",
       "      <td>5.299995</td>\n",
       "      <td>0.571528</td>\n",
       "      <td>0.131288</td>\n",
       "      <td>0.284232</td>\n",
       "      <td>0.055900</td>\n",
       "      <td>0.366750</td>\n",
       "      <td>5.155228</td>\n",
       "      <td>3.701876</td>\n",
       "      <td>0.105111</td>\n",
       "      <td>0.143768</td>\n",
       "      <td>0.083175</td>\n",
       "      <td>0.116181</td>\n",
       "    </tr>\n",
       "    <tr>\n",
       "      <th>min</th>\n",
       "      <td>29.000000</td>\n",
       "      <td>0.000000</td>\n",
       "      <td>0.000000</td>\n",
       "      <td>0.000000</td>\n",
       "      <td>0.000000</td>\n",
       "      <td>0.056000</td>\n",
       "      <td>0.000000</td>\n",
       "      <td>0.000000</td>\n",
       "      <td>0.00000</td>\n",
       "      <td>0.000000</td>\n",
       "      <td>0.000000</td>\n",
       "      <td>0.000000</td>\n",
       "      <td>0.000000</td>\n",
       "      <td>0.000000</td>\n",
       "      <td>0.000000</td>\n",
       "      <td>0.000000</td>\n",
       "      <td>0.000000</td>\n",
       "      <td>0.000000</td>\n",
       "      <td>0.000000</td>\n",
       "      <td>0.000000</td>\n",
       "      <td>0.000000</td>\n",
       "      <td>0.000000</td>\n",
       "      <td>0.000000</td>\n",
       "      <td>0.000000</td>\n",
       "      <td>0.000000</td>\n",
       "      <td>0.000000</td>\n",
       "      <td>0.000000</td>\n",
       "      <td>0.000000</td>\n",
       "      <td>0.000000</td>\n",
       "      <td>0.000000</td>\n",
       "    </tr>\n",
       "    <tr>\n",
       "      <th>25%</th>\n",
       "      <td>79.750000</td>\n",
       "      <td>0.227208</td>\n",
       "      <td>0.007225</td>\n",
       "      <td>0.046747</td>\n",
       "      <td>0.023505</td>\n",
       "      <td>1.841750</td>\n",
       "      <td>0.972500</td>\n",
       "      <td>1.785000</td>\n",
       "      <td>0.00000</td>\n",
       "      <td>0.018000</td>\n",
       "      <td>0.000000</td>\n",
       "      <td>0.000000</td>\n",
       "      <td>0.000000</td>\n",
       "      <td>0.021250</td>\n",
       "      <td>0.000000</td>\n",
       "      <td>0.039500</td>\n",
       "      <td>0.008750</td>\n",
       "      <td>0.000000</td>\n",
       "      <td>0.000000</td>\n",
       "      <td>0.000000</td>\n",
       "      <td>0.000000</td>\n",
       "      <td>0.000000</td>\n",
       "      <td>0.000000</td>\n",
       "      <td>0.000000</td>\n",
       "      <td>0.000000</td>\n",
       "      <td>0.000000</td>\n",
       "      <td>0.000000</td>\n",
       "      <td>0.000000</td>\n",
       "      <td>0.000000</td>\n",
       "      <td>0.000000</td>\n",
       "    </tr>\n",
       "    <tr>\n",
       "      <th>50%</th>\n",
       "      <td>133.500000</td>\n",
       "      <td>0.607870</td>\n",
       "      <td>0.054760</td>\n",
       "      <td>0.125908</td>\n",
       "      <td>0.119279</td>\n",
       "      <td>4.898500</td>\n",
       "      <td>2.320000</td>\n",
       "      <td>9.195000</td>\n",
       "      <td>0.00000</td>\n",
       "      <td>0.291500</td>\n",
       "      <td>0.000000</td>\n",
       "      <td>0.000000</td>\n",
       "      <td>0.030500</td>\n",
       "      <td>0.116000</td>\n",
       "      <td>0.000000</td>\n",
       "      <td>0.126000</td>\n",
       "      <td>0.064000</td>\n",
       "      <td>0.000000</td>\n",
       "      <td>0.000000</td>\n",
       "      <td>0.000000</td>\n",
       "      <td>0.000000</td>\n",
       "      <td>0.000000</td>\n",
       "      <td>0.000000</td>\n",
       "      <td>0.025000</td>\n",
       "      <td>0.000000</td>\n",
       "      <td>0.000000</td>\n",
       "      <td>0.000000</td>\n",
       "      <td>0.000000</td>\n",
       "      <td>0.000000</td>\n",
       "      <td>0.000000</td>\n",
       "    </tr>\n",
       "    <tr>\n",
       "      <th>75%</th>\n",
       "      <td>184.250000</td>\n",
       "      <td>0.846405</td>\n",
       "      <td>0.119520</td>\n",
       "      <td>0.230635</td>\n",
       "      <td>0.282650</td>\n",
       "      <td>11.626750</td>\n",
       "      <td>2.920000</td>\n",
       "      <td>28.360000</td>\n",
       "      <td>0.03000</td>\n",
       "      <td>0.744500</td>\n",
       "      <td>0.000000</td>\n",
       "      <td>0.052750</td>\n",
       "      <td>0.175750</td>\n",
       "      <td>0.250000</td>\n",
       "      <td>0.036500</td>\n",
       "      <td>0.339500</td>\n",
       "      <td>0.196250</td>\n",
       "      <td>0.136500</td>\n",
       "      <td>0.338000</td>\n",
       "      <td>0.081000</td>\n",
       "      <td>0.000000</td>\n",
       "      <td>0.049250</td>\n",
       "      <td>0.000000</td>\n",
       "      <td>0.208500</td>\n",
       "      <td>2.643500</td>\n",
       "      <td>1.664500</td>\n",
       "      <td>0.024000</td>\n",
       "      <td>0.003500</td>\n",
       "      <td>0.000000</td>\n",
       "      <td>0.000000</td>\n",
       "    </tr>\n",
       "    <tr>\n",
       "      <th>max</th>\n",
       "      <td>250.000000</td>\n",
       "      <td>1.000000</td>\n",
       "      <td>0.667831</td>\n",
       "      <td>0.860902</td>\n",
       "      <td>0.998243</td>\n",
       "      <td>56.402000</td>\n",
       "      <td>3.120000</td>\n",
       "      <td>175.410000</td>\n",
       "      <td>0.54600</td>\n",
       "      <td>5.308000</td>\n",
       "      <td>4.306000</td>\n",
       "      <td>1.552000</td>\n",
       "      <td>1.772000</td>\n",
       "      <td>3.338000</td>\n",
       "      <td>1.348000</td>\n",
       "      <td>2.760000</td>\n",
       "      <td>1.248000</td>\n",
       "      <td>2.306000</td>\n",
       "      <td>56.020000</td>\n",
       "      <td>4.792000</td>\n",
       "      <td>1.122000</td>\n",
       "      <td>2.068000</td>\n",
       "      <td>0.480000</td>\n",
       "      <td>1.948000</td>\n",
       "      <td>36.750000</td>\n",
       "      <td>23.120000</td>\n",
       "      <td>0.912000</td>\n",
       "      <td>2.008000</td>\n",
       "      <td>0.992000</td>\n",
       "      <td>0.862000</td>\n",
       "    </tr>\n",
       "  </tbody>\n",
       "</table>\n",
       "</div>"
      ],
      "text/plain": [
       "               ID  Organics_wt_%  Paper_and_cardboard_wt_%  Plastics_wt_%  Non_combust_wt_%  Total_weight_(kg)  energy_kWh_per_kg  total_energy_kWh  aluminium_cans  steel_cans  other_metal         lpb       paper  pet_bottles  plastic_bags  flexibles_film  other_plastic        jars  other_organics    textiles    ceramics       other  aluminium_recyclable   cardboard     nappies        food  hdpe_bottles          pp  feminine_hygiene  electrical_items_and_peripherals_(incl_tvs)\n",
       "count  204.000000     204.000000                204.000000     204.000000        204.000000         204.000000         204.000000        204.000000       204.00000  204.000000   204.000000  204.000000  204.000000   204.000000    204.000000      204.000000     204.000000  204.000000      204.000000  204.000000  204.000000  204.000000            204.000000  204.000000  204.000000  204.000000    204.000000  204.000000        204.000000                                   204.000000\n",
       "mean   132.264706       0.524126                  0.100271       0.174275          0.201328           8.184983           1.884804         20.153186         0.03398    0.581735     0.068121    0.057892    0.144775     0.257392      0.062446        0.245456       0.169534    0.144985        1.525784    0.193951    0.030500    0.112784              0.013608    0.201235    2.458760    1.790495      0.035525    0.021181          0.012539                                     0.022304\n",
       "std     60.601245       0.346658                  0.133629       0.180728          0.232789           9.112322           1.158808         27.902189         0.07916    0.889879     0.338109    0.158435    0.262609     0.442615      0.180676        0.338167       0.263677    0.337170        5.299995    0.571528    0.131288    0.284232              0.055900    0.366750    5.155228    3.701876      0.105111    0.143768          0.083175                                     0.116181\n",
       "min     29.000000       0.000000                  0.000000       0.000000          0.000000           0.056000           0.000000          0.000000         0.00000    0.000000     0.000000    0.000000    0.000000     0.000000      0.000000        0.000000       0.000000    0.000000        0.000000    0.000000    0.000000    0.000000              0.000000    0.000000    0.000000    0.000000      0.000000    0.000000          0.000000                                     0.000000\n",
       "25%     79.750000       0.227208                  0.007225       0.046747          0.023505           1.841750           0.972500          1.785000         0.00000    0.018000     0.000000    0.000000    0.000000     0.021250      0.000000        0.039500       0.008750    0.000000        0.000000    0.000000    0.000000    0.000000              0.000000    0.000000    0.000000    0.000000      0.000000    0.000000          0.000000                                     0.000000\n",
       "50%    133.500000       0.607870                  0.054760       0.125908          0.119279           4.898500           2.320000          9.195000         0.00000    0.291500     0.000000    0.000000    0.030500     0.116000      0.000000        0.126000       0.064000    0.000000        0.000000    0.000000    0.000000    0.000000              0.000000    0.025000    0.000000    0.000000      0.000000    0.000000          0.000000                                     0.000000\n",
       "75%    184.250000       0.846405                  0.119520       0.230635          0.282650          11.626750           2.920000         28.360000         0.03000    0.744500     0.000000    0.052750    0.175750     0.250000      0.036500        0.339500       0.196250    0.136500        0.338000    0.081000    0.000000    0.049250              0.000000    0.208500    2.643500    1.664500      0.024000    0.003500          0.000000                                     0.000000\n",
       "max    250.000000       1.000000                  0.667831       0.860902          0.998243          56.402000           3.120000        175.410000         0.54600    5.308000     4.306000    1.552000    1.772000     3.338000      1.348000        2.760000       1.248000    2.306000       56.020000    4.792000    1.122000    2.068000              0.480000    1.948000   36.750000   23.120000      0.912000    2.008000          0.992000                                     0.862000"
      ]
     },
     "execution_count": 41,
     "metadata": {},
     "output_type": "execute_result"
    }
   ],
   "source": [
    "model_df.describe()"
   ]
  },
  {
   "cell_type": "markdown",
   "metadata": {},
   "source": [
    "### Total Weight (kg)"
   ]
  },
  {
   "cell_type": "code",
   "execution_count": 42,
   "metadata": {
    "ExecuteTime": {
     "end_time": "2020-10-27T15:46:05.217353Z",
     "start_time": "2020-10-27T15:46:05.084708Z"
    },
    "scrolled": false
   },
   "outputs": [
    {
     "data": {
      "image/png": "[encoded data removed]",
      "text/plain": [
       "<Figure size 432x288 with 1 Axes>"
      ]
     },
     "metadata": {
      "needs_background": "light"
     },
     "output_type": "display_data"
    }
   ],
   "source": [
    "model_df[model_df['Total_weight_(kg)'] < 25]['Total_weight_(kg)'].hist();"
   ]
  },
  {
   "cell_type": "code",
   "execution_count": 43,
   "metadata": {
    "ExecuteTime": {
     "end_time": "2020-10-27T15:46:05.299134Z",
     "start_time": "2020-10-27T15:46:05.218350Z"
    },
    "scrolled": true
   },
   "outputs": [
    {
     "name": "stdout",
     "output_type": "stream",
     "text": [
      "Old length: 204\n",
      "New length: 195\n"
     ]
    },
    {
     "data": {
      "text/html": [
       "<div>\n",
       "<style scoped>\n",
       "    .dataframe tbody tr th:only-of-type {\n",
       "        vertical-align: middle;\n",
       "    }\n",
       "\n",
       "    .dataframe tbody tr th {\n",
       "        vertical-align: top;\n",
       "    }\n",
       "\n",
       "    .dataframe thead th {\n",
       "        text-align: right;\n",
       "    }\n",
       "</style>\n",
       "<table border=\"1\" class=\"dataframe\">\n",
       "  <thead>\n",
       "    <tr style=\"text-align: right;\">\n",
       "      <th></th>\n",
       "      <th>ID</th>\n",
       "      <th>Organics_wt_%</th>\n",
       "      <th>Paper_and_cardboard_wt_%</th>\n",
       "      <th>Plastics_wt_%</th>\n",
       "      <th>Non_combust_wt_%</th>\n",
       "      <th>Total_weight_(kg)</th>\n",
       "      <th>energy_kWh_per_kg</th>\n",
       "      <th>total_energy_kWh</th>\n",
       "      <th>aluminium_cans</th>\n",
       "      <th>steel_cans</th>\n",
       "      <th>other_metal</th>\n",
       "      <th>lpb</th>\n",
       "      <th>paper</th>\n",
       "      <th>pet_bottles</th>\n",
       "      <th>plastic_bags</th>\n",
       "      <th>flexibles_film</th>\n",
       "      <th>other_plastic</th>\n",
       "      <th>jars</th>\n",
       "      <th>other_organics</th>\n",
       "      <th>textiles</th>\n",
       "      <th>ceramics</th>\n",
       "      <th>other</th>\n",
       "      <th>aluminium_recyclable</th>\n",
       "      <th>cardboard</th>\n",
       "      <th>nappies</th>\n",
       "      <th>food</th>\n",
       "      <th>hdpe_bottles</th>\n",
       "      <th>pp</th>\n",
       "      <th>feminine_hygiene</th>\n",
       "      <th>electrical_items_and_peripherals_(incl_tvs)</th>\n",
       "    </tr>\n",
       "  </thead>\n",
       "  <tbody>\n",
       "    <tr>\n",
       "      <th>count</th>\n",
       "      <td>195.000000</td>\n",
       "      <td>195.000000</td>\n",
       "      <td>195.000000</td>\n",
       "      <td>195.000000</td>\n",
       "      <td>195.000000</td>\n",
       "      <td>195.000000</td>\n",
       "      <td>195.000000</td>\n",
       "      <td>195.000000</td>\n",
       "      <td>195.000000</td>\n",
       "      <td>195.000000</td>\n",
       "      <td>195.000000</td>\n",
       "      <td>195.000000</td>\n",
       "      <td>195.000000</td>\n",
       "      <td>195.000000</td>\n",
       "      <td>195.000000</td>\n",
       "      <td>195.000000</td>\n",
       "      <td>195.000000</td>\n",
       "      <td>195.000000</td>\n",
       "      <td>195.000000</td>\n",
       "      <td>195.000000</td>\n",
       "      <td>195.000000</td>\n",
       "      <td>195.000000</td>\n",
       "      <td>195.000000</td>\n",
       "      <td>195.000000</td>\n",
       "      <td>195.000000</td>\n",
       "      <td>195.000000</td>\n",
       "      <td>195.000000</td>\n",
       "      <td>195.000000</td>\n",
       "      <td>195.000000</td>\n",
       "      <td>195.000000</td>\n",
       "    </tr>\n",
       "    <tr>\n",
       "      <th>mean</th>\n",
       "      <td>134.984615</td>\n",
       "      <td>0.507841</td>\n",
       "      <td>0.103891</td>\n",
       "      <td>0.179931</td>\n",
       "      <td>0.208337</td>\n",
       "      <td>6.816234</td>\n",
       "      <td>1.837487</td>\n",
       "      <td>15.954974</td>\n",
       "      <td>0.032195</td>\n",
       "      <td>0.563313</td>\n",
       "      <td>0.066434</td>\n",
       "      <td>0.058308</td>\n",
       "      <td>0.144359</td>\n",
       "      <td>0.253138</td>\n",
       "      <td>0.048846</td>\n",
       "      <td>0.238862</td>\n",
       "      <td>0.161954</td>\n",
       "      <td>0.150426</td>\n",
       "      <td>0.975641</td>\n",
       "      <td>0.176349</td>\n",
       "      <td>0.026503</td>\n",
       "      <td>0.106728</td>\n",
       "      <td>0.013764</td>\n",
       "      <td>0.209733</td>\n",
       "      <td>1.904600</td>\n",
       "      <td>1.605349</td>\n",
       "      <td>0.036446</td>\n",
       "      <td>0.010938</td>\n",
       "      <td>0.012769</td>\n",
       "      <td>0.019579</td>\n",
       "    </tr>\n",
       "    <tr>\n",
       "      <th>std</th>\n",
       "      <td>58.971903</td>\n",
       "      <td>0.344787</td>\n",
       "      <td>0.135243</td>\n",
       "      <td>0.182634</td>\n",
       "      <td>0.235226</td>\n",
       "      <td>6.279427</td>\n",
       "      <td>1.161830</td>\n",
       "      <td>18.884514</td>\n",
       "      <td>0.072728</td>\n",
       "      <td>0.857235</td>\n",
       "      <td>0.343871</td>\n",
       "      <td>0.161352</td>\n",
       "      <td>0.262060</td>\n",
       "      <td>0.441542</td>\n",
       "      <td>0.145942</td>\n",
       "      <td>0.340508</td>\n",
       "      <td>0.253240</td>\n",
       "      <td>0.343526</td>\n",
       "      <td>2.903963</td>\n",
       "      <td>0.480804</td>\n",
       "      <td>0.124179</td>\n",
       "      <td>0.253639</td>\n",
       "      <td>0.056836</td>\n",
       "      <td>0.372882</td>\n",
       "      <td>3.693071</td>\n",
       "      <td>3.231965</td>\n",
       "      <td>0.107244</td>\n",
       "      <td>0.032074</td>\n",
       "      <td>0.084951</td>\n",
       "      <td>0.107238</td>\n",
       "    </tr>\n",
       "    <tr>\n",
       "      <th>min</th>\n",
       "      <td>30.000000</td>\n",
       "      <td>0.000000</td>\n",
       "      <td>0.000000</td>\n",
       "      <td>0.000000</td>\n",
       "      <td>0.000000</td>\n",
       "      <td>0.056000</td>\n",
       "      <td>0.000000</td>\n",
       "      <td>0.000000</td>\n",
       "      <td>0.000000</td>\n",
       "      <td>0.000000</td>\n",
       "      <td>0.000000</td>\n",
       "      <td>0.000000</td>\n",
       "      <td>0.000000</td>\n",
       "      <td>0.000000</td>\n",
       "      <td>0.000000</td>\n",
       "      <td>0.000000</td>\n",
       "      <td>0.000000</td>\n",
       "      <td>0.000000</td>\n",
       "      <td>0.000000</td>\n",
       "      <td>0.000000</td>\n",
       "      <td>0.000000</td>\n",
       "      <td>0.000000</td>\n",
       "      <td>0.000000</td>\n",
       "      <td>0.000000</td>\n",
       "      <td>0.000000</td>\n",
       "      <td>0.000000</td>\n",
       "      <td>0.000000</td>\n",
       "      <td>0.000000</td>\n",
       "      <td>0.000000</td>\n",
       "      <td>0.000000</td>\n",
       "    </tr>\n",
       "    <tr>\n",
       "      <th>25%</th>\n",
       "      <td>84.500000</td>\n",
       "      <td>0.200792</td>\n",
       "      <td>0.011489</td>\n",
       "      <td>0.051088</td>\n",
       "      <td>0.026585</td>\n",
       "      <td>1.775000</td>\n",
       "      <td>0.840000</td>\n",
       "      <td>1.670000</td>\n",
       "      <td>0.000000</td>\n",
       "      <td>0.022500</td>\n",
       "      <td>0.000000</td>\n",
       "      <td>0.000000</td>\n",
       "      <td>0.000000</td>\n",
       "      <td>0.020500</td>\n",
       "      <td>0.000000</td>\n",
       "      <td>0.038000</td>\n",
       "      <td>0.009500</td>\n",
       "      <td>0.000000</td>\n",
       "      <td>0.000000</td>\n",
       "      <td>0.000000</td>\n",
       "      <td>0.000000</td>\n",
       "      <td>0.000000</td>\n",
       "      <td>0.000000</td>\n",
       "      <td>0.000000</td>\n",
       "      <td>0.000000</td>\n",
       "      <td>0.000000</td>\n",
       "      <td>0.000000</td>\n",
       "      <td>0.000000</td>\n",
       "      <td>0.000000</td>\n",
       "      <td>0.000000</td>\n",
       "    </tr>\n",
       "    <tr>\n",
       "      <th>50%</th>\n",
       "      <td>137.000000</td>\n",
       "      <td>0.585355</td>\n",
       "      <td>0.058020</td>\n",
       "      <td>0.130408</td>\n",
       "      <td>0.128674</td>\n",
       "      <td>4.692000</td>\n",
       "      <td>2.250000</td>\n",
       "      <td>8.830000</td>\n",
       "      <td>0.000000</td>\n",
       "      <td>0.296000</td>\n",
       "      <td>0.000000</td>\n",
       "      <td>0.000000</td>\n",
       "      <td>0.034000</td>\n",
       "      <td>0.112000</td>\n",
       "      <td>0.000000</td>\n",
       "      <td>0.124000</td>\n",
       "      <td>0.062000</td>\n",
       "      <td>0.000000</td>\n",
       "      <td>0.000000</td>\n",
       "      <td>0.000000</td>\n",
       "      <td>0.000000</td>\n",
       "      <td>0.000000</td>\n",
       "      <td>0.000000</td>\n",
       "      <td>0.028000</td>\n",
       "      <td>0.000000</td>\n",
       "      <td>0.000000</td>\n",
       "      <td>0.000000</td>\n",
       "      <td>0.000000</td>\n",
       "      <td>0.000000</td>\n",
       "      <td>0.000000</td>\n",
       "    </tr>\n",
       "    <tr>\n",
       "      <th>75%</th>\n",
       "      <td>185.500000</td>\n",
       "      <td>0.831642</td>\n",
       "      <td>0.126575</td>\n",
       "      <td>0.247257</td>\n",
       "      <td>0.309004</td>\n",
       "      <td>9.781000</td>\n",
       "      <td>2.900000</td>\n",
       "      <td>23.705000</td>\n",
       "      <td>0.030000</td>\n",
       "      <td>0.740000</td>\n",
       "      <td>0.000000</td>\n",
       "      <td>0.052000</td>\n",
       "      <td>0.176500</td>\n",
       "      <td>0.245000</td>\n",
       "      <td>0.030500</td>\n",
       "      <td>0.334000</td>\n",
       "      <td>0.184500</td>\n",
       "      <td>0.150500</td>\n",
       "      <td>0.284000</td>\n",
       "      <td>0.086000</td>\n",
       "      <td>0.000000</td>\n",
       "      <td>0.049500</td>\n",
       "      <td>0.000000</td>\n",
       "      <td>0.255000</td>\n",
       "      <td>2.169000</td>\n",
       "      <td>1.629000</td>\n",
       "      <td>0.024000</td>\n",
       "      <td>0.004000</td>\n",
       "      <td>0.000000</td>\n",
       "      <td>0.000000</td>\n",
       "    </tr>\n",
       "    <tr>\n",
       "      <th>max</th>\n",
       "      <td>249.000000</td>\n",
       "      <td>1.000000</td>\n",
       "      <td>0.667831</td>\n",
       "      <td>0.860902</td>\n",
       "      <td>0.998243</td>\n",
       "      <td>24.894000</td>\n",
       "      <td>3.120000</td>\n",
       "      <td>73.240000</td>\n",
       "      <td>0.546000</td>\n",
       "      <td>5.308000</td>\n",
       "      <td>4.306000</td>\n",
       "      <td>1.552000</td>\n",
       "      <td>1.772000</td>\n",
       "      <td>3.338000</td>\n",
       "      <td>1.348000</td>\n",
       "      <td>2.760000</td>\n",
       "      <td>1.248000</td>\n",
       "      <td>2.306000</td>\n",
       "      <td>18.600000</td>\n",
       "      <td>3.924000</td>\n",
       "      <td>1.122000</td>\n",
       "      <td>1.670000</td>\n",
       "      <td>0.480000</td>\n",
       "      <td>1.948000</td>\n",
       "      <td>21.732000</td>\n",
       "      <td>20.768000</td>\n",
       "      <td>0.912000</td>\n",
       "      <td>0.226000</td>\n",
       "      <td>0.992000</td>\n",
       "      <td>0.862000</td>\n",
       "    </tr>\n",
       "  </tbody>\n",
       "</table>\n",
       "</div>"
      ],
      "text/plain": [
       "               ID  Organics_wt_%  Paper_and_cardboard_wt_%  Plastics_wt_%  Non_combust_wt_%  Total_weight_(kg)  energy_kWh_per_kg  total_energy_kWh  aluminium_cans  steel_cans  other_metal         lpb       paper  pet_bottles  plastic_bags  flexibles_film  other_plastic        jars  other_organics    textiles    ceramics       other  aluminium_recyclable   cardboard     nappies        food  hdpe_bottles          pp  feminine_hygiene  electrical_items_and_peripherals_(incl_tvs)\n",
       "count  195.000000     195.000000                195.000000     195.000000        195.000000         195.000000         195.000000        195.000000      195.000000  195.000000   195.000000  195.000000  195.000000   195.000000    195.000000      195.000000     195.000000  195.000000      195.000000  195.000000  195.000000  195.000000            195.000000  195.000000  195.000000  195.000000    195.000000  195.000000        195.000000                                   195.000000\n",
       "mean   134.984615       0.507841                  0.103891       0.179931          0.208337           6.816234           1.837487         15.954974        0.032195    0.563313     0.066434    0.058308    0.144359     0.253138      0.048846        0.238862       0.161954    0.150426        0.975641    0.176349    0.026503    0.106728              0.013764    0.209733    1.904600    1.605349      0.036446    0.010938          0.012769                                     0.019579\n",
       "std     58.971903       0.344787                  0.135243       0.182634          0.235226           6.279427           1.161830         18.884514        0.072728    0.857235     0.343871    0.161352    0.262060     0.441542      0.145942        0.340508       0.253240    0.343526        2.903963    0.480804    0.124179    0.253639              0.056836    0.372882    3.693071    3.231965      0.107244    0.032074          0.084951                                     0.107238\n",
       "min     30.000000       0.000000                  0.000000       0.000000          0.000000           0.056000           0.000000          0.000000        0.000000    0.000000     0.000000    0.000000    0.000000     0.000000      0.000000        0.000000       0.000000    0.000000        0.000000    0.000000    0.000000    0.000000              0.000000    0.000000    0.000000    0.000000      0.000000    0.000000          0.000000                                     0.000000\n",
       "25%     84.500000       0.200792                  0.011489       0.051088          0.026585           1.775000           0.840000          1.670000        0.000000    0.022500     0.000000    0.000000    0.000000     0.020500      0.000000        0.038000       0.009500    0.000000        0.000000    0.000000    0.000000    0.000000              0.000000    0.000000    0.000000    0.000000      0.000000    0.000000          0.000000                                     0.000000\n",
       "50%    137.000000       0.585355                  0.058020       0.130408          0.128674           4.692000           2.250000          8.830000        0.000000    0.296000     0.000000    0.000000    0.034000     0.112000      0.000000        0.124000       0.062000    0.000000        0.000000    0.000000    0.000000    0.000000              0.000000    0.028000    0.000000    0.000000      0.000000    0.000000          0.000000                                     0.000000\n",
       "75%    185.500000       0.831642                  0.126575       0.247257          0.309004           9.781000           2.900000         23.705000        0.030000    0.740000     0.000000    0.052000    0.176500     0.245000      0.030500        0.334000       0.184500    0.150500        0.284000    0.086000    0.000000    0.049500              0.000000    0.255000    2.169000    1.629000      0.024000    0.004000          0.000000                                     0.000000\n",
       "max    249.000000       1.000000                  0.667831       0.860902          0.998243          24.894000           3.120000         73.240000        0.546000    5.308000     4.306000    1.552000    1.772000     3.338000      1.348000        2.760000       1.248000    2.306000       18.600000    3.924000    1.122000    1.670000              0.480000    1.948000   21.732000   20.768000      0.912000    0.226000          0.992000                                     0.862000"
      ]
     },
     "execution_count": 43,
     "metadata": {},
     "output_type": "execute_result"
    }
   ],
   "source": [
    "print('Old length:', len(model_df))\n",
    "print('New length:', len(model_df[model_df['Total_weight_(kg)'] < 25]))\n",
    "model_df = model_df[model_df['Total_weight_(kg)'] < 25]\n",
    "model_df.describe()"
   ]
  },
  {
   "cell_type": "markdown",
   "metadata": {},
   "source": [
    "### Total Energy kWh > 0"
   ]
  },
  {
   "cell_type": "code",
   "execution_count": 44,
   "metadata": {
    "ExecuteTime": {
     "end_time": "2020-10-27T15:46:05.427790Z",
     "start_time": "2020-10-27T15:46:05.300143Z"
    }
   },
   "outputs": [
    {
     "data": {
      "image/png": "[encoded data removed]",
      "text/plain": [
       "<Figure size 432x288 with 1 Axes>"
      ]
     },
     "metadata": {
      "needs_background": "light"
     },
     "output_type": "display_data"
    }
   ],
   "source": [
    "model_df[model_df['total_energy_kWh'] > 0]['total_energy_kWh'].hist();"
   ]
  },
  {
   "cell_type": "code",
   "execution_count": 45,
   "metadata": {
    "ExecuteTime": {
     "end_time": "2020-10-27T15:46:05.520546Z",
     "start_time": "2020-10-27T15:46:05.429785Z"
    }
   },
   "outputs": [
    {
     "name": "stdout",
     "output_type": "stream",
     "text": [
      "Old length: 195\n",
      "New length: 163\n"
     ]
    },
    {
     "data": {
      "text/html": [
       "<div>\n",
       "<style scoped>\n",
       "    .dataframe tbody tr th:only-of-type {\n",
       "        vertical-align: middle;\n",
       "    }\n",
       "\n",
       "    .dataframe tbody tr th {\n",
       "        vertical-align: top;\n",
       "    }\n",
       "\n",
       "    .dataframe thead th {\n",
       "        text-align: right;\n",
       "    }\n",
       "</style>\n",
       "<table border=\"1\" class=\"dataframe\">\n",
       "  <thead>\n",
       "    <tr style=\"text-align: right;\">\n",
       "      <th></th>\n",
       "      <th>ID</th>\n",
       "      <th>Organics_wt_%</th>\n",
       "      <th>Paper_and_cardboard_wt_%</th>\n",
       "      <th>Plastics_wt_%</th>\n",
       "      <th>Non_combust_wt_%</th>\n",
       "      <th>Total_weight_(kg)</th>\n",
       "      <th>energy_kWh_per_kg</th>\n",
       "      <th>total_energy_kWh</th>\n",
       "      <th>aluminium_cans</th>\n",
       "      <th>steel_cans</th>\n",
       "      <th>other_metal</th>\n",
       "      <th>lpb</th>\n",
       "      <th>paper</th>\n",
       "      <th>pet_bottles</th>\n",
       "      <th>plastic_bags</th>\n",
       "      <th>flexibles_film</th>\n",
       "      <th>other_plastic</th>\n",
       "      <th>jars</th>\n",
       "      <th>other_organics</th>\n",
       "      <th>textiles</th>\n",
       "      <th>ceramics</th>\n",
       "      <th>other</th>\n",
       "      <th>aluminium_recyclable</th>\n",
       "      <th>cardboard</th>\n",
       "      <th>nappies</th>\n",
       "      <th>food</th>\n",
       "      <th>hdpe_bottles</th>\n",
       "      <th>pp</th>\n",
       "      <th>feminine_hygiene</th>\n",
       "      <th>electrical_items_and_peripherals_(incl_tvs)</th>\n",
       "    </tr>\n",
       "  </thead>\n",
       "  <tbody>\n",
       "    <tr>\n",
       "      <th>count</th>\n",
       "      <td>163.000000</td>\n",
       "      <td>163.000000</td>\n",
       "      <td>163.000000</td>\n",
       "      <td>163.000000</td>\n",
       "      <td>163.000000</td>\n",
       "      <td>163.000000</td>\n",
       "      <td>163.000000</td>\n",
       "      <td>163.000000</td>\n",
       "      <td>163.000000</td>\n",
       "      <td>163.000000</td>\n",
       "      <td>163.000000</td>\n",
       "      <td>163.000000</td>\n",
       "      <td>163.000000</td>\n",
       "      <td>163.000000</td>\n",
       "      <td>163.000000</td>\n",
       "      <td>163.000000</td>\n",
       "      <td>163.000000</td>\n",
       "      <td>163.000000</td>\n",
       "      <td>163.000000</td>\n",
       "      <td>163.000000</td>\n",
       "      <td>163.000000</td>\n",
       "      <td>163.000000</td>\n",
       "      <td>163.000000</td>\n",
       "      <td>163.000000</td>\n",
       "      <td>163.000000</td>\n",
       "      <td>163.000000</td>\n",
       "      <td>163.000000</td>\n",
       "      <td>163.000000</td>\n",
       "      <td>163.000000</td>\n",
       "      <td>163.000000</td>\n",
       "    </tr>\n",
       "    <tr>\n",
       "      <th>mean</th>\n",
       "      <td>131.460123</td>\n",
       "      <td>0.607540</td>\n",
       "      <td>0.090041</td>\n",
       "      <td>0.142979</td>\n",
       "      <td>0.159440</td>\n",
       "      <td>7.844366</td>\n",
       "      <td>2.198221</td>\n",
       "      <td>19.087239</td>\n",
       "      <td>0.035037</td>\n",
       "      <td>0.543515</td>\n",
       "      <td>0.079476</td>\n",
       "      <td>0.065595</td>\n",
       "      <td>0.161331</td>\n",
       "      <td>0.267626</td>\n",
       "      <td>0.054294</td>\n",
       "      <td>0.260951</td>\n",
       "      <td>0.180411</td>\n",
       "      <td>0.159337</td>\n",
       "      <td>1.167178</td>\n",
       "      <td>0.196080</td>\n",
       "      <td>0.021663</td>\n",
       "      <td>0.122080</td>\n",
       "      <td>0.011828</td>\n",
       "      <td>0.229049</td>\n",
       "      <td>2.278509</td>\n",
       "      <td>1.920509</td>\n",
       "      <td>0.041479</td>\n",
       "      <td>0.011871</td>\n",
       "      <td>0.015276</td>\n",
       "      <td>0.021270</td>\n",
       "    </tr>\n",
       "    <tr>\n",
       "      <th>std</th>\n",
       "      <td>61.729422</td>\n",
       "      <td>0.285334</td>\n",
       "      <td>0.109413</td>\n",
       "      <td>0.137626</td>\n",
       "      <td>0.176118</td>\n",
       "      <td>6.346633</td>\n",
       "      <td>0.904776</td>\n",
       "      <td>19.154998</td>\n",
       "      <td>0.076885</td>\n",
       "      <td>0.785098</td>\n",
       "      <td>0.374916</td>\n",
       "      <td>0.174571</td>\n",
       "      <td>0.264710</td>\n",
       "      <td>0.467608</td>\n",
       "      <td>0.157856</td>\n",
       "      <td>0.359299</td>\n",
       "      <td>0.269844</td>\n",
       "      <td>0.346842</td>\n",
       "      <td>3.142267</td>\n",
       "      <td>0.511993</td>\n",
       "      <td>0.119896</td>\n",
       "      <td>0.272909</td>\n",
       "      <td>0.048664</td>\n",
       "      <td>0.375020</td>\n",
       "      <td>3.933909</td>\n",
       "      <td>3.449626</td>\n",
       "      <td>0.116137</td>\n",
       "      <td>0.034467</td>\n",
       "      <td>0.092756</td>\n",
       "      <td>0.115402</td>\n",
       "    </tr>\n",
       "    <tr>\n",
       "      <th>min</th>\n",
       "      <td>30.000000</td>\n",
       "      <td>0.003579</td>\n",
       "      <td>0.000000</td>\n",
       "      <td>0.000000</td>\n",
       "      <td>0.000000</td>\n",
       "      <td>0.056000</td>\n",
       "      <td>0.020000</td>\n",
       "      <td>0.070000</td>\n",
       "      <td>0.000000</td>\n",
       "      <td>0.000000</td>\n",
       "      <td>0.000000</td>\n",
       "      <td>0.000000</td>\n",
       "      <td>0.000000</td>\n",
       "      <td>0.000000</td>\n",
       "      <td>0.000000</td>\n",
       "      <td>0.000000</td>\n",
       "      <td>0.000000</td>\n",
       "      <td>0.000000</td>\n",
       "      <td>0.000000</td>\n",
       "      <td>0.000000</td>\n",
       "      <td>0.000000</td>\n",
       "      <td>0.000000</td>\n",
       "      <td>0.000000</td>\n",
       "      <td>0.000000</td>\n",
       "      <td>0.000000</td>\n",
       "      <td>0.000000</td>\n",
       "      <td>0.000000</td>\n",
       "      <td>0.000000</td>\n",
       "      <td>0.000000</td>\n",
       "      <td>0.000000</td>\n",
       "    </tr>\n",
       "    <tr>\n",
       "      <th>25%</th>\n",
       "      <td>77.500000</td>\n",
       "      <td>0.417745</td>\n",
       "      <td>0.013259</td>\n",
       "      <td>0.041921</td>\n",
       "      <td>0.022547</td>\n",
       "      <td>3.029000</td>\n",
       "      <td>1.660000</td>\n",
       "      <td>4.280000</td>\n",
       "      <td>0.000000</td>\n",
       "      <td>0.018000</td>\n",
       "      <td>0.000000</td>\n",
       "      <td>0.000000</td>\n",
       "      <td>0.000000</td>\n",
       "      <td>0.023000</td>\n",
       "      <td>0.000000</td>\n",
       "      <td>0.047500</td>\n",
       "      <td>0.011000</td>\n",
       "      <td>0.000000</td>\n",
       "      <td>0.000000</td>\n",
       "      <td>0.000000</td>\n",
       "      <td>0.000000</td>\n",
       "      <td>0.000000</td>\n",
       "      <td>0.000000</td>\n",
       "      <td>0.000000</td>\n",
       "      <td>0.000000</td>\n",
       "      <td>0.000000</td>\n",
       "      <td>0.000000</td>\n",
       "      <td>0.000000</td>\n",
       "      <td>0.000000</td>\n",
       "      <td>0.000000</td>\n",
       "    </tr>\n",
       "    <tr>\n",
       "      <th>50%</th>\n",
       "      <td>126.000000</td>\n",
       "      <td>0.671958</td>\n",
       "      <td>0.055413</td>\n",
       "      <td>0.110337</td>\n",
       "      <td>0.092886</td>\n",
       "      <td>6.169000</td>\n",
       "      <td>2.530000</td>\n",
       "      <td>11.940000</td>\n",
       "      <td>0.000000</td>\n",
       "      <td>0.320000</td>\n",
       "      <td>0.000000</td>\n",
       "      <td>0.000000</td>\n",
       "      <td>0.046000</td>\n",
       "      <td>0.112000</td>\n",
       "      <td>0.000000</td>\n",
       "      <td>0.144000</td>\n",
       "      <td>0.072000</td>\n",
       "      <td>0.000000</td>\n",
       "      <td>0.000000</td>\n",
       "      <td>0.000000</td>\n",
       "      <td>0.000000</td>\n",
       "      <td>0.000000</td>\n",
       "      <td>0.000000</td>\n",
       "      <td>0.051000</td>\n",
       "      <td>0.096000</td>\n",
       "      <td>0.192000</td>\n",
       "      <td>0.000000</td>\n",
       "      <td>0.000000</td>\n",
       "      <td>0.000000</td>\n",
       "      <td>0.000000</td>\n",
       "    </tr>\n",
       "    <tr>\n",
       "      <th>75%</th>\n",
       "      <td>189.500000</td>\n",
       "      <td>0.860508</td>\n",
       "      <td>0.114084</td>\n",
       "      <td>0.199293</td>\n",
       "      <td>0.245571</td>\n",
       "      <td>11.658000</td>\n",
       "      <td>2.965000</td>\n",
       "      <td>28.805000</td>\n",
       "      <td>0.032000</td>\n",
       "      <td>0.740000</td>\n",
       "      <td>0.000000</td>\n",
       "      <td>0.060500</td>\n",
       "      <td>0.193500</td>\n",
       "      <td>0.258000</td>\n",
       "      <td>0.037000</td>\n",
       "      <td>0.344000</td>\n",
       "      <td>0.206500</td>\n",
       "      <td>0.183000</td>\n",
       "      <td>0.593000</td>\n",
       "      <td>0.121000</td>\n",
       "      <td>0.000000</td>\n",
       "      <td>0.079000</td>\n",
       "      <td>0.000000</td>\n",
       "      <td>0.311000</td>\n",
       "      <td>3.296000</td>\n",
       "      <td>1.985000</td>\n",
       "      <td>0.026000</td>\n",
       "      <td>0.004000</td>\n",
       "      <td>0.000000</td>\n",
       "      <td>0.000000</td>\n",
       "    </tr>\n",
       "    <tr>\n",
       "      <th>max</th>\n",
       "      <td>249.000000</td>\n",
       "      <td>1.000000</td>\n",
       "      <td>0.588404</td>\n",
       "      <td>0.860902</td>\n",
       "      <td>0.792383</td>\n",
       "      <td>24.894000</td>\n",
       "      <td>3.120000</td>\n",
       "      <td>73.240000</td>\n",
       "      <td>0.546000</td>\n",
       "      <td>5.308000</td>\n",
       "      <td>4.306000</td>\n",
       "      <td>1.552000</td>\n",
       "      <td>1.772000</td>\n",
       "      <td>3.338000</td>\n",
       "      <td>1.348000</td>\n",
       "      <td>2.760000</td>\n",
       "      <td>1.248000</td>\n",
       "      <td>2.306000</td>\n",
       "      <td>18.600000</td>\n",
       "      <td>3.924000</td>\n",
       "      <td>1.122000</td>\n",
       "      <td>1.670000</td>\n",
       "      <td>0.436000</td>\n",
       "      <td>1.948000</td>\n",
       "      <td>21.732000</td>\n",
       "      <td>20.768000</td>\n",
       "      <td>0.912000</td>\n",
       "      <td>0.226000</td>\n",
       "      <td>0.992000</td>\n",
       "      <td>0.862000</td>\n",
       "    </tr>\n",
       "  </tbody>\n",
       "</table>\n",
       "</div>"
      ],
      "text/plain": [
       "               ID  Organics_wt_%  Paper_and_cardboard_wt_%  Plastics_wt_%  Non_combust_wt_%  Total_weight_(kg)  energy_kWh_per_kg  total_energy_kWh  aluminium_cans  steel_cans  other_metal         lpb       paper  pet_bottles  plastic_bags  flexibles_film  other_plastic        jars  other_organics    textiles    ceramics       other  aluminium_recyclable   cardboard     nappies        food  hdpe_bottles          pp  feminine_hygiene  electrical_items_and_peripherals_(incl_tvs)\n",
       "count  163.000000     163.000000                163.000000     163.000000        163.000000         163.000000         163.000000        163.000000      163.000000  163.000000   163.000000  163.000000  163.000000   163.000000    163.000000      163.000000     163.000000  163.000000      163.000000  163.000000  163.000000  163.000000            163.000000  163.000000  163.000000  163.000000    163.000000  163.000000        163.000000                                   163.000000\n",
       "mean   131.460123       0.607540                  0.090041       0.142979          0.159440           7.844366           2.198221         19.087239        0.035037    0.543515     0.079476    0.065595    0.161331     0.267626      0.054294        0.260951       0.180411    0.159337        1.167178    0.196080    0.021663    0.122080              0.011828    0.229049    2.278509    1.920509      0.041479    0.011871          0.015276                                     0.021270\n",
       "std     61.729422       0.285334                  0.109413       0.137626          0.176118           6.346633           0.904776         19.154998        0.076885    0.785098     0.374916    0.174571    0.264710     0.467608      0.157856        0.359299       0.269844    0.346842        3.142267    0.511993    0.119896    0.272909              0.048664    0.375020    3.933909    3.449626      0.116137    0.034467          0.092756                                     0.115402\n",
       "min     30.000000       0.003579                  0.000000       0.000000          0.000000           0.056000           0.020000          0.070000        0.000000    0.000000     0.000000    0.000000    0.000000     0.000000      0.000000        0.000000       0.000000    0.000000        0.000000    0.000000    0.000000    0.000000              0.000000    0.000000    0.000000    0.000000      0.000000    0.000000          0.000000                                     0.000000\n",
       "25%     77.500000       0.417745                  0.013259       0.041921          0.022547           3.029000           1.660000          4.280000        0.000000    0.018000     0.000000    0.000000    0.000000     0.023000      0.000000        0.047500       0.011000    0.000000        0.000000    0.000000    0.000000    0.000000              0.000000    0.000000    0.000000    0.000000      0.000000    0.000000          0.000000                                     0.000000\n",
       "50%    126.000000       0.671958                  0.055413       0.110337          0.092886           6.169000           2.530000         11.940000        0.000000    0.320000     0.000000    0.000000    0.046000     0.112000      0.000000        0.144000       0.072000    0.000000        0.000000    0.000000    0.000000    0.000000              0.000000    0.051000    0.096000    0.192000      0.000000    0.000000          0.000000                                     0.000000\n",
       "75%    189.500000       0.860508                  0.114084       0.199293          0.245571          11.658000           2.965000         28.805000        0.032000    0.740000     0.000000    0.060500    0.193500     0.258000      0.037000        0.344000       0.206500    0.183000        0.593000    0.121000    0.000000    0.079000              0.000000    0.311000    3.296000    1.985000      0.026000    0.004000          0.000000                                     0.000000\n",
       "max    249.000000       1.000000                  0.588404       0.860902          0.792383          24.894000           3.120000         73.240000        0.546000    5.308000     4.306000    1.552000    1.772000     3.338000      1.348000        2.760000       1.248000    2.306000       18.600000    3.924000    1.122000    1.670000              0.436000    1.948000   21.732000   20.768000      0.912000    0.226000          0.992000                                     0.862000"
      ]
     },
     "execution_count": 45,
     "metadata": {},
     "output_type": "execute_result"
    }
   ],
   "source": [
    "print('Old length:', len(model_df))\n",
    "print('New length:', len(model_df[model_df['total_energy_kWh'] > 0]))\n",
    "model_df = model_df[model_df['total_energy_kWh'] > 0]\n",
    "model_df.describe()"
   ]
  },
  {
   "cell_type": "markdown",
   "metadata": {},
   "source": [
    "##  Train/Test Split"
   ]
  },
  {
   "cell_type": "code",
   "execution_count": 46,
   "metadata": {
    "ExecuteTime": {
     "end_time": "2020-10-27T15:46:05.528525Z",
     "start_time": "2020-10-27T15:46:05.523538Z"
    }
   },
   "outputs": [],
   "source": [
    "# X = model_df.drop(['ID',\n",
    "#                    'total_energy_kWh',\n",
    "#                    'energy_kWh_per_kg',\n",
    "#                    'Total_weight_(kg)',\n",
    "#                    'Organics_wt_%',\n",
    "#                    'Paper_and_cardboard_wt_%',\n",
    "#                    'Plastics_wt_%',\n",
    "#                    'Non_combust_wt_%'], axis=1)\n",
    "# y = model_df[['total_energy_kWh']]"
   ]
  },
  {
   "cell_type": "code",
   "execution_count": 47,
   "metadata": {
    "ExecuteTime": {
     "end_time": "2020-10-27T15:46:05.536504Z",
     "start_time": "2020-10-27T15:46:05.530519Z"
    }
   },
   "outputs": [],
   "source": [
    "X = model_df.drop(['ID',\n",
    "                   'total_energy_kWh',\n",
    "                   'energy_kWh_per_kg',\n",
    "                   'Total_weight_(kg)',\n",
    "                   'Organics_wt_%',\n",
    "                   'Paper_and_cardboard_wt_%',\n",
    "                   'Plastics_wt_%',\n",
    "                   'Non_combust_wt_%'], axis=1)\n",
    "y = model_df[['energy_kWh_per_kg']]"
   ]
  },
  {
   "cell_type": "code",
   "execution_count": 48,
   "metadata": {
    "ExecuteTime": {
     "end_time": "2020-10-27T15:46:05.544482Z",
     "start_time": "2020-10-27T15:46:05.537500Z"
    }
   },
   "outputs": [],
   "source": [
    "X_train, X_test, y_train, y_test = train_test_split(X, y, test_size=0.15, random_state=42)"
   ]
  },
  {
   "cell_type": "code",
   "execution_count": 49,
   "metadata": {
    "ExecuteTime": {
     "end_time": "2020-10-27T15:46:05.555452Z",
     "start_time": "2020-10-27T15:46:05.546476Z"
    }
   },
   "outputs": [],
   "source": [
    "scaler = StandardScaler()\n",
    "X_train_Scaled = pd.DataFrame(scaler.fit_transform(X_train), columns=X.columns)\n",
    "X_test_Scaled = pd.DataFrame(scaler.transform(X_test), columns=X.columns)\n",
    "\n",
    "y_train_Scaled = scaler.fit_transform(y_train)\n",
    "y_test_Scaled = scaler.transform(y_test)"
   ]
  },
  {
   "cell_type": "code",
   "execution_count": 50,
   "metadata": {
    "ExecuteTime": {
     "end_time": "2020-10-27T15:46:05.573404Z",
     "start_time": "2020-10-27T15:46:05.556449Z"
    },
    "scrolled": true
   },
   "outputs": [
    {
     "data": {
      "text/html": [
       "<div>\n",
       "<style scoped>\n",
       "    .dataframe tbody tr th:only-of-type {\n",
       "        vertical-align: middle;\n",
       "    }\n",
       "\n",
       "    .dataframe tbody tr th {\n",
       "        vertical-align: top;\n",
       "    }\n",
       "\n",
       "    .dataframe thead th {\n",
       "        text-align: right;\n",
       "    }\n",
       "</style>\n",
       "<table border=\"1\" class=\"dataframe\">\n",
       "  <thead>\n",
       "    <tr style=\"text-align: right;\">\n",
       "      <th></th>\n",
       "      <th>aluminium_cans</th>\n",
       "      <th>steel_cans</th>\n",
       "      <th>other_metal</th>\n",
       "      <th>lpb</th>\n",
       "      <th>paper</th>\n",
       "      <th>pet_bottles</th>\n",
       "      <th>plastic_bags</th>\n",
       "      <th>flexibles_film</th>\n",
       "      <th>other_plastic</th>\n",
       "      <th>jars</th>\n",
       "      <th>other_organics</th>\n",
       "      <th>textiles</th>\n",
       "      <th>ceramics</th>\n",
       "      <th>other</th>\n",
       "      <th>aluminium_recyclable</th>\n",
       "      <th>cardboard</th>\n",
       "      <th>nappies</th>\n",
       "      <th>food</th>\n",
       "      <th>hdpe_bottles</th>\n",
       "      <th>pp</th>\n",
       "      <th>feminine_hygiene</th>\n",
       "      <th>electrical_items_and_peripherals_(incl_tvs)</th>\n",
       "    </tr>\n",
       "  </thead>\n",
       "  <tbody>\n",
       "    <tr>\n",
       "      <th>0</th>\n",
       "      <td>-0.421122</td>\n",
       "      <td>-0.594369</td>\n",
       "      <td>-0.325759</td>\n",
       "      <td>-0.061834</td>\n",
       "      <td>0.179690</td>\n",
       "      <td>-0.487873</td>\n",
       "      <td>-0.35266</td>\n",
       "      <td>-0.367712</td>\n",
       "      <td>-0.171607</td>\n",
       "      <td>0.319915</td>\n",
       "      <td>-0.346727</td>\n",
       "      <td>-0.267142</td>\n",
       "      <td>-0.197556</td>\n",
       "      <td>4.835599</td>\n",
       "      <td>-0.254625</td>\n",
       "      <td>-0.297169</td>\n",
       "      <td>-0.610844</td>\n",
       "      <td>-0.271017</td>\n",
       "      <td>0.061601</td>\n",
       "      <td>-0.351220</td>\n",
       "      <td>-0.171531</td>\n",
       "      <td>-0.178093</td>\n",
       "    </tr>\n",
       "    <tr>\n",
       "      <th>1</th>\n",
       "      <td>-0.421122</td>\n",
       "      <td>-0.552734</td>\n",
       "      <td>-0.325759</td>\n",
       "      <td>-0.364424</td>\n",
       "      <td>-0.637614</td>\n",
       "      <td>-0.551534</td>\n",
       "      <td>-0.35266</td>\n",
       "      <td>-0.696627</td>\n",
       "      <td>-0.591886</td>\n",
       "      <td>-0.477680</td>\n",
       "      <td>-0.364484</td>\n",
       "      <td>-0.354718</td>\n",
       "      <td>-0.197556</td>\n",
       "      <td>-0.445535</td>\n",
       "      <td>-0.254625</td>\n",
       "      <td>-0.563261</td>\n",
       "      <td>-0.610844</td>\n",
       "      <td>-0.341586</td>\n",
       "      <td>-0.346703</td>\n",
       "      <td>-0.351220</td>\n",
       "      <td>-0.171531</td>\n",
       "      <td>-0.178093</td>\n",
       "    </tr>\n",
       "    <tr>\n",
       "      <th>2</th>\n",
       "      <td>0.647257</td>\n",
       "      <td>-0.441300</td>\n",
       "      <td>-0.325759</td>\n",
       "      <td>-0.364424</td>\n",
       "      <td>-0.637614</td>\n",
       "      <td>-0.407784</td>\n",
       "      <td>-0.35266</td>\n",
       "      <td>-0.579157</td>\n",
       "      <td>-0.635741</td>\n",
       "      <td>-0.477680</td>\n",
       "      <td>-0.276036</td>\n",
       "      <td>-0.279084</td>\n",
       "      <td>-0.197556</td>\n",
       "      <td>-0.445535</td>\n",
       "      <td>-0.254625</td>\n",
       "      <td>-0.508477</td>\n",
       "      <td>-0.582917</td>\n",
       "      <td>-0.554733</td>\n",
       "      <td>-0.346703</td>\n",
       "      <td>-0.351220</td>\n",
       "      <td>-0.171531</td>\n",
       "      <td>-0.178093</td>\n",
       "    </tr>\n",
       "    <tr>\n",
       "      <th>3</th>\n",
       "      <td>-0.259623</td>\n",
       "      <td>-0.665393</td>\n",
       "      <td>0.722768</td>\n",
       "      <td>-0.232385</td>\n",
       "      <td>-0.435395</td>\n",
       "      <td>-0.089479</td>\n",
       "      <td>0.11141</td>\n",
       "      <td>0.240519</td>\n",
       "      <td>0.084215</td>\n",
       "      <td>-0.477680</td>\n",
       "      <td>-0.352422</td>\n",
       "      <td>-0.205440</td>\n",
       "      <td>0.142166</td>\n",
       "      <td>-0.068311</td>\n",
       "      <td>-0.254625</td>\n",
       "      <td>-0.563261</td>\n",
       "      <td>-0.470624</td>\n",
       "      <td>-0.554733</td>\n",
       "      <td>-0.265042</td>\n",
       "      <td>-0.351220</td>\n",
       "      <td>-0.171531</td>\n",
       "      <td>-0.178093</td>\n",
       "    </tr>\n",
       "    <tr>\n",
       "      <th>4</th>\n",
       "      <td>-0.234777</td>\n",
       "      <td>-0.665393</td>\n",
       "      <td>1.441603</td>\n",
       "      <td>-0.122352</td>\n",
       "      <td>1.064400</td>\n",
       "      <td>-0.489927</td>\n",
       "      <td>-0.35266</td>\n",
       "      <td>0.128271</td>\n",
       "      <td>-0.617468</td>\n",
       "      <td>-0.477680</td>\n",
       "      <td>-0.245213</td>\n",
       "      <td>-0.350737</td>\n",
       "      <td>-0.197556</td>\n",
       "      <td>-0.445535</td>\n",
       "      <td>-0.062508</td>\n",
       "      <td>-0.344127</td>\n",
       "      <td>-0.610844</td>\n",
       "      <td>-0.554733</td>\n",
       "      <td>1.229347</td>\n",
       "      <td>0.243484</td>\n",
       "      <td>-0.171531</td>\n",
       "      <td>-0.178093</td>\n",
       "    </tr>\n",
       "  </tbody>\n",
       "</table>\n",
       "</div>"
      ],
      "text/plain": [
       "   aluminium_cans  steel_cans  other_metal       lpb     paper  pet_bottles  plastic_bags  flexibles_film  other_plastic      jars  other_organics  textiles  ceramics     other  aluminium_recyclable  cardboard   nappies      food  hdpe_bottles        pp  feminine_hygiene  electrical_items_and_peripherals_(incl_tvs)\n",
       "0       -0.421122   -0.594369    -0.325759 -0.061834  0.179690    -0.487873      -0.35266       -0.367712      -0.171607  0.319915       -0.346727 -0.267142 -0.197556  4.835599             -0.254625  -0.297169 -0.610844 -0.271017      0.061601 -0.351220         -0.171531                                    -0.178093\n",
       "1       -0.421122   -0.552734    -0.325759 -0.364424 -0.637614    -0.551534      -0.35266       -0.696627      -0.591886 -0.477680       -0.364484 -0.354718 -0.197556 -0.445535             -0.254625  -0.563261 -0.610844 -0.341586     -0.346703 -0.351220         -0.171531                                    -0.178093\n",
       "2        0.647257   -0.441300    -0.325759 -0.364424 -0.637614    -0.407784      -0.35266       -0.579157      -0.635741 -0.477680       -0.276036 -0.279084 -0.197556 -0.445535             -0.254625  -0.508477 -0.582917 -0.554733     -0.346703 -0.351220         -0.171531                                    -0.178093\n",
       "3       -0.259623   -0.665393     0.722768 -0.232385 -0.435395    -0.089479       0.11141        0.240519       0.084215 -0.477680       -0.352422 -0.205440  0.142166 -0.068311             -0.254625  -0.563261 -0.470624 -0.554733     -0.265042 -0.351220         -0.171531                                    -0.178093\n",
       "4       -0.234777   -0.665393     1.441603 -0.122352  1.064400    -0.489927      -0.35266        0.128271      -0.617468 -0.477680       -0.245213 -0.350737 -0.197556 -0.445535             -0.062508  -0.344127 -0.610844 -0.554733      1.229347  0.243484         -0.171531                                    -0.178093"
      ]
     },
     "execution_count": 50,
     "metadata": {},
     "output_type": "execute_result"
    }
   ],
   "source": [
    "X_train_Scaled.head()"
   ]
  },
  {
   "cell_type": "code",
   "execution_count": 51,
   "metadata": {
    "ExecuteTime": {
     "end_time": "2020-10-27T15:46:05.926505Z",
     "start_time": "2020-10-27T15:46:05.574401Z"
    },
    "scrolled": false
   },
   "outputs": [
    {
     "data": {
      "image/png": "[encoded data removed]",
      "text/plain": [
       "<Figure size 720x504 with 2 Axes>"
      ]
     },
     "metadata": {
      "needs_background": "light"
     },
     "output_type": "display_data"
    }
   ],
   "source": [
    "plt.figure(figsize=(10,7))\n",
    "sns.heatmap(X_train_Scaled.corr());"
   ]
  },
  {
   "cell_type": "code",
   "execution_count": 52,
   "metadata": {
    "ExecuteTime": {
     "end_time": "2020-10-27T15:46:05.933441Z",
     "start_time": "2020-10-27T15:46:05.927499Z"
    }
   },
   "outputs": [
    {
     "data": {
      "text/plain": [
       "Index(['aluminium_cans', 'steel_cans', 'other_metal', 'lpb', 'paper', 'pet_bottles', 'plastic_bags', 'flexibles_film', 'other_plastic', 'jars', 'other_organics', 'textiles', 'ceramics', 'other', 'aluminium_recyclable', 'cardboard', 'nappies', 'food', 'hdpe_bottles', 'pp', 'feminine_hygiene', 'electrical_items_and_peripherals_(incl_tvs)'], dtype='object')"
      ]
     },
     "execution_count": 52,
     "metadata": {},
     "output_type": "execute_result"
    }
   ],
   "source": [
    "X_train_Scaled.columns"
   ]
  },
  {
   "cell_type": "markdown",
   "metadata": {},
   "source": [
    "## Statsmodel OLS"
   ]
  },
  {
   "cell_type": "code",
   "execution_count": 53,
   "metadata": {
    "ExecuteTime": {
     "end_time": "2020-10-27T15:46:06.607639Z",
     "start_time": "2020-10-27T15:46:05.934438Z"
    },
    "scrolled": true
   },
   "outputs": [
    {
     "data": {
      "text/html": [
       "<table class=\"simpletable\">\n",
       "<caption>OLS Regression Results</caption>\n",
       "<tr>\n",
       "  <th>Dep. Variable:</th>    <td>energy_kWh_per_kg</td> <th>  R-squared:         </th> <td>   0.616</td>\n",
       "</tr>\n",
       "<tr>\n",
       "  <th>Model:</th>                   <td>OLS</td>        <th>  Adj. R-squared:    </th> <td>   0.556</td>\n",
       "</tr>\n",
       "<tr>\n",
       "  <th>Method:</th>             <td>Least Squares</td>   <th>  F-statistic:       </th> <td>   10.21</td>\n",
       "</tr>\n",
       "<tr>\n",
       "  <th>Date:</th>             <td>Tue, 27 Oct 2020</td>  <th>  Prob (F-statistic):</th> <td>1.14e-19</td>\n",
       "</tr>\n",
       "<tr>\n",
       "  <th>Time:</th>                 <td>11:46:06</td>      <th>  Log-Likelihood:    </th> <td> -136.48</td>\n",
       "</tr>\n",
       "<tr>\n",
       "  <th>No. Observations:</th>      <td>   163</td>       <th>  AIC:               </th> <td>   319.0</td>\n",
       "</tr>\n",
       "<tr>\n",
       "  <th>Df Residuals:</th>          <td>   140</td>       <th>  BIC:               </th> <td>   390.1</td>\n",
       "</tr>\n",
       "<tr>\n",
       "  <th>Df Model:</th>              <td>    22</td>       <th>                     </th>     <td> </td>   \n",
       "</tr>\n",
       "<tr>\n",
       "  <th>Covariance Type:</th>      <td>nonrobust</td>     <th>                     </th>     <td> </td>   \n",
       "</tr>\n",
       "</table>\n",
       "<table class=\"simpletable\">\n",
       "<tr>\n",
       "                       <td></td>                          <th>coef</th>     <th>std err</th>      <th>t</th>      <th>P>|t|</th>  <th>[0.025</th>    <th>0.975]</th>  \n",
       "</tr>\n",
       "<tr>\n",
       "  <th>const</th>                                       <td>    2.1831</td> <td>    0.083</td> <td>   26.400</td> <td> 0.000</td> <td>    2.020</td> <td>    2.347</td>\n",
       "</tr>\n",
       "<tr>\n",
       "  <th>aluminium_cans</th>                              <td>   -0.0625</td> <td>    0.744</td> <td>   -0.084</td> <td> 0.933</td> <td>   -1.533</td> <td>    1.408</td>\n",
       "</tr>\n",
       "<tr>\n",
       "  <th>steel_cans</th>                                  <td>   -0.3097</td> <td>    0.069</td> <td>   -4.469</td> <td> 0.000</td> <td>   -0.447</td> <td>   -0.173</td>\n",
       "</tr>\n",
       "<tr>\n",
       "  <th>other_metal</th>                                 <td>   -0.0976</td> <td>    0.141</td> <td>   -0.690</td> <td> 0.491</td> <td>   -0.377</td> <td>    0.182</td>\n",
       "</tr>\n",
       "<tr>\n",
       "  <th>lpb</th>                                         <td>    0.0873</td> <td>    0.336</td> <td>    0.260</td> <td> 0.795</td> <td>   -0.576</td> <td>    0.751</td>\n",
       "</tr>\n",
       "<tr>\n",
       "  <th>paper</th>                                       <td>   -0.1458</td> <td>    0.260</td> <td>   -0.561</td> <td> 0.575</td> <td>   -0.659</td> <td>    0.368</td>\n",
       "</tr>\n",
       "<tr>\n",
       "  <th>pet_bottles</th>                                 <td>   -0.2919</td> <td>    0.116</td> <td>   -2.520</td> <td> 0.013</td> <td>   -0.521</td> <td>   -0.063</td>\n",
       "</tr>\n",
       "<tr>\n",
       "  <th>plastic_bags</th>                                <td>   -0.3425</td> <td>    0.322</td> <td>   -1.063</td> <td> 0.290</td> <td>   -0.980</td> <td>    0.295</td>\n",
       "</tr>\n",
       "<tr>\n",
       "  <th>flexibles_film</th>                              <td>   -0.3436</td> <td>    0.193</td> <td>   -1.782</td> <td> 0.077</td> <td>   -0.725</td> <td>    0.038</td>\n",
       "</tr>\n",
       "<tr>\n",
       "  <th>other_plastic</th>                               <td>    0.0464</td> <td>    0.246</td> <td>    0.188</td> <td> 0.851</td> <td>   -0.440</td> <td>    0.533</td>\n",
       "</tr>\n",
       "<tr>\n",
       "  <th>jars</th>                                        <td>   -0.2726</td> <td>    0.168</td> <td>   -1.623</td> <td> 0.107</td> <td>   -0.605</td> <td>    0.059</td>\n",
       "</tr>\n",
       "<tr>\n",
       "  <th>other_organics</th>                              <td>    0.0954</td> <td>    0.016</td> <td>    5.996</td> <td> 0.000</td> <td>    0.064</td> <td>    0.127</td>\n",
       "</tr>\n",
       "<tr>\n",
       "  <th>textiles</th>                                    <td>   -0.2506</td> <td>    0.113</td> <td>   -2.226</td> <td> 0.028</td> <td>   -0.473</td> <td>   -0.028</td>\n",
       "</tr>\n",
       "<tr>\n",
       "  <th>ceramics</th>                                    <td>   -0.1532</td> <td>    0.469</td> <td>   -0.326</td> <td> 0.745</td> <td>   -1.081</td> <td>    0.775</td>\n",
       "</tr>\n",
       "<tr>\n",
       "  <th>other</th>                                       <td>   -0.2838</td> <td>    0.208</td> <td>   -1.365</td> <td> 0.174</td> <td>   -0.695</td> <td>    0.127</td>\n",
       "</tr>\n",
       "<tr>\n",
       "  <th>aluminium_recyclable</th>                        <td>   -0.2514</td> <td>    1.343</td> <td>   -0.187</td> <td> 0.852</td> <td>   -2.906</td> <td>    2.403</td>\n",
       "</tr>\n",
       "<tr>\n",
       "  <th>cardboard</th>                                   <td>   -0.1660</td> <td>    0.178</td> <td>   -0.932</td> <td> 0.353</td> <td>   -0.518</td> <td>    0.186</td>\n",
       "</tr>\n",
       "<tr>\n",
       "  <th>nappies</th>                                     <td>    0.1007</td> <td>    0.013</td> <td>    7.895</td> <td> 0.000</td> <td>    0.075</td> <td>    0.126</td>\n",
       "</tr>\n",
       "<tr>\n",
       "  <th>food</th>                                        <td>    0.1003</td> <td>    0.015</td> <td>    6.488</td> <td> 0.000</td> <td>    0.070</td> <td>    0.131</td>\n",
       "</tr>\n",
       "<tr>\n",
       "  <th>hdpe_bottles</th>                                <td>    0.5079</td> <td>    0.477</td> <td>    1.064</td> <td> 0.289</td> <td>   -0.436</td> <td>    1.452</td>\n",
       "</tr>\n",
       "<tr>\n",
       "  <th>pp</th>                                          <td>    1.5950</td> <td>    1.646</td> <td>    0.969</td> <td> 0.334</td> <td>   -1.659</td> <td>    4.849</td>\n",
       "</tr>\n",
       "<tr>\n",
       "  <th>feminine_hygiene</th>                            <td>    0.4332</td> <td>    0.720</td> <td>    0.601</td> <td> 0.549</td> <td>   -0.991</td> <td>    1.857</td>\n",
       "</tr>\n",
       "<tr>\n",
       "  <th>electrical_items_and_peripherals_(incl_tvs)</th> <td>   -0.9108</td> <td>    0.459</td> <td>   -1.983</td> <td> 0.049</td> <td>   -1.819</td> <td>   -0.003</td>\n",
       "</tr>\n",
       "</table>\n",
       "<table class=\"simpletable\">\n",
       "<tr>\n",
       "  <th>Omnibus:</th>       <td>37.135</td> <th>  Durbin-Watson:     </th> <td>   1.931</td>\n",
       "</tr>\n",
       "<tr>\n",
       "  <th>Prob(Omnibus):</th> <td> 0.000</td> <th>  Jarque-Bera (JB):  </th> <td>  56.275</td>\n",
       "</tr>\n",
       "<tr>\n",
       "  <th>Skew:</th>          <td>-1.220</td> <th>  Prob(JB):          </th> <td>6.03e-13</td>\n",
       "</tr>\n",
       "<tr>\n",
       "  <th>Kurtosis:</th>      <td> 4.527</td> <th>  Cond. No.          </th> <td>    176.</td>\n",
       "</tr>\n",
       "</table><br/><br/>Notes:<br/>[1] Standard Errors assume that the covariance matrix of the errors is correctly specified."
      ],
      "text/plain": [
       "<class 'statsmodels.iolib.summary.Summary'>\n",
       "\"\"\"\n",
       "                            OLS Regression Results                            \n",
       "==============================================================================\n",
       "Dep. Variable:      energy_kWh_per_kg   R-squared:                       0.616\n",
       "Model:                            OLS   Adj. R-squared:                  0.556\n",
       "Method:                 Least Squares   F-statistic:                     10.21\n",
       "Date:                Tue, 27 Oct 2020   Prob (F-statistic):           1.14e-19\n",
       "Time:                        11:46:06   Log-Likelihood:                -136.48\n",
       "No. Observations:                 163   AIC:                             319.0\n",
       "Df Residuals:                     140   BIC:                             390.1\n",
       "Df Model:                          22                                         \n",
       "Covariance Type:            nonrobust                                         \n",
       "===============================================================================================================\n",
       "                                                  coef    std err          t      P>|t|      [0.025      0.975]\n",
       "---------------------------------------------------------------------------------------------------------------\n",
       "const                                           2.1831      0.083     26.400      0.000       2.020       2.347\n",
       "aluminium_cans                                 -0.0625      0.744     -0.084      0.933      -1.533       1.408\n",
       "steel_cans                                     -0.3097      0.069     -4.469      0.000      -0.447      -0.173\n",
       "other_metal                                    -0.0976      0.141     -0.690      0.491      -0.377       0.182\n",
       "lpb                                             0.0873      0.336      0.260      0.795      -0.576       0.751\n",
       "paper                                          -0.1458      0.260     -0.561      0.575      -0.659       0.368\n",
       "pet_bottles                                    -0.2919      0.116     -2.520      0.013      -0.521      -0.063\n",
       "plastic_bags                                   -0.3425      0.322     -1.063      0.290      -0.980       0.295\n",
       "flexibles_film                                 -0.3436      0.193     -1.782      0.077      -0.725       0.038\n",
       "other_plastic                                   0.0464      0.246      0.188      0.851      -0.440       0.533\n",
       "jars                                           -0.2726      0.168     -1.623      0.107      -0.605       0.059\n",
       "other_organics                                  0.0954      0.016      5.996      0.000       0.064       0.127\n",
       "textiles                                       -0.2506      0.113     -2.226      0.028      -0.473      -0.028\n",
       "ceramics                                       -0.1532      0.469     -0.326      0.745      -1.081       0.775\n",
       "other                                          -0.2838      0.208     -1.365      0.174      -0.695       0.127\n",
       "aluminium_recyclable                           -0.2514      1.343     -0.187      0.852      -2.906       2.403\n",
       "cardboard                                      -0.1660      0.178     -0.932      0.353      -0.518       0.186\n",
       "nappies                                         0.1007      0.013      7.895      0.000       0.075       0.126\n",
       "food                                            0.1003      0.015      6.488      0.000       0.070       0.131\n",
       "hdpe_bottles                                    0.5079      0.477      1.064      0.289      -0.436       1.452\n",
       "pp                                              1.5950      1.646      0.969      0.334      -1.659       4.849\n",
       "feminine_hygiene                                0.4332      0.720      0.601      0.549      -0.991       1.857\n",
       "electrical_items_and_peripherals_(incl_tvs)    -0.9108      0.459     -1.983      0.049      -1.819      -0.003\n",
       "==============================================================================\n",
       "Omnibus:                       37.135   Durbin-Watson:                   1.931\n",
       "Prob(Omnibus):                  0.000   Jarque-Bera (JB):               56.275\n",
       "Skew:                          -1.220   Prob(JB):                     6.03e-13\n",
       "Kurtosis:                       4.527   Cond. No.                         176.\n",
       "==============================================================================\n",
       "\n",
       "Notes:\n",
       "[1] Standard Errors assume that the covariance matrix of the errors is correctly specified.\n",
       "\"\"\""
      ]
     },
     "execution_count": 53,
     "metadata": {},
     "output_type": "execute_result"
    }
   ],
   "source": [
    "from statsmodels.regression.linear_model import OLS\n",
    "import statsmodels.api as sm\n",
    "import statsmodels.stats.api as sms\n",
    "import statsmodels.formula.api as smf\n",
    "import scipy.stats as stats\n",
    "plt.style.use('ggplot')\n",
    "\n",
    "X_int = sm.tools.add_constant(X)\n",
    "model = OLS(y, X_int).fit()\n",
    "model.summary()"
   ]
  },
  {
   "cell_type": "code",
   "execution_count": 54,
   "metadata": {
    "ExecuteTime": {
     "end_time": "2020-10-27T15:46:06.637558Z",
     "start_time": "2020-10-27T15:46:06.609647Z"
    },
    "scrolled": true
   },
   "outputs": [
    {
     "data": {
      "text/html": [
       "<table class=\"simpletable\">\n",
       "<caption>OLS Regression Results</caption>\n",
       "<tr>\n",
       "  <th>Dep. Variable:</th>    <td>energy_kWh_per_kg</td> <th>  R-squared:         </th> <td>   0.616</td>\n",
       "</tr>\n",
       "<tr>\n",
       "  <th>Model:</th>                   <td>OLS</td>        <th>  Adj. R-squared:    </th> <td>   0.556</td>\n",
       "</tr>\n",
       "<tr>\n",
       "  <th>Method:</th>             <td>Least Squares</td>   <th>  F-statistic:       </th> <td>   10.21</td>\n",
       "</tr>\n",
       "<tr>\n",
       "  <th>Date:</th>             <td>Tue, 27 Oct 2020</td>  <th>  Prob (F-statistic):</th> <td>1.14e-19</td>\n",
       "</tr>\n",
       "<tr>\n",
       "  <th>Time:</th>                 <td>11:46:06</td>      <th>  Log-Likelihood:    </th> <td> -136.48</td>\n",
       "</tr>\n",
       "<tr>\n",
       "  <th>No. Observations:</th>      <td>   163</td>       <th>  AIC:               </th> <td>   319.0</td>\n",
       "</tr>\n",
       "<tr>\n",
       "  <th>Df Residuals:</th>          <td>   140</td>       <th>  BIC:               </th> <td>   390.1</td>\n",
       "</tr>\n",
       "<tr>\n",
       "  <th>Df Model:</th>              <td>    22</td>       <th>                     </th>     <td> </td>   \n",
       "</tr>\n",
       "<tr>\n",
       "  <th>Covariance Type:</th>      <td>nonrobust</td>     <th>                     </th>     <td> </td>   \n",
       "</tr>\n",
       "</table>\n",
       "<table class=\"simpletable\">\n",
       "<tr>\n",
       "                       <td></td>                          <th>coef</th>     <th>std err</th>      <th>t</th>      <th>P>|t|</th>  <th>[0.025</th>    <th>0.975]</th>  \n",
       "</tr>\n",
       "<tr>\n",
       "  <th>const</th>                                       <td>    2.1831</td> <td>    0.083</td> <td>   26.400</td> <td> 0.000</td> <td>    2.020</td> <td>    2.347</td>\n",
       "</tr>\n",
       "<tr>\n",
       "  <th>aluminium_cans</th>                              <td>   -0.0625</td> <td>    0.744</td> <td>   -0.084</td> <td> 0.933</td> <td>   -1.533</td> <td>    1.408</td>\n",
       "</tr>\n",
       "<tr>\n",
       "  <th>steel_cans</th>                                  <td>   -0.3097</td> <td>    0.069</td> <td>   -4.469</td> <td> 0.000</td> <td>   -0.447</td> <td>   -0.173</td>\n",
       "</tr>\n",
       "<tr>\n",
       "  <th>other_metal</th>                                 <td>   -0.0976</td> <td>    0.141</td> <td>   -0.690</td> <td> 0.491</td> <td>   -0.377</td> <td>    0.182</td>\n",
       "</tr>\n",
       "<tr>\n",
       "  <th>lpb</th>                                         <td>    0.0873</td> <td>    0.336</td> <td>    0.260</td> <td> 0.795</td> <td>   -0.576</td> <td>    0.751</td>\n",
       "</tr>\n",
       "<tr>\n",
       "  <th>paper</th>                                       <td>   -0.1458</td> <td>    0.260</td> <td>   -0.561</td> <td> 0.575</td> <td>   -0.659</td> <td>    0.368</td>\n",
       "</tr>\n",
       "<tr>\n",
       "  <th>pet_bottles</th>                                 <td>   -0.2919</td> <td>    0.116</td> <td>   -2.520</td> <td> 0.013</td> <td>   -0.521</td> <td>   -0.063</td>\n",
       "</tr>\n",
       "<tr>\n",
       "  <th>plastic_bags</th>                                <td>   -0.3425</td> <td>    0.322</td> <td>   -1.063</td> <td> 0.290</td> <td>   -0.980</td> <td>    0.295</td>\n",
       "</tr>\n",
       "<tr>\n",
       "  <th>flexibles_film</th>                              <td>   -0.3436</td> <td>    0.193</td> <td>   -1.782</td> <td> 0.077</td> <td>   -0.725</td> <td>    0.038</td>\n",
       "</tr>\n",
       "<tr>\n",
       "  <th>other_plastic</th>                               <td>    0.0464</td> <td>    0.246</td> <td>    0.188</td> <td> 0.851</td> <td>   -0.440</td> <td>    0.533</td>\n",
       "</tr>\n",
       "<tr>\n",
       "  <th>jars</th>                                        <td>   -0.2726</td> <td>    0.168</td> <td>   -1.623</td> <td> 0.107</td> <td>   -0.605</td> <td>    0.059</td>\n",
       "</tr>\n",
       "<tr>\n",
       "  <th>other_organics</th>                              <td>    0.0954</td> <td>    0.016</td> <td>    5.996</td> <td> 0.000</td> <td>    0.064</td> <td>    0.127</td>\n",
       "</tr>\n",
       "<tr>\n",
       "  <th>textiles</th>                                    <td>   -0.2506</td> <td>    0.113</td> <td>   -2.226</td> <td> 0.028</td> <td>   -0.473</td> <td>   -0.028</td>\n",
       "</tr>\n",
       "<tr>\n",
       "  <th>ceramics</th>                                    <td>   -0.1532</td> <td>    0.469</td> <td>   -0.326</td> <td> 0.745</td> <td>   -1.081</td> <td>    0.775</td>\n",
       "</tr>\n",
       "<tr>\n",
       "  <th>other</th>                                       <td>   -0.2838</td> <td>    0.208</td> <td>   -1.365</td> <td> 0.174</td> <td>   -0.695</td> <td>    0.127</td>\n",
       "</tr>\n",
       "<tr>\n",
       "  <th>aluminium_recyclable</th>                        <td>   -0.2514</td> <td>    1.343</td> <td>   -0.187</td> <td> 0.852</td> <td>   -2.906</td> <td>    2.403</td>\n",
       "</tr>\n",
       "<tr>\n",
       "  <th>cardboard</th>                                   <td>   -0.1660</td> <td>    0.178</td> <td>   -0.932</td> <td> 0.353</td> <td>   -0.518</td> <td>    0.186</td>\n",
       "</tr>\n",
       "<tr>\n",
       "  <th>nappies</th>                                     <td>    0.1007</td> <td>    0.013</td> <td>    7.895</td> <td> 0.000</td> <td>    0.075</td> <td>    0.126</td>\n",
       "</tr>\n",
       "<tr>\n",
       "  <th>food</th>                                        <td>    0.1003</td> <td>    0.015</td> <td>    6.488</td> <td> 0.000</td> <td>    0.070</td> <td>    0.131</td>\n",
       "</tr>\n",
       "<tr>\n",
       "  <th>hdpe_bottles</th>                                <td>    0.5079</td> <td>    0.477</td> <td>    1.064</td> <td> 0.289</td> <td>   -0.436</td> <td>    1.452</td>\n",
       "</tr>\n",
       "<tr>\n",
       "  <th>pp</th>                                          <td>    1.5950</td> <td>    1.646</td> <td>    0.969</td> <td> 0.334</td> <td>   -1.659</td> <td>    4.849</td>\n",
       "</tr>\n",
       "<tr>\n",
       "  <th>feminine_hygiene</th>                            <td>    0.4332</td> <td>    0.720</td> <td>    0.601</td> <td> 0.549</td> <td>   -0.991</td> <td>    1.857</td>\n",
       "</tr>\n",
       "<tr>\n",
       "  <th>electrical_items_and_peripherals_(incl_tvs)</th> <td>   -0.9108</td> <td>    0.459</td> <td>   -1.983</td> <td> 0.049</td> <td>   -1.819</td> <td>   -0.003</td>\n",
       "</tr>\n",
       "</table>\n",
       "<table class=\"simpletable\">\n",
       "<tr>\n",
       "  <th>Omnibus:</th>       <td>37.135</td> <th>  Durbin-Watson:     </th> <td>   1.931</td>\n",
       "</tr>\n",
       "<tr>\n",
       "  <th>Prob(Omnibus):</th> <td> 0.000</td> <th>  Jarque-Bera (JB):  </th> <td>  56.275</td>\n",
       "</tr>\n",
       "<tr>\n",
       "  <th>Skew:</th>          <td>-1.220</td> <th>  Prob(JB):          </th> <td>6.03e-13</td>\n",
       "</tr>\n",
       "<tr>\n",
       "  <th>Kurtosis:</th>      <td> 4.527</td> <th>  Cond. No.          </th> <td>    176.</td>\n",
       "</tr>\n",
       "</table><br/><br/>Notes:<br/>[1] Standard Errors assume that the covariance matrix of the errors is correctly specified."
      ],
      "text/plain": [
       "<class 'statsmodels.iolib.summary.Summary'>\n",
       "\"\"\"\n",
       "                            OLS Regression Results                            \n",
       "==============================================================================\n",
       "Dep. Variable:      energy_kWh_per_kg   R-squared:                       0.616\n",
       "Model:                            OLS   Adj. R-squared:                  0.556\n",
       "Method:                 Least Squares   F-statistic:                     10.21\n",
       "Date:                Tue, 27 Oct 2020   Prob (F-statistic):           1.14e-19\n",
       "Time:                        11:46:06   Log-Likelihood:                -136.48\n",
       "No. Observations:                 163   AIC:                             319.0\n",
       "Df Residuals:                     140   BIC:                             390.1\n",
       "Df Model:                          22                                         \n",
       "Covariance Type:            nonrobust                                         \n",
       "===============================================================================================================\n",
       "                                                  coef    std err          t      P>|t|      [0.025      0.975]\n",
       "---------------------------------------------------------------------------------------------------------------\n",
       "const                                           2.1831      0.083     26.400      0.000       2.020       2.347\n",
       "aluminium_cans                                 -0.0625      0.744     -0.084      0.933      -1.533       1.408\n",
       "steel_cans                                     -0.3097      0.069     -4.469      0.000      -0.447      -0.173\n",
       "other_metal                                    -0.0976      0.141     -0.690      0.491      -0.377       0.182\n",
       "lpb                                             0.0873      0.336      0.260      0.795      -0.576       0.751\n",
       "paper                                          -0.1458      0.260     -0.561      0.575      -0.659       0.368\n",
       "pet_bottles                                    -0.2919      0.116     -2.520      0.013      -0.521      -0.063\n",
       "plastic_bags                                   -0.3425      0.322     -1.063      0.290      -0.980       0.295\n",
       "flexibles_film                                 -0.3436      0.193     -1.782      0.077      -0.725       0.038\n",
       "other_plastic                                   0.0464      0.246      0.188      0.851      -0.440       0.533\n",
       "jars                                           -0.2726      0.168     -1.623      0.107      -0.605       0.059\n",
       "other_organics                                  0.0954      0.016      5.996      0.000       0.064       0.127\n",
       "textiles                                       -0.2506      0.113     -2.226      0.028      -0.473      -0.028\n",
       "ceramics                                       -0.1532      0.469     -0.326      0.745      -1.081       0.775\n",
       "other                                          -0.2838      0.208     -1.365      0.174      -0.695       0.127\n",
       "aluminium_recyclable                           -0.2514      1.343     -0.187      0.852      -2.906       2.403\n",
       "cardboard                                      -0.1660      0.178     -0.932      0.353      -0.518       0.186\n",
       "nappies                                         0.1007      0.013      7.895      0.000       0.075       0.126\n",
       "food                                            0.1003      0.015      6.488      0.000       0.070       0.131\n",
       "hdpe_bottles                                    0.5079      0.477      1.064      0.289      -0.436       1.452\n",
       "pp                                              1.5950      1.646      0.969      0.334      -1.659       4.849\n",
       "feminine_hygiene                                0.4332      0.720      0.601      0.549      -0.991       1.857\n",
       "electrical_items_and_peripherals_(incl_tvs)    -0.9108      0.459     -1.983      0.049      -1.819      -0.003\n",
       "==============================================================================\n",
       "Omnibus:                       37.135   Durbin-Watson:                   1.931\n",
       "Prob(Omnibus):                  0.000   Jarque-Bera (JB):               56.275\n",
       "Skew:                          -1.220   Prob(JB):                     6.03e-13\n",
       "Kurtosis:                       4.527   Cond. No.                         176.\n",
       "==============================================================================\n",
       "\n",
       "Notes:\n",
       "[1] Standard Errors assume that the covariance matrix of the errors is correctly specified.\n",
       "\"\"\""
      ]
     },
     "execution_count": 54,
     "metadata": {},
     "output_type": "execute_result"
    }
   ],
   "source": [
    "from statsmodels.regression.linear_model import OLS\n",
    "import statsmodels.api as sm\n",
    "import statsmodels.stats.api as sms\n",
    "import statsmodels.formula.api as smf\n",
    "import scipy.stats as stats\n",
    "plt.style.use('ggplot')\n",
    "\n",
    "X_int = sm.tools.add_constant(X)\n",
    "model = OLS(y, X_int).fit()\n",
    "model.summary()"
   ]
  },
  {
   "cell_type": "code",
   "execution_count": 55,
   "metadata": {
    "ExecuteTime": {
     "end_time": "2020-10-27T15:46:06.642544Z",
     "start_time": "2020-10-27T15:46:06.639553Z"
    },
    "scrolled": true
   },
   "outputs": [],
   "source": [
    "# from statsmodels.regression.linear_model import OLS\n",
    "# import statsmodels.api as sm\n",
    "# import statsmodels.stats.api as sms\n",
    "# import statsmodels.formula.api as smf\n",
    "# import scipy.stats as stats\n",
    "# plt.style.use('ggplot')\n",
    "\n",
    "# X_int = sm.tools.add_constant(X)\n",
    "# model = OLS(y, X_int).fit()\n",
    "# model.summary()"
   ]
  },
  {
   "cell_type": "code",
   "execution_count": 56,
   "metadata": {
    "ExecuteTime": {
     "end_time": "2020-10-27T15:46:06.647531Z",
     "start_time": "2020-10-27T15:46:06.643542Z"
    },
    "scrolled": true
   },
   "outputs": [],
   "source": [
    "# #\n",
    "# results = []\n",
    "# print('Model Residuals Plot')\n",
    "# print('--------------------')\n",
    "# fig = sm.graphics.qqplot(model.resid, dist=stats.norm, line='45', fit=True)\n",
    "# plt.show()\n",
    "# for idx, column in enumerate(X.columns):\n",
    "#     print(f'Belize MSW Regression Plot for {column} Feature')\n",
    "#     print('------------------------------------------------')\n",
    "    \n",
    "#     fig, axes = plt.subplots(figsize=(15,12))\n",
    "#     fig = sm.graphics.plot_regress_exog(model, column, fig=fig)\n",
    "#     fig.tight_layout()\n",
    "#     plt.show()\n",
    "    \n",
    "#     input('Press ENTER to continue...')"
   ]
  },
  {
   "cell_type": "code",
   "execution_count": 57,
   "metadata": {
    "ExecuteTime": {
     "end_time": "2020-10-27T15:46:06.780177Z",
     "start_time": "2020-10-27T15:46:06.649526Z"
    },
    "scrolled": true
   },
   "outputs": [
    {
     "data": {
      "image/png": "[encoded data removed]",
      "text/plain": [
       "<Figure size 432x288 with 1 Axes>"
      ]
     },
     "metadata": {},
     "output_type": "display_data"
    }
   ],
   "source": [
    "# Plot redisuals from Statsmodel OLS\n",
    "plt.scatter(model.predict(X_int), model.resid)\n",
    "plt.plot(model.predict(X_int), [0 for i in range(len(X_int))]);"
   ]
  },
  {
   "cell_type": "markdown",
   "metadata": {},
   "source": [
    "## Scikit Learn LinearRegression Model"
   ]
  },
  {
   "cell_type": "code",
   "execution_count": 58,
   "metadata": {
    "ExecuteTime": {
     "end_time": "2020-10-27T15:46:06.843008Z",
     "start_time": "2020-10-27T15:46:06.782172Z"
    },
    "scrolled": true
   },
   "outputs": [
    {
     "name": "stdout",
     "output_type": "stream",
     "text": [
      "Train RMSE: 0.5216755626361279\n",
      "------------------------------\n",
      "Test RMSE: 0.8199156931785633\n"
     ]
    },
    {
     "data": {
      "text/plain": [
       "0.3395133071615688"
      ]
     },
     "execution_count": 58,
     "metadata": {},
     "output_type": "execute_result"
    }
   ],
   "source": [
    "from sklearn.linear_model import LinearRegression\n",
    "linreg = LinearRegression()\n",
    "linreg.fit(X_train_Scaled, y_train_Scaled)\n",
    "\n",
    "y_hat_train_scaled = linreg.predict(X_train_Scaled)\n",
    "y_hat_test_scaled = linreg.predict(X_test_Scaled)\n",
    "\n",
    "train_residuals = scaler.inverse_transform(y_hat_train_scaled) - y_train\n",
    "test_residuals = scaler.inverse_transform(y_hat_test_scaled) - y_test\n",
    "\n",
    "train_mse = mean_squared_error(y_train, scaler.inverse_transform(y_hat_train_scaled))\n",
    "test_mse = mean_squared_error(y_test, scaler.inverse_transform(y_hat_test_scaled))\n",
    "\n",
    "print('Train RMSE:', np.sqrt(train_mse))\n",
    "print('------------------------------')\n",
    "print('Test RMSE:', np.sqrt(test_mse))\n",
    "linreg.score(X_test_Scaled, y_test_Scaled)"
   ]
  },
  {
   "cell_type": "code",
   "execution_count": 59,
   "metadata": {
    "ExecuteTime": {
     "end_time": "2020-10-27T15:46:06.979643Z",
     "start_time": "2020-10-27T15:46:06.844023Z"
    },
    "scrolled": false
   },
   "outputs": [
    {
     "name": "stdout",
     "output_type": "stream",
     "text": [
      "Sklearn Model Intercept: [-5.27952778e-16]\n"
     ]
    },
    {
     "data": {
      "image/png": "[encoded data removed]",
      "text/plain": [
       "<Figure size 432x288 with 1 Axes>"
      ]
     },
     "metadata": {},
     "output_type": "display_data"
    }
   ],
   "source": [
    "sklearn_results = pd.DataFrame()\n",
    "sklearn_results['Item'] = [x for x in X_train_Scaled.columns]\n",
    "sklearn_results['Coef'] = [x for x in linreg.coef_[0]]\n",
    "print('Sklearn Model Intercept:', linreg.intercept_)\n",
    "sklearn_results['Coef'].hist();"
   ]
  },
  {
   "cell_type": "markdown",
   "metadata": {},
   "source": [
    "## Decision Tree Regressor"
   ]
  },
  {
   "cell_type": "markdown",
   "metadata": {},
   "source": [
    "### Baseline Model"
   ]
  },
  {
   "cell_type": "code",
   "execution_count": 60,
   "metadata": {
    "ExecuteTime": {
     "end_time": "2020-10-27T15:46:06.997595Z",
     "start_time": "2020-10-27T15:46:06.982635Z"
    },
    "scrolled": false
   },
   "outputs": [
    {
     "data": {
      "text/plain": [
       "DecisionTreeRegressor(criterion='mse', max_depth=None, max_features=None,\n",
       "           max_leaf_nodes=None, min_impurity_decrease=0.0,\n",
       "           min_impurity_split=None, min_samples_leaf=1,\n",
       "           min_samples_split=2, min_weight_fraction_leaf=0.0,\n",
       "           presort=False, random_state=42, splitter='best')"
      ]
     },
     "execution_count": 60,
     "metadata": {},
     "output_type": "execute_result"
    }
   ],
   "source": [
    "from sklearn.tree import DecisionTreeRegressor\n",
    "regressor = DecisionTreeRegressor(random_state=42)\n",
    "regressor.fit(X_train_Scaled, y_train_Scaled)"
   ]
  },
  {
   "cell_type": "code",
   "execution_count": 61,
   "metadata": {
    "ExecuteTime": {
     "end_time": "2020-10-27T15:46:07.004576Z",
     "start_time": "2020-10-27T15:46:06.998592Z"
    },
    "scrolled": true
   },
   "outputs": [
    {
     "name": "stdout",
     "output_type": "stream",
     "text": [
      "RMSE Score: 1.2445722156628758\n",
      "R-sq Score: -0.5218290747480436\n"
     ]
    }
   ],
   "source": [
    "from sklearn.metrics import r2_score\n",
    "\n",
    "y_pred = regressor.predict(X_test_Scaled)\n",
    "y_pred = scaler.inverse_transform(y_pred)\n",
    "\n",
    "print('RMSE Score:', np.sqrt(mean_squared_error(y_test, y_pred)))\n",
    "print('R-sq Score:', r2_score(y_test, y_pred))"
   ]
  },
  {
   "cell_type": "code",
   "execution_count": 62,
   "metadata": {
    "ExecuteTime": {
     "end_time": "2020-10-27T15:46:07.272859Z",
     "start_time": "2020-10-27T15:46:07.005573Z"
    },
    "scrolled": false
   },
   "outputs": [
    {
     "data": {
      "image/png": "[encoded data removed]",
      "text/plain": [
       "<Figure size 720x432 with 1 Axes>"
      ]
     },
     "metadata": {},
     "output_type": "display_data"
    }
   ],
   "source": [
    "plt.figure(figsize=(10,6))\n",
    "sns.barplot(X_train_Scaled.columns, regressor.feature_importances_, orient=\"v\");\n",
    "plt.xticks(rotation=90);"
   ]
  },
  {
   "cell_type": "markdown",
   "metadata": {},
   "source": [
    "### Optimized Model"
   ]
  },
  {
   "cell_type": "code",
   "execution_count": 63,
   "metadata": {
    "ExecuteTime": {
     "end_time": "2020-10-27T15:46:07.280837Z",
     "start_time": "2020-10-27T15:46:07.273856Z"
    },
    "scrolled": true
   },
   "outputs": [
    {
     "data": {
      "text/plain": [
       "DecisionTreeRegressor(criterion='mse', max_depth=4, max_features=None,\n",
       "           max_leaf_nodes=None, min_impurity_decrease=0.0,\n",
       "           min_impurity_split=None, min_samples_leaf=2,\n",
       "           min_samples_split=4, min_weight_fraction_leaf=0.0,\n",
       "           presort=False, random_state=42, splitter='best')"
      ]
     },
     "execution_count": 63,
     "metadata": {},
     "output_type": "execute_result"
    }
   ],
   "source": [
    "op_regressor = DecisionTreeRegressor(random_state=42,\n",
    "                                     max_depth=4,\n",
    "                                     min_samples_leaf=2,\n",
    "                                     min_samples_split=4)\n",
    "op_regressor.fit(X_train_Scaled, y_train_Scaled)"
   ]
  },
  {
   "cell_type": "code",
   "execution_count": 64,
   "metadata": {
    "ExecuteTime": {
     "end_time": "2020-10-27T15:46:07.288815Z",
     "start_time": "2020-10-27T15:46:07.281834Z"
    },
    "scrolled": false
   },
   "outputs": [
    {
     "name": "stdout",
     "output_type": "stream",
     "text": [
      "RMSE Score: 1.0095124854313595\n",
      "R-sq Score: -0.0012650648677487997\n"
     ]
    }
   ],
   "source": [
    "y_pred = op_regressor.predict(X_test_Scaled)\n",
    "y_pred = scaler.inverse_transform(y_pred)\n",
    "\n",
    "print('RMSE Score:', np.sqrt(mean_squared_error(y_test, y_pred)))\n",
    "print('R-sq Score:', r2_score(y_test, y_pred))"
   ]
  },
  {
   "cell_type": "code",
   "execution_count": 65,
   "metadata": {
    "ExecuteTime": {
     "end_time": "2020-10-27T15:46:07.540144Z",
     "start_time": "2020-10-27T15:46:07.289813Z"
    },
    "scrolled": false
   },
   "outputs": [
    {
     "data": {
      "image/png": "[encoded data removed]",
      "text/plain": [
       "<Figure size 720x432 with 1 Axes>"
      ]
     },
     "metadata": {},
     "output_type": "display_data"
    }
   ],
   "source": [
    "plt.figure(figsize=(10,6))\n",
    "sns.barplot(X_train_Scaled.columns, op_regressor.feature_importances_, orient=\"v\");\n",
    "plt.xticks(rotation=90);"
   ]
  },
  {
   "cell_type": "markdown",
   "metadata": {},
   "source": [
    "## Random Forest Model"
   ]
  },
  {
   "cell_type": "code",
   "execution_count": 66,
   "metadata": {
    "ExecuteTime": {
     "end_time": "2020-10-27T15:46:07.554106Z",
     "start_time": "2020-10-27T15:46:07.541148Z"
    }
   },
   "outputs": [],
   "source": [
    "from sklearn.model_selection import GridSearchCV\n",
    "from sklearn.linear_model import LogisticRegression\n",
    "from sklearn import tree\n",
    "from sklearn.ensemble import RandomForestRegressor\n",
    "from sklearn.metrics import r2_score\n",
    "from sklearn.tree import export_graphviz\n",
    "from IPython.display import Image  \n",
    "from pydotplus import graph_from_dot_data\n",
    "import pydotplus\n",
    "from sklearn.pipeline import Pipeline"
   ]
  },
  {
   "cell_type": "markdown",
   "metadata": {},
   "source": [
    "### Baseline Model"
   ]
  },
  {
   "cell_type": "code",
   "execution_count": 67,
   "metadata": {
    "ExecuteTime": {
     "end_time": "2020-10-27T15:46:07.558096Z",
     "start_time": "2020-10-27T15:46:07.555103Z"
    }
   },
   "outputs": [],
   "source": [
    "rdm_forest = RandomForestRegressor(200, random_state=42)"
   ]
  },
  {
   "cell_type": "code",
   "execution_count": 68,
   "metadata": {
    "ExecuteTime": {
     "end_time": "2020-10-27T15:46:07.802491Z",
     "start_time": "2020-10-27T15:46:07.559093Z"
    }
   },
   "outputs": [
    {
     "data": {
      "text/plain": [
       "RandomForestRegressor(bootstrap=True, criterion='mse', max_depth=None,\n",
       "           max_features='auto', max_leaf_nodes=None,\n",
       "           min_impurity_decrease=0.0, min_impurity_split=None,\n",
       "           min_samples_leaf=1, min_samples_split=2,\n",
       "           min_weight_fraction_leaf=0.0, n_estimators=200, n_jobs=None,\n",
       "           oob_score=False, random_state=42, verbose=0, warm_start=False)"
      ]
     },
     "execution_count": 68,
     "metadata": {},
     "output_type": "execute_result"
    }
   ],
   "source": [
    "rdm_forest.fit(X_train_Scaled, y_train_Scaled)"
   ]
  },
  {
   "cell_type": "code",
   "execution_count": 69,
   "metadata": {
    "ExecuteTime": {
     "end_time": "2020-10-27T15:46:07.817908Z",
     "start_time": "2020-10-27T15:46:07.803440Z"
    }
   },
   "outputs": [
    {
     "data": {
      "text/plain": [
       "0.9369891573574204"
      ]
     },
     "execution_count": 69,
     "metadata": {},
     "output_type": "execute_result"
    }
   ],
   "source": [
    "rdm_forest.score(X_train_Scaled, y_train_Scaled)"
   ]
  },
  {
   "cell_type": "code",
   "execution_count": 70,
   "metadata": {
    "ExecuteTime": {
     "end_time": "2020-10-27T15:46:07.831872Z",
     "start_time": "2020-10-27T15:46:07.818905Z"
    }
   },
   "outputs": [
    {
     "data": {
      "text/plain": [
       "0.4823418838690835"
      ]
     },
     "execution_count": 70,
     "metadata": {},
     "output_type": "execute_result"
    }
   ],
   "source": [
    "rdm_forest.score(X_test_Scaled, y_test_Scaled)"
   ]
  },
  {
   "cell_type": "code",
   "execution_count": 71,
   "metadata": {
    "ExecuteTime": {
     "end_time": "2020-10-27T15:46:07.847913Z",
     "start_time": "2020-10-27T15:46:07.832873Z"
    }
   },
   "outputs": [
    {
     "data": {
      "text/plain": [
       "array([-1.35766273,  0.23133184,  0.26549156,  0.41450059,  0.5170365 ,\n",
       "        0.1841778 , -0.28197191, -0.27346035,  0.00855597, -0.78892036,\n",
       "        0.12635594,  0.28818905,  0.39049799, -0.23969784,  0.08782695,\n",
       "       -0.53192803, -0.27107712,  0.24086478, -0.68167472,  0.50137523,\n",
       "       -1.43239422, -0.34047469,  0.06019276, -0.01300665, -0.14516279])"
      ]
     },
     "execution_count": 71,
     "metadata": {},
     "output_type": "execute_result"
    }
   ],
   "source": [
    "y_preds = rdm_forest.predict(X_test_Scaled)\n",
    "y_preds"
   ]
  },
  {
   "cell_type": "code",
   "execution_count": 72,
   "metadata": {
    "ExecuteTime": {
     "end_time": "2020-10-27T15:46:07.991444Z",
     "start_time": "2020-10-27T15:46:07.848826Z"
    },
    "scrolled": false
   },
   "outputs": [
    {
     "data": {
      "image/png": "[encoded data removed]",
      "text/plain": [
       "<Figure size 432x288 with 1 Axes>"
      ]
     },
     "metadata": {},
     "output_type": "display_data"
    }
   ],
   "source": [
    "# Plot redisuals from Random Forest\n",
    "plt.scatter(rdm_forest.predict(X_test_Scaled), y_preds)\n",
    "plt.plot(rdm_forest.predict(X_test_Scaled), [0 for i in range(len(X_test_Scaled))]);"
   ]
  },
  {
   "cell_type": "markdown",
   "metadata": {},
   "source": [
    "### GridSearch CV"
   ]
  },
  {
   "cell_type": "code",
   "execution_count": 73,
   "metadata": {
    "ExecuteTime": {
     "end_time": "2020-10-27T15:46:07.996431Z",
     "start_time": "2020-10-27T15:46:07.992441Z"
    }
   },
   "outputs": [],
   "source": [
    "rf_grid_reg = RandomForestRegressor(random_state=42)\n",
    "grid_param = [{'n_estimators': [200, 250, 300],\n",
    "               'max_depth': [15, 17, 20],\n",
    "               'min_samples_split': [2, 3, 4],\n",
    "               'min_samples_leaf': [1, 2]}]"
   ]
  },
  {
   "cell_type": "code",
   "execution_count": 74,
   "metadata": {
    "ExecuteTime": {
     "end_time": "2020-10-27T15:46:08.001417Z",
     "start_time": "2020-10-27T15:46:07.997428Z"
    }
   },
   "outputs": [],
   "source": [
    "# rf_gridsearch = GridSearchCV(rf_grid_reg, grid_param, cv=3)\n",
    "# rf_gridsearch.fit(X_train_Scaled, y_train_Scaled)"
   ]
  },
  {
   "cell_type": "code",
   "execution_count": 75,
   "metadata": {
    "ExecuteTime": {
     "end_time": "2020-10-27T15:46:08.006404Z",
     "start_time": "2020-10-27T15:46:08.002415Z"
    }
   },
   "outputs": [],
   "source": [
    "# rf_gridsearch.best_params_"
   ]
  },
  {
   "cell_type": "code",
   "execution_count": 76,
   "metadata": {
    "ExecuteTime": {
     "end_time": "2020-10-27T15:46:08.010393Z",
     "start_time": "2020-10-27T15:46:08.007402Z"
    },
    "scrolled": true
   },
   "outputs": [],
   "source": [
    "# rf_gridsearch.score(X_test_Scaled, y_test_Scaled)"
   ]
  },
  {
   "cell_type": "code",
   "execution_count": 77,
   "metadata": {
    "ExecuteTime": {
     "end_time": "2020-10-27T15:46:08.374461Z",
     "start_time": "2020-10-27T15:46:08.011391Z"
    }
   },
   "outputs": [
    {
     "data": {
      "text/plain": [
       "RandomForestRegressor(bootstrap=True, criterion='mse', max_depth=17,\n",
       "           max_features='auto', max_leaf_nodes=None,\n",
       "           min_impurity_decrease=0.0, min_impurity_split=None,\n",
       "           min_samples_leaf=1, min_samples_split=3,\n",
       "           min_weight_fraction_leaf=0.0, n_estimators=250, n_jobs=None,\n",
       "           oob_score=False, random_state=42, verbose=0, warm_start=False)"
      ]
     },
     "execution_count": 77,
     "metadata": {},
     "output_type": "execute_result"
    }
   ],
   "source": [
    "optimal_rf_model = RandomForestRegressor(max_depth=17,\n",
    "                                         min_samples_leaf=1,\n",
    "                                         min_samples_split=3,\n",
    "                                         n_estimators=250,\n",
    "                                         random_state=42)\n",
    "optimal_rf_model.fit(X_train_Scaled, y_train_Scaled)"
   ]
  },
  {
   "cell_type": "code",
   "execution_count": 78,
   "metadata": {
    "ExecuteTime": {
     "end_time": "2020-10-27T15:46:08.725037Z",
     "start_time": "2020-10-27T15:46:08.375417Z"
    }
   },
   "outputs": [
    {
     "data": {
      "image/png": "[encoded data removed]",
      "text/plain": [
       "<Figure size 1440x1440 with 1 Axes>"
      ]
     },
     "metadata": {},
     "output_type": "display_data"
    }
   ],
   "source": [
    "def plot_feature_importances(model):\n",
    "    n_features = X_train.shape[1]\n",
    "    plt.figure(figsize=(20,20))\n",
    "    plt.barh(range(n_features), model.feature_importances_, align='center') \n",
    "    plt.yticks(np.arange(n_features), X_train.columns.values) \n",
    "    plt.xlabel('Feature importance')\n",
    "    plt.ylabel('Feature')\n",
    "\n",
    "plot_feature_importances(optimal_rf_model)"
   ]
  },
  {
   "cell_type": "markdown",
   "metadata": {},
   "source": [
    "## MLP Regression Model"
   ]
  },
  {
   "cell_type": "code",
   "execution_count": 79,
   "metadata": {
    "ExecuteTime": {
     "end_time": "2020-10-27T15:46:08.750964Z",
     "start_time": "2020-10-27T15:46:08.726027Z"
    }
   },
   "outputs": [],
   "source": [
    "from keras import layers, models, optimizers, regularizers\n",
    "from keras import backend as K\n",
    "from keras.models import Sequential\n",
    "from tensorflow.keras.callbacks import TensorBoard\n",
    "from keras.wrappers.scikit_learn import KerasRegressor"
   ]
  },
  {
   "cell_type": "code",
   "execution_count": 80,
   "metadata": {
    "ExecuteTime": {
     "end_time": "2020-10-27T15:46:08.755951Z",
     "start_time": "2020-10-27T15:46:08.751963Z"
    }
   },
   "outputs": [],
   "source": [
    "n_features = X_train_Scaled.shape[1]"
   ]
  },
  {
   "cell_type": "markdown",
   "metadata": {},
   "source": [
    "### Loss, MSE, & R^2 Visualization Function"
   ]
  },
  {
   "cell_type": "code",
   "execution_count": 81,
   "metadata": {
    "ExecuteTime": {
     "end_time": "2020-10-27T15:46:08.761893Z",
     "start_time": "2020-10-27T15:46:08.757918Z"
    }
   },
   "outputs": [],
   "source": [
    "def coef_determination(y_true, y_pred):\n",
    "    SS_res = K.sum(K.square(y_true-y_pred))\n",
    "    SS_tot = K.sum(K.square(y_true - K.mean(y_true)))\n",
    "    return (1 - SS_res/(SS_tot + K.epsilon()))"
   ]
  },
  {
   "cell_type": "code",
   "execution_count": 82,
   "metadata": {
    "ExecuteTime": {
     "end_time": "2020-10-27T15:46:08.769872Z",
     "start_time": "2020-10-27T15:46:08.762891Z"
    }
   },
   "outputs": [],
   "source": [
    "#Build vizualization function for training/validation loss and accuracy\n",
    "def visualize_loss_MSE(results):\n",
    "    history = results.history\n",
    "    \n",
    "    plt.plot(history['loss'], 'b', label='Training Loss')\n",
    "    plt.title('Training Loss')\n",
    "    plt.xlabel('Epochs', fontsize=12)\n",
    "    plt.ylabel('Loss', fontsize=12)\n",
    "    plt.legend(loc='best')\n",
    "    plt.show()\n",
    "    \n",
    "    plt.plot(history['mse'], 'b', label='Training MSE')\n",
    "    plt.title('Training MSE')\n",
    "    plt.xlabel('Epochs', fontsize=12)\n",
    "    plt.ylabel('MSE', fontsize=12)\n",
    "    plt.legend(loc='best')\n",
    "    plt.show()\n",
    "    \n",
    "    plt.plot(history['coef_determination'], 'b', label='Training R^2')\n",
    "    plt.title('Training R^2')\n",
    "    plt.xlabel('Epochs', fontsize=12)\n",
    "    plt.ylabel('R^2', fontsize=12)\n",
    "    plt.legend(loc='best')\n",
    "    plt.show()"
   ]
  },
  {
   "cell_type": "markdown",
   "metadata": {},
   "source": [
    "### Baseline Model"
   ]
  },
  {
   "cell_type": "code",
   "execution_count": 83,
   "metadata": {
    "ExecuteTime": {
     "end_time": "2020-10-27T15:46:08.869605Z",
     "start_time": "2020-10-27T15:46:08.770869Z"
    }
   },
   "outputs": [],
   "source": [
    "baseline_model = Sequential()\n",
    "\n",
    "baseline_model.add(layers.Dense(10, activation='relu', input_shape=(n_features, )))\n",
    "\n",
    "baseline_model.add(layers.Dense(5, activation='relu'))\n",
    "\n",
    "baseline_model.add(layers.Dense(1, activation='linear'))\n",
    "\n",
    "baseline_model.compile(optimizer='SGD',\n",
    "              loss='mse',\n",
    "              metrics=['mse', coef_determination])\n"
   ]
  },
  {
   "cell_type": "code",
   "execution_count": 84,
   "metadata": {
    "ExecuteTime": {
     "end_time": "2020-10-27T15:46:10.246430Z",
     "start_time": "2020-10-27T15:46:08.870602Z"
    },
    "scrolled": true
   },
   "outputs": [
    {
     "name": "stdout",
     "output_type": "stream",
     "text": [
      "Epoch 1/150\n",
      "5/5 [==============================] - 0s 798us/step - loss: 2.1113 - mse: 2.1113 - coef_determination: -1.2073\n",
      "Epoch 2/150\n",
      "5/5 [==============================] - 0s 785us/step - loss: 1.6449 - mse: 1.6449 - coef_determination: -0.7691\n",
      "Epoch 3/150\n",
      "5/5 [==============================] - 0s 598us/step - loss: 1.4020 - mse: 1.4020 - coef_determination: -0.4674\n",
      "Epoch 4/150\n",
      "5/5 [==============================] - 0s 588us/step - loss: 1.2536 - mse: 1.2536 - coef_determination: -0.2097\n",
      "Epoch 5/150\n",
      "5/5 [==============================] - 0s 598us/step - loss: 1.1550 - mse: 1.1550 - coef_determination: -0.1107\n",
      "Epoch 6/150\n",
      "5/5 [==============================] - 0s 798us/step - loss: 1.0879 - mse: 1.0879 - coef_determination: -0.1283\n",
      "Epoch 7/150\n",
      "5/5 [==============================] - 0s 798us/step - loss: 1.0436 - mse: 1.0436 - coef_determination: -0.0985\n",
      "Epoch 8/150\n",
      "5/5 [==============================] - 0s 598us/step - loss: 0.9954 - mse: 0.9954 - coef_determination: -0.0686\n",
      "Epoch 9/150\n",
      "5/5 [==============================] - 0s 798us/step - loss: 0.9568 - mse: 0.9568 - coef_determination: -0.0364\n",
      "Epoch 10/150\n",
      "5/5 [==============================] - 0s 598us/step - loss: 0.9219 - mse: 0.9219 - coef_determination: 0.0309\n",
      "Epoch 11/150\n",
      "5/5 [==============================] - 0s 599us/step - loss: 0.8937 - mse: 0.8937 - coef_determination: 0.1223\n",
      "Epoch 12/150\n",
      "5/5 [==============================] - 0s 598us/step - loss: 0.8751 - mse: 0.8751 - coef_determination: 0.0116\n",
      "Epoch 13/150\n",
      "5/5 [==============================] - 0s 598us/step - loss: 0.8657 - mse: 0.8657 - coef_determination: 0.1180\n",
      "Epoch 14/150\n",
      "5/5 [==============================] - 0s 586us/step - loss: 0.8474 - mse: 0.8474 - coef_determination: 0.1630\n",
      "Epoch 15/150\n",
      "5/5 [==============================] - 0s 811us/step - loss: 0.8342 - mse: 0.8342 - coef_determination: 0.1258\n",
      "Epoch 16/150\n",
      "5/5 [==============================] - 0s 594us/step - loss: 0.8228 - mse: 0.8228 - coef_determination: 0.1754\n",
      "Epoch 17/150\n",
      "5/5 [==============================] - 0s 798us/step - loss: 0.8131 - mse: 0.8131 - coef_determination: 0.1678\n",
      "Epoch 18/150\n",
      "5/5 [==============================] - 0s 798us/step - loss: 0.8009 - mse: 0.8009 - coef_determination: 0.1957\n",
      "Epoch 19/150\n",
      "5/5 [==============================] - 0s 599us/step - loss: 0.7898 - mse: 0.7898 - coef_determination: 0.2149\n",
      "Epoch 20/150\n",
      "5/5 [==============================] - 0s 798us/step - loss: 0.7788 - mse: 0.7788 - coef_determination: 0.1581\n",
      "Epoch 21/150\n",
      "5/5 [==============================] - 0s 590us/step - loss: 0.7677 - mse: 0.7677 - coef_determination: 0.2212\n",
      "Epoch 22/150\n",
      "5/5 [==============================] - 0s 798us/step - loss: 0.7571 - mse: 0.7571 - coef_determination: 0.2388\n",
      "Epoch 23/150\n",
      "5/5 [==============================] - 0s 599us/step - loss: 0.7483 - mse: 0.7483 - coef_determination: 0.1732\n",
      "Epoch 24/150\n",
      "5/5 [==============================] - 0s 590us/step - loss: 0.7384 - mse: 0.7384 - coef_determination: 0.2769\n",
      "Epoch 25/150\n",
      "5/5 [==============================] - 0s 798us/step - loss: 0.7312 - mse: 0.7312 - coef_determination: 0.0836\n",
      "Epoch 26/150\n",
      "5/5 [==============================] - 0s 598us/step - loss: 0.7219 - mse: 0.7219 - coef_determination: 0.2833\n",
      "Epoch 27/150\n",
      "5/5 [==============================] - 0s 790us/step - loss: 0.7138 - mse: 0.7138 - coef_determination: 0.2410\n",
      "Epoch 28/150\n",
      "5/5 [==============================] - 0s 808us/step - loss: 0.7051 - mse: 0.7051 - coef_determination: 0.2561\n",
      "Epoch 29/150\n",
      "5/5 [==============================] - 0s 591us/step - loss: 0.6987 - mse: 0.6987 - coef_determination: 0.2369\n",
      "Epoch 30/150\n",
      "5/5 [==============================] - 0s 789us/step - loss: 0.6907 - mse: 0.6907 - coef_determination: 0.3184\n",
      "Epoch 31/150\n",
      "5/5 [==============================] - 0s 598us/step - loss: 0.6848 - mse: 0.6848 - coef_determination: 0.2535\n",
      "Epoch 32/150\n",
      "5/5 [==============================] - 0s 798us/step - loss: 0.6750 - mse: 0.6750 - coef_determination: 0.2713\n",
      "Epoch 33/150\n",
      "5/5 [==============================] - 0s 598us/step - loss: 0.6651 - mse: 0.6651 - coef_determination: 0.3319\n",
      "Epoch 34/150\n",
      "5/5 [==============================] - 0s 592us/step - loss: 0.6573 - mse: 0.6573 - coef_determination: 0.3628\n",
      "Epoch 35/150\n",
      "5/5 [==============================] - 0s 798us/step - loss: 0.6480 - mse: 0.6480 - coef_determination: 0.3452\n",
      "Epoch 36/150\n",
      "5/5 [==============================] - 0s 598us/step - loss: 0.6425 - mse: 0.6425 - coef_determination: 0.3448\n",
      "Epoch 37/150\n",
      "5/5 [==============================] - 0s 798us/step - loss: 0.6329 - mse: 0.6329 - coef_determination: 0.3104\n",
      "Epoch 38/150\n",
      "5/5 [==============================] - 0s 806us/step - loss: 0.6251 - mse: 0.6251 - coef_determination: 0.4149\n",
      "Epoch 39/150\n",
      "5/5 [==============================] - 0s 790us/step - loss: 0.6167 - mse: 0.6167 - coef_determination: 0.3142\n",
      "Epoch 40/150\n",
      "5/5 [==============================] - 0s 598us/step - loss: 0.6079 - mse: 0.6079 - coef_determination: 0.2574\n",
      "Epoch 41/150\n",
      "5/5 [==============================] - 0s 598us/step - loss: 0.6022 - mse: 0.6022 - coef_determination: 0.3902\n",
      "Epoch 42/150\n",
      "5/5 [==============================] - 0s 598us/step - loss: 0.5928 - mse: 0.5928 - coef_determination: 0.4434\n",
      "Epoch 43/150\n",
      "5/5 [==============================] - 0s 599us/step - loss: 0.5867 - mse: 0.5867 - coef_determination: 0.2873\n",
      "Epoch 44/150\n",
      "5/5 [==============================] - 0s 596us/step - loss: 0.5798 - mse: 0.5798 - coef_determination: 0.3934\n",
      "Epoch 45/150\n",
      "5/5 [==============================] - 0s 798us/step - loss: 0.5700 - mse: 0.5700 - coef_determination: 0.4005\n",
      "Epoch 46/150\n",
      "5/5 [==============================] - 0s 598us/step - loss: 0.5595 - mse: 0.5595 - coef_determination: 0.4403\n",
      "Epoch 47/150\n",
      "5/5 [==============================] - 0s 598us/step - loss: 0.5521 - mse: 0.5521 - coef_determination: 0.3902\n",
      "Epoch 48/150\n",
      "5/5 [==============================] - 0s 798us/step - loss: 0.5428 - mse: 0.5428 - coef_determination: 0.4581\n",
      "Epoch 49/150\n",
      "5/5 [==============================] - 0s 598us/step - loss: 0.5364 - mse: 0.5364 - coef_determination: 0.4793\n",
      "Epoch 50/150\n",
      "5/5 [==============================] - 0s 598us/step - loss: 0.5312 - mse: 0.5312 - coef_determination: 0.4440\n",
      "Epoch 51/150\n",
      "5/5 [==============================] - 0s 599us/step - loss: 0.5237 - mse: 0.5237 - coef_determination: 0.4440\n",
      "Epoch 52/150\n",
      "5/5 [==============================] - 0s 806us/step - loss: 0.5164 - mse: 0.5164 - coef_determination: 0.4413\n",
      "Epoch 53/150\n",
      "5/5 [==============================] - 0s 599us/step - loss: 0.5109 - mse: 0.5109 - coef_determination: 0.4902\n",
      "Epoch 54/150\n",
      "5/5 [==============================] - 0s 590us/step - loss: 0.5061 - mse: 0.5061 - coef_determination: 0.4266\n",
      "Epoch 55/150\n",
      "5/5 [==============================] - 0s 799us/step - loss: 0.4987 - mse: 0.4987 - coef_determination: 0.1712\n",
      "Epoch 56/150\n",
      "5/5 [==============================] - 0s 798us/step - loss: 0.4935 - mse: 0.4935 - coef_determination: 0.5016\n",
      "Epoch 57/150\n",
      "5/5 [==============================] - 0s 605us/step - loss: 0.4864 - mse: 0.4864 - coef_determination: 0.5315\n",
      "Epoch 58/150\n",
      "5/5 [==============================] - 0s 591us/step - loss: 0.4841 - mse: 0.4841 - coef_determination: 0.4332\n",
      "Epoch 59/150\n",
      "5/5 [==============================] - 0s 798us/step - loss: 0.4774 - mse: 0.4774 - coef_determination: 0.3540\n",
      "Epoch 60/150\n",
      "5/5 [==============================] - ETA: 0s - loss: 0.5569 - mse: 0.5569 - coef_determination: 0.43 - 0s 788us/step - loss: 0.4747 - mse: 0.4747 - coef_determination: 0.4988\n",
      "Epoch 61/150\n",
      "5/5 [==============================] - 0s 798us/step - loss: 0.4685 - mse: 0.4685 - coef_determination: 0.5325\n",
      "Epoch 62/150\n",
      "5/5 [==============================] - 0s 598us/step - loss: 0.4652 - mse: 0.4652 - coef_determination: 0.5529\n",
      "Epoch 63/150\n",
      "5/5 [==============================] - 0s 792us/step - loss: 0.4614 - mse: 0.4614 - coef_determination: 0.3574\n",
      "Epoch 64/150\n",
      "5/5 [==============================] - 0s 598us/step - loss: 0.4563 - mse: 0.4563 - coef_determination: 0.5187\n",
      "Epoch 65/150\n",
      "5/5 [==============================] - 0s 789us/step - loss: 0.4504 - mse: 0.4504 - coef_determination: 0.5173\n",
      "Epoch 66/150\n",
      "5/5 [==============================] - 0s 598us/step - loss: 0.4459 - mse: 0.4459 - coef_determination: 0.5022\n",
      "Epoch 67/150\n",
      "5/5 [==============================] - 0s 598us/step - loss: 0.4420 - mse: 0.4420 - coef_determination: 0.5208\n",
      "Epoch 68/150\n",
      "5/5 [==============================] - 0s 792us/step - loss: 0.4393 - mse: 0.4393 - coef_determination: 0.5656\n",
      "Epoch 69/150\n",
      "5/5 [==============================] - 0s 798us/step - loss: 0.4350 - mse: 0.4350 - coef_determination: 0.6078\n",
      "Epoch 70/150\n",
      "5/5 [==============================] - 0s 598us/step - loss: 0.4313 - mse: 0.4313 - coef_determination: 0.5516\n",
      "Epoch 71/150\n",
      "5/5 [==============================] - 0s 603us/step - loss: 0.4277 - mse: 0.4277 - coef_determination: 0.5144\n",
      "Epoch 72/150\n",
      "5/5 [==============================] - 0s 598us/step - loss: 0.4230 - mse: 0.4230 - coef_determination: 0.5396\n",
      "Epoch 73/150\n",
      "5/5 [==============================] - 0s 798us/step - loss: 0.4197 - mse: 0.4197 - coef_determination: 0.5663\n",
      "Epoch 74/150\n",
      "5/5 [==============================] - 0s 798us/step - loss: 0.4160 - mse: 0.4160 - coef_determination: 0.5859\n",
      "Epoch 75/150\n",
      "5/5 [==============================] - 0s 798us/step - loss: 0.4121 - mse: 0.4121 - coef_determination: 0.1354\n",
      "Epoch 76/150\n",
      "5/5 [==============================] - 0s 798us/step - loss: 0.4079 - mse: 0.4079 - coef_determination: 0.5971\n",
      "Epoch 77/150\n",
      "5/5 [==============================] - 0s 598us/step - loss: 0.4040 - mse: 0.4040 - coef_determination: 0.5776\n",
      "Epoch 78/150\n",
      "5/5 [==============================] - 0s 798us/step - loss: 0.4009 - mse: 0.4009 - coef_determination: 0.5827\n",
      "Epoch 79/150\n",
      "5/5 [==============================] - 0s 798us/step - loss: 0.3974 - mse: 0.3974 - coef_determination: 0.5768\n",
      "Epoch 80/150\n",
      "5/5 [==============================] - 0s 598us/step - loss: 0.3937 - mse: 0.3937 - coef_determination: 0.5484\n",
      "Epoch 81/150\n",
      "5/5 [==============================] - 0s 799us/step - loss: 0.3910 - mse: 0.3910 - coef_determination: 0.6390\n",
      "Epoch 82/150\n",
      "5/5 [==============================] - 0s 598us/step - loss: 0.3881 - mse: 0.3881 - coef_determination: 0.6315\n",
      "Epoch 83/150\n",
      "5/5 [==============================] - 0s 598us/step - loss: 0.3843 - mse: 0.3843 - coef_determination: 0.5929\n",
      "Epoch 84/150\n",
      "5/5 [==============================] - 0s 798us/step - loss: 0.3798 - mse: 0.3798 - coef_determination: 0.6121\n",
      "Epoch 85/150\n",
      "5/5 [==============================] - 0s 599us/step - loss: 0.3763 - mse: 0.3763 - coef_determination: 0.5916\n",
      "Epoch 86/150\n",
      "5/5 [==============================] - 0s 798us/step - loss: 0.3735 - mse: 0.3735 - coef_determination: 0.6261\n",
      "Epoch 87/150\n",
      "5/5 [==============================] - 0s 790us/step - loss: 0.3692 - mse: 0.3692 - coef_determination: 0.6311\n",
      "Epoch 88/150\n",
      "5/5 [==============================] - 0s 797us/step - loss: 0.3656 - mse: 0.3656 - coef_determination: 0.6467\n",
      "Epoch 89/150\n",
      "5/5 [==============================] - 0s 598us/step - loss: 0.3638 - mse: 0.3638 - coef_determination: 0.5758\n",
      "Epoch 90/150\n",
      "5/5 [==============================] - 0s 798us/step - loss: 0.3616 - mse: 0.3616 - coef_determination: 0.6288\n",
      "Epoch 91/150\n",
      "5/5 [==============================] - 0s 784us/step - loss: 0.3579 - mse: 0.3579 - coef_determination: 0.6353\n",
      "Epoch 92/150\n",
      "5/5 [==============================] - 0s 798us/step - loss: 0.3559 - mse: 0.3559 - coef_determination: 0.6578\n",
      "Epoch 93/150\n",
      "5/5 [==============================] - 0s 607us/step - loss: 0.3529 - mse: 0.3529 - coef_determination: 0.6152\n",
      "Epoch 94/150\n",
      "5/5 [==============================] - 0s 790us/step - loss: 0.3515 - mse: 0.3515 - coef_determination: 0.6141\n",
      "Epoch 95/150\n",
      "5/5 [==============================] - 0s 798us/step - loss: 0.3474 - mse: 0.3474 - coef_determination: 0.6329\n",
      "Epoch 96/150\n",
      "5/5 [==============================] - 0s 593us/step - loss: 0.3478 - mse: 0.3478 - coef_determination: 0.6414\n",
      "Epoch 97/150\n",
      "5/5 [==============================] - 0s 598us/step - loss: 0.3448 - mse: 0.3448 - coef_determination: 0.6360\n",
      "Epoch 98/150\n",
      "5/5 [==============================] - 0s 798us/step - loss: 0.3407 - mse: 0.3407 - coef_determination: 0.6147\n",
      "Epoch 99/150\n",
      "5/5 [==============================] - 0s 699us/step - loss: 0.3391 - mse: 0.3391 - coef_determination: 0.6503\n",
      "Epoch 100/150\n",
      "5/5 [==============================] - 0s 607us/step - loss: 0.3360 - mse: 0.3360 - coef_determination: 0.6307\n",
      "Epoch 101/150\n",
      "5/5 [==============================] - 0s 798us/step - loss: 0.3344 - mse: 0.3344 - coef_determination: 0.6865\n",
      "Epoch 102/150\n",
      "5/5 [==============================] - 0s 599us/step - loss: 0.3321 - mse: 0.3321 - coef_determination: 0.6835\n",
      "Epoch 103/150\n",
      "5/5 [==============================] - 0s 805us/step - loss: 0.3289 - mse: 0.3289 - coef_determination: 0.6460\n",
      "Epoch 104/150\n",
      "5/5 [==============================] - 0s 790us/step - loss: 0.3268 - mse: 0.3268 - coef_determination: 0.6805\n",
      "Epoch 105/150\n",
      "5/5 [==============================] - 0s 599us/step - loss: 0.3246 - mse: 0.3246 - coef_determination: 0.6928\n",
      "Epoch 106/150\n",
      "5/5 [==============================] - 0s 795us/step - loss: 0.3227 - mse: 0.3227 - coef_determination: 0.6517\n",
      "Epoch 107/150\n",
      "5/5 [==============================] - 0s 593us/step - loss: 0.3216 - mse: 0.3216 - coef_determination: 0.6808\n",
      "Epoch 108/150\n",
      "5/5 [==============================] - 0s 798us/step - loss: 0.3199 - mse: 0.3199 - coef_determination: 0.6498\n",
      "Epoch 109/150\n",
      "5/5 [==============================] - 0s 798us/step - loss: 0.3180 - mse: 0.3180 - coef_determination: 0.6741\n",
      "Epoch 110/150\n",
      "5/5 [==============================] - 0s 598us/step - loss: 0.3154 - mse: 0.3154 - coef_determination: 0.6678\n",
      "Epoch 111/150\n",
      "5/5 [==============================] - 0s 788us/step - loss: 0.3136 - mse: 0.3136 - coef_determination: 0.6874\n",
      "Epoch 112/150\n",
      "5/5 [==============================] - 0s 805us/step - loss: 0.3115 - mse: 0.3115 - coef_determination: 0.6551\n",
      "Epoch 113/150\n",
      "5/5 [==============================] - 0s 598us/step - loss: 0.3099 - mse: 0.3099 - coef_determination: 0.6973\n",
      "Epoch 114/150\n",
      "5/5 [==============================] - 0s 798us/step - loss: 0.3086 - mse: 0.3086 - coef_determination: 0.7090\n",
      "Epoch 115/150\n",
      "5/5 [==============================] - 0s 610us/step - loss: 0.3069 - mse: 0.3069 - coef_determination: 0.6970\n",
      "Epoch 116/150\n",
      "5/5 [==============================] - 0s 598us/step - loss: 0.3049 - mse: 0.3049 - coef_determination: 0.6689\n",
      "Epoch 117/150\n",
      "5/5 [==============================] - 0s 607us/step - loss: 0.3026 - mse: 0.3026 - coef_determination: 0.7289\n",
      "Epoch 118/150\n",
      "5/5 [==============================] - 0s 598us/step - loss: 0.3022 - mse: 0.3022 - coef_determination: 0.6681\n",
      "Epoch 119/150\n",
      "5/5 [==============================] - 0s 598us/step - loss: 0.3006 - mse: 0.3006 - coef_determination: 0.7259\n",
      "Epoch 120/150\n",
      "5/5 [==============================] - 0s 598us/step - loss: 0.2987 - mse: 0.2987 - coef_determination: 0.6985\n",
      "Epoch 121/150\n",
      "5/5 [==============================] - 0s 790us/step - loss: 0.2971 - mse: 0.2971 - coef_determination: 0.6892\n",
      "Epoch 122/150\n",
      "5/5 [==============================] - 0s 598us/step - loss: 0.2959 - mse: 0.2959 - coef_determination: 0.0946\n",
      "Epoch 123/150\n",
      "5/5 [==============================] - 0s 703us/step - loss: 0.2958 - mse: 0.2958 - coef_determination: 0.7288\n",
      "Epoch 124/150\n",
      "5/5 [==============================] - 0s 598us/step - loss: 0.2933 - mse: 0.2933 - coef_determination: 0.6594\n",
      "Epoch 125/150\n",
      "5/5 [==============================] - 0s 586us/step - loss: 0.2927 - mse: 0.2927 - coef_determination: 0.7168\n",
      "Epoch 126/150\n",
      "5/5 [==============================] - 0s 789us/step - loss: 0.2908 - mse: 0.2908 - coef_determination: 0.5527\n",
      "Epoch 127/150\n",
      "5/5 [==============================] - 0s 798us/step - loss: 0.2905 - mse: 0.2905 - coef_determination: 0.1097\n",
      "Epoch 128/150\n",
      "5/5 [==============================] - 0s 607us/step - loss: 0.2895 - mse: 0.2895 - coef_determination: 0.7323\n",
      "Epoch 129/150\n",
      "5/5 [==============================] - 0s 599us/step - loss: 0.2868 - mse: 0.2868 - coef_determination: 0.6242\n",
      "Epoch 130/150\n",
      "5/5 [==============================] - 0s 598us/step - loss: 0.2865 - mse: 0.2865 - coef_determination: 0.7071\n",
      "Epoch 131/150\n"
     ]
    },
    {
     "name": "stdout",
     "output_type": "stream",
     "text": [
      "5/5 [==============================] - 0s 599us/step - loss: 0.2854 - mse: 0.2854 - coef_determination: 0.6492\n",
      "Epoch 132/150\n",
      "5/5 [==============================] - 0s 798us/step - loss: 0.2840 - mse: 0.2840 - coef_determination: 0.7168\n",
      "Epoch 133/150\n",
      "5/5 [==============================] - 0s 599us/step - loss: 0.2817 - mse: 0.2817 - coef_determination: 0.6756\n",
      "Epoch 134/150\n",
      "5/5 [==============================] - 0s 598us/step - loss: 0.2805 - mse: 0.2805 - coef_determination: 0.6950\n",
      "Epoch 135/150\n",
      "5/5 [==============================] - 0s 798us/step - loss: 0.2795 - mse: 0.2795 - coef_determination: 0.6981\n",
      "Epoch 136/150\n",
      "5/5 [==============================] - 0s 798us/step - loss: 0.2780 - mse: 0.2780 - coef_determination: 0.7093\n",
      "Epoch 137/150\n",
      "5/5 [==============================] - 0s 789us/step - loss: 0.2775 - mse: 0.2775 - coef_determination: 0.7182\n",
      "Epoch 138/150\n",
      "5/5 [==============================] - 0s 590us/step - loss: 0.2746 - mse: 0.2746 - coef_determination: 0.7199\n",
      "Epoch 139/150\n",
      "5/5 [==============================] - 0s 798us/step - loss: 0.2737 - mse: 0.2737 - coef_determination: 0.7407\n",
      "Epoch 140/150\n",
      "5/5 [==============================] - 0s 598us/step - loss: 0.2730 - mse: 0.2730 - coef_determination: 0.6547\n",
      "Epoch 141/150\n",
      "5/5 [==============================] - 0s 798us/step - loss: 0.2715 - mse: 0.2715 - coef_determination: 0.7062\n",
      "Epoch 142/150\n",
      "5/5 [==============================] - 0s 598us/step - loss: 0.2701 - mse: 0.2701 - coef_determination: 0.7327\n",
      "Epoch 143/150\n",
      "5/5 [==============================] - 0s 607us/step - loss: 0.2694 - mse: 0.2694 - coef_determination: 0.7497\n",
      "Epoch 144/150\n",
      "5/5 [==============================] - 0s 798us/step - loss: 0.2686 - mse: 0.2686 - coef_determination: 0.7440\n",
      "Epoch 145/150\n",
      "5/5 [==============================] - 0s 798us/step - loss: 0.2683 - mse: 0.2683 - coef_determination: 0.7364\n",
      "Epoch 146/150\n",
      "5/5 [==============================] - 0s 807us/step - loss: 0.2680 - mse: 0.2680 - coef_determination: 0.7233\n",
      "Epoch 147/150\n",
      "5/5 [==============================] - 0s 801us/step - loss: 0.2644 - mse: 0.2644 - coef_determination: 0.7485\n",
      "Epoch 148/150\n",
      "5/5 [==============================] - 0s 598us/step - loss: 0.2632 - mse: 0.2632 - coef_determination: 0.6523\n",
      "Epoch 149/150\n",
      "5/5 [==============================] - 0s 798us/step - loss: 0.2634 - mse: 0.2634 - coef_determination: 0.7249\n",
      "Epoch 150/150\n",
      "5/5 [==============================] - 0s 598us/step - loss: 0.2615 - mse: 0.2615 - coef_determination: 0.7002\n"
     ]
    },
    {
     "data": {
      "text/plain": [
       "<tensorflow.python.keras.callbacks.History at 0x1f572409be0>"
      ]
     },
     "execution_count": 84,
     "metadata": {},
     "output_type": "execute_result"
    }
   ],
   "source": [
    "baseline_model.fit(X_train_Scaled,\n",
    "                  y_train_Scaled,\n",
    "                  epochs=150)"
   ]
  },
  {
   "cell_type": "code",
   "execution_count": 85,
   "metadata": {
    "ExecuteTime": {
     "end_time": "2020-10-27T15:46:10.610963Z",
     "start_time": "2020-10-27T15:46:10.247428Z"
    }
   },
   "outputs": [
    {
     "data": {
      "image/png": "[encoded data removed]",
      "text/plain": [
       "<Figure size 432x288 with 1 Axes>"
      ]
     },
     "metadata": {},
     "output_type": "display_data"
    },
    {
     "data": {
      "image/png": "[encoded data removed]",
      "text/plain": [
       "<Figure size 432x288 with 1 Axes>"
      ]
     },
     "metadata": {},
     "output_type": "display_data"
    },
    {
     "data": {
      "image/png": "[encoded data removed]",
      "text/plain": [
       "<Figure size 432x288 with 1 Axes>"
      ]
     },
     "metadata": {},
     "output_type": "display_data"
    }
   ],
   "source": [
    "visualize_loss_MSE(baseline_model.history)"
   ]
  },
  {
   "cell_type": "code",
   "execution_count": 86,
   "metadata": {
    "ExecuteTime": {
     "end_time": "2020-10-27T15:46:10.705709Z",
     "start_time": "2020-10-27T15:46:10.611961Z"
    }
   },
   "outputs": [
    {
     "name": "stdout",
     "output_type": "stream",
     "text": [
      "RMSE: 0.9910812941555918\n",
      "-------------------------\n",
      "Model: \"sequential\"\n",
      "_________________________________________________________________\n",
      "Layer (type)                 Output Shape              Param #   \n",
      "=================================================================\n",
      "dense (Dense)                (None, 10)                230       \n",
      "_________________________________________________________________\n",
      "dense_1 (Dense)              (None, 5)                 55        \n",
      "_________________________________________________________________\n",
      "dense_2 (Dense)              (None, 1)                 6         \n",
      "=================================================================\n",
      "Total params: 291\n",
      "Trainable params: 291\n",
      "Non-trainable params: 0\n",
      "_________________________________________________________________\n",
      "None\n"
     ]
    }
   ],
   "source": [
    "baseline_preds_scaled = baseline_model.predict(X_test_Scaled)\n",
    "baseline_preds = scaler.inverse_transform(baseline_preds_scaled)\n",
    "rmse = np.sqrt(mean_squared_error(y_test, baseline_preds))\n",
    "\n",
    "print('RMSE:', rmse)\n",
    "print('-------------------------')\n",
    "print(baseline_model.summary())"
   ]
  },
  {
   "cell_type": "markdown",
   "metadata": {},
   "source": [
    "### Overfit Model"
   ]
  },
  {
   "cell_type": "code",
   "execution_count": 87,
   "metadata": {
    "ExecuteTime": {
     "end_time": "2020-10-27T15:46:10.744606Z",
     "start_time": "2020-10-27T15:46:10.706707Z"
    }
   },
   "outputs": [],
   "source": [
    "overfit_model = Sequential()\n",
    "\n",
    "overfit_model.add(layers.Dense(10, activation='relu', input_shape=(n_features, )))\n",
    "\n",
    "overfit_model.add(layers.Dense(10, activation='relu'))\n",
    "\n",
    "overfit_model.add(layers.Dense(10, activation='relu'))\n",
    "\n",
    "overfit_model.add(layers.Dense(10, activation='relu'))\n",
    "\n",
    "overfit_model.add(layers.Dense(1, activation='linear'))\n",
    "\n",
    "overfit_model.compile(optimizer='SGD',\n",
    "              loss='mse',\n",
    "              metrics=['mse', coef_determination])\n"
   ]
  },
  {
   "cell_type": "code",
   "execution_count": 88,
   "metadata": {
    "ExecuteTime": {
     "end_time": "2020-10-27T15:46:12.976664Z",
     "start_time": "2020-10-27T15:46:10.745603Z"
    }
   },
   "outputs": [
    {
     "name": "stdout",
     "output_type": "stream",
     "text": [
      "Epoch 1/150\n",
      " 1/14 [=>............................] - ETA: 0s - loss: 1.4664 - mse: 1.4664 - coef_determination: -0.3291WARNING:tensorflow:Callbacks method `on_train_batch_end` is slow compared to the batch time (batch time: 0.0000s vs `on_train_batch_end` time: 0.0010s). Check your callbacks.\n",
      "14/14 [==============================] - 0s 784us/step - loss: 1.0631 - mse: 1.0631 - coef_determination: -0.2135\n",
      "Epoch 2/150\n",
      "14/14 [==============================] - 0s 712us/step - loss: 0.9621 - mse: 0.9621 - coef_determination: -0.0425\n",
      "Epoch 3/150\n",
      "14/14 [==============================] - 0s 713us/step - loss: 0.9225 - mse: 0.9225 - coef_determination: -0.0485\n",
      "Epoch 4/150\n",
      "14/14 [==============================] - 0s 570us/step - loss: 0.8975 - mse: 0.8975 - coef_determination: -0.0513\n",
      "Epoch 5/150\n",
      "14/14 [==============================] - 0s 641us/step - loss: 0.8795 - mse: 0.8795 - coef_determination: 0.0059\n",
      "Epoch 6/150\n",
      "14/14 [==============================] - 0s 637us/step - loss: 0.8594 - mse: 0.8594 - coef_determination: 0.0024\n",
      "Epoch 7/150\n",
      "14/14 [==============================] - 0s 640us/step - loss: 0.8401 - mse: 0.8401 - coef_determination: 0.0435\n",
      "Epoch 8/150\n",
      "14/14 [==============================] - 0s 641us/step - loss: 0.8210 - mse: 0.8210 - coef_determination: 0.1075\n",
      "Epoch 9/150\n",
      "14/14 [==============================] - 0s 638us/step - loss: 0.8006 - mse: 0.8006 - coef_determination: 0.0873\n",
      "Epoch 10/150\n",
      "14/14 [==============================] - 0s 570us/step - loss: 0.7783 - mse: 0.7783 - coef_determination: 0.1879\n",
      "Epoch 11/150\n",
      "14/14 [==============================] - 0s 641us/step - loss: 0.7583 - mse: 0.7583 - coef_determination: 0.1290\n",
      "Epoch 12/150\n",
      "14/14 [==============================] - 0s 641us/step - loss: 0.7355 - mse: 0.7355 - coef_determination: 0.2221\n",
      "Epoch 13/150\n",
      "14/14 [==============================] - 0s 641us/step - loss: 0.7195 - mse: 0.7195 - coef_determination: 0.1397\n",
      "Epoch 14/150\n",
      "14/14 [==============================] - 0s 712us/step - loss: 0.6964 - mse: 0.6964 - coef_determination: 0.2576\n",
      "Epoch 15/150\n",
      "14/14 [==============================] - 0s 641us/step - loss: 0.6791 - mse: 0.6791 - coef_determination: 0.2609\n",
      "Epoch 16/150\n",
      "14/14 [==============================] - 0s 570us/step - loss: 0.6613 - mse: 0.6613 - coef_determination: 0.2706\n",
      "Epoch 17/150\n",
      "14/14 [==============================] - 0s 642us/step - loss: 0.6444 - mse: 0.6444 - coef_determination: 0.2922\n",
      "Epoch 18/150\n",
      "14/14 [==============================] - 0s 641us/step - loss: 0.6175 - mse: 0.6175 - coef_determination: 0.3202\n",
      "Epoch 19/150\n",
      "14/14 [==============================] - 0s 641us/step - loss: 0.5998 - mse: 0.5998 - coef_determination: 0.3772\n",
      "Epoch 20/150\n",
      "14/14 [==============================] - 0s 570us/step - loss: 0.5788 - mse: 0.5788 - coef_determination: 0.3708\n",
      "Epoch 21/150\n",
      "14/14 [==============================] - 0s 570us/step - loss: 0.5590 - mse: 0.5590 - coef_determination: 0.3099\n",
      "Epoch 22/150\n",
      "14/14 [==============================] - 0s 712us/step - loss: 0.5402 - mse: 0.5402 - coef_determination: 0.4094\n",
      "Epoch 23/150\n",
      "14/14 [==============================] - 0s 712us/step - loss: 0.5244 - mse: 0.5244 - coef_determination: 0.3754\n",
      "Epoch 24/150\n",
      "14/14 [==============================] - 0s 641us/step - loss: 0.4973 - mse: 0.4973 - coef_determination: 0.4704\n",
      "Epoch 25/150\n",
      "14/14 [==============================] - 0s 712us/step - loss: 0.4824 - mse: 0.4824 - coef_determination: 0.4645\n",
      "Epoch 26/150\n",
      "14/14 [==============================] - 0s 712us/step - loss: 0.4686 - mse: 0.4686 - coef_determination: 0.4554\n",
      "Epoch 27/150\n",
      "14/14 [==============================] - 0s 712us/step - loss: 0.4503 - mse: 0.4503 - coef_determination: 0.5049\n",
      "Epoch 28/150\n",
      "14/14 [==============================] - 0s 570us/step - loss: 0.4356 - mse: 0.4356 - coef_determination: 0.4667\n",
      "Epoch 29/150\n",
      "14/14 [==============================] - 0s 712us/step - loss: 0.4211 - mse: 0.4211 - coef_determination: 0.5196\n",
      "Epoch 30/150\n",
      "14/14 [==============================] - 0s 641us/step - loss: 0.4106 - mse: 0.4106 - coef_determination: 0.4298\n",
      "Epoch 31/150\n",
      "14/14 [==============================] - 0s 570us/step - loss: 0.3984 - mse: 0.3984 - coef_determination: 0.5698\n",
      "Epoch 32/150\n",
      "14/14 [==============================] - 0s 641us/step - loss: 0.3882 - mse: 0.3882 - coef_determination: 0.5631\n",
      "Epoch 33/150\n",
      "14/14 [==============================] - 0s 641us/step - loss: 0.3783 - mse: 0.3783 - coef_determination: 0.5714\n",
      "Epoch 34/150\n",
      "14/14 [==============================] - 0s 712us/step - loss: 0.3664 - mse: 0.3664 - coef_determination: 0.4840\n",
      "Epoch 35/150\n",
      "14/14 [==============================] - 0s 570us/step - loss: 0.3627 - mse: 0.3627 - coef_determination: 0.6217\n",
      "Epoch 36/150\n",
      "14/14 [==============================] - 0s 641us/step - loss: 0.3550 - mse: 0.3550 - coef_determination: 0.5266\n",
      "Epoch 37/150\n",
      "14/14 [==============================] - 0s 641us/step - loss: 0.3435 - mse: 0.3435 - coef_determination: 0.6123\n",
      "Epoch 38/150\n",
      "14/14 [==============================] - 0s 641us/step - loss: 0.3382 - mse: 0.3382 - coef_determination: 0.6119\n",
      "Epoch 39/150\n",
      "14/14 [==============================] - 0s 641us/step - loss: 0.3289 - mse: 0.3289 - coef_determination: 0.6208\n",
      "Epoch 40/150\n",
      "14/14 [==============================] - 0s 784us/step - loss: 0.3214 - mse: 0.3214 - coef_determination: 0.5845\n",
      "Epoch 41/150\n",
      "14/14 [==============================] - 0s 641us/step - loss: 0.3148 - mse: 0.3148 - coef_determination: 0.4994\n",
      "Epoch 42/150\n",
      "14/14 [==============================] - 0s 570us/step - loss: 0.3089 - mse: 0.3089 - coef_determination: 0.6626\n",
      "Epoch 43/150\n",
      "14/14 [==============================] - 0s 642us/step - loss: 0.3018 - mse: 0.3018 - coef_determination: 0.6196\n",
      "Epoch 44/150\n",
      "14/14 [==============================] - 0s 638us/step - loss: 0.2948 - mse: 0.2948 - coef_determination: 0.6941\n",
      "Epoch 45/150\n",
      "14/14 [==============================] - 0s 641us/step - loss: 0.2889 - mse: 0.2889 - coef_determination: 0.6989\n",
      "Epoch 46/150\n",
      "14/14 [==============================] - 0s 712us/step - loss: 0.2830 - mse: 0.2830 - coef_determination: 0.7073\n",
      "Epoch 47/150\n",
      "14/14 [==============================] - 0s 712us/step - loss: 0.2762 - mse: 0.2762 - coef_determination: 0.6644\n",
      "Epoch 48/150\n",
      "14/14 [==============================] - 0s 641us/step - loss: 0.2710 - mse: 0.2710 - coef_determination: 0.6954\n",
      "Epoch 49/150\n",
      "14/14 [==============================] - 0s 712us/step - loss: 0.2674 - mse: 0.2674 - coef_determination: 0.6883\n",
      "Epoch 50/150\n",
      "14/14 [==============================] - 0s 784us/step - loss: 0.2633 - mse: 0.2633 - coef_determination: 0.7003\n",
      "Epoch 51/150\n",
      "14/14 [==============================] - 0s 854us/step - loss: 0.2585 - mse: 0.2585 - coef_determination: 0.7076\n",
      "Epoch 52/150\n",
      "14/14 [==============================] - 0s 713us/step - loss: 0.2522 - mse: 0.2522 - coef_determination: 0.6935\n",
      "Epoch 53/150\n",
      "14/14 [==============================] - 0s 719us/step - loss: 0.2489 - mse: 0.2489 - coef_determination: 0.6700\n",
      "Epoch 54/150\n",
      "14/14 [==============================] - 0s 685us/step - loss: 0.2439 - mse: 0.2439 - coef_determination: 0.7261\n",
      "Epoch 55/150\n",
      "14/14 [==============================] - 0s 784us/step - loss: 0.2396 - mse: 0.2396 - coef_determination: 0.7121\n",
      "Epoch 56/150\n",
      "14/14 [==============================] - 0s 784us/step - loss: 0.2387 - mse: 0.2387 - coef_determination: 0.7354\n",
      "Epoch 57/150\n",
      "14/14 [==============================] - 0s 712us/step - loss: 0.2322 - mse: 0.2322 - coef_determination: 0.7222\n",
      "Epoch 58/150\n",
      "14/14 [==============================] - 0s 641us/step - loss: 0.2287 - mse: 0.2287 - coef_determination: 0.7571\n",
      "Epoch 59/150\n",
      "14/14 [==============================] - 0s 656us/step - loss: 0.2279 - mse: 0.2279 - coef_determination: 0.7453\n",
      "Epoch 60/150\n",
      "14/14 [==============================] - 0s 641us/step - loss: 0.2202 - mse: 0.2202 - coef_determination: 0.7579\n",
      "Epoch 61/150\n",
      "14/14 [==============================] - 0s 641us/step - loss: 0.2163 - mse: 0.2163 - coef_determination: 0.7810\n",
      "Epoch 62/150\n",
      "14/14 [==============================] - 0s 712us/step - loss: 0.2199 - mse: 0.2199 - coef_determination: 0.7257\n",
      "Epoch 63/150\n",
      "14/14 [==============================] - 0s 712us/step - loss: 0.2125 - mse: 0.2125 - coef_determination: 0.7799\n",
      "Epoch 64/150\n",
      "14/14 [==============================] - 0s 712us/step - loss: 0.2129 - mse: 0.2129 - coef_determination: 0.7624\n",
      "Epoch 65/150\n",
      "14/14 [==============================] - 0s 570us/step - loss: 0.2065 - mse: 0.2065 - coef_determination: 0.7774\n",
      "Epoch 66/150\n",
      "14/14 [==============================] - 0s 641us/step - loss: 0.2037 - mse: 0.2037 - coef_determination: 0.8069\n",
      "Epoch 67/150\n",
      "14/14 [==============================] - 0s 641us/step - loss: 0.2019 - mse: 0.2019 - coef_determination: 0.7290\n",
      "Epoch 68/150\n",
      "14/14 [==============================] - 0s 641us/step - loss: 0.2013 - mse: 0.2013 - coef_determination: 0.7471\n",
      "Epoch 69/150\n",
      "14/14 [==============================] - 0s 570us/step - loss: 0.1974 - mse: 0.1974 - coef_determination: 0.7529\n",
      "Epoch 70/150\n",
      "14/14 [==============================] - 0s 641us/step - loss: 0.1956 - mse: 0.1956 - coef_determination: 0.7359\n",
      "Epoch 71/150\n",
      "14/14 [==============================] - 0s 709us/step - loss: 0.1937 - mse: 0.1937 - coef_determination: 0.7343\n",
      "Epoch 72/150\n",
      "14/14 [==============================] - 0s 641us/step - loss: 0.1887 - mse: 0.1887 - coef_determination: 0.8124\n",
      "Epoch 73/150\n",
      "14/14 [==============================] - 0s 712us/step - loss: 0.1882 - mse: 0.1882 - coef_determination: 0.8102\n",
      "Epoch 74/150\n",
      "14/14 [==============================] - 0s 641us/step - loss: 0.1852 - mse: 0.1852 - coef_determination: 0.8202\n",
      "Epoch 75/150\n",
      "14/14 [==============================] - 0s 641us/step - loss: 0.1825 - mse: 0.1825 - coef_determination: 0.8101\n",
      "Epoch 76/150\n",
      "14/14 [==============================] - 0s 712us/step - loss: 0.1834 - mse: 0.1834 - coef_determination: 0.8132\n",
      "Epoch 77/150\n",
      "14/14 [==============================] - 0s 641us/step - loss: 0.1803 - mse: 0.1803 - coef_determination: 0.7797\n",
      "Epoch 78/150\n",
      "14/14 [==============================] - 0s 855us/step - loss: 0.1811 - mse: 0.1811 - coef_determination: 0.8068\n",
      "Epoch 79/150\n",
      "14/14 [==============================] - 0s 641us/step - loss: 0.1776 - mse: 0.1776 - coef_determination: 0.8138\n",
      "Epoch 80/150\n",
      "14/14 [==============================] - 0s 641us/step - loss: 0.1748 - mse: 0.1748 - coef_determination: 0.8117\n",
      "Epoch 81/150\n",
      "14/14 [==============================] - 0s 712us/step - loss: 0.1736 - mse: 0.1736 - coef_determination: 0.7646\n",
      "Epoch 82/150\n",
      "14/14 [==============================] - 0s 641us/step - loss: 0.1731 - mse: 0.1731 - coef_determination: 0.8029\n",
      "Epoch 83/150\n",
      "14/14 [==============================] - 0s 644us/step - loss: 0.1706 - mse: 0.1706 - coef_determination: 0.8058\n",
      "Epoch 84/150\n",
      "14/14 [==============================] - 0s 641us/step - loss: 0.1668 - mse: 0.1668 - coef_determination: 0.8260\n",
      "Epoch 85/150\n",
      "14/14 [==============================] - 0s 641us/step - loss: 0.1666 - mse: 0.1666 - coef_determination: 0.7590\n",
      "Epoch 86/150\n",
      "14/14 [==============================] - 0s 641us/step - loss: 0.1653 - mse: 0.1653 - coef_determination: 0.8349\n",
      "Epoch 87/150\n",
      "14/14 [==============================] - 0s 641us/step - loss: 0.1633 - mse: 0.1633 - coef_determination: 0.8114\n",
      "Epoch 88/150\n",
      "14/14 [==============================] - 0s 570us/step - loss: 0.1625 - mse: 0.1625 - coef_determination: 0.8242\n",
      "Epoch 89/150\n",
      "14/14 [==============================] - 0s 570us/step - loss: 0.1581 - mse: 0.1581 - coef_determination: 0.8470\n",
      "Epoch 90/150\n",
      "14/14 [==============================] - 0s 641us/step - loss: 0.1564 - mse: 0.1564 - coef_determination: 0.7179\n",
      "Epoch 91/150\n",
      "14/14 [==============================] - 0s 710us/step - loss: 0.1552 - mse: 0.1552 - coef_determination: 0.8480\n",
      "Epoch 92/150\n",
      "14/14 [==============================] - 0s 784us/step - loss: 0.1537 - mse: 0.1537 - coef_determination: 0.8327\n",
      "Epoch 93/150\n",
      "14/14 [==============================] - 0s 855us/step - loss: 0.1517 - mse: 0.1517 - coef_determination: 0.8304\n",
      "Epoch 94/150\n",
      "14/14 [==============================] - 0s 784us/step - loss: 0.1507 - mse: 0.1507 - coef_determination: 0.8515\n",
      "Epoch 95/150\n",
      "14/14 [==============================] - 0s 855us/step - loss: 0.1488 - mse: 0.1488 - coef_determination: 0.8397\n",
      "Epoch 96/150\n",
      "14/14 [==============================] - 0s 926us/step - loss: 0.1454 - mse: 0.1454 - coef_determination: 0.8447\n",
      "Epoch 97/150\n",
      "14/14 [==============================] - 0s 926us/step - loss: 0.1459 - mse: 0.1459 - coef_determination: 0.8354\n",
      "Epoch 98/150\n",
      "14/14 [==============================] - 0s 749us/step - loss: 0.1427 - mse: 0.1427 - coef_determination: 0.8503\n",
      "Epoch 99/150\n",
      "14/14 [==============================] - 0s 641us/step - loss: 0.1430 - mse: 0.1430 - coef_determination: 0.8458\n",
      "Epoch 100/150\n",
      "14/14 [==============================] - 0s 784us/step - loss: 0.1398 - mse: 0.1398 - coef_determination: 0.8562\n",
      "Epoch 101/150\n",
      "14/14 [==============================] - 0s 712us/step - loss: 0.1380 - mse: 0.1380 - coef_determination: 0.8460\n",
      "Epoch 102/150\n",
      "14/14 [==============================] - 0s 641us/step - loss: 0.1389 - mse: 0.1389 - coef_determination: 0.8040\n",
      "Epoch 103/150\n",
      "14/14 [==============================] - 0s 570us/step - loss: 0.1355 - mse: 0.1355 - coef_determination: 0.8661\n",
      "Epoch 104/150\n",
      "14/14 [==============================] - 0s 570us/step - loss: 0.1333 - mse: 0.1333 - coef_determination: 0.8659\n",
      "Epoch 105/150\n",
      "14/14 [==============================] - 0s 570us/step - loss: 0.1304 - mse: 0.1304 - coef_determination: 0.8712\n",
      "Epoch 106/150\n",
      "14/14 [==============================] - 0s 570us/step - loss: 0.1299 - mse: 0.1299 - coef_determination: 0.8625\n",
      "Epoch 107/150\n",
      "14/14 [==============================] - 0s 641us/step - loss: 0.1296 - mse: 0.1296 - coef_determination: 0.8551\n",
      "Epoch 108/150\n",
      "14/14 [==============================] - 0s 642us/step - loss: 0.1258 - mse: 0.1258 - coef_determination: 0.8439\n",
      "Epoch 109/150\n",
      "14/14 [==============================] - 0s 709us/step - loss: 0.1297 - mse: 0.1297 - coef_determination: 0.8531\n",
      "Epoch 110/150\n",
      "14/14 [==============================] - 0s 639us/step - loss: 0.1256 - mse: 0.1256 - coef_determination: 0.8476\n",
      "Epoch 111/150\n",
      "14/14 [==============================] - 0s 637us/step - loss: 0.1247 - mse: 0.1247 - coef_determination: 0.8575\n",
      "Epoch 112/150\n",
      "14/14 [==============================] - 0s 567us/step - loss: 0.1232 - mse: 0.1232 - coef_determination: 0.8823\n",
      "Epoch 113/150\n",
      "14/14 [==============================] - 0s 629us/step - loss: 0.1226 - mse: 0.1226 - coef_determination: 0.8636\n",
      "Epoch 114/150\n",
      "14/14 [==============================] - 0s 712us/step - loss: 0.1191 - mse: 0.1191 - coef_determination: 0.8713\n",
      "Epoch 115/150\n",
      "14/14 [==============================] - 0s 712us/step - loss: 0.1151 - mse: 0.1151 - coef_determination: 0.8505\n",
      "Epoch 116/150\n",
      "14/14 [==============================] - 0s 712us/step - loss: 0.1223 - mse: 0.1223 - coef_determination: 0.8802\n",
      "Epoch 117/150\n",
      "14/14 [==============================] - 0s 641us/step - loss: 0.1180 - mse: 0.1180 - coef_determination: 0.8805\n",
      "Epoch 118/150\n",
      "14/14 [==============================] - 0s 641us/step - loss: 0.1166 - mse: 0.1166 - coef_determination: 0.8649\n",
      "Epoch 119/150\n",
      "14/14 [==============================] - 0s 641us/step - loss: 0.1163 - mse: 0.1163 - coef_determination: 0.8852\n",
      "Epoch 120/150\n",
      "14/14 [==============================] - 0s 644us/step - loss: 0.1146 - mse: 0.1146 - coef_determination: 0.8784\n",
      "Epoch 121/150\n",
      "14/14 [==============================] - 0s 641us/step - loss: 0.1146 - mse: 0.1146 - coef_determination: 0.8383\n",
      "Epoch 122/150\n",
      "14/14 [==============================] - 0s 641us/step - loss: 0.1127 - mse: 0.1127 - coef_determination: 0.8883\n",
      "Epoch 123/150\n",
      "14/14 [==============================] - 0s 644us/step - loss: 0.1148 - mse: 0.1148 - coef_determination: 0.8581\n",
      "Epoch 124/150\n",
      "14/14 [==============================] - 0s 712us/step - loss: 0.1122 - mse: 0.1122 - coef_determination: 0.8816\n",
      "Epoch 125/150\n",
      "14/14 [==============================] - 0s 641us/step - loss: 0.1109 - mse: 0.1109 - coef_determination: 0.8648\n",
      "Epoch 126/150\n",
      "14/14 [==============================] - 0s 712us/step - loss: 0.1096 - mse: 0.1096 - coef_determination: 0.8843\n",
      "Epoch 127/150\n"
     ]
    },
    {
     "name": "stdout",
     "output_type": "stream",
     "text": [
      "14/14 [==============================] - 0s 712us/step - loss: 0.1084 - mse: 0.1084 - coef_determination: 0.8778\n",
      "Epoch 128/150\n",
      "14/14 [==============================] - 0s 712us/step - loss: 0.1076 - mse: 0.1076 - coef_determination: 0.9009\n",
      "Epoch 129/150\n",
      "14/14 [==============================] - 0s 712us/step - loss: 0.1097 - mse: 0.1097 - coef_determination: 0.8836\n",
      "Epoch 130/150\n",
      "14/14 [==============================] - 0s 712us/step - loss: 0.1074 - mse: 0.1074 - coef_determination: 0.8850\n",
      "Epoch 131/150\n",
      "14/14 [==============================] - 0s 644us/step - loss: 0.1053 - mse: 0.1053 - coef_determination: 0.8894\n",
      "Epoch 132/150\n",
      "14/14 [==============================] - 0s 641us/step - loss: 0.1029 - mse: 0.1029 - coef_determination: 0.8726\n",
      "Epoch 133/150\n",
      "14/14 [==============================] - 0s 641us/step - loss: 0.1070 - mse: 0.1070 - coef_determination: 0.8629\n",
      "Epoch 134/150\n",
      "14/14 [==============================] - 0s 712us/step - loss: 0.1031 - mse: 0.1031 - coef_determination: 0.8952\n",
      "Epoch 135/150\n",
      "14/14 [==============================] - 0s 712us/step - loss: 0.1053 - mse: 0.1053 - coef_determination: 0.9008\n",
      "Epoch 136/150\n",
      "14/14 [==============================] - 0s 712us/step - loss: 0.1008 - mse: 0.1008 - coef_determination: 0.9035\n",
      "Epoch 137/150\n",
      "14/14 [==============================] - 0s 784us/step - loss: 0.1005 - mse: 0.1005 - coef_determination: 0.8894\n",
      "Epoch 138/150\n",
      "14/14 [==============================] - 0s 712us/step - loss: 0.0978 - mse: 0.0978 - coef_determination: 0.8603\n",
      "Epoch 139/150\n",
      "14/14 [==============================] - 0s 712us/step - loss: 0.0964 - mse: 0.0964 - coef_determination: 0.8917\n",
      "Epoch 140/150\n",
      "14/14 [==============================] - ETA: 0s - loss: 0.0425 - mse: 0.0425 - coef_determination: 0.97 - 0s 641us/step - loss: 0.1004 - mse: 0.1004 - coef_determination: 0.8689\n",
      "Epoch 141/150\n",
      "14/14 [==============================] - 0s 712us/step - loss: 0.0967 - mse: 0.0967 - coef_determination: 0.9013\n",
      "Epoch 142/150\n",
      "14/14 [==============================] - 0s 712us/step - loss: 0.0984 - mse: 0.0984 - coef_determination: 0.8602\n",
      "Epoch 143/150\n",
      "14/14 [==============================] - 0s 641us/step - loss: 0.0966 - mse: 0.0966 - coef_determination: 0.8988\n",
      "Epoch 144/150\n",
      "14/14 [==============================] - 0s 641us/step - loss: 0.0934 - mse: 0.0934 - coef_determination: 0.8993\n",
      "Epoch 145/150\n",
      "14/14 [==============================] - 0s 712us/step - loss: 0.0960 - mse: 0.0960 - coef_determination: 0.9176\n",
      "Epoch 146/150\n",
      "14/14 [==============================] - 0s 641us/step - loss: 0.0941 - mse: 0.0941 - coef_determination: 0.8897\n",
      "Epoch 147/150\n",
      "14/14 [==============================] - 0s 712us/step - loss: 0.0951 - mse: 0.0951 - coef_determination: 0.8064\n",
      "Epoch 148/150\n",
      "14/14 [==============================] - 0s 686us/step - loss: 0.0893 - mse: 0.0893 - coef_determination: 0.9059\n",
      "Epoch 149/150\n",
      "14/14 [==============================] - 0s 747us/step - loss: 0.0904 - mse: 0.0904 - coef_determination: 0.9060\n",
      "Epoch 150/150\n",
      "14/14 [==============================] - 0s 712us/step - loss: 0.0909 - mse: 0.0909 - coef_determination: 0.9139\n"
     ]
    },
    {
     "data": {
      "text/plain": [
       "<tensorflow.python.keras.callbacks.History at 0x1f5782d72e8>"
      ]
     },
     "execution_count": 88,
     "metadata": {},
     "output_type": "execute_result"
    }
   ],
   "source": [
    "overfit_model.fit(X_train_Scaled,\n",
    "                  y_train_Scaled,\n",
    "                  epochs=150,\n",
    "                  batch_size=10)"
   ]
  },
  {
   "cell_type": "code",
   "execution_count": 89,
   "metadata": {
    "ExecuteTime": {
     "end_time": "2020-10-27T15:46:13.309296Z",
     "start_time": "2020-10-27T15:46:12.977660Z"
    }
   },
   "outputs": [
    {
     "data": {
      "image/png": "[encoded data removed]",
      "text/plain": [
       "<Figure size 432x288 with 1 Axes>"
      ]
     },
     "metadata": {},
     "output_type": "display_data"
    },
    {
     "data": {
      "image/png": "[encoded data removed]",
      "text/plain": [
       "<Figure size 432x288 with 1 Axes>"
      ]
     },
     "metadata": {},
     "output_type": "display_data"
    },
    {
     "data": {
      "image/png": "[encoded data removed]",
      "text/plain": [
       "<Figure size 432x288 with 1 Axes>"
      ]
     },
     "metadata": {},
     "output_type": "display_data"
    }
   ],
   "source": [
    "visualize_loss_MSE(overfit_model.history)"
   ]
  },
  {
   "cell_type": "code",
   "execution_count": 90,
   "metadata": {
    "ExecuteTime": {
     "end_time": "2020-10-27T15:46:13.392104Z",
     "start_time": "2020-10-27T15:46:13.310282Z"
    }
   },
   "outputs": [
    {
     "name": "stdout",
     "output_type": "stream",
     "text": [
      "RMSE: 0.6231468991491129\n",
      "-------------------------\n",
      "Model: \"sequential_1\"\n",
      "_________________________________________________________________\n",
      "Layer (type)                 Output Shape              Param #   \n",
      "=================================================================\n",
      "dense_3 (Dense)              (None, 10)                230       \n",
      "_________________________________________________________________\n",
      "dense_4 (Dense)              (None, 10)                110       \n",
      "_________________________________________________________________\n",
      "dense_5 (Dense)              (None, 10)                110       \n",
      "_________________________________________________________________\n",
      "dense_6 (Dense)              (None, 10)                110       \n",
      "_________________________________________________________________\n",
      "dense_7 (Dense)              (None, 1)                 11        \n",
      "=================================================================\n",
      "Total params: 571\n",
      "Trainable params: 571\n",
      "Non-trainable params: 0\n",
      "_________________________________________________________________\n",
      "None\n"
     ]
    }
   ],
   "source": [
    "overfit_preds_scaled = overfit_model.predict(X_test_Scaled)\n",
    "overfit_preds = scaler.inverse_transform(overfit_preds_scaled)\n",
    "rmse = np.sqrt(mean_squared_error(y_test, overfit_preds))\n",
    "\n",
    "print('RMSE:', rmse)\n",
    "print('-------------------------')\n",
    "print(overfit_model.summary())"
   ]
  },
  {
   "cell_type": "markdown",
   "metadata": {},
   "source": [
    "### Regularized Model"
   ]
  },
  {
   "cell_type": "code",
   "execution_count": 91,
   "metadata": {
    "ExecuteTime": {
     "end_time": "2020-10-27T15:46:13.438952Z",
     "start_time": "2020-10-27T15:46:13.393061Z"
    }
   },
   "outputs": [],
   "source": [
    "reg_model = Sequential()\n",
    "\n",
    "reg_model.add(layers.Dense(10, kernel_regularizer=regularizers.L2(0.005),\n",
    "                           activation='relu', input_shape=(n_features, )))\n",
    "\n",
    "reg_model.add(layers.Dense(10, kernel_regularizer=regularizers.L2(0.005),\n",
    "                           activation='relu'))\n",
    "\n",
    "reg_model.add(layers.Dense(10, kernel_regularizer=regularizers.L2(0.005),\n",
    "                           activation='relu'))\n",
    "\n",
    "reg_model.add(layers.Dense(10, kernel_regularizer=regularizers.L2(0.005),\n",
    "                           activation='relu'))\n",
    "\n",
    "reg_model.add(layers.Dense(10, kernel_regularizer=regularizers.L2(0.005),\n",
    "                           activation='relu'))\n",
    "\n",
    "reg_model.add(layers.Dense(1, activation='linear'))\n",
    "\n",
    "reg_model.compile(optimizer='SGD',\n",
    "              loss='mse',\n",
    "              metrics=['mse', coef_determination])\n"
   ]
  },
  {
   "cell_type": "code",
   "execution_count": 92,
   "metadata": {
    "ExecuteTime": {
     "end_time": "2020-10-27T15:46:15.069519Z",
     "start_time": "2020-10-27T15:46:13.439935Z"
    }
   },
   "outputs": [
    {
     "name": "stdout",
     "output_type": "stream",
     "text": [
      "Epoch 1/150\n",
      "5/5 [==============================] - 0s 1ms/step - loss: 1.2412 - mse: 0.9783 - coef_determination: -0.0086\n",
      "Epoch 2/150\n",
      "5/5 [==============================] - 0s 1ms/step - loss: 1.2390 - mse: 0.9763 - coef_determination: -0.0074\n",
      "Epoch 3/150\n",
      "5/5 [==============================] - 0s 939us/step - loss: 1.2381 - mse: 0.9757 - coef_determination: -0.0508\n",
      "Epoch 4/150\n",
      "5/5 [==============================] - 0s 797us/step - loss: 1.2348 - mse: 0.9726 - coef_determination: -0.0031\n",
      "Epoch 5/150\n",
      "5/5 [==============================] - 0s 996us/step - loss: 1.2324 - mse: 0.9704 - coef_determination: -0.0246\n",
      "Epoch 6/150\n",
      "5/5 [==============================] - 0s 1ms/step - loss: 1.2293 - mse: 0.9675 - coef_determination: 0.0048\n",
      "Epoch 7/150\n",
      "5/5 [==============================] - 0s 798us/step - loss: 1.2262 - mse: 0.9646 - coef_determination: -0.0301\n",
      "Epoch 8/150\n",
      "5/5 [==============================] - 0s 798us/step - loss: 1.2241 - mse: 0.9628 - coef_determination: -0.0734\n",
      "Epoch 9/150\n",
      "5/5 [==============================] - 0s 798us/step - loss: 1.2225 - mse: 0.9614 - coef_determination: 0.0196\n",
      "Epoch 10/150\n",
      "5/5 [==============================] - 0s 598us/step - loss: 1.2201 - mse: 0.9592 - coef_determination: 0.0358\n",
      "Epoch 11/150\n",
      "5/5 [==============================] - 0s 798us/step - loss: 1.2169 - mse: 0.9562 - coef_determination: 0.0378\n",
      "Epoch 12/150\n",
      "5/5 [==============================] - 0s 796us/step - loss: 1.2134 - mse: 0.9529 - coef_determination: 0.0184\n",
      "Epoch 13/150\n",
      "5/5 [==============================] - 0s 798us/step - loss: 1.2110 - mse: 0.9507 - coef_determination: -0.0051\n",
      "Epoch 14/150\n",
      "5/5 [==============================] - 0s 599us/step - loss: 1.2070 - mse: 0.9469 - coef_determination: 0.0738\n",
      "Epoch 15/150\n",
      "5/5 [==============================] - 0s 599us/step - loss: 1.2030 - mse: 0.9432 - coef_determination: -0.2190\n",
      "Epoch 16/150\n",
      "5/5 [==============================] - 0s 798us/step - loss: 1.1978 - mse: 0.9383 - coef_determination: 0.0427\n",
      "Epoch 17/150\n",
      "5/5 [==============================] - 0s 812us/step - loss: 1.1923 - mse: 0.9330 - coef_determination: 0.0359\n",
      "Epoch 18/150\n",
      "5/5 [==============================] - 0s 798us/step - loss: 1.1871 - mse: 0.9281 - coef_determination: 0.0355\n",
      "Epoch 19/150\n",
      "5/5 [==============================] - 0s 599us/step - loss: 1.1809 - mse: 0.9220 - coef_determination: 0.0738\n",
      "Epoch 20/150\n",
      "5/5 [==============================] - 0s 798us/step - loss: 1.1736 - mse: 0.9149 - coef_determination: 0.0651\n",
      "Epoch 21/150\n",
      "5/5 [==============================] - 0s 598us/step - loss: 1.1690 - mse: 0.9106 - coef_determination: 0.0839\n",
      "Epoch 22/150\n",
      "5/5 [==============================] - 0s 598us/step - loss: 1.1638 - mse: 0.9056 - coef_determination: 0.0683\n",
      "Epoch 23/150\n",
      "5/5 [==============================] - 0s 598us/step - loss: 1.1579 - mse: 0.9000 - coef_determination: 0.1024\n",
      "Epoch 24/150\n",
      "5/5 [==============================] - 0s 798us/step - loss: 1.1521 - mse: 0.8942 - coef_determination: 0.0753\n",
      "Epoch 25/150\n",
      "5/5 [==============================] - 0s 798us/step - loss: 1.1467 - mse: 0.8891 - coef_determination: 0.0900\n",
      "Epoch 26/150\n",
      "5/5 [==============================] - 0s 598us/step - loss: 1.1408 - mse: 0.8835 - coef_determination: 0.1316\n",
      "Epoch 27/150\n",
      "5/5 [==============================] - 0s 802us/step - loss: 1.1338 - mse: 0.8766 - coef_determination: 0.1090\n",
      "Epoch 28/150\n",
      "5/5 [==============================] - 0s 798us/step - loss: 1.1282 - mse: 0.8712 - coef_determination: 0.1170\n",
      "Epoch 29/150\n",
      "5/5 [==============================] - 0s 798us/step - loss: 1.1202 - mse: 0.8632 - coef_determination: 0.0988\n",
      "Epoch 30/150\n",
      "5/5 [==============================] - 0s 795us/step - loss: 1.1158 - mse: 0.8591 - coef_determination: 0.1075\n",
      "Epoch 31/150\n",
      "5/5 [==============================] - 0s 997us/step - loss: 1.1095 - mse: 0.8529 - coef_determination: 0.0901\n",
      "Epoch 32/150\n",
      "5/5 [==============================] - 0s 798us/step - loss: 1.1014 - mse: 0.8448 - coef_determination: 0.1621\n",
      "Epoch 33/150\n",
      "5/5 [==============================] - 0s 997us/step - loss: 1.0958 - mse: 0.8396 - coef_determination: 0.1278\n",
      "Epoch 34/150\n",
      "5/5 [==============================] - 0s 798us/step - loss: 1.0865 - mse: 0.8303 - coef_determination: 0.0651\n",
      "Epoch 35/150\n",
      "5/5 [==============================] - 0s 997us/step - loss: 1.0809 - mse: 0.8250 - coef_determination: 0.1794\n",
      "Epoch 36/150\n",
      "5/5 [==============================] - 0s 798us/step - loss: 1.0729 - mse: 0.8172 - coef_determination: 0.2009\n",
      "Epoch 37/150\n",
      "5/5 [==============================] - 0s 997us/step - loss: 1.0629 - mse: 0.8071 - coef_determination: 0.1532\n",
      "Epoch 38/150\n",
      "5/5 [==============================] - 0s 798us/step - loss: 1.0547 - mse: 0.7991 - coef_determination: 0.1656\n",
      "Epoch 39/150\n",
      "5/5 [==============================] - 0s 798us/step - loss: 1.0473 - mse: 0.7917 - coef_determination: 0.0316\n",
      "Epoch 40/150\n",
      "5/5 [==============================] - 0s 798us/step - loss: 1.0392 - mse: 0.7838 - coef_determination: 0.1846\n",
      "Epoch 41/150\n",
      "5/5 [==============================] - 0s 798us/step - loss: 1.0321 - mse: 0.7768 - coef_determination: 0.1669\n",
      "Epoch 42/150\n",
      "5/5 [==============================] - 0s 800us/step - loss: 1.0256 - mse: 0.7707 - coef_determination: 0.1707\n",
      "Epoch 43/150\n",
      "5/5 [==============================] - 0s 806us/step - loss: 1.0199 - mse: 0.7650 - coef_determination: 0.1336\n",
      "Epoch 44/150\n",
      "5/5 [==============================] - 0s 798us/step - loss: 1.0044 - mse: 0.7497 - coef_determination: 0.1996\n",
      "Epoch 45/150\n",
      "5/5 [==============================] - 0s 798us/step - loss: 0.9970 - mse: 0.7424 - coef_determination: 0.2224\n",
      "Epoch 46/150\n",
      "5/5 [==============================] - 0s 598us/step - loss: 0.9876 - mse: 0.7330 - coef_determination: 0.2371\n",
      "Epoch 47/150\n",
      "5/5 [==============================] - 0s 798us/step - loss: 0.9823 - mse: 0.7281 - coef_determination: 0.2430\n",
      "Epoch 48/150\n",
      "5/5 [==============================] - 0s 798us/step - loss: 0.9682 - mse: 0.7139 - coef_determination: 0.2664\n",
      "Epoch 49/150\n",
      "5/5 [==============================] - 0s 798us/step - loss: 0.9587 - mse: 0.7047 - coef_determination: 0.2531\n",
      "Epoch 50/150\n",
      "5/5 [==============================] - 0s 598us/step - loss: 0.9484 - mse: 0.6944 - coef_determination: 0.2761\n",
      "Epoch 51/150\n",
      "5/5 [==============================] - 0s 798us/step - loss: 0.9361 - mse: 0.6820 - coef_determination: 0.2674\n",
      "Epoch 52/150\n",
      "5/5 [==============================] - 0s 598us/step - loss: 0.9248 - mse: 0.6708 - coef_determination: 0.2833\n",
      "Epoch 53/150\n",
      "5/5 [==============================] - 0s 798us/step - loss: 0.9191 - mse: 0.6652 - coef_determination: 0.2700\n",
      "Epoch 54/150\n",
      "5/5 [==============================] - 0s 598us/step - loss: 0.9064 - mse: 0.6524 - coef_determination: 0.3222\n",
      "Epoch 55/150\n",
      "5/5 [==============================] - 0s 798us/step - loss: 0.8958 - mse: 0.6420 - coef_determination: 0.3428\n",
      "Epoch 56/150\n",
      "5/5 [==============================] - 0s 808us/step - loss: 0.8857 - mse: 0.6318 - coef_determination: 0.2924\n",
      "Epoch 57/150\n",
      "5/5 [==============================] - 0s 803us/step - loss: 0.8742 - mse: 0.6204 - coef_determination: 0.3477\n",
      "Epoch 58/150\n",
      "5/5 [==============================] - 0s 610us/step - loss: 0.8679 - mse: 0.6142 - coef_determination: 0.3692\n",
      "Epoch 59/150\n",
      "5/5 [==============================] - 0s 798us/step - loss: 0.8575 - mse: 0.6038 - coef_determination: 0.3362\n",
      "Epoch 60/150\n",
      "5/5 [==============================] - 0s 806us/step - loss: 0.8498 - mse: 0.5959 - coef_determination: 0.3679\n",
      "Epoch 61/150\n",
      "5/5 [==============================] - 0s 806us/step - loss: 0.8341 - mse: 0.5804 - coef_determination: 0.4296\n",
      "Epoch 62/150\n",
      "5/5 [==============================] - 0s 798us/step - loss: 0.8196 - mse: 0.5660 - coef_determination: 0.4024\n",
      "Epoch 63/150\n",
      "5/5 [==============================] - 0s 997us/step - loss: 0.8108 - mse: 0.5573 - coef_determination: 0.4412\n",
      "Epoch 64/150\n",
      "5/5 [==============================] - 0s 798us/step - loss: 0.7989 - mse: 0.5456 - coef_determination: 0.4433\n",
      "Epoch 65/150\n",
      "5/5 [==============================] - 0s 798us/step - loss: 0.7886 - mse: 0.5352 - coef_determination: 0.4462\n",
      "Epoch 66/150\n",
      "5/5 [==============================] - 0s 598us/step - loss: 0.7760 - mse: 0.5229 - coef_determination: 0.4572\n",
      "Epoch 67/150\n",
      "5/5 [==============================] - 0s 998us/step - loss: 0.7637 - mse: 0.5105 - coef_determination: 0.4465\n",
      "Epoch 68/150\n",
      "5/5 [==============================] - 0s 802us/step - loss: 0.7621 - mse: 0.5092 - coef_determination: -1.3812\n",
      "Epoch 69/150\n",
      "5/5 [==============================] - 0s 798us/step - loss: 0.7457 - mse: 0.4928 - coef_determination: 0.5199\n",
      "Epoch 70/150\n",
      "5/5 [==============================] - 0s 805us/step - loss: 0.7280 - mse: 0.4751 - coef_determination: 0.5219\n",
      "Epoch 71/150\n",
      "5/5 [==============================] - 0s 806us/step - loss: 0.7154 - mse: 0.4624 - coef_determination: 0.5195\n",
      "Epoch 72/150\n",
      "5/5 [==============================] - 0s 805us/step - loss: 0.7109 - mse: 0.4580 - coef_determination: 0.4761\n",
      "Epoch 73/150\n",
      "5/5 [==============================] - 0s 799us/step - loss: 0.6961 - mse: 0.4429 - coef_determination: 0.4725\n",
      "Epoch 74/150\n",
      "5/5 [==============================] - 0s 606us/step - loss: 0.6808 - mse: 0.4279 - coef_determination: 0.5596\n",
      "Epoch 75/150\n",
      "5/5 [==============================] - 0s 598us/step - loss: 0.6718 - mse: 0.4187 - coef_determination: 0.6057\n",
      "Epoch 76/150\n",
      "5/5 [==============================] - 0s 997us/step - loss: 0.6612 - mse: 0.4083 - coef_determination: 0.6140\n",
      "Epoch 77/150\n",
      "5/5 [==============================] - 0s 798us/step - loss: 0.6506 - mse: 0.3977 - coef_determination: 0.5877\n",
      "Epoch 78/150\n",
      "5/5 [==============================] - 0s 598us/step - loss: 0.6445 - mse: 0.3917 - coef_determination: 0.6164\n",
      "Epoch 79/150\n",
      "5/5 [==============================] - 0s 808us/step - loss: 0.6368 - mse: 0.3841 - coef_determination: 0.5445\n",
      "Epoch 80/150\n",
      "5/5 [==============================] - 0s 799us/step - loss: 0.6264 - mse: 0.3738 - coef_determination: 0.5829\n",
      "Epoch 81/150\n",
      "5/5 [==============================] - 0s 790us/step - loss: 0.6166 - mse: 0.3639 - coef_determination: 0.5512\n",
      "Epoch 82/150\n",
      "5/5 [==============================] - 0s 997us/step - loss: 0.6077 - mse: 0.3552 - coef_determination: 0.6008\n",
      "Epoch 83/150\n",
      "5/5 [==============================] - 0s 997us/step - loss: 0.5986 - mse: 0.3459 - coef_determination: 0.5921\n",
      "Epoch 84/150\n",
      "5/5 [==============================] - 0s 935us/step - loss: 0.5896 - mse: 0.3373 - coef_determination: 0.6514\n",
      "Epoch 85/150\n",
      "5/5 [==============================] - 0s 798us/step - loss: 0.5809 - mse: 0.3284 - coef_determination: 0.6809\n",
      "Epoch 86/150\n",
      "5/5 [==============================] - 0s 798us/step - loss: 0.5749 - mse: 0.3225 - coef_determination: 0.6441\n",
      "Epoch 87/150\n",
      "5/5 [==============================] - 0s 797us/step - loss: 0.5689 - mse: 0.3166 - coef_determination: 0.6291\n",
      "Epoch 88/150\n",
      "5/5 [==============================] - 0s 798us/step - loss: 0.5673 - mse: 0.3150 - coef_determination: 0.6781\n",
      "Epoch 89/150\n",
      "5/5 [==============================] - 0s 798us/step - loss: 0.5542 - mse: 0.3020 - coef_determination: 0.7206\n",
      "Epoch 90/150\n",
      "5/5 [==============================] - 0s 997us/step - loss: 0.5488 - mse: 0.2967 - coef_determination: 0.6396\n",
      "Epoch 91/150\n",
      "5/5 [==============================] - 0s 798us/step - loss: 0.5427 - mse: 0.2907 - coef_determination: 0.6994\n",
      "Epoch 92/150\n",
      "5/5 [==============================] - 0s 798us/step - loss: 0.5385 - mse: 0.2865 - coef_determination: 0.6770\n",
      "Epoch 93/150\n",
      "5/5 [==============================] - 0s 598us/step - loss: 0.5348 - mse: 0.2831 - coef_determination: 0.6740\n",
      "Epoch 94/150\n",
      "5/5 [==============================] - 0s 997us/step - loss: 0.5286 - mse: 0.2769 - coef_determination: 0.7279\n",
      "Epoch 95/150\n",
      "5/5 [==============================] - 0s 808us/step - loss: 0.5264 - mse: 0.2747 - coef_determination: 0.6798\n",
      "Epoch 96/150\n",
      "5/5 [==============================] - 0s 598us/step - loss: 0.5204 - mse: 0.2688 - coef_determination: 0.7011\n",
      "Epoch 97/150\n",
      "5/5 [==============================] - 0s 598us/step - loss: 0.5114 - mse: 0.2599 - coef_determination: 0.7515\n",
      "Epoch 98/150\n",
      "5/5 [==============================] - 0s 998us/step - loss: 0.5059 - mse: 0.2546 - coef_determination: 0.7250\n",
      "Epoch 99/150\n",
      "5/5 [==============================] - 0s 997us/step - loss: 0.5049 - mse: 0.2536 - coef_determination: 0.7327\n",
      "Epoch 100/150\n",
      "5/5 [==============================] - 0s 798us/step - loss: 0.4991 - mse: 0.2479 - coef_determination: 0.6963\n",
      "Epoch 101/150\n",
      "5/5 [==============================] - 0s 798us/step - loss: 0.4935 - mse: 0.2424 - coef_determination: 0.7325\n",
      "Epoch 102/150\n",
      "5/5 [==============================] - 0s 798us/step - loss: 0.4888 - mse: 0.2378 - coef_determination: 0.7558\n",
      "Epoch 103/150\n",
      "5/5 [==============================] - 0s 998us/step - loss: 0.4856 - mse: 0.2346 - coef_determination: 0.7235\n",
      "Epoch 104/150\n",
      "5/5 [==============================] - 0s 998us/step - loss: 0.4824 - mse: 0.2315 - coef_determination: 0.7688\n",
      "Epoch 105/150\n",
      "5/5 [==============================] - 0s 997us/step - loss: 0.4766 - mse: 0.2258 - coef_determination: 0.7770\n",
      "Epoch 106/150\n",
      "5/5 [==============================] - 0s 998us/step - loss: 0.4729 - mse: 0.2223 - coef_determination: 0.7869\n",
      "Epoch 107/150\n",
      "5/5 [==============================] - 0s 798us/step - loss: 0.4713 - mse: 0.2209 - coef_determination: 0.7588\n",
      "Epoch 108/150\n",
      "5/5 [==============================] - 0s 798us/step - loss: 0.4713 - mse: 0.2208 - coef_determination: 0.7543\n",
      "Epoch 109/150\n",
      "5/5 [==============================] - 0s 798us/step - loss: 0.4652 - mse: 0.2148 - coef_determination: 0.7649\n",
      "Epoch 110/150\n",
      "5/5 [==============================] - 0s 798us/step - loss: 0.4595 - mse: 0.2091 - coef_determination: 0.6239\n",
      "Epoch 111/150\n",
      "5/5 [==============================] - 0s 598us/step - loss: 0.4611 - mse: 0.2111 - coef_determination: 0.7856\n",
      "Epoch 112/150\n",
      "5/5 [==============================] - 0s 798us/step - loss: 0.4552 - mse: 0.2054 - coef_determination: 0.7859\n",
      "Epoch 113/150\n",
      "5/5 [==============================] - 0s 798us/step - loss: 0.4509 - mse: 0.2012 - coef_determination: 0.7913\n",
      "Epoch 114/150\n",
      "5/5 [==============================] - 0s 798us/step - loss: 0.4481 - mse: 0.1985 - coef_determination: 0.7926\n",
      "Epoch 115/150\n",
      "5/5 [==============================] - 0s 803us/step - loss: 0.4428 - mse: 0.1932 - coef_determination: 0.8178\n",
      "Epoch 116/150\n",
      "5/5 [==============================] - 0s 798us/step - loss: 0.4391 - mse: 0.1897 - coef_determination: 0.8182\n",
      "Epoch 117/150\n",
      "5/5 [==============================] - 0s 798us/step - loss: 0.4374 - mse: 0.1880 - coef_determination: 0.8158\n",
      "Epoch 118/150\n",
      "5/5 [==============================] - 0s 997us/step - loss: 0.4389 - mse: 0.1898 - coef_determination: 0.8044\n",
      "Epoch 119/150\n",
      "5/5 [==============================] - 0s 997us/step - loss: 0.4327 - mse: 0.1836 - coef_determination: 0.8128\n",
      "Epoch 120/150\n",
      "5/5 [==============================] - 0s 798us/step - loss: 0.4349 - mse: 0.1859 - coef_determination: 0.7785\n",
      "Epoch 121/150\n",
      "5/5 [==============================] - 0s 798us/step - loss: 0.4347 - mse: 0.1860 - coef_determination: 0.7692\n",
      "Epoch 122/150\n",
      "5/5 [==============================] - 0s 997us/step - loss: 0.4227 - mse: 0.1740 - coef_determination: 0.8372\n",
      "Epoch 123/150\n",
      "5/5 [==============================] - 0s 798us/step - loss: 0.4205 - mse: 0.1718 - coef_determination: 0.8353\n",
      "Epoch 124/150\n",
      "5/5 [==============================] - 0s 997us/step - loss: 0.4177 - mse: 0.1692 - coef_determination: 0.8050\n",
      "Epoch 125/150\n",
      "5/5 [==============================] - 0s 798us/step - loss: 0.4161 - mse: 0.1675 - coef_determination: 0.8256\n",
      "Epoch 126/150\n",
      "5/5 [==============================] - 0s 598us/step - loss: 0.4141 - mse: 0.1660 - coef_determination: 0.7751\n",
      "Epoch 127/150\n",
      "5/5 [==============================] - 0s 798us/step - loss: 0.4127 - mse: 0.1646 - coef_determination: 0.7163\n",
      "Epoch 128/150\n",
      "5/5 [==============================] - 0s 798us/step - loss: 0.4123 - mse: 0.1644 - coef_determination: 0.8394\n",
      "Epoch 129/150\n",
      "5/5 [==============================] - 0s 998us/step - loss: 0.4078 - mse: 0.1599 - coef_determination: 0.8217\n",
      "Epoch 130/150\n",
      "5/5 [==============================] - 0s 998us/step - loss: 0.4084 - mse: 0.1606 - coef_determination: 0.8205\n",
      "Epoch 131/150\n",
      "5/5 [==============================] - 0s 798us/step - loss: 0.4047 - mse: 0.1569 - coef_determination: 0.8391\n",
      "Epoch 132/150\n"
     ]
    },
    {
     "name": "stdout",
     "output_type": "stream",
     "text": [
      "5/5 [==============================] - 0s 798us/step - loss: 0.4010 - mse: 0.1533 - coef_determination: 0.8232\n",
      "Epoch 133/150\n",
      "5/5 [==============================] - 0s 798us/step - loss: 0.3972 - mse: 0.1498 - coef_determination: 0.8273\n",
      "Epoch 134/150\n",
      "5/5 [==============================] - 0s 599us/step - loss: 0.3935 - mse: 0.1462 - coef_determination: 0.8389\n",
      "Epoch 135/150\n",
      "5/5 [==============================] - 0s 801us/step - loss: 0.3911 - mse: 0.1440 - coef_determination: 0.8604\n",
      "Epoch 136/150\n",
      "5/5 [==============================] - 0s 798us/step - loss: 0.3912 - mse: 0.1441 - coef_determination: 0.8707\n",
      "Epoch 137/150\n",
      "5/5 [==============================] - 0s 798us/step - loss: 0.3879 - mse: 0.1409 - coef_determination: 0.8346\n",
      "Epoch 138/150\n",
      "5/5 [==============================] - 0s 798us/step - loss: 0.3940 - mse: 0.1470 - coef_determination: 0.8553\n",
      "Epoch 139/150\n",
      "5/5 [==============================] - 0s 599us/step - loss: 0.3851 - mse: 0.1383 - coef_determination: 0.8656\n",
      "Epoch 140/150\n",
      "5/5 [==============================] - 0s 798us/step - loss: 0.3818 - mse: 0.1352 - coef_determination: 0.8513\n",
      "Epoch 141/150\n",
      "5/5 [==============================] - 0s 798us/step - loss: 0.3859 - mse: 0.1393 - coef_determination: 0.8435\n",
      "Epoch 142/150\n",
      "5/5 [==============================] - 0s 798us/step - loss: 0.3804 - mse: 0.1341 - coef_determination: 0.8721\n",
      "Epoch 143/150\n",
      "5/5 [==============================] - 0s 997us/step - loss: 0.3760 - mse: 0.1298 - coef_determination: 0.8688\n",
      "Epoch 144/150\n",
      "5/5 [==============================] - 0s 798us/step - loss: 0.3767 - mse: 0.1307 - coef_determination: 0.8590\n",
      "Epoch 145/150\n",
      "5/5 [==============================] - 0s 798us/step - loss: 0.3760 - mse: 0.1302 - coef_determination: 0.8276\n",
      "Epoch 146/150\n",
      "5/5 [==============================] - 0s 598us/step - loss: 0.3758 - mse: 0.1299 - coef_determination: 0.8643\n",
      "Epoch 147/150\n",
      "5/5 [==============================] - 0s 798us/step - loss: 0.3717 - mse: 0.1262 - coef_determination: 0.8791\n",
      "Epoch 148/150\n",
      "5/5 [==============================] - 0s 802us/step - loss: 0.3700 - mse: 0.1244 - coef_determination: 0.8821\n",
      "Epoch 149/150\n",
      "5/5 [==============================] - 0s 997us/step - loss: 0.3688 - mse: 0.1235 - coef_determination: 0.8708\n",
      "Epoch 150/150\n",
      "5/5 [==============================] - 0s 798us/step - loss: 0.3735 - mse: 0.1281 - coef_determination: 0.8603\n"
     ]
    },
    {
     "data": {
      "text/plain": [
       "<tensorflow.python.keras.callbacks.History at 0x1f5787f5c18>"
      ]
     },
     "execution_count": 92,
     "metadata": {},
     "output_type": "execute_result"
    }
   ],
   "source": [
    "reg_model.fit(X_train_Scaled,\n",
    "                  y_train_Scaled,\n",
    "                  epochs=150)"
   ]
  },
  {
   "cell_type": "code",
   "execution_count": 93,
   "metadata": {
    "ExecuteTime": {
     "end_time": "2020-10-27T15:46:15.412600Z",
     "start_time": "2020-10-27T15:46:15.070516Z"
    }
   },
   "outputs": [
    {
     "data": {
      "image/png": "[encoded data removed]",
      "text/plain": [
       "<Figure size 432x288 with 1 Axes>"
      ]
     },
     "metadata": {},
     "output_type": "display_data"
    },
    {
     "data": {
      "image/png": "[encoded data removed]",
      "text/plain": [
       "<Figure size 432x288 with 1 Axes>"
      ]
     },
     "metadata": {},
     "output_type": "display_data"
    },
    {
     "data": {
      "image/png": "[encoded data removed]",
      "text/plain": [
       "<Figure size 432x288 with 1 Axes>"
      ]
     },
     "metadata": {},
     "output_type": "display_data"
    }
   ],
   "source": [
    "visualize_loss_MSE(reg_model.history)"
   ]
  },
  {
   "cell_type": "code",
   "execution_count": 94,
   "metadata": {
    "ExecuteTime": {
     "end_time": "2020-10-27T15:46:15.508345Z",
     "start_time": "2020-10-27T15:46:15.413597Z"
    }
   },
   "outputs": [
    {
     "name": "stdout",
     "output_type": "stream",
     "text": [
      "RMSE: 0.8415445961146014\n",
      "-------------------------\n",
      "Model: \"sequential_2\"\n",
      "_________________________________________________________________\n",
      "Layer (type)                 Output Shape              Param #   \n",
      "=================================================================\n",
      "dense_8 (Dense)              (None, 10)                230       \n",
      "_________________________________________________________________\n",
      "dense_9 (Dense)              (None, 10)                110       \n",
      "_________________________________________________________________\n",
      "dense_10 (Dense)             (None, 10)                110       \n",
      "_________________________________________________________________\n",
      "dense_11 (Dense)             (None, 10)                110       \n",
      "_________________________________________________________________\n",
      "dense_12 (Dense)             (None, 10)                110       \n",
      "_________________________________________________________________\n",
      "dense_13 (Dense)             (None, 1)                 11        \n",
      "=================================================================\n",
      "Total params: 681\n",
      "Trainable params: 681\n",
      "Non-trainable params: 0\n",
      "_________________________________________________________________\n",
      "None\n"
     ]
    }
   ],
   "source": [
    "reg_preds_scaled = reg_model.predict(X_test_Scaled)\n",
    "reg_preds = scaler.inverse_transform(reg_preds_scaled)\n",
    "rmse = np.sqrt(mean_squared_error(y_test, reg_preds))\n",
    "\n",
    "print('RMSE:', rmse)\n",
    "print('-------------------------')\n",
    "print(reg_model.summary())"
   ]
  },
  {
   "cell_type": "markdown",
   "metadata": {},
   "source": [
    "### Optimized Model"
   ]
  },
  {
   "cell_type": "code",
   "execution_count": 95,
   "metadata": {
    "ExecuteTime": {
     "end_time": "2020-10-27T15:46:15.548238Z",
     "start_time": "2020-10-27T15:46:15.509341Z"
    }
   },
   "outputs": [],
   "source": [
    "optimized_model = Sequential()\n",
    "\n",
    "optimized_model.add(layers.Dense(40,\n",
    "                                  kernel_regularizer=regularizers.L2(0.005),\n",
    "                           activation='relu', input_shape=(n_features, )))\n",
    "\n",
    "optimized_model.add(layers.Dense(20,\n",
    "                                  kernel_regularizer=regularizers.L2(0.005),\n",
    "                           activation='relu'))\n",
    "\n",
    "optimized_model.add(layers.Dense(5,\n",
    "                                  kernel_regularizer=regularizers.L2(0.005),\n",
    "                           activation='relu'))\n",
    "\n",
    "optimized_model.add(layers.Dense(1, activation='linear'))\n",
    "\n",
    "optimized_model.compile(optimizer='RMSprop',\n",
    "              loss='mse',\n",
    "              metrics=['mse', coef_determination])"
   ]
  },
  {
   "cell_type": "code",
   "execution_count": 96,
   "metadata": {
    "ExecuteTime": {
     "end_time": "2020-10-27T15:46:17.386224Z",
     "start_time": "2020-10-27T15:46:15.549263Z"
    },
    "scrolled": true
   },
   "outputs": [
    {
     "name": "stdout",
     "output_type": "stream",
     "text": [
      "Epoch 1/150\n",
      "7/7 [==============================] - 0s 855us/step - loss: 1.3537 - mse: 1.0359 - coef_determination: -0.3074\n",
      "Epoch 2/150\n",
      "7/7 [==============================] - 0s 713us/step - loss: 1.1848 - mse: 0.8707 - coef_determination: 0.0331\n",
      "Epoch 3/150\n",
      "7/7 [==============================] - 0s 712us/step - loss: 1.1187 - mse: 0.8069 - coef_determination: 0.0628\n",
      "Epoch 4/150\n",
      "7/7 [==============================] - 0s 856us/step - loss: 1.0702 - mse: 0.7605 - coef_determination: 0.2077\n",
      "Epoch 5/150\n",
      "7/7 [==============================] - 0s 998us/step - loss: 1.0199 - mse: 0.7119 - coef_determination: 0.2733\n",
      "Epoch 6/150\n",
      "7/7 [==============================] - 0s 855us/step - loss: 0.9765 - mse: 0.6704 - coef_determination: 0.3002\n",
      "Epoch 7/150\n",
      "7/7 [==============================] - 0s 855us/step - loss: 0.9285 - mse: 0.6239 - coef_determination: 0.3409\n",
      "Epoch 8/150\n",
      "7/7 [==============================] - 0s 712us/step - loss: 0.8871 - mse: 0.5842 - coef_determination: 0.4120\n",
      "Epoch 9/150\n",
      "7/7 [==============================] - 0s 712us/step - loss: 0.8484 - mse: 0.5472 - coef_determination: 0.3922\n",
      "Epoch 10/150\n",
      "7/7 [==============================] - 0s 852us/step - loss: 0.8030 - mse: 0.5037 - coef_determination: 0.4729\n",
      "Epoch 11/150\n",
      "7/7 [==============================] - 0s 711us/step - loss: 0.7706 - mse: 0.4728 - coef_determination: 0.4847\n",
      "Epoch 12/150\n",
      "7/7 [==============================] - 0s 855us/step - loss: 0.7283 - mse: 0.4322 - coef_determination: 0.5531\n",
      "Epoch 13/150\n",
      "7/7 [==============================] - 0s 716us/step - loss: 0.6903 - mse: 0.3954 - coef_determination: 0.5997\n",
      "Epoch 14/150\n",
      "7/7 [==============================] - 0s 855us/step - loss: 0.6553 - mse: 0.3622 - coef_determination: 0.6237\n",
      "Epoch 15/150\n",
      "7/7 [==============================] - 0s 570us/step - loss: 0.6229 - mse: 0.3310 - coef_determination: 0.6369\n",
      "Epoch 16/150\n",
      "7/7 [==============================] - 0s 712us/step - loss: 0.5922 - mse: 0.3020 - coef_determination: 0.6851\n",
      "Epoch 17/150\n",
      "7/7 [==============================] - 0s 713us/step - loss: 0.5624 - mse: 0.2736 - coef_determination: 0.7252\n",
      "Epoch 18/150\n",
      "7/7 [==============================] - 0s 718us/step - loss: 0.5405 - mse: 0.2530 - coef_determination: 0.7497\n",
      "Epoch 19/150\n",
      "7/7 [==============================] - 0s 853us/step - loss: 0.5146 - mse: 0.2292 - coef_determination: 0.7543\n",
      "Epoch 20/150\n",
      "7/7 [==============================] - 0s 712us/step - loss: 0.4943 - mse: 0.2106 - coef_determination: 0.7309\n",
      "Epoch 21/150\n",
      "7/7 [==============================] - 0s 855us/step - loss: 0.4785 - mse: 0.1968 - coef_determination: 0.7742\n",
      "Epoch 22/150\n",
      "7/7 [==============================] - 0s 712us/step - loss: 0.4621 - mse: 0.1825 - coef_determination: 0.7941\n",
      "Epoch 23/150\n",
      "7/7 [==============================] - 0s 714us/step - loss: 0.4505 - mse: 0.1730 - coef_determination: 0.8201\n",
      "Epoch 24/150\n",
      "7/7 [==============================] - 0s 712us/step - loss: 0.4388 - mse: 0.1641 - coef_determination: 0.8262\n",
      "Epoch 25/150\n",
      "7/7 [==============================] - 0s 710us/step - loss: 0.4231 - mse: 0.1508 - coef_determination: 0.8416\n",
      "Epoch 26/150\n",
      "7/7 [==============================] - 0s 712us/step - loss: 0.4110 - mse: 0.1411 - coef_determination: 0.8539\n",
      "Epoch 27/150\n",
      "7/7 [==============================] - 0s 718us/step - loss: 0.3992 - mse: 0.1319 - coef_determination: 0.8702\n",
      "Epoch 28/150\n",
      "7/7 [==============================] - 0s 712us/step - loss: 0.3940 - mse: 0.1293 - coef_determination: 0.8685\n",
      "Epoch 29/150\n",
      "7/7 [==============================] - 0s 712us/step - loss: 0.3796 - mse: 0.1173 - coef_determination: 0.8754\n",
      "Epoch 30/150\n",
      "7/7 [==============================] - 0s 712us/step - loss: 0.3782 - mse: 0.1188 - coef_determination: 0.8650\n",
      "Epoch 31/150\n",
      "7/7 [==============================] - 0s 855us/step - loss: 0.3634 - mse: 0.1064 - coef_determination: 0.8974\n",
      "Epoch 32/150\n",
      "7/7 [==============================] - 0s 855us/step - loss: 0.3592 - mse: 0.1050 - coef_determination: 0.8918\n",
      "Epoch 33/150\n",
      "7/7 [==============================] - 0s 717us/step - loss: 0.3516 - mse: 0.0996 - coef_determination: 0.9036\n",
      "Epoch 34/150\n",
      "7/7 [==============================] - 0s 713us/step - loss: 0.3443 - mse: 0.0948 - coef_determination: 0.9067\n",
      "Epoch 35/150\n",
      "7/7 [==============================] - 0s 713us/step - loss: 0.3363 - mse: 0.0894 - coef_determination: 0.9167\n",
      "Epoch 36/150\n",
      "7/7 [==============================] - 0s 718us/step - loss: 0.3276 - mse: 0.0833 - coef_determination: 0.8822\n",
      "Epoch 37/150\n",
      "7/7 [==============================] - 0s 711us/step - loss: 0.3236 - mse: 0.0820 - coef_determination: 0.9128\n",
      "Epoch 38/150\n",
      "7/7 [==============================] - 0s 855us/step - loss: 0.3198 - mse: 0.0811 - coef_determination: 0.9175\n",
      "Epoch 39/150\n",
      "7/7 [==============================] - 0s 716us/step - loss: 0.3131 - mse: 0.0771 - coef_determination: 0.9230\n",
      "Epoch 40/150\n",
      "7/7 [==============================] - 0s 857us/step - loss: 0.3079 - mse: 0.0745 - coef_determination: 0.9094\n",
      "Epoch 41/150\n",
      "7/7 [==============================] - 0s 856us/step - loss: 0.3047 - mse: 0.0737 - coef_determination: 0.9297\n",
      "Epoch 42/150\n",
      "7/7 [==============================] - 0s 712us/step - loss: 0.3006 - mse: 0.0722 - coef_determination: 0.9182\n",
      "Epoch 43/150\n",
      "7/7 [==============================] - 0s 855us/step - loss: 0.2969 - mse: 0.0712 - coef_determination: 0.9186\n",
      "Epoch 44/150\n",
      "7/7 [==============================] - 0s 714us/step - loss: 0.2899 - mse: 0.0666 - coef_determination: 0.9352\n",
      "Epoch 45/150\n",
      "7/7 [==============================] - 0s 712us/step - loss: 0.2872 - mse: 0.0665 - coef_determination: 0.9286\n",
      "Epoch 46/150\n",
      "7/7 [==============================] - 0s 855us/step - loss: 0.2802 - mse: 0.0621 - coef_determination: 0.9408\n",
      "Epoch 47/150\n",
      "7/7 [==============================] - 0s 711us/step - loss: 0.2822 - mse: 0.0666 - coef_determination: 0.9248\n",
      "Epoch 48/150\n",
      "7/7 [==============================] - 0s 712us/step - loss: 0.2729 - mse: 0.0597 - coef_determination: 0.9291\n",
      "Epoch 49/150\n",
      "7/7 [==============================] - 0s 713us/step - loss: 0.2686 - mse: 0.0577 - coef_determination: 0.9182\n",
      "Epoch 50/150\n",
      "7/7 [==============================] - 0s 719us/step - loss: 0.2648 - mse: 0.0561 - coef_determination: 0.9403\n",
      "Epoch 51/150\n",
      "7/7 [==============================] - 0s 855us/step - loss: 0.2684 - mse: 0.0623 - coef_determination: 0.9318\n",
      "Epoch 52/150\n",
      "7/7 [==============================] - 0s 713us/step - loss: 0.2617 - mse: 0.0581 - coef_determination: 0.9530\n",
      "Epoch 53/150\n",
      "7/7 [==============================] - 0s 712us/step - loss: 0.2570 - mse: 0.0552 - coef_determination: 0.9396\n",
      "Epoch 54/150\n",
      "7/7 [==============================] - 0s 720us/step - loss: 0.2505 - mse: 0.0512 - coef_determination: 0.9526\n",
      "Epoch 55/150\n",
      "7/7 [==============================] - 0s 855us/step - loss: 0.2511 - mse: 0.0538 - coef_determination: 0.9448\n",
      "Epoch 56/150\n",
      "7/7 [==============================] - 0s 712us/step - loss: 0.2464 - mse: 0.0511 - coef_determination: 0.9310\n",
      "Epoch 57/150\n",
      "7/7 [==============================] - 0s 570us/step - loss: 0.2426 - mse: 0.0494 - coef_determination: 0.9511\n",
      "Epoch 58/150\n",
      "7/7 [==============================] - 0s 718us/step - loss: 0.2446 - mse: 0.0537 - coef_determination: 0.9492\n",
      "Epoch 59/150\n",
      "7/7 [==============================] - 0s 855us/step - loss: 0.2384 - mse: 0.0495 - coef_determination: 0.9597\n",
      "Epoch 60/150\n",
      "7/7 [==============================] - 0s 855us/step - loss: 0.2370 - mse: 0.0501 - coef_determination: 0.9441\n",
      "Epoch 61/150\n",
      "7/7 [==============================] - 0s 855us/step - loss: 0.2351 - mse: 0.0501 - coef_determination: 0.9440\n",
      "Epoch 62/150\n",
      "7/7 [==============================] - 0s 855us/step - loss: 0.2322 - mse: 0.0488 - coef_determination: 0.9445\n",
      "Epoch 63/150\n",
      "7/7 [==============================] - 0s 855us/step - loss: 0.2326 - mse: 0.0509 - coef_determination: 0.9530\n",
      "Epoch 64/150\n",
      "7/7 [==============================] - 0s 855us/step - loss: 0.2294 - mse: 0.0493 - coef_determination: 0.9500\n",
      "Epoch 65/150\n",
      "7/7 [==============================] - 0s 855us/step - loss: 0.2265 - mse: 0.0480 - coef_determination: 0.9569\n",
      "Epoch 66/150\n",
      "7/7 [==============================] - 0s 713us/step - loss: 0.2282 - mse: 0.0516 - coef_determination: 0.9500\n",
      "Epoch 67/150\n",
      "7/7 [==============================] - 0s 576us/step - loss: 0.2210 - mse: 0.0456 - coef_determination: 0.9593\n",
      "Epoch 68/150\n",
      "7/7 [==============================] - 0s 855us/step - loss: 0.2149 - mse: 0.0409 - coef_determination: 0.9622\n",
      "Epoch 69/150\n",
      "7/7 [==============================] - 0s 717us/step - loss: 0.2196 - mse: 0.0473 - coef_determination: 0.9470\n",
      "Epoch 70/150\n",
      "7/7 [==============================] - 0s 570us/step - loss: 0.2140 - mse: 0.0435 - coef_determination: 0.9598\n",
      "Epoch 71/150\n",
      "7/7 [==============================] - 0s 712us/step - loss: 0.2109 - mse: 0.0423 - coef_determination: 0.9568\n",
      "Epoch 72/150\n",
      "7/7 [==============================] - 0s 711us/step - loss: 0.2075 - mse: 0.0403 - coef_determination: 0.9548\n",
      "Epoch 73/150\n",
      "7/7 [==============================] - 0s 758us/step - loss: 0.2107 - mse: 0.0453 - coef_determination: 0.9439\n",
      "Epoch 74/150\n",
      "7/7 [==============================] - 0s 855us/step - loss: 0.2054 - mse: 0.0414 - coef_determination: 0.9508\n",
      "Epoch 75/150\n",
      "7/7 [==============================] - 0s 714us/step - loss: 0.2075 - mse: 0.0451 - coef_determination: 0.9586\n",
      "Epoch 76/150\n",
      "7/7 [==============================] - 0s 718us/step - loss: 0.2027 - mse: 0.0417 - coef_determination: 0.9544\n",
      "Epoch 77/150\n",
      "7/7 [==============================] - 0s 570us/step - loss: 0.2045 - mse: 0.0448 - coef_determination: 0.9546\n",
      "Epoch 78/150\n",
      "7/7 [==============================] - 0s 572us/step - loss: 0.2029 - mse: 0.0447 - coef_determination: 0.9592\n",
      "Epoch 79/150\n",
      "7/7 [==============================] - 0s 570us/step - loss: 0.1957 - mse: 0.0387 - coef_determination: 0.9592\n",
      "Epoch 80/150\n",
      "7/7 [==============================] - 0s 716us/step - loss: 0.1966 - mse: 0.0408 - coef_determination: 0.9647\n",
      "Epoch 81/150\n",
      "7/7 [==============================] - 0s 712us/step - loss: 0.1937 - mse: 0.0393 - coef_determination: 0.9579\n",
      "Epoch 82/150\n",
      "7/7 [==============================] - 0s 712us/step - loss: 0.1959 - mse: 0.0427 - coef_determination: 0.9479\n",
      "Epoch 83/150\n",
      "7/7 [==============================] - 0s 855us/step - loss: 0.1899 - mse: 0.0379 - coef_determination: 0.9601\n",
      "Epoch 84/150\n",
      "7/7 [==============================] - 0s 855us/step - loss: 0.1887 - mse: 0.0382 - coef_determination: 0.9618\n",
      "Epoch 85/150\n",
      "7/7 [==============================] - 0s 712us/step - loss: 0.1833 - mse: 0.0340 - coef_determination: 0.9663\n",
      "Epoch 86/150\n",
      "7/7 [==============================] - 0s 855us/step - loss: 0.1898 - mse: 0.0421 - coef_determination: 0.9610\n",
      "Epoch 87/150\n",
      "7/7 [==============================] - 0s 719us/step - loss: 0.1874 - mse: 0.0410 - coef_determination: 0.9569\n",
      "Epoch 88/150\n",
      "7/7 [==============================] - 0s 855us/step - loss: 0.1868 - mse: 0.0417 - coef_determination: 0.9590\n",
      "Epoch 89/150\n",
      "7/7 [==============================] - 0s 717us/step - loss: 0.1846 - mse: 0.0405 - coef_determination: 0.9568\n",
      "Epoch 90/150\n",
      "7/7 [==============================] - 0s 712us/step - loss: 0.1806 - mse: 0.0375 - coef_determination: 0.9547\n",
      "Epoch 91/150\n",
      "7/7 [==============================] - 0s 714us/step - loss: 0.1785 - mse: 0.0366 - coef_determination: 0.9601\n",
      "Epoch 92/150\n",
      "7/7 [==============================] - 0s 855us/step - loss: 0.1785 - mse: 0.0375 - coef_determination: 0.9527\n",
      "Epoch 93/150\n",
      "7/7 [==============================] - 0s 712us/step - loss: 0.1753 - mse: 0.0354 - coef_determination: 0.9660\n",
      "Epoch 94/150\n",
      "7/7 [==============================] - 0s 855us/step - loss: 0.1744 - mse: 0.0355 - coef_determination: 0.9663\n",
      "Epoch 95/150\n",
      "7/7 [==============================] - 0s 714us/step - loss: 0.1730 - mse: 0.0352 - coef_determination: 0.9668\n",
      "Epoch 96/150\n",
      "7/7 [==============================] - 0s 720us/step - loss: 0.1716 - mse: 0.0347 - coef_determination: 0.9622\n",
      "Epoch 97/150\n",
      "7/7 [==============================] - 0s 855us/step - loss: 0.1725 - mse: 0.0368 - coef_determination: 0.9641\n",
      "Epoch 98/150\n",
      "7/7 [==============================] - 0s 712us/step - loss: 0.1738 - mse: 0.0390 - coef_determination: 0.9625\n",
      "Epoch 99/150\n",
      "7/7 [==============================] - 0s 719us/step - loss: 0.1652 - mse: 0.0315 - coef_determination: 0.9707\n",
      "Epoch 100/150\n",
      "7/7 [==============================] - 0s 718us/step - loss: 0.1740 - mse: 0.0414 - coef_determination: 0.9484\n",
      "Epoch 101/150\n",
      "7/7 [==============================] - 0s 718us/step - loss: 0.1666 - mse: 0.0348 - coef_determination: 0.9685\n",
      "Epoch 102/150\n",
      "7/7 [==============================] - 0s 712us/step - loss: 0.1642 - mse: 0.0333 - coef_determination: 0.9696\n",
      "Epoch 103/150\n",
      "7/7 [==============================] - 0s 855us/step - loss: 0.1709 - mse: 0.0408 - coef_determination: 0.9574\n",
      "Epoch 104/150\n",
      "7/7 [==============================] - 0s 855us/step - loss: 0.1631 - mse: 0.0337 - coef_determination: 0.9676\n",
      "Epoch 105/150\n",
      "7/7 [==============================] - 0s 855us/step - loss: 0.1633 - mse: 0.0349 - coef_determination: 0.9684\n",
      "Epoch 106/150\n",
      "7/7 [==============================] - 0s 855us/step - loss: 0.1610 - mse: 0.0333 - coef_determination: 0.9611\n",
      "Epoch 107/150\n",
      "7/7 [==============================] - 0s 855us/step - loss: 0.1602 - mse: 0.0332 - coef_determination: 0.9657\n",
      "Epoch 108/150\n",
      "7/7 [==============================] - 0s 851us/step - loss: 0.1581 - mse: 0.0318 - coef_determination: 0.9666\n",
      "Epoch 109/150\n",
      "7/7 [==============================] - 0s 998us/step - loss: 0.1534 - mse: 0.0282 - coef_determination: 0.9701\n",
      "Epoch 110/150\n",
      "7/7 [==============================] - 0s 855us/step - loss: 0.1601 - mse: 0.0354 - coef_determination: 0.9593\n",
      "Epoch 111/150\n",
      "7/7 [==============================] - 0s 714us/step - loss: 0.1584 - mse: 0.0346 - coef_determination: 0.9633\n",
      "Epoch 112/150\n",
      "7/7 [==============================] - 0s 841us/step - loss: 0.1571 - mse: 0.0342 - coef_determination: 0.9598\n",
      "Epoch 113/150\n",
      "7/7 [==============================] - 0s 849us/step - loss: 0.1546 - mse: 0.0323 - coef_determination: 0.9711\n",
      "Epoch 114/150\n",
      "7/7 [==============================] - 0s 855us/step - loss: 0.1535 - mse: 0.0318 - coef_determination: 0.9662\n",
      "Epoch 115/150\n",
      "7/7 [==============================] - 0s 855us/step - loss: 0.1487 - mse: 0.0279 - coef_determination: 0.9750\n",
      "Epoch 116/150\n",
      "7/7 [==============================] - 0s 855us/step - loss: 0.1482 - mse: 0.0282 - coef_determination: 0.9734\n",
      "Epoch 117/150\n",
      "7/7 [==============================] - 0s 855us/step - loss: 0.1563 - mse: 0.0371 - coef_determination: 0.9598\n",
      "Epoch 118/150\n",
      "7/7 [==============================] - 0s 857us/step - loss: 0.1486 - mse: 0.0301 - coef_determination: 0.9702\n",
      "Epoch 119/150\n",
      "7/7 [==============================] - 0s 858us/step - loss: 0.1499 - mse: 0.0323 - coef_determination: 0.9659\n",
      "Epoch 120/150\n",
      "7/7 [==============================] - 0s 718us/step - loss: 0.1499 - mse: 0.0329 - coef_determination: 0.9708\n",
      "Epoch 121/150\n",
      "7/7 [==============================] - 0s 850us/step - loss: 0.1537 - mse: 0.0372 - coef_determination: 0.9636\n",
      "Epoch 122/150\n",
      "7/7 [==============================] - 0s 855us/step - loss: 0.1460 - mse: 0.0302 - coef_determination: 0.9705\n",
      "Epoch 123/150\n",
      "7/7 [==============================] - 0s 855us/step - loss: 0.1436 - mse: 0.0286 - coef_determination: 0.9746\n",
      "Epoch 124/150\n",
      "7/7 [==============================] - 0s 858us/step - loss: 0.1473 - mse: 0.0329 - coef_determination: 0.9632\n",
      "Epoch 125/150\n",
      "7/7 [==============================] - 0s 707us/step - loss: 0.1448 - mse: 0.0311 - coef_determination: 0.9670\n",
      "Epoch 126/150\n",
      "7/7 [==============================] - 0s 852us/step - loss: 0.1498 - mse: 0.0367 - coef_determination: 0.9669\n",
      "Epoch 127/150\n",
      "7/7 [==============================] - 0s 848us/step - loss: 0.1429 - mse: 0.0304 - coef_determination: 0.9698\n",
      "Epoch 128/150\n",
      "7/7 [==============================] - 0s 847us/step - loss: 0.1411 - mse: 0.0291 - coef_determination: 0.9717\n",
      "Epoch 129/150\n",
      "7/7 [==============================] - 0s 846us/step - loss: 0.1420 - mse: 0.0305 - coef_determination: 0.9662\n",
      "Epoch 130/150\n",
      "7/7 [==============================] - 0s 712us/step - loss: 0.1389 - mse: 0.0280 - coef_determination: 0.9724\n",
      "Epoch 131/150\n",
      "7/7 [==============================] - 0s 712us/step - loss: 0.1427 - mse: 0.0323 - coef_determination: 0.9401\n",
      "Epoch 132/150\n"
     ]
    },
    {
     "name": "stdout",
     "output_type": "stream",
     "text": [
      "7/7 [==============================] - 0s 855us/step - loss: 0.1383 - mse: 0.0283 - coef_determination: 0.9731\n",
      "Epoch 133/150\n",
      "7/7 [==============================] - 0s 718us/step - loss: 0.1418 - mse: 0.0326 - coef_determination: 0.9682\n",
      "Epoch 134/150\n",
      "7/7 [==============================] - 0s 850us/step - loss: 0.1418 - mse: 0.0334 - coef_determination: 0.9685\n",
      "Epoch 135/150\n",
      "7/7 [==============================] - 0s 855us/step - loss: 0.1404 - mse: 0.0325 - coef_determination: 0.9717\n",
      "Epoch 136/150\n",
      "7/7 [==============================] - 0s 861us/step - loss: 0.1370 - mse: 0.0295 - coef_determination: 0.9725\n",
      "Epoch 137/150\n",
      "7/7 [==============================] - 0s 997us/step - loss: 0.1421 - mse: 0.0351 - coef_determination: 0.9685\n",
      "Epoch 138/150\n",
      "7/7 [==============================] - 0s 712us/step - loss: 0.1356 - mse: 0.0290 - coef_determination: 0.9661\n",
      "Epoch 139/150\n",
      "7/7 [==============================] - 0s 855us/step - loss: 0.1354 - mse: 0.0294 - coef_determination: 0.9660\n",
      "Epoch 140/150\n",
      "7/7 [==============================] - 0s 849us/step - loss: 0.1342 - mse: 0.0287 - coef_determination: 0.9697\n",
      "Epoch 141/150\n",
      "7/7 [==============================] - 0s 713us/step - loss: 0.1352 - mse: 0.0303 - coef_determination: 0.9683\n",
      "Epoch 142/150\n",
      "7/7 [==============================] - 0s 712us/step - loss: 0.1361 - mse: 0.0318 - coef_determination: 0.9673\n",
      "Epoch 143/150\n",
      "7/7 [==============================] - 0s 855us/step - loss: 0.1311 - mse: 0.0274 - coef_determination: 0.9748\n",
      "Epoch 144/150\n",
      "7/7 [==============================] - 0s 995us/step - loss: 0.1332 - mse: 0.0299 - coef_determination: 0.9724\n",
      "Epoch 145/150\n",
      "7/7 [==============================] - 0s 712us/step - loss: 0.1311 - mse: 0.0281 - coef_determination: 0.9649\n",
      "Epoch 146/150\n",
      "7/7 [==============================] - 0s 712us/step - loss: 0.1282 - mse: 0.0256 - coef_determination: 0.9748\n",
      "Epoch 147/150\n",
      "7/7 [==============================] - 0s 855us/step - loss: 0.1357 - mse: 0.0339 - coef_determination: 0.9614\n",
      "Epoch 148/150\n",
      "7/7 [==============================] - 0s 855us/step - loss: 0.1307 - mse: 0.0293 - coef_determination: 0.9760\n",
      "Epoch 149/150\n",
      "7/7 [==============================] - 0s 997us/step - loss: 0.1251 - mse: 0.0242 - coef_determination: 0.9721\n",
      "Epoch 150/150\n",
      "7/7 [==============================] - 0s 712us/step - loss: 0.1312 - mse: 0.0307 - coef_determination: 0.9714\n"
     ]
    },
    {
     "data": {
      "text/plain": [
       "<tensorflow.python.keras.callbacks.History at 0x1f5723c8a20>"
      ]
     },
     "execution_count": 96,
     "metadata": {},
     "output_type": "execute_result"
    }
   ],
   "source": [
    "optimized_model.fit(X_train_Scaled,\n",
    "                     y_train_Scaled,\n",
    "                     epochs=150,\n",
    "                     batch_size=20)"
   ]
  },
  {
   "cell_type": "code",
   "execution_count": 97,
   "metadata": {
    "ExecuteTime": {
     "end_time": "2020-10-27T15:46:17.746259Z",
     "start_time": "2020-10-27T15:46:17.387263Z"
    }
   },
   "outputs": [
    {
     "data": {
      "image/png": "[encoded data removed]",
      "text/plain": [
       "<Figure size 432x288 with 1 Axes>"
      ]
     },
     "metadata": {},
     "output_type": "display_data"
    },
    {
     "data": {
      "image/png": "[encoded data removed]",
      "text/plain": [
       "<Figure size 432x288 with 1 Axes>"
      ]
     },
     "metadata": {},
     "output_type": "display_data"
    },
    {
     "data": {
      "image/png": "[encoded data removed]",
      "text/plain": [
       "<Figure size 432x288 with 1 Axes>"
      ]
     },
     "metadata": {},
     "output_type": "display_data"
    }
   ],
   "source": [
    "visualize_loss_MSE(optimized_model.history)"
   ]
  },
  {
   "cell_type": "code",
   "execution_count": 98,
   "metadata": {
    "ExecuteTime": {
     "end_time": "2020-10-27T15:46:17.827085Z",
     "start_time": "2020-10-27T15:46:17.747257Z"
    },
    "scrolled": false
   },
   "outputs": [
    {
     "name": "stdout",
     "output_type": "stream",
     "text": [
      "RMSE: 0.500874360131206\n",
      "-------------------------\n",
      "Model: \"sequential_3\"\n",
      "_________________________________________________________________\n",
      "Layer (type)                 Output Shape              Param #   \n",
      "=================================================================\n",
      "dense_14 (Dense)             (None, 40)                920       \n",
      "_________________________________________________________________\n",
      "dense_15 (Dense)             (None, 20)                820       \n",
      "_________________________________________________________________\n",
      "dense_16 (Dense)             (None, 5)                 105       \n",
      "_________________________________________________________________\n",
      "dense_17 (Dense)             (None, 1)                 6         \n",
      "=================================================================\n",
      "Total params: 1,851\n",
      "Trainable params: 1,851\n",
      "Non-trainable params: 0\n",
      "_________________________________________________________________\n",
      "None\n"
     ]
    }
   ],
   "source": [
    "op_preds_scaled = optimized_model.predict(X_test_Scaled)\n",
    "op_preds = scaler.inverse_transform(op_preds_scaled)\n",
    "rmse = np.sqrt(mean_squared_error(y_test, op_preds))\n",
    "\n",
    "print('RMSE:', rmse)\n",
    "print('-------------------------')\n",
    "print(optimized_model.summary())"
   ]
  },
  {
   "cell_type": "code",
   "execution_count": null,
   "metadata": {},
   "outputs": [],
   "source": []
  }
 ],
 "metadata": {
  "kernelspec": {
   "display_name": "Python [conda env:learn-env] *",
   "language": "python",
   "name": "conda-env-learn-env-py"
  },
  "language_info": {
   "codemirror_mode": {
    "name": "ipython",
    "version": 3
   },
   "file_extension": ".py",
   "mimetype": "text/x-python",
   "name": "python",
   "nbconvert_exporter": "python",
   "pygments_lexer": "ipython3",
   "version": "3.6.6"
  },
  "toc": {
   "base_numbering": 1,
   "nav_menu": {},
   "number_sections": true,
   "sideBar": true,
   "skip_h1_title": false,
   "title_cell": "Table of Contents",
   "title_sidebar": "Contents",
   "toc_cell": false,
   "toc_position": {
    "height": "664.444px",
    "left": "58px",
    "top": "109.777px",
    "width": "341.292px"
   },
   "toc_section_display": true,
   "toc_window_display": true
  },
  "varInspector": {
   "cols": {
    "lenName": 16,
    "lenType": 16,
    "lenVar": 40
   },
   "kernels_config": {
    "python": {
     "delete_cmd_postfix": "",
     "delete_cmd_prefix": "del ",
     "library": "var_list.py",
     "varRefreshCmd": "print(var_dic_list())"
    },
    "r": {
     "delete_cmd_postfix": ") ",
     "delete_cmd_prefix": "rm(",
     "library": "var_list.r",
     "varRefreshCmd": "cat(var_dic_list()) "
    }
   },
   "types_to_exclude": [
    "module",
    "function",
    "builtin_function_or_method",
    "instance",
    "_Feature"
   ],
   "window_display": false
  }
 },
 "nbformat": 4,
 "nbformat_minor": 2
}
